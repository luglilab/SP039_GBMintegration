{
 "cells": [
  {
   "cell_type": "code",
   "execution_count": 1,
   "id": "0d41b58d",
   "metadata": {
    "ExecuteTime": {
     "end_time": "2022-06-08T13:08:13.480565Z",
     "start_time": "2022-06-08T13:08:05.593966Z"
    }
   },
   "outputs": [],
   "source": [
    "import scanpy as sc \n",
    "import pandas as pd"
   ]
  },
  {
   "cell_type": "code",
   "execution_count": 2,
   "id": "9367f151",
   "metadata": {
    "ExecuteTime": {
     "end_time": "2022-06-08T13:08:13.485145Z",
     "start_time": "2022-06-08T13:08:13.482497Z"
    }
   },
   "outputs": [],
   "source": [
    "outpath=\"/home/lugli/spuccio/Projects/SP039/FileH5AD_input/\""
   ]
  },
  {
   "cell_type": "code",
   "execution_count": 3,
   "id": "26713d64",
   "metadata": {
    "ExecuteTime": {
     "end_time": "2022-06-08T13:09:53.397525Z",
     "start_time": "2022-06-08T13:08:13.486593Z"
    }
   },
   "outputs": [],
   "source": [
    "adata = sc.read_10x_mtx(\"/home/lugli/spuccio/Projects/SP039/PMID33782623_GSE163120/filtered_feature_bc_matrix_HumanNewlyDiagnGBM/filtered_feature_bc_matrix\")"
   ]
  },
  {
   "cell_type": "code",
   "execution_count": 4,
   "id": "ffe6eece",
   "metadata": {
    "ExecuteTime": {
     "end_time": "2022-06-08T13:09:53.406177Z",
     "start_time": "2022-06-08T13:09:53.400043Z"
    }
   },
   "outputs": [],
   "source": [
    "adata.var['GeneTemp']= list(adata.var.index)"
   ]
  },
  {
   "cell_type": "code",
   "execution_count": 5,
   "id": "46a4039a",
   "metadata": {
    "ExecuteTime": {
     "end_time": "2022-06-08T13:09:53.514479Z",
     "start_time": "2022-06-08T13:09:53.407319Z"
    }
   },
   "outputs": [],
   "source": [
    "adata.var['GeneTempClean']= list(adata.var['GeneTemp'].str.split(\".\",0, expand=True)[0])"
   ]
  },
  {
   "cell_type": "code",
   "execution_count": 6,
   "id": "ea195328",
   "metadata": {
    "ExecuteTime": {
     "end_time": "2022-06-08T13:09:53.518499Z",
     "start_time": "2022-06-08T13:09:53.516012Z"
    }
   },
   "outputs": [],
   "source": [
    "adata.var.index = adata.var['GeneTempClean']"
   ]
  },
  {
   "cell_type": "code",
   "execution_count": 7,
   "id": "1aeeae3a",
   "metadata": {
    "ExecuteTime": {
     "end_time": "2022-06-08T13:09:53.535395Z",
     "start_time": "2022-06-08T13:09:53.519751Z"
    }
   },
   "outputs": [],
   "source": [
    "adata.var_names_make_unique()"
   ]
  },
  {
   "cell_type": "code",
   "execution_count": 8,
   "id": "a11ecf2c",
   "metadata": {
    "ExecuteTime": {
     "end_time": "2022-06-08T13:09:53.539646Z",
     "start_time": "2022-06-08T13:09:53.536537Z"
    }
   },
   "outputs": [],
   "source": [
    "del adata.var['GeneTemp']\n",
    "del adata.var['GeneTempClean']\n",
    "del adata.var['feature_types']"
   ]
  },
  {
   "cell_type": "code",
   "execution_count": 9,
   "id": "237c0b77",
   "metadata": {
    "ExecuteTime": {
     "end_time": "2022-06-08T13:09:53.640662Z",
     "start_time": "2022-06-08T13:09:53.540696Z"
    }
   },
   "outputs": [],
   "source": [
    "metadata = pd.read_csv(\"/home/lugli/spuccio/Projects/SP039/PMID33782623_GSE163120/filtered_feature_bc_matrix_HumanNewlyDiagnGBM/annot_Human_ND_GBM_Full.csv\")"
   ]
  },
  {
   "cell_type": "code",
   "execution_count": 10,
   "id": "6d3be555",
   "metadata": {
    "ExecuteTime": {
     "end_time": "2022-06-08T13:09:53.645385Z",
     "start_time": "2022-06-08T13:09:53.642711Z"
    }
   },
   "outputs": [],
   "source": [
    "metadata.set_index(['cell'],inplace=True)"
   ]
  },
  {
   "cell_type": "code",
   "execution_count": 11,
   "id": "08c59831",
   "metadata": {
    "ExecuteTime": {
     "end_time": "2022-06-08T13:09:53.654095Z",
     "start_time": "2022-06-08T13:09:53.646675Z"
    }
   },
   "outputs": [
    {
     "data": {
      "text/plain": [
       "ND7    12259\n",
       "ND4     3607\n",
       "ND2     1761\n",
       "ND6     1719\n",
       "ND5      889\n",
       "ND1      718\n",
       "ND3      350\n",
       "Name: sample, dtype: int64"
      ]
     },
     "execution_count": 11,
     "metadata": {},
     "output_type": "execute_result"
    }
   ],
   "source": [
    "metadata['sample'].value_counts()"
   ]
  },
  {
   "cell_type": "code",
   "execution_count": 12,
   "id": "382c0de7",
   "metadata": {
    "ExecuteTime": {
     "end_time": "2022-06-08T13:09:53.663538Z",
     "start_time": "2022-06-08T13:09:53.655125Z"
    }
   },
   "outputs": [],
   "source": [
    "adata = adata[adata.obs.index.isin(metadata.index),:]"
   ]
  },
  {
   "cell_type": "code",
   "execution_count": 13,
   "id": "363935b2",
   "metadata": {
    "ExecuteTime": {
     "end_time": "2022-06-08T13:09:53.873047Z",
     "start_time": "2022-06-08T13:09:53.665013Z"
    }
   },
   "outputs": [],
   "source": [
    "adata.obs = metadata"
   ]
  },
  {
   "cell_type": "code",
   "execution_count": 14,
   "id": "3c48f732",
   "metadata": {
    "ExecuteTime": {
     "end_time": "2022-06-08T13:09:53.877890Z",
     "start_time": "2022-06-08T13:09:53.874481Z"
    }
   },
   "outputs": [],
   "source": [
    "adata.obs = adata.obs.reset_index()"
   ]
  },
  {
   "cell_type": "code",
   "execution_count": 15,
   "id": "2ce2c6bd",
   "metadata": {
    "ExecuteTime": {
     "end_time": "2022-06-08T13:09:53.897249Z",
     "start_time": "2022-06-08T13:09:53.879079Z"
    }
   },
   "outputs": [],
   "source": [
    "adataND7 = adata[adata.obs['sample'] == \"ND7\",:]\n",
    "adataND4 = adata[adata.obs['sample'] == \"ND4\",:]\n",
    "adataND2 = adata[adata.obs['sample'] == \"ND2\",:]\n",
    "adataND6 = adata[adata.obs['sample'] == \"ND6\",:]\n",
    "adataND5 = adata[adata.obs['sample'] == \"ND5\",:]\n",
    "adataND1 = adata[adata.obs['sample'] == \"ND1\",:]\n",
    "adataND3 = adata[adata.obs['sample'] == \"ND3\",:]"
   ]
  },
  {
   "cell_type": "code",
   "execution_count": 16,
   "id": "3823744c",
   "metadata": {
    "ExecuteTime": {
     "end_time": "2022-06-08T13:09:54.108542Z",
     "start_time": "2022-06-08T13:09:53.898466Z"
    }
   },
   "outputs": [
    {
     "name": "stderr",
     "output_type": "stream",
     "text": [
      "/home/lugli/spuccio/anaconda3/envs/scanpy19/lib/python3.10/site-packages/anndata/_core/anndata.py:798: UserWarning: \n",
      "AnnData expects .obs.index to contain strings, but got values like:\n",
      "    [0, 1, 2, 3, 4]\n",
      "\n",
      "    Inferred to be: integer\n",
      "\n",
      "  value_idx = self._prep_dim_index(value.index, attr)\n",
      "/home/lugli/spuccio/anaconda3/envs/scanpy19/lib/python3.10/site-packages/anndata/_core/anndata.py:121: ImplicitModificationWarning: Transforming to str index.\n",
      "  warnings.warn(\"Transforming to str index.\", ImplicitModificationWarning)\n",
      "/home/lugli/spuccio/anaconda3/envs/scanpy19/lib/python3.10/site-packages/anndata/_core/anndata.py:798: UserWarning: \n",
      "AnnData expects .obs.index to contain strings, but got values like:\n",
      "    [2129, 2143, 2144, 2145, 2146]\n",
      "\n",
      "    Inferred to be: integer\n",
      "\n",
      "  value_idx = self._prep_dim_index(value.index, attr)\n",
      "/home/lugli/spuccio/anaconda3/envs/scanpy19/lib/python3.10/site-packages/anndata/_core/anndata.py:798: UserWarning: \n",
      "AnnData expects .obs.index to contain strings, but got values like:\n",
      "    [2699, 2700, 2821, 2822, 2823]\n",
      "\n",
      "    Inferred to be: integer\n",
      "\n",
      "  value_idx = self._prep_dim_index(value.index, attr)\n",
      "/home/lugli/spuccio/anaconda3/envs/scanpy19/lib/python3.10/site-packages/anndata/_core/anndata.py:798: UserWarning: \n",
      "AnnData expects .obs.index to contain strings, but got values like:\n",
      "    [2125, 2126, 3078, 3079, 3080]\n",
      "\n",
      "    Inferred to be: integer\n",
      "\n",
      "  value_idx = self._prep_dim_index(value.index, attr)\n",
      "/home/lugli/spuccio/anaconda3/envs/scanpy19/lib/python3.10/site-packages/anndata/_core/anndata.py:798: UserWarning: \n",
      "AnnData expects .obs.index to contain strings, but got values like:\n",
      "    [2330, 2818, 2819, 2820, 3047]\n",
      "\n",
      "    Inferred to be: integer\n",
      "\n",
      "  value_idx = self._prep_dim_index(value.index, attr)\n",
      "/home/lugli/spuccio/anaconda3/envs/scanpy19/lib/python3.10/site-packages/anndata/_core/anndata.py:798: UserWarning: \n",
      "AnnData expects .obs.index to contain strings, but got values like:\n",
      "    [2127, 2128, 2698, 2701, 2702]\n",
      "\n",
      "    Inferred to be: integer\n",
      "\n",
      "  value_idx = self._prep_dim_index(value.index, attr)\n",
      "/home/lugli/spuccio/anaconda3/envs/scanpy19/lib/python3.10/site-packages/anndata/_core/anndata.py:798: UserWarning: \n",
      "AnnData expects .obs.index to contain strings, but got values like:\n",
      "    [2810, 2811, 2812, 2813, 2814]\n",
      "\n",
      "    Inferred to be: integer\n",
      "\n",
      "  value_idx = self._prep_dim_index(value.index, attr)\n"
     ]
    }
   ],
   "source": [
    "del adataND7.obs\n",
    "del adataND4.obs\n",
    "del adataND2.obs\n",
    "del adataND6.obs\n",
    "del adataND5.obs\n",
    "del adataND1.obs\n",
    "del adataND3.obs"
   ]
  },
  {
   "cell_type": "code",
   "execution_count": 17,
   "id": "76fe6aac",
   "metadata": {
    "ExecuteTime": {
     "end_time": "2022-06-08T13:09:54.116889Z",
     "start_time": "2022-06-08T13:09:54.109909Z"
    }
   },
   "outputs": [],
   "source": [
    "adataND1.obs['SampleID'] = \"ND1\"\n",
    "adataND1.obs['GEO_RNA'] = \"NotAvailable\"\n",
    "adataND1.obs['Cohort'] = \"GSE163120\"\n",
    "adataND1.obs['Type'] = \"PrimaryTumor\"  \n",
    "adataND1.obs['Subtype'] = \"NotAvailable\"\n",
    "adataND1.obs['Diagnosis'] = \"Glioblastoma\"\n",
    "adataND1.obs['Grade'] = \"IV\"\n",
    "adataND1.obs['Location'] = \"NotAvailable\"\n",
    "adataND1.obs['IDH1_Status'] = \"WT\"\n",
    "adataND1.obs['EGFR_Status'] = \"NotAvailable\"\n",
    "adataND1.obs['CellCount'] = \"3084\"\n",
    "adataND1.obs['Sample'] = \"Patient13\"\n",
    "adataND1.obs['Sex'] = \"F\"\n",
    "adataND1.obs['Age'] = \"70\"\n",
    "adataND1.obs['Sorted'] = \"CD45\""
   ]
  },
  {
   "cell_type": "code",
   "execution_count": 18,
   "id": "92860a4d",
   "metadata": {
    "ExecuteTime": {
     "end_time": "2022-06-08T13:09:54.126401Z",
     "start_time": "2022-06-08T13:09:54.117963Z"
    }
   },
   "outputs": [],
   "source": [
    "adataND2.obs['SampleID'] = \"ND2\"\n",
    "adataND2.obs['GEO_RNA'] = \"NotAvailable\"\n",
    "adataND2.obs['Cohort'] = \"GSE163120\"\n",
    "adataND2.obs['Type'] = \"PrimaryTumor\"  \n",
    "adataND2.obs['Subtype'] = \"NotAvailable\"\n",
    "adataND2.obs['Diagnosis'] = \"Glioblastoma\"\n",
    "adataND2.obs['Grade'] = \"IV\"\n",
    "adataND2.obs['Location'] = \"NotAvailable\"\n",
    "adataND2.obs['IDH1_Status'] = \"WT\"\n",
    "adataND2.obs['EGFR_Status'] = \"NotAvailable\"\n",
    "adataND2.obs['CellCount'] = \"1761\"\n",
    "adataND2.obs['Sample'] = \"Patient14\"\n",
    "adataND2.obs['Sex'] = \"M\"\n",
    "adataND2.obs['Age'] = \"61\"\n",
    "adataND2.obs['Sorted'] = \"CD45\""
   ]
  },
  {
   "cell_type": "code",
   "execution_count": 19,
   "id": "fe3e803a",
   "metadata": {
    "ExecuteTime": {
     "end_time": "2022-06-08T13:09:54.134770Z",
     "start_time": "2022-06-08T13:09:54.127619Z"
    }
   },
   "outputs": [],
   "source": [
    "adataND3.obs['SampleID'] = \"ND3\"\n",
    "adataND3.obs['GEO_RNA'] = \"NotAvailable\"\n",
    "adataND3.obs['Cohort'] = \"GSE163120\"\n",
    "adataND3.obs['Type'] = \"PrimaryTumor\"  \n",
    "adataND3.obs['Subtype'] = \"NotAvailable\"\n",
    "adataND3.obs['Diagnosis'] = \"Glioblastoma\"\n",
    "adataND3.obs['Grade'] = \"IV\"\n",
    "adataND3.obs['Location'] = \"NotAvailable\"\n",
    "adataND3.obs['IDH1_Status'] = \"WT\"\n",
    "adataND3.obs['EGFR_Status'] = \"NotAvailable\"\n",
    "adataND3.obs['CellCount'] = \"3084\"\n",
    "adataND3.obs['Sample'] = \"Patient15\"\n",
    "adataND3.obs['Sex'] = \"M\"\n",
    "adataND3.obs['Age'] = \"83\"\n",
    "adataND3.obs['Sorted'] = \"CD45\""
   ]
  },
  {
   "cell_type": "code",
   "execution_count": 20,
   "id": "eab423d0",
   "metadata": {
    "ExecuteTime": {
     "end_time": "2022-06-08T13:09:54.144037Z",
     "start_time": "2022-06-08T13:09:54.136105Z"
    }
   },
   "outputs": [],
   "source": [
    "adataND4.obs['SampleID'] = \"ND4\"\n",
    "adataND4.obs['GEO_RNA'] = \"NotAvailable\"\n",
    "adataND4.obs['Cohort'] = \"GSE163120\"\n",
    "adataND4.obs['Type'] = \"PrimaryTumor\"  \n",
    "adataND4.obs['Subtype'] = \"NotAvailable\"\n",
    "adataND4.obs['Diagnosis'] = \"Glioblastoma\"\n",
    "adataND4.obs['Grade'] = \"IV\"\n",
    "adataND4.obs['Location'] = \"NotAvailable\"\n",
    "adataND4.obs['IDH1_Status'] = \"WT\"\n",
    "adataND4.obs['EGFR_Status'] = \"NotAvailable\"\n",
    "adataND4.obs['CellCount'] = \"3607\"\n",
    "adataND4.obs['Sample'] = \"Patient16\"\n",
    "adataND4.obs['Sex'] = \"M\"\n",
    "adataND4.obs['Age'] = \"63\"\n",
    "adataND4.obs['Sorted'] = \"CD45\""
   ]
  },
  {
   "cell_type": "code",
   "execution_count": 21,
   "id": "1628ca5d",
   "metadata": {
    "ExecuteTime": {
     "end_time": "2022-06-08T13:09:54.152395Z",
     "start_time": "2022-06-08T13:09:54.145628Z"
    }
   },
   "outputs": [],
   "source": [
    "adataND5.obs['SampleID'] = \"ND5\"\n",
    "adataND5.obs['GEO_RNA'] = \"NotAvailable\"\n",
    "adataND5.obs['Cohort'] = \"GSE163120\"\n",
    "adataND5.obs['Type'] = \"PrimaryTumor\"  \n",
    "adataND5.obs['Subtype'] = \"NotAvailable\"\n",
    "adataND5.obs['Diagnosis'] = \"Glioblastoma\"\n",
    "adataND5.obs['Grade'] = \"IV\"\n",
    "adataND5.obs['Location'] = \"NotAvailable\"\n",
    "adataND5.obs['IDH1_Status'] = \"WT\"\n",
    "adataND5.obs['EGFR_Status'] = \"NotAvailable\"\n",
    "adataND5.obs['CellCount'] = \"3084\"\n",
    "adataND5.obs['Sample'] = \"Patient17\"\n",
    "adataND5.obs['Sex'] = \"M\"\n",
    "adataND5.obs['Age'] = \"70\"\n",
    "adataND5.obs['Sorted'] = \"CD45\""
   ]
  },
  {
   "cell_type": "code",
   "execution_count": 22,
   "id": "772745db",
   "metadata": {
    "ExecuteTime": {
     "end_time": "2022-06-08T13:09:54.160557Z",
     "start_time": "2022-06-08T13:09:54.153887Z"
    }
   },
   "outputs": [],
   "source": [
    "adataND6.obs['SampleID'] = \"ND6\"\n",
    "adataND6.obs['GEO_RNA'] = \"NotAvailable\"\n",
    "adataND6.obs['Cohort'] = \"GSE163120\"\n",
    "adataND6.obs['Type'] = \"PrimaryTumor\"  \n",
    "adataND6.obs['Subtype'] = \"NotAvailable\"\n",
    "adataND6.obs['Diagnosis'] = \"Glioblastoma\"\n",
    "adataND6.obs['Grade'] = \"IV\"\n",
    "adataND6.obs['Location'] = \"NotAvailable\"\n",
    "adataND6.obs['IDH1_Status'] = \"WT\"\n",
    "adataND6.obs['EGFR_Status'] = \"NotAvailable\"\n",
    "adataND6.obs['CellCount'] = \"1719\"\n",
    "adataND6.obs['Sample'] = \"Patient18\"\n",
    "adataND6.obs['Sex'] = \"F\"\n",
    "adataND6.obs['Age'] = \"77\"\n",
    "adataND6.obs['Sorted'] = \"CD45\""
   ]
  },
  {
   "cell_type": "markdown",
   "id": "eacc4e45",
   "metadata": {
    "ExecuteTime": {
     "end_time": "2022-05-07T17:54:11.378767Z",
     "start_time": "2022-05-07T17:54:11.371441Z"
    }
   },
   "source": [
    "adataND7.obs['SampleID'] = \"ND7\"\n",
    "adataND7.obs['GEO_RNA'] = \"NotAvailable\"\n",
    "adataND7.obs['Cohort'] = \"GSM4972211\"\n",
    "adataND7.obs['Type'] = \"PrimaryTumor\"  \n",
    "adataND7.obs['Subtype'] = \"NotAvailable\"\n",
    "adataND7.obs['Diagnosis'] = \"Glioblastoma\"\n",
    "adataND7.obs['Grade'] = \"IV\"\n",
    "adataND7.obs['Location'] = \"NotAvailable\"\n",
    "adataND7.obs['IDH1_Status'] = \"WT\"\n",
    "adataND7.obs['EGFR_Status'] = \"NotAvailable\"\n",
    "adataND7.obs['CellCount'] = \"3084\"\n",
    "adataND7.obs['Sample'] = \"Patient15\"\n",
    "adataND7.obs['Sex'] = \"F\"\n",
    "adataND7.obs['Age'] = \"59\"\n",
    "adataND7.obs['Sorted'] = \"CD45\""
   ]
  },
  {
   "cell_type": "code",
   "execution_count": 23,
   "id": "0d1293d7",
   "metadata": {
    "ExecuteTime": {
     "end_time": "2022-06-08T13:09:54.167967Z",
     "start_time": "2022-06-08T13:09:54.161649Z"
    }
   },
   "outputs": [],
   "source": [
    "adataND1.obs = adataND1.obs.reset_index(drop=True)\n",
    "adataND2.obs = adataND2.obs.reset_index(drop=True)\n",
    "adataND3.obs = adataND3.obs.reset_index(drop=True)\n",
    "adataND4.obs = adataND4.obs.reset_index(drop=True)\n",
    "adataND5.obs = adataND5.obs.reset_index(drop=True)\n",
    "adataND6.obs = adataND6.obs.reset_index(drop=True)\n",
    "adataND7.obs = adataND7.obs.reset_index(drop=True)\n"
   ]
  },
  {
   "cell_type": "code",
   "execution_count": 24,
   "id": "a633aa56",
   "metadata": {
    "ExecuteTime": {
     "end_time": "2022-06-08T13:09:54.179813Z",
     "start_time": "2022-06-08T13:09:54.169139Z"
    }
   },
   "outputs": [],
   "source": [
    "adataND1.obs.set_index(\"ND1-\" + adataND1.obs.index.astype(str),inplace=True)\n",
    "adataND2.obs.set_index(\"ND2-\" + adataND2.obs.index.astype(str),inplace=True)\n",
    "adataND3.obs.set_index(\"ND3-\" + adataND3.obs.index.astype(str),inplace=True)\n",
    "adataND4.obs.set_index(\"ND4-\" + adataND4.obs.index.astype(str),inplace=True)\n",
    "adataND5.obs.set_index(\"ND5-\" + adataND5.obs.index.astype(str),inplace=True)\n",
    "adataND6.obs.set_index(\"ND6-\" + adataND6.obs.index.astype(str),inplace=True)\n",
    "#adataND7.obs.set_index(\"ND1-\" + adataND7.obs.index.astype(str),inplace=True)"
   ]
  },
  {
   "cell_type": "code",
   "execution_count": 25,
   "id": "1f3431da",
   "metadata": {
    "ExecuteTime": {
     "end_time": "2022-06-08T13:09:55.032831Z",
     "start_time": "2022-06-08T13:09:54.181068Z"
    }
   },
   "outputs": [],
   "source": [
    "adataND1.write(outpath+\"ND1.h5ad\")\n",
    "adataND2.write(outpath+\"ND2.h5ad\")\n",
    "adataND3.write(outpath+\"ND3.h5ad\")\n",
    "adataND4.write(outpath+\"ND4.h5ad\")\n",
    "adataND5.write(outpath+\"ND5.h5ad\")\n",
    "adataND6.write(outpath+\"ND6.h5ad\")\n",
    "#adataND7.write(outpath+\"ND7.h5ad\")"
   ]
  },
  {
   "cell_type": "code",
   "execution_count": null,
   "id": "2fbb07e9",
   "metadata": {},
   "outputs": [],
   "source": []
  }
 ],
 "metadata": {
  "kernelspec": {
   "display_name": "Python [conda env:scanpy19]",
   "language": "python",
   "name": "conda-env-scanpy19-py"
  },
  "language_info": {
   "codemirror_mode": {
    "name": "ipython",
    "version": 3
   },
   "file_extension": ".py",
   "mimetype": "text/x-python",
   "name": "python",
   "nbconvert_exporter": "python",
   "pygments_lexer": "ipython3",
   "version": "3.10.4"
  },
  "toc": {
   "base_numbering": 1,
   "nav_menu": {},
   "number_sections": true,
   "sideBar": true,
   "skip_h1_title": false,
   "title_cell": "Table of Contents",
   "title_sidebar": "Contents",
   "toc_cell": false,
   "toc_position": {},
   "toc_section_display": true,
   "toc_window_display": false
  },
  "varInspector": {
   "cols": {
    "lenName": 16,
    "lenType": 16,
    "lenVar": 40
   },
   "kernels_config": {
    "python": {
     "delete_cmd_postfix": "",
     "delete_cmd_prefix": "del ",
     "library": "var_list.py",
     "varRefreshCmd": "print(var_dic_list())"
    },
    "r": {
     "delete_cmd_postfix": ") ",
     "delete_cmd_prefix": "rm(",
     "library": "var_list.r",
     "varRefreshCmd": "cat(var_dic_list()) "
    }
   },
   "types_to_exclude": [
    "module",
    "function",
    "builtin_function_or_method",
    "instance",
    "_Feature"
   ],
   "window_display": false
  }
 },
 "nbformat": 4,
 "nbformat_minor": 5
}
