{
 "cells": [
  {
   "cell_type": "code",
   "execution_count": 1,
   "id": "3dc12d71",
   "metadata": {
    "ExecuteTime": {
     "end_time": "2022-06-08T13:27:58.578515Z",
     "start_time": "2022-06-08T13:27:56.955206Z"
    }
   },
   "outputs": [],
   "source": [
    "import scanpy as sc\n",
    "import pandas as pd"
   ]
  },
  {
   "cell_type": "code",
   "execution_count": 2,
   "id": "7101e4eb",
   "metadata": {
    "ExecuteTime": {
     "end_time": "2022-06-08T13:27:58.583338Z",
     "start_time": "2022-06-08T13:27:58.580560Z"
    }
   },
   "outputs": [],
   "source": [
    "from os import listdir\n",
    "from os.path import isfile, join"
   ]
  },
  {
   "cell_type": "code",
   "execution_count": 3,
   "id": "8f2af812",
   "metadata": {
    "ExecuteTime": {
     "end_time": "2022-06-08T13:27:58.587216Z",
     "start_time": "2022-06-08T13:27:58.584694Z"
    }
   },
   "outputs": [],
   "source": [
    "outputPath=\"/home/lugli/spuccio/Projects/SP039/FileH5AD_input/\""
   ]
  },
  {
   "cell_type": "code",
   "execution_count": 4,
   "id": "da76087c",
   "metadata": {
    "ExecuteTime": {
     "end_time": "2022-06-08T13:27:58.594012Z",
     "start_time": "2022-06-08T13:27:58.588952Z"
    }
   },
   "outputs": [],
   "source": [
    "def h5ad_create(folderID,outputPath):\n",
    "    folderPath = \"/home/lugli/spuccio/Projects/SP035_TregIntegration/Glioma_Locati_Lugli/\"\n",
    "    tmp1 = \"adata\"+folderID\n",
    "    tmp1 = sc.read(folderPath+folderID+\"/outs/filtered_feature_bc_matrix/matrix.mtx.gz\")\n",
    "    tmp1 = tmp1.transpose()\n",
    "    genes = pd.read_csv(folderPath+ folderID + \"/outs/filtered_feature_bc_matrix/features.tsv.gz\",header=None,sep=\"\\t\")\n",
    "    barcodes = pd.read_csv(folderPath+ folderID +\"/outs/filtered_feature_bc_matrix/barcodes.tsv.gz\",header=None,sep=\"\\t\")\n",
    "    genes = genes[[0,1]]\n",
    "    genes =genes.rename({0: 'ENSGeneID', 1: 'GeneSymbol'}, axis=1)\n",
    "    tmp1.var = genes\n",
    "    tmp1.var.index = genes['GeneSymbol']\n",
    "    del tmp1.var['GeneSymbol']\n",
    "    barcodes =barcodes.rename({0: 'barcode'}, axis=1)\n",
    "    tmp1.obs = barcodes\n",
    "    tmp1.obs.index = barcodes['barcode']\n",
    "    del tmp1.obs['barcode']\n",
    "    tmp1.var_names_make_unique()\n",
    "    print(tmp1)\n",
    "    tmp1.write_h5ad(outputPath+folderID+'.h5ad')"
   ]
  },
  {
   "cell_type": "code",
   "execution_count": 5,
   "id": "3e567613",
   "metadata": {
    "ExecuteTime": {
     "end_time": "2022-06-08T13:27:58.599135Z",
     "start_time": "2022-06-08T13:27:58.595523Z"
    }
   },
   "outputs": [],
   "source": [
    "onlydir = [f for f in listdir(\"/home/lugli/spuccio/Projects/SP035_TregIntegration/Glioma_Locati_Lugli/\") if not isfile(join(\"/home/lugli/spuccio/Projects/SP035_TregIntegration/Glioma_Locati_Lugli/\", f))]"
   ]
  },
  {
   "cell_type": "code",
   "execution_count": 6,
   "id": "2bb35a1d",
   "metadata": {
    "ExecuteTime": {
     "end_time": "2022-06-08T13:29:02.656877Z",
     "start_time": "2022-06-08T13:27:58.600334Z"
    }
   },
   "outputs": [
    {
     "name": "stdout",
     "output_type": "stream",
     "text": [
      "S21227_Lib_BS_06\n",
      "AnnData object with n_obs × n_vars = 4985 × 33538\n",
      "    var: 'ENSGeneID'\n",
      "S21230_Lib_BS_09\n",
      "AnnData object with n_obs × n_vars = 3014 × 33538\n",
      "    var: 'ENSGeneID'\n",
      "S21226_Lib_BS_05\n",
      "AnnData object with n_obs × n_vars = 6741 × 33538\n",
      "    var: 'ENSGeneID'\n",
      "S21232_Lib_BS_T-10\n",
      "AnnData object with n_obs × n_vars = 4530 × 33538\n",
      "    var: 'ENSGeneID'\n",
      "S21228_Lib_BS_07\n",
      "AnnData object with n_obs × n_vars = 9212 × 33538\n",
      "    var: 'ENSGeneID'\n",
      "S21231_Lib_BS_S-10\n",
      "AnnData object with n_obs × n_vars = 4032 × 33538\n",
      "    var: 'ENSGeneID'\n",
      "S21229_Lib_BS_08\n",
      "AnnData object with n_obs × n_vars = 4553 × 33538\n",
      "    var: 'ENSGeneID'\n",
      "S21225_Lib_BS_03\n",
      "AnnData object with n_obs × n_vars = 1557 × 33538\n",
      "    var: 'ENSGeneID'\n",
      "S21233_Lib_BS_S11\n",
      "AnnData object with n_obs × n_vars = 6401 × 33694\n",
      "    var: 'ENSGeneID'\n"
     ]
    }
   ],
   "source": [
    "for _ in range(len(onlydir)):\n",
    "    print(onlydir[_])\n",
    "    h5ad_create(onlydir[_],outputPath)"
   ]
  },
  {
   "cell_type": "code",
   "execution_count": 7,
   "id": "be16c82b",
   "metadata": {
    "ExecuteTime": {
     "end_time": "2022-06-08T13:29:03.523305Z",
     "start_time": "2022-06-08T13:29:02.660299Z"
    }
   },
   "outputs": [],
   "source": [
    "GLIO1_T = sc.read(\"/home/lugli/spuccio/Projects/SP039/FileH5AD_input/\"+\"S21225_Lib_BS_03\"+\".h5ad\")\n",
    "GLIO2_T = sc.read(\"/home/lugli/spuccio/Projects/SP039/FileH5AD_input/\"+\"S21226_Lib_BS_05\"+\".h5ad\")\n",
    "GLIO3_T = sc.read(\"/home/lugli/spuccio/Projects/SP039/FileH5AD_input/\"+\"S21227_Lib_BS_06\"+\".h5ad\")\n",
    "GLIO4_T = sc.read(\"/home/lugli/spuccio/Projects/SP039/FileH5AD_input/\"+\"S21228_Lib_BS_07\"+\".h5ad\")\n",
    "GLIO5_T = sc.read(\"/home/lugli/spuccio/Projects/SP039/FileH5AD_input/\"+\"S21229_Lib_BS_08\"+\".h5ad\")\n",
    "GLIO6_T = sc.read(\"/home/lugli/spuccio/Projects/SP039/FileH5AD_input/\"+\"S21230_Lib_BS_09\"+\".h5ad\")\n",
    "GLIO7_H = sc.read(\"/home/lugli/spuccio/Projects/SP039/FileH5AD_input/\"+\"S21231_Lib_BS_S-10\"+\".h5ad\")\n",
    "GLIO7_T = sc.read(\"/home/lugli/spuccio/Projects/SP039/FileH5AD_input/\"+\"S21232_Lib_BS_T-10\"+\".h5ad\")\n",
    "GLIO8_H = sc.read(\"/home/lugli/spuccio/Projects/SP039/FileH5AD_input/\"+\"S21233_Lib_BS_S11\"+\".h5ad\")"
   ]
  },
  {
   "cell_type": "code",
   "execution_count": 8,
   "id": "e6ab34d1",
   "metadata": {
    "ExecuteTime": {
     "end_time": "2022-06-08T13:29:03.554481Z",
     "start_time": "2022-06-08T13:29:03.524783Z"
    }
   },
   "outputs": [],
   "source": [
    "GLIO1_T.var['GeneTemp']= list(GLIO1_T.var.index)\n",
    "GLIO2_T.var['GeneTemp']= list(GLIO2_T.var.index)\n",
    "GLIO3_T.var['GeneTemp']= list(GLIO3_T.var.index)\n",
    "GLIO4_T.var['GeneTemp']= list(GLIO4_T.var.index)\n",
    "GLIO5_T.var['GeneTemp']= list(GLIO5_T.var.index)\n",
    "GLIO6_T.var['GeneTemp']= list(GLIO6_T.var.index)\n",
    "GLIO7_H.var['GeneTemp']= list(GLIO7_H.var.index)\n",
    "GLIO7_T.var['GeneTemp']= list(GLIO7_T.var.index)\n",
    "GLIO8_H.var['GeneTemp']= list(GLIO8_H.var.index)"
   ]
  },
  {
   "cell_type": "code",
   "execution_count": 9,
   "id": "fcc69377",
   "metadata": {
    "ExecuteTime": {
     "end_time": "2022-06-08T13:29:03.971040Z",
     "start_time": "2022-06-08T13:29:03.555825Z"
    }
   },
   "outputs": [],
   "source": [
    "GLIO1_T.var['GeneTempClean']= list(GLIO1_T.var['GeneTemp'].str.split(\".\",0, expand=True)[0])\n",
    "GLIO2_T.var['GeneTempClean']= list(GLIO2_T.var['GeneTemp'].str.split(\".\",0, expand=True)[0])\n",
    "GLIO3_T.var['GeneTempClean']= list(GLIO3_T.var['GeneTemp'].str.split(\".\",0, expand=True)[0])\n",
    "GLIO4_T.var['GeneTempClean']= list(GLIO4_T.var['GeneTemp'].str.split(\".\",0, expand=True)[0])\n",
    "GLIO5_T.var['GeneTempClean']= list(GLIO5_T.var['GeneTemp'].str.split(\".\",0, expand=True)[0])\n",
    "GLIO6_T.var['GeneTempClean']= list(GLIO6_T.var['GeneTemp'].str.split(\".\",0, expand=True)[0])\n",
    "GLIO7_H.var['GeneTempClean']= list(GLIO7_H.var['GeneTemp'].str.split(\".\",0, expand=True)[0])\n",
    "GLIO7_T.var['GeneTempClean']= list(GLIO7_T.var['GeneTemp'].str.split(\".\",0, expand=True)[0])\n",
    "GLIO8_H.var['GeneTempClean']= list(GLIO8_H.var['GeneTemp'].str.split(\".\",0, expand=True)[0])"
   ]
  },
  {
   "cell_type": "code",
   "execution_count": 10,
   "id": "bc15468a",
   "metadata": {
    "ExecuteTime": {
     "end_time": "2022-06-08T13:29:03.978194Z",
     "start_time": "2022-06-08T13:29:03.973419Z"
    }
   },
   "outputs": [],
   "source": [
    "GLIO1_T.var.index = GLIO1_T.var['GeneTempClean']\n",
    "GLIO2_T.var.index = GLIO2_T.var['GeneTempClean']\n",
    "GLIO3_T.var.index = GLIO3_T.var['GeneTempClean']\n",
    "GLIO4_T.var.index = GLIO4_T.var['GeneTempClean']\n",
    "GLIO5_T.var.index = GLIO5_T.var['GeneTempClean']\n",
    "GLIO6_T.var.index = GLIO6_T.var['GeneTempClean']\n",
    "GLIO7_H.var.index = GLIO7_H.var['GeneTempClean']\n",
    "GLIO7_T.var.index = GLIO7_T.var['GeneTempClean']\n",
    "GLIO8_H.var.index = GLIO8_H.var['GeneTempClean']"
   ]
  },
  {
   "cell_type": "code",
   "execution_count": 11,
   "id": "bc164ad9",
   "metadata": {
    "ExecuteTime": {
     "end_time": "2022-06-08T13:29:04.067103Z",
     "start_time": "2022-06-08T13:29:03.979290Z"
    }
   },
   "outputs": [],
   "source": [
    "GLIO1_T.var_names_make_unique()\n",
    "GLIO2_T.var_names_make_unique()\n",
    "GLIO3_T.var_names_make_unique()\n",
    "GLIO4_T.var_names_make_unique()\n",
    "GLIO5_T.var_names_make_unique()\n",
    "GLIO6_T.var_names_make_unique()\n",
    "GLIO7_H.var_names_make_unique()\n",
    "GLIO7_T.var_names_make_unique()\n",
    "GLIO8_H.var_names_make_unique()"
   ]
  },
  {
   "cell_type": "code",
   "execution_count": 12,
   "id": "20430caf",
   "metadata": {
    "ExecuteTime": {
     "end_time": "2022-06-08T13:29:04.075972Z",
     "start_time": "2022-06-08T13:29:04.068484Z"
    }
   },
   "outputs": [],
   "source": [
    "del GLIO1_T.var['GeneTemp']\n",
    "del GLIO1_T.var['GeneTempClean']\n",
    "\n",
    "del GLIO2_T.var['GeneTemp']\n",
    "del GLIO2_T.var['GeneTempClean']\n",
    "\n",
    "del GLIO3_T.var['GeneTemp']\n",
    "del GLIO3_T.var['GeneTempClean']\n",
    "\n",
    "del GLIO4_T.var['GeneTemp']\n",
    "del GLIO4_T.var['GeneTempClean']\n",
    "\n",
    "del GLIO5_T.var['GeneTemp']\n",
    "del GLIO5_T.var['GeneTempClean']\n",
    "\n",
    "del GLIO6_T.var['GeneTemp']\n",
    "del GLIO6_T.var['GeneTempClean']\n",
    "\n",
    "del GLIO7_H.var['GeneTemp']\n",
    "del GLIO7_H.var['GeneTempClean']\n",
    "\n",
    "del GLIO8_H.var['GeneTemp']\n",
    "del GLIO8_H.var['GeneTempClean']\n"
   ]
  },
  {
   "cell_type": "code",
   "execution_count": 13,
   "id": "22362e49",
   "metadata": {
    "ExecuteTime": {
     "end_time": "2022-06-08T13:29:04.084527Z",
     "start_time": "2022-06-08T13:29:04.077210Z"
    }
   },
   "outputs": [],
   "source": [
    "GLIO1_T.obs['SampleID'] = \"GLIO1_T\"\n",
    "GLIO1_T.obs['GEO_RNA'] = \"NotAvailable\"\n",
    "GLIO1_T.obs['Cohort'] = \"NotAvailable\"\n",
    "GLIO1_T.obs['Type'] = \"PrimaryTumor\"  \n",
    "GLIO1_T.obs['Subtype'] = \"NotAvailable\"\n",
    "GLIO1_T.obs['Diagnosis'] = \"Glioblastoma\"\n",
    "GLIO1_T.obs['Grade'] = \"NotAvailable\"\n",
    "GLIO1_T.obs['Location'] = \"NotAvailable\"\n",
    "GLIO1_T.obs['IDH1_Status'] = \"WT\"\n",
    "GLIO1_T.obs['EGFR_Status'] = \"NotAvailable\"\n",
    "GLIO1_T.obs['MGMT'] = \"Met\"\n",
    "GLIO1_T.obs['CellCount'] = \"1557\"\n",
    "GLIO1_T.obs['Sample'] = \"Patient29\"\n",
    "GLIO1_T.obs['Sex'] = \"F\"\n",
    "GLIO1_T.obs['Age'] = \"NotAvailable\"\n",
    "GLIO1_T.obs['Sorted'] = \"CD45\""
   ]
  },
  {
   "cell_type": "code",
   "execution_count": 14,
   "id": "6c15d388",
   "metadata": {
    "ExecuteTime": {
     "end_time": "2022-06-08T13:29:04.093671Z",
     "start_time": "2022-06-08T13:29:04.085745Z"
    }
   },
   "outputs": [],
   "source": [
    "GLIO2_T.obs['SampleID'] = \"GLIO2_T\"\n",
    "GLIO2_T.obs['GEO_RNA'] = \"NotAvailable\"\n",
    "GLIO2_T.obs['Cohort'] = \"NotAvailable\"\n",
    "GLIO2_T.obs['Type'] = \"PrimaryTumor\"  \n",
    "GLIO2_T.obs['Subtype'] = \"NotAvailable\"\n",
    "GLIO2_T.obs['Diagnosis'] = \"Astrocytoma\"\n",
    "GLIO2_T.obs['Grade'] = \"NotAvailable\"\n",
    "GLIO2_T.obs['Location'] = \"NotAvailable\"\n",
    "GLIO2_T.obs['IDH1_Status'] = \"Mut\"\n",
    "GLIO2_T.obs['EGFR_Status'] = \"NotAvailable\"\n",
    "GLIO2_T.obs['MGMT'] = \"Met\"\n",
    "GLIO2_T.obs['CellCount'] = \"6741\"\n",
    "GLIO2_T.obs['Sample'] = \"Patient30\"\n",
    "GLIO2_T.obs['Sex'] = \"F\"\n",
    "GLIO2_T.obs['Age'] = \"NotAvailable\"\n",
    "GLIO2_T.obs['Sorted'] = \"CD45\""
   ]
  },
  {
   "cell_type": "code",
   "execution_count": 15,
   "id": "3f5d32dd",
   "metadata": {
    "ExecuteTime": {
     "end_time": "2022-06-08T13:29:04.102343Z",
     "start_time": "2022-06-08T13:29:04.094848Z"
    }
   },
   "outputs": [],
   "source": [
    "GLIO3_T.obs['SampleID'] = \"GLIO3_T\"\n",
    "GLIO3_T.obs['GEO_RNA'] = \"NotAvailable\"\n",
    "GLIO3_T.obs['Cohort'] = \"NotAvailable\"\n",
    "GLIO3_T.obs['Type'] = \"PrimaryTumor\"  \n",
    "GLIO3_T.obs['Subtype'] = \"NotAvailable\"\n",
    "GLIO3_T.obs['Diagnosis'] = \"Glioblastoma\"\n",
    "GLIO3_T.obs['Grade'] = \"NotAvailable\"\n",
    "GLIO3_T.obs['Location'] = \"NotAvailable\"\n",
    "GLIO3_T.obs['IDH1_Status'] = \"WT\"\n",
    "GLIO3_T.obs['EGFR_Status'] = \"NotAvailable\"\n",
    "GLIO3_T.obs['MGMT'] = \"UnMet\"\n",
    "GLIO3_T.obs['CellCount'] = \"4985\"\n",
    "GLIO3_T.obs['Sample'] = \"Patient31\"\n",
    "GLIO3_T.obs['Sex'] = \"M\"\n",
    "GLIO3_T.obs['Age'] = \"NotAvailable\"\n",
    "GLIO3_T.obs['Sorted'] = \"CD45\""
   ]
  },
  {
   "cell_type": "code",
   "execution_count": 16,
   "id": "594bb436",
   "metadata": {
    "ExecuteTime": {
     "end_time": "2022-06-08T13:29:04.110943Z",
     "start_time": "2022-06-08T13:29:04.103620Z"
    }
   },
   "outputs": [],
   "source": [
    "GLIO4_T.obs['SampleID'] = \"GLIO4_T\"\n",
    "GLIO4_T.obs['GEO_RNA'] = \"NotAvailable\"\n",
    "GLIO4_T.obs['Cohort'] = \"NotAvailable\"\n",
    "GLIO4_T.obs['Type'] = \"PrimaryTumor\"  \n",
    "GLIO4_T.obs['Subtype'] = \"NotAvailable\"\n",
    "GLIO4_T.obs['Diagnosis'] = \"Glioblastoma\"\n",
    "GLIO4_T.obs['Grade'] = \"NotAvailable\"\n",
    "GLIO4_T.obs['Location'] = \"NotAvailable\"\n",
    "GLIO4_T.obs['IDH1_Status'] = \"WT\"\n",
    "GLIO4_T.obs['EGFR_Status'] = \"NotAvailable\"\n",
    "GLIO4_T.obs['MGMT'] = \"Met\"\n",
    "GLIO4_T.obs['CellCount'] = \"9212\"\n",
    "GLIO4_T.obs['Sample'] = \"Patient32\"\n",
    "GLIO4_T.obs['Sex'] = \"M\"\n",
    "GLIO4_T.obs['Age'] = \"NotAvailable\"\n",
    "GLIO4_T.obs['Sorted'] = \"CD45\""
   ]
  },
  {
   "cell_type": "code",
   "execution_count": 17,
   "id": "04c46733",
   "metadata": {
    "ExecuteTime": {
     "end_time": "2022-06-08T13:29:04.119275Z",
     "start_time": "2022-06-08T13:29:04.112260Z"
    }
   },
   "outputs": [],
   "source": [
    "GLIO5_T.obs['SampleID'] = \"GLIO5_T\"\n",
    "GLIO5_T.obs['GEO_RNA'] = \"NotAvailable\"\n",
    "GLIO5_T.obs['Cohort'] = \"NotAvailable\"\n",
    "GLIO5_T.obs['Type'] = \"PrimaryTumor\"  \n",
    "GLIO5_T.obs['Subtype'] = \"NotAvailable\"\n",
    "GLIO5_T.obs['Diagnosis'] = \"Astrocytoma\"\n",
    "GLIO5_T.obs['Grade'] = \"NotAvailable\"\n",
    "GLIO5_T.obs['Location'] = \"NotAvailable\"\n",
    "GLIO5_T.obs['IDH1_Status'] = \"Mut\"\n",
    "GLIO5_T.obs['EGFR_Status'] = \"NotAvailable\"\n",
    "GLIO5_T.obs['MGMT'] = \"Met\"\n",
    "GLIO5_T.obs['CellCount'] = \"4553\"\n",
    "GLIO5_T.obs['Sample'] = \"Patient33\"\n",
    "GLIO5_T.obs['Sex'] = \"F\"\n",
    "GLIO5_T.obs['Age'] = \"NotAvailable\"\n",
    "GLIO5_T.obs['Sorted'] = \"CD45\""
   ]
  },
  {
   "cell_type": "code",
   "execution_count": 18,
   "id": "4385618b",
   "metadata": {
    "ExecuteTime": {
     "end_time": "2022-06-08T13:29:04.127560Z",
     "start_time": "2022-06-08T13:29:04.120499Z"
    }
   },
   "outputs": [],
   "source": [
    "GLIO6_T.obs['SampleID'] = \"GLIO6_T\"\n",
    "GLIO6_T.obs['GEO_RNA'] = \"NotAvailable\"\n",
    "GLIO6_T.obs['Cohort'] = \"NotAvailable\"\n",
    "GLIO6_T.obs['Type'] = \"PrimaryTumor\"  \n",
    "GLIO6_T.obs['Subtype'] = \"NotAvailable\"\n",
    "GLIO6_T.obs['Diagnosis'] = \"Glioblastoma\"\n",
    "GLIO6_T.obs['Grade'] = \"NotAvailable\"\n",
    "GLIO6_T.obs['Location'] = \"NotAvailable\"\n",
    "GLIO6_T.obs['IDH1_Status'] = \"WT\"\n",
    "GLIO6_T.obs['EGFR_Status'] = \"NotAvailable\"\n",
    "GLIO6_T.obs['MGMT'] = \"UnMet\"\n",
    "GLIO6_T.obs['CellCount'] = \"3014\"\n",
    "GLIO6_T.obs['Sample'] = \"Patient34\"\n",
    "GLIO6_T.obs['Sex'] = \"M\"\n",
    "GLIO6_T.obs['Age'] = \"NotAvailable\"\n",
    "GLIO6_T.obs['Sorted'] = \"CD45\""
   ]
  },
  {
   "cell_type": "markdown",
   "id": "b6cead57",
   "metadata": {
    "ExecuteTime": {
     "end_time": "2022-05-11T10:06:26.955761Z",
     "start_time": "2022-05-11T10:06:26.948554Z"
    }
   },
   "source": [
    "GLIO7_H.obs['SampleID'] = \"GLIO7_H\"\n",
    "GLIO7_H.obs['GEO_RNA'] = \"NotAvailable\"\n",
    "GLIO7_H.obs['Cohort'] = \"NotAvailable\"\n",
    "GLIO7_H.obs['Type'] = \"Normal\"  \n",
    "GLIO7_H.obs['Subtype'] = \"NotAvailable\"\n",
    "GLIO7_H.obs['Diagnosis'] = \"Astrocytoma\"\n",
    "GLIO7_H.obs['Grade'] = \"NotAvailable\"\n",
    "GLIO7_H.obs['Location'] = \"NotAvailable\"\n",
    "GLIO7_H.obs['IDH1_Status'] = \"WT\"\n",
    "GLIO7_H.obs['EGFR_Status'] = \"NotAvailable\"\n",
    "GLIO7_H.obs['MGMT'] = \"UnMet\"\n",
    "GLIO7_H.obs['CellCount'] = \"4032\"\n",
    "GLIO7_H.obs['Sample'] = \"Patient35\"\n",
    "GLIO7_H.obs['Sex'] = \"F\"\n",
    "GLIO7_H.obs['Age'] = \"NotAvailable\"\n",
    "GLIO7_H.obs['Sorted'] = \"CD45\""
   ]
  },
  {
   "cell_type": "code",
   "execution_count": 19,
   "id": "94d1bfa0",
   "metadata": {
    "ExecuteTime": {
     "end_time": "2022-06-08T13:29:04.136034Z",
     "start_time": "2022-06-08T13:29:04.128716Z"
    }
   },
   "outputs": [],
   "source": [
    "GLIO7_T.obs['SampleID'] = \"GLIO7_T\"\n",
    "GLIO7_T.obs['GEO_RNA'] = \"NotAvailable\"\n",
    "GLIO7_T.obs['Cohort'] = \"NotAvailable\"\n",
    "GLIO7_T.obs['Type'] = \"PrimaryTumor\"  \n",
    "GLIO7_T.obs['Subtype'] = \"NotAvailable\"\n",
    "GLIO7_T.obs['Diagnosis'] = \"Astrocytoma\"\n",
    "GLIO7_T.obs['Grade'] = \"NotAvailable\"\n",
    "GLIO7_T.obs['Location'] = \"NotAvailable\"\n",
    "GLIO7_T.obs['IDH1_Status'] = \"WT\"\n",
    "GLIO7_T.obs['EGFR_Status'] = \"NotAvailable\"\n",
    "GLIO7_T.obs['MGMT'] = \"UnMet\"\n",
    "GLIO7_T.obs['CellCount'] = \"4530\"\n",
    "GLIO7_T.obs['Sample'] = \"Patient35\"\n",
    "GLIO7_T.obs['Sex'] = \"F\"\n",
    "GLIO7_T.obs['Age'] = \"NotAvailable\"\n",
    "GLIO7_T.obs['Sorted'] = \"CD45\""
   ]
  },
  {
   "cell_type": "markdown",
   "id": "dff81b06",
   "metadata": {
    "ExecuteTime": {
     "end_time": "2022-05-31T21:57:03.328612Z",
     "start_time": "2022-05-31T21:57:03.321288Z"
    }
   },
   "source": [
    "GLIO8_H.obs['SampleID'] = \"GLIO8_H\"\n",
    "GLIO8_H.obs['GEO_RNA'] = \"NotAvailable\"\n",
    "GLIO8_H.obs['Cohort'] = \"NotAvailable\"\n",
    "GLIO8_H.obs['Type'] = \"PrimaryTumor\"  \n",
    "GLIO8_H.obs['Subtype'] = \"NotAvailable\"\n",
    "GLIO8_H.obs['Diagnosis'] = \"NotAvailable\"\n",
    "GLIO8_H.obs['Grade'] = \"NotAvailable\"\n",
    "GLIO8_H.obs['Location'] = \"NotAvailable\"\n",
    "GLIO8_H.obs['IDH1_Status'] = \"WT\"\n",
    "GLIO8_H.obs['EGFR_Status'] = \"NotAvailable\"\n",
    "GLIO8_H.obs['MGMT'] = \"UnMet\"\n",
    "GLIO8_H.obs['CellCount'] = \"6401\"\n",
    "GLIO8_H.obs['Sample'] = \"Patient35\"\n",
    "GLIO8_H.obs['Sex'] = \"F\"\n",
    "GLIO8_H.obs['Age'] = \"NotAvailable\"\n",
    "GLIO8_H.obs['Sorted'] = \"CD45\""
   ]
  },
  {
   "cell_type": "code",
   "execution_count": 20,
   "id": "e21132d0",
   "metadata": {
    "ExecuteTime": {
     "end_time": "2022-06-08T13:29:04.143413Z",
     "start_time": "2022-06-08T13:29:04.137280Z"
    }
   },
   "outputs": [
    {
     "name": "stdout",
     "output_type": "stream",
     "text": [
      "GLIO1_T\t GLIO2_T\t GLIO3_T\t GLIO4_T\t GLIO5_T\t GLIO6_T\t GLIO7_H\t GLIO7_T\t GLIO8_H\t \n",
      "NamespaceMagics\t get_ipython\t getsizeof\t h5ad_create\t isfile\t join\t json\t listdir\t np\t \n",
      "onlydir\t outputPath\t pd\t sc\t var_dic_list\t \n"
     ]
    }
   ],
   "source": [
    "%who"
   ]
  },
  {
   "cell_type": "code",
   "execution_count": 21,
   "id": "e341ba5a",
   "metadata": {
    "ExecuteTime": {
     "end_time": "2022-06-08T13:29:04.157615Z",
     "start_time": "2022-06-08T13:29:04.144639Z"
    }
   },
   "outputs": [],
   "source": [
    "GLIO1_T.obs = GLIO1_T.obs.reset_index(drop=True)\n",
    "GLIO2_T.obs = GLIO2_T.obs.reset_index(drop=True)\n",
    "GLIO3_T.obs = GLIO3_T.obs.reset_index(drop=True)\n",
    "GLIO4_T.obs = GLIO4_T.obs.reset_index(drop=True)\n",
    "GLIO5_T.obs = GLIO5_T.obs.reset_index(drop=True)\n",
    "GLIO6_T.obs = GLIO6_T.obs.reset_index(drop=True)\n",
    "GLIO7_H.obs = GLIO7_H.obs.reset_index(drop=True)\n",
    "GLIO7_T.obs = GLIO7_T.obs.reset_index(drop=True)\n",
    "GLIO8_H.obs = GLIO8_H.obs.reset_index(drop=True)"
   ]
  },
  {
   "cell_type": "code",
   "execution_count": 22,
   "id": "7b2f7443",
   "metadata": {
    "ExecuteTime": {
     "end_time": "2022-06-08T13:29:04.193989Z",
     "start_time": "2022-06-08T13:29:04.158734Z"
    }
   },
   "outputs": [],
   "source": [
    "GLIO1_T.obs.set_index(\"GLIO1_T-\" + GLIO1_T.obs.index.astype(str),inplace=True)\n",
    "GLIO2_T.obs.set_index(\"GLIO2_T-\" + GLIO2_T.obs.index.astype(str),inplace=True)\n",
    "GLIO3_T.obs.set_index(\"GLIO3_T-\" + GLIO3_T.obs.index.astype(str),inplace=True)\n",
    "GLIO4_T.obs.set_index(\"GLIO4_T-\" + GLIO4_T.obs.index.astype(str),inplace=True)\n",
    "GLIO5_T.obs.set_index(\"GLIO5_T-\" + GLIO5_T.obs.index.astype(str),inplace=True)\n",
    "GLIO6_T.obs.set_index(\"GLIO6_T-\" + GLIO6_T.obs.index.astype(str),inplace=True)\n",
    "GLIO7_H.obs.set_index(\"GLIO7_H-\" + GLIO7_H.obs.index.astype(str),inplace=True)\n",
    "GLIO7_T.obs.set_index(\"GLIO7_T-\" + GLIO7_T.obs.index.astype(str),inplace=True)\n",
    "GLIO8_H.obs.set_index(\"GLIO8_H-\" + GLIO8_H.obs.index.astype(str),inplace=True)"
   ]
  },
  {
   "cell_type": "code",
   "execution_count": 23,
   "id": "0e1a971e",
   "metadata": {
    "ExecuteTime": {
     "end_time": "2022-06-08T13:29:04.234231Z",
     "start_time": "2022-06-08T13:29:04.195035Z"
    }
   },
   "outputs": [],
   "source": [
    "GLIO1_T.var_names_make_unique()\n",
    "GLIO2_T.var_names_make_unique()\n",
    "GLIO3_T.var_names_make_unique()\n",
    "GLIO4_T.var_names_make_unique()\n",
    "GLIO5_T.var_names_make_unique()\n",
    "GLIO6_T.var_names_make_unique()\n",
    "GLIO7_H.var_names_make_unique()\n",
    "GLIO7_T.var_names_make_unique()\n",
    "GLIO8_H.var_names_make_unique()"
   ]
  },
  {
   "cell_type": "code",
   "execution_count": 24,
   "id": "456699fa",
   "metadata": {
    "ExecuteTime": {
     "end_time": "2022-06-08T13:29:05.789539Z",
     "start_time": "2022-06-08T13:29:04.235635Z"
    }
   },
   "outputs": [],
   "source": [
    "GLIO1_T.write(outputPath+\"GLIO1_T.h5ad\")\n",
    "GLIO2_T.write(outputPath+\"GLIO2_T.h5ad\")\n",
    "GLIO3_T.write(outputPath+\"GLIO3_T.h5ad\")\n",
    "GLIO4_T.write(outputPath+\"GLIO4_T.h5ad\")\n",
    "GLIO5_T.write(outputPath+\"GLIO5_T.h5ad\")\n",
    "GLIO6_T.write(outputPath+\"GLIO6_T.h5ad\")\n",
    "#GLIO7_H.write(outputPath+\"GLIO7_H.h5ad\")\n",
    "GLIO7_T.write(outputPath+\"GLIO7_T.h5ad\")\n",
    "#GLIO8_H.write(outputPath+\"GLIO8_H.h5ad\")"
   ]
  },
  {
   "cell_type": "code",
   "execution_count": null,
   "id": "05c52ec1",
   "metadata": {},
   "outputs": [],
   "source": []
  }
 ],
 "metadata": {
  "kernelspec": {
   "display_name": "Python [conda env:scanpy19]",
   "language": "python",
   "name": "conda-env-scanpy19-py"
  },
  "language_info": {
   "codemirror_mode": {
    "name": "ipython",
    "version": 3
   },
   "file_extension": ".py",
   "mimetype": "text/x-python",
   "name": "python",
   "nbconvert_exporter": "python",
   "pygments_lexer": "ipython3",
   "version": "3.10.4"
  },
  "toc": {
   "base_numbering": 1,
   "nav_menu": {},
   "number_sections": true,
   "sideBar": true,
   "skip_h1_title": false,
   "title_cell": "Table of Contents",
   "title_sidebar": "Contents",
   "toc_cell": false,
   "toc_position": {},
   "toc_section_display": true,
   "toc_window_display": false
  },
  "varInspector": {
   "cols": {
    "lenName": 16,
    "lenType": 16,
    "lenVar": 40
   },
   "kernels_config": {
    "python": {
     "delete_cmd_postfix": "",
     "delete_cmd_prefix": "del ",
     "library": "var_list.py",
     "varRefreshCmd": "print(var_dic_list())"
    },
    "r": {
     "delete_cmd_postfix": ") ",
     "delete_cmd_prefix": "rm(",
     "library": "var_list.r",
     "varRefreshCmd": "cat(var_dic_list()) "
    }
   },
   "types_to_exclude": [
    "module",
    "function",
    "builtin_function_or_method",
    "instance",
    "_Feature"
   ],
   "window_display": false
  }
 },
 "nbformat": 4,
 "nbformat_minor": 5
}
