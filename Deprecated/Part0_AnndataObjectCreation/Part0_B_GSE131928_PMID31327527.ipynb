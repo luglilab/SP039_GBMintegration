{
 "cells": [
  {
   "cell_type": "code",
   "execution_count": 1,
   "id": "18e6f8d9",
   "metadata": {
    "ExecuteTime": {
     "end_time": "2022-06-08T12:56:41.129024Z",
     "start_time": "2022-06-08T12:56:39.571546Z"
    }
   },
   "outputs": [],
   "source": [
    "import scanpy as sc \n",
    "import pandas as pd"
   ]
  },
  {
   "cell_type": "code",
   "execution_count": 2,
   "id": "9f420af8",
   "metadata": {
    "ExecuteTime": {
     "end_time": "2022-06-08T12:56:41.133283Z",
     "start_time": "2022-06-08T12:56:41.130756Z"
    }
   },
   "outputs": [],
   "source": [
    "outpath=\"/home/lugli/spuccio/Projects/SP039/FileH5AD_input/\""
   ]
  },
  {
   "cell_type": "code",
   "execution_count": 3,
   "id": "93cb2acb",
   "metadata": {
    "ExecuteTime": {
     "end_time": "2022-06-08T12:59:08.295845Z",
     "start_time": "2022-06-08T12:56:41.134765Z"
    }
   },
   "outputs": [],
   "source": [
    "df = pd.read_csv(\"/home/lugli/spuccio/Projects/SP039/GSE131928_PMID31327527/GSM3828673_10X_GBM_IDHwt_processed_TPM.tsv.gz\",sep=\"\\t\")"
   ]
  },
  {
   "cell_type": "code",
   "execution_count": 4,
   "id": "77f57d0d",
   "metadata": {
    "ExecuteTime": {
     "end_time": "2022-06-08T12:59:08.330372Z",
     "start_time": "2022-06-08T12:59:08.298550Z"
    }
   },
   "outputs": [
    {
     "data": {
      "text/html": [
       "<div>\n",
       "<style scoped>\n",
       "    .dataframe tbody tr th:only-of-type {\n",
       "        vertical-align: middle;\n",
       "    }\n",
       "\n",
       "    .dataframe tbody tr th {\n",
       "        vertical-align: top;\n",
       "    }\n",
       "\n",
       "    .dataframe thead th {\n",
       "        text-align: right;\n",
       "    }\n",
       "</style>\n",
       "<table border=\"1\" class=\"dataframe\">\n",
       "  <thead>\n",
       "    <tr style=\"text-align: right;\">\n",
       "      <th></th>\n",
       "      <th>GENE</th>\n",
       "      <th>102_1</th>\n",
       "      <th>102_2</th>\n",
       "      <th>102_4</th>\n",
       "      <th>102_5</th>\n",
       "      <th>102_7</th>\n",
       "      <th>102_8</th>\n",
       "      <th>102_10</th>\n",
       "      <th>102_11</th>\n",
       "      <th>102_12</th>\n",
       "      <th>...</th>\n",
       "      <th>126_2_227</th>\n",
       "      <th>126_2_230</th>\n",
       "      <th>126_2_231</th>\n",
       "      <th>126_2_232</th>\n",
       "      <th>126_2_235</th>\n",
       "      <th>126_2_236</th>\n",
       "      <th>126_2_237</th>\n",
       "      <th>126_2_240</th>\n",
       "      <th>126_2_242</th>\n",
       "      <th>126_2_245</th>\n",
       "    </tr>\n",
       "  </thead>\n",
       "  <tbody>\n",
       "    <tr>\n",
       "      <th>0</th>\n",
       "      <td>FAM138A</td>\n",
       "      <td>0.0</td>\n",
       "      <td>0.000000</td>\n",
       "      <td>0.0</td>\n",
       "      <td>0.0</td>\n",
       "      <td>0.0</td>\n",
       "      <td>0.0</td>\n",
       "      <td>0.00000</td>\n",
       "      <td>0.0</td>\n",
       "      <td>0.00000</td>\n",
       "      <td>...</td>\n",
       "      <td>0.0</td>\n",
       "      <td>0.0</td>\n",
       "      <td>0.0</td>\n",
       "      <td>0.0</td>\n",
       "      <td>0.0</td>\n",
       "      <td>0.0</td>\n",
       "      <td>0.0</td>\n",
       "      <td>0.0</td>\n",
       "      <td>0.0</td>\n",
       "      <td>0.0</td>\n",
       "    </tr>\n",
       "    <tr>\n",
       "      <th>1</th>\n",
       "      <td>OR4F5</td>\n",
       "      <td>0.0</td>\n",
       "      <td>0.000000</td>\n",
       "      <td>0.0</td>\n",
       "      <td>0.0</td>\n",
       "      <td>0.0</td>\n",
       "      <td>0.0</td>\n",
       "      <td>0.00000</td>\n",
       "      <td>0.0</td>\n",
       "      <td>0.00000</td>\n",
       "      <td>...</td>\n",
       "      <td>0.0</td>\n",
       "      <td>0.0</td>\n",
       "      <td>0.0</td>\n",
       "      <td>0.0</td>\n",
       "      <td>0.0</td>\n",
       "      <td>0.0</td>\n",
       "      <td>0.0</td>\n",
       "      <td>0.0</td>\n",
       "      <td>0.0</td>\n",
       "      <td>0.0</td>\n",
       "    </tr>\n",
       "    <tr>\n",
       "      <th>2</th>\n",
       "      <td>RP11-34P13.7</td>\n",
       "      <td>0.0</td>\n",
       "      <td>0.000000</td>\n",
       "      <td>0.0</td>\n",
       "      <td>0.0</td>\n",
       "      <td>0.0</td>\n",
       "      <td>0.0</td>\n",
       "      <td>0.00000</td>\n",
       "      <td>0.0</td>\n",
       "      <td>0.00000</td>\n",
       "      <td>...</td>\n",
       "      <td>0.0</td>\n",
       "      <td>0.0</td>\n",
       "      <td>0.0</td>\n",
       "      <td>0.0</td>\n",
       "      <td>0.0</td>\n",
       "      <td>0.0</td>\n",
       "      <td>0.0</td>\n",
       "      <td>0.0</td>\n",
       "      <td>0.0</td>\n",
       "      <td>0.0</td>\n",
       "    </tr>\n",
       "    <tr>\n",
       "      <th>3</th>\n",
       "      <td>RP11-34P13.8</td>\n",
       "      <td>0.0</td>\n",
       "      <td>0.000000</td>\n",
       "      <td>0.0</td>\n",
       "      <td>0.0</td>\n",
       "      <td>0.0</td>\n",
       "      <td>0.0</td>\n",
       "      <td>0.00000</td>\n",
       "      <td>0.0</td>\n",
       "      <td>0.00000</td>\n",
       "      <td>...</td>\n",
       "      <td>0.0</td>\n",
       "      <td>0.0</td>\n",
       "      <td>0.0</td>\n",
       "      <td>0.0</td>\n",
       "      <td>0.0</td>\n",
       "      <td>0.0</td>\n",
       "      <td>0.0</td>\n",
       "      <td>0.0</td>\n",
       "      <td>0.0</td>\n",
       "      <td>0.0</td>\n",
       "    </tr>\n",
       "    <tr>\n",
       "      <th>4</th>\n",
       "      <td>RP11-34P13.14</td>\n",
       "      <td>0.0</td>\n",
       "      <td>0.000000</td>\n",
       "      <td>0.0</td>\n",
       "      <td>0.0</td>\n",
       "      <td>0.0</td>\n",
       "      <td>0.0</td>\n",
       "      <td>0.00000</td>\n",
       "      <td>0.0</td>\n",
       "      <td>0.00000</td>\n",
       "      <td>...</td>\n",
       "      <td>0.0</td>\n",
       "      <td>0.0</td>\n",
       "      <td>0.0</td>\n",
       "      <td>0.0</td>\n",
       "      <td>0.0</td>\n",
       "      <td>0.0</td>\n",
       "      <td>0.0</td>\n",
       "      <td>0.0</td>\n",
       "      <td>0.0</td>\n",
       "      <td>0.0</td>\n",
       "    </tr>\n",
       "    <tr>\n",
       "      <th>...</th>\n",
       "      <td>...</td>\n",
       "      <td>...</td>\n",
       "      <td>...</td>\n",
       "      <td>...</td>\n",
       "      <td>...</td>\n",
       "      <td>...</td>\n",
       "      <td>...</td>\n",
       "      <td>...</td>\n",
       "      <td>...</td>\n",
       "      <td>...</td>\n",
       "      <td>...</td>\n",
       "      <td>...</td>\n",
       "      <td>...</td>\n",
       "      <td>...</td>\n",
       "      <td>...</td>\n",
       "      <td>...</td>\n",
       "      <td>...</td>\n",
       "      <td>...</td>\n",
       "      <td>...</td>\n",
       "      <td>...</td>\n",
       "      <td>...</td>\n",
       "    </tr>\n",
       "    <tr>\n",
       "      <th>30309</th>\n",
       "      <td>AL592183.1</td>\n",
       "      <td>0.0</td>\n",
       "      <td>157.678966</td>\n",
       "      <td>0.0</td>\n",
       "      <td>0.0</td>\n",
       "      <td>0.0</td>\n",
       "      <td>0.0</td>\n",
       "      <td>246.00246</td>\n",
       "      <td>0.0</td>\n",
       "      <td>208.94275</td>\n",
       "      <td>...</td>\n",
       "      <td>0.0</td>\n",
       "      <td>0.0</td>\n",
       "      <td>0.0</td>\n",
       "      <td>0.0</td>\n",
       "      <td>0.0</td>\n",
       "      <td>0.0</td>\n",
       "      <td>0.0</td>\n",
       "      <td>0.0</td>\n",
       "      <td>0.0</td>\n",
       "      <td>0.0</td>\n",
       "    </tr>\n",
       "    <tr>\n",
       "      <th>30310</th>\n",
       "      <td>AC011841.1</td>\n",
       "      <td>0.0</td>\n",
       "      <td>0.000000</td>\n",
       "      <td>0.0</td>\n",
       "      <td>0.0</td>\n",
       "      <td>0.0</td>\n",
       "      <td>0.0</td>\n",
       "      <td>0.00000</td>\n",
       "      <td>0.0</td>\n",
       "      <td>0.00000</td>\n",
       "      <td>...</td>\n",
       "      <td>0.0</td>\n",
       "      <td>0.0</td>\n",
       "      <td>0.0</td>\n",
       "      <td>0.0</td>\n",
       "      <td>0.0</td>\n",
       "      <td>0.0</td>\n",
       "      <td>0.0</td>\n",
       "      <td>0.0</td>\n",
       "      <td>0.0</td>\n",
       "      <td>0.0</td>\n",
       "    </tr>\n",
       "    <tr>\n",
       "      <th>30311</th>\n",
       "      <td>BX072566.1</td>\n",
       "      <td>0.0</td>\n",
       "      <td>0.000000</td>\n",
       "      <td>0.0</td>\n",
       "      <td>0.0</td>\n",
       "      <td>0.0</td>\n",
       "      <td>0.0</td>\n",
       "      <td>0.00000</td>\n",
       "      <td>0.0</td>\n",
       "      <td>0.00000</td>\n",
       "      <td>...</td>\n",
       "      <td>0.0</td>\n",
       "      <td>0.0</td>\n",
       "      <td>0.0</td>\n",
       "      <td>0.0</td>\n",
       "      <td>0.0</td>\n",
       "      <td>0.0</td>\n",
       "      <td>0.0</td>\n",
       "      <td>0.0</td>\n",
       "      <td>0.0</td>\n",
       "      <td>0.0</td>\n",
       "    </tr>\n",
       "    <tr>\n",
       "      <th>30312</th>\n",
       "      <td>AL354822.1</td>\n",
       "      <td>0.0</td>\n",
       "      <td>0.000000</td>\n",
       "      <td>0.0</td>\n",
       "      <td>0.0</td>\n",
       "      <td>0.0</td>\n",
       "      <td>0.0</td>\n",
       "      <td>0.00000</td>\n",
       "      <td>0.0</td>\n",
       "      <td>208.94275</td>\n",
       "      <td>...</td>\n",
       "      <td>0.0</td>\n",
       "      <td>0.0</td>\n",
       "      <td>0.0</td>\n",
       "      <td>0.0</td>\n",
       "      <td>0.0</td>\n",
       "      <td>0.0</td>\n",
       "      <td>0.0</td>\n",
       "      <td>0.0</td>\n",
       "      <td>0.0</td>\n",
       "      <td>0.0</td>\n",
       "    </tr>\n",
       "    <tr>\n",
       "      <th>30313</th>\n",
       "      <td>BAGE5</td>\n",
       "      <td>0.0</td>\n",
       "      <td>0.000000</td>\n",
       "      <td>0.0</td>\n",
       "      <td>0.0</td>\n",
       "      <td>0.0</td>\n",
       "      <td>0.0</td>\n",
       "      <td>0.00000</td>\n",
       "      <td>0.0</td>\n",
       "      <td>0.00000</td>\n",
       "      <td>...</td>\n",
       "      <td>0.0</td>\n",
       "      <td>0.0</td>\n",
       "      <td>0.0</td>\n",
       "      <td>0.0</td>\n",
       "      <td>0.0</td>\n",
       "      <td>0.0</td>\n",
       "      <td>0.0</td>\n",
       "      <td>0.0</td>\n",
       "      <td>0.0</td>\n",
       "      <td>0.0</td>\n",
       "    </tr>\n",
       "  </tbody>\n",
       "</table>\n",
       "<p>30314 rows × 16202 columns</p>\n",
       "</div>"
      ],
      "text/plain": [
       "                GENE  102_1       102_2  102_4  102_5  102_7  102_8  \\\n",
       "0            FAM138A    0.0    0.000000    0.0    0.0    0.0    0.0   \n",
       "1              OR4F5    0.0    0.000000    0.0    0.0    0.0    0.0   \n",
       "2       RP11-34P13.7    0.0    0.000000    0.0    0.0    0.0    0.0   \n",
       "3       RP11-34P13.8    0.0    0.000000    0.0    0.0    0.0    0.0   \n",
       "4      RP11-34P13.14    0.0    0.000000    0.0    0.0    0.0    0.0   \n",
       "...              ...    ...         ...    ...    ...    ...    ...   \n",
       "30309     AL592183.1    0.0  157.678966    0.0    0.0    0.0    0.0   \n",
       "30310     AC011841.1    0.0    0.000000    0.0    0.0    0.0    0.0   \n",
       "30311     BX072566.1    0.0    0.000000    0.0    0.0    0.0    0.0   \n",
       "30312     AL354822.1    0.0    0.000000    0.0    0.0    0.0    0.0   \n",
       "30313          BAGE5    0.0    0.000000    0.0    0.0    0.0    0.0   \n",
       "\n",
       "          102_10  102_11     102_12  ...  126_2_227  126_2_230  126_2_231  \\\n",
       "0        0.00000     0.0    0.00000  ...        0.0        0.0        0.0   \n",
       "1        0.00000     0.0    0.00000  ...        0.0        0.0        0.0   \n",
       "2        0.00000     0.0    0.00000  ...        0.0        0.0        0.0   \n",
       "3        0.00000     0.0    0.00000  ...        0.0        0.0        0.0   \n",
       "4        0.00000     0.0    0.00000  ...        0.0        0.0        0.0   \n",
       "...          ...     ...        ...  ...        ...        ...        ...   \n",
       "30309  246.00246     0.0  208.94275  ...        0.0        0.0        0.0   \n",
       "30310    0.00000     0.0    0.00000  ...        0.0        0.0        0.0   \n",
       "30311    0.00000     0.0    0.00000  ...        0.0        0.0        0.0   \n",
       "30312    0.00000     0.0  208.94275  ...        0.0        0.0        0.0   \n",
       "30313    0.00000     0.0    0.00000  ...        0.0        0.0        0.0   \n",
       "\n",
       "       126_2_232  126_2_235  126_2_236  126_2_237  126_2_240  126_2_242  \\\n",
       "0            0.0        0.0        0.0        0.0        0.0        0.0   \n",
       "1            0.0        0.0        0.0        0.0        0.0        0.0   \n",
       "2            0.0        0.0        0.0        0.0        0.0        0.0   \n",
       "3            0.0        0.0        0.0        0.0        0.0        0.0   \n",
       "4            0.0        0.0        0.0        0.0        0.0        0.0   \n",
       "...          ...        ...        ...        ...        ...        ...   \n",
       "30309        0.0        0.0        0.0        0.0        0.0        0.0   \n",
       "30310        0.0        0.0        0.0        0.0        0.0        0.0   \n",
       "30311        0.0        0.0        0.0        0.0        0.0        0.0   \n",
       "30312        0.0        0.0        0.0        0.0        0.0        0.0   \n",
       "30313        0.0        0.0        0.0        0.0        0.0        0.0   \n",
       "\n",
       "       126_2_245  \n",
       "0            0.0  \n",
       "1            0.0  \n",
       "2            0.0  \n",
       "3            0.0  \n",
       "4            0.0  \n",
       "...          ...  \n",
       "30309        0.0  \n",
       "30310        0.0  \n",
       "30311        0.0  \n",
       "30312        0.0  \n",
       "30313        0.0  \n",
       "\n",
       "[30314 rows x 16202 columns]"
      ]
     },
     "execution_count": 4,
     "metadata": {},
     "output_type": "execute_result"
    }
   ],
   "source": [
    "df"
   ]
  },
  {
   "cell_type": "code",
   "execution_count": 5,
   "id": "e98b8074",
   "metadata": {
    "ExecuteTime": {
     "end_time": "2022-06-08T12:59:08.430944Z",
     "start_time": "2022-06-08T12:59:08.331617Z"
    }
   },
   "outputs": [],
   "source": [
    "df.set_index(df[\"GENE\"].str.split(\".\",expand=True)[0],inplace=True)"
   ]
  },
  {
   "cell_type": "code",
   "execution_count": 6,
   "id": "762f1d82",
   "metadata": {
    "ExecuteTime": {
     "end_time": "2022-06-08T12:59:09.899081Z",
     "start_time": "2022-06-08T12:59:08.432421Z"
    }
   },
   "outputs": [],
   "source": [
    "df = df.drop_duplicates([\"GENE\"])"
   ]
  },
  {
   "cell_type": "code",
   "execution_count": 7,
   "id": "7f4ed9ca",
   "metadata": {
    "ExecuteTime": {
     "end_time": "2022-06-08T12:59:23.699597Z",
     "start_time": "2022-06-08T12:59:09.901013Z"
    }
   },
   "outputs": [],
   "source": [
    "df = df.T"
   ]
  },
  {
   "cell_type": "code",
   "execution_count": 8,
   "id": "e61a1fba",
   "metadata": {
    "ExecuteTime": {
     "end_time": "2022-06-08T12:59:23.802302Z",
     "start_time": "2022-06-08T12:59:23.701270Z"
    }
   },
   "outputs": [
    {
     "data": {
      "text/html": [
       "<div>\n",
       "<style scoped>\n",
       "    .dataframe tbody tr th:only-of-type {\n",
       "        vertical-align: middle;\n",
       "    }\n",
       "\n",
       "    .dataframe tbody tr th {\n",
       "        vertical-align: top;\n",
       "    }\n",
       "\n",
       "    .dataframe thead th {\n",
       "        text-align: right;\n",
       "    }\n",
       "</style>\n",
       "<table border=\"1\" class=\"dataframe\">\n",
       "  <thead>\n",
       "    <tr style=\"text-align: right;\">\n",
       "      <th></th>\n",
       "      <th>FAM138A</th>\n",
       "      <th>OR4F5</th>\n",
       "      <th>RP11-34P13</th>\n",
       "      <th>RP11-34P13</th>\n",
       "      <th>RP11-34P13</th>\n",
       "      <th>RP11-34P13</th>\n",
       "      <th>AP006222</th>\n",
       "      <th>RP4-669L17</th>\n",
       "      <th>OR4F29</th>\n",
       "      <th>RP4-669L17</th>\n",
       "      <th>...</th>\n",
       "      <th>MT-ND5</th>\n",
       "      <th>MT-ND6</th>\n",
       "      <th>MT-CYB</th>\n",
       "      <th>MGC39584</th>\n",
       "      <th>AC011043</th>\n",
       "      <th>AL592183</th>\n",
       "      <th>AC011841</th>\n",
       "      <th>BX072566</th>\n",
       "      <th>AL354822</th>\n",
       "      <th>BAGE5</th>\n",
       "    </tr>\n",
       "  </thead>\n",
       "  <tbody>\n",
       "    <tr>\n",
       "      <th>102_1</th>\n",
       "      <td>0.0</td>\n",
       "      <td>0.0</td>\n",
       "      <td>0.0</td>\n",
       "      <td>0.0</td>\n",
       "      <td>0.0</td>\n",
       "      <td>0.0</td>\n",
       "      <td>0.0</td>\n",
       "      <td>0.0</td>\n",
       "      <td>0.0</td>\n",
       "      <td>0.0</td>\n",
       "      <td>...</td>\n",
       "      <td>691.204424</td>\n",
       "      <td>0.0</td>\n",
       "      <td>8035.251426</td>\n",
       "      <td>0.0</td>\n",
       "      <td>0.0</td>\n",
       "      <td>0.0</td>\n",
       "      <td>0.0</td>\n",
       "      <td>0.0</td>\n",
       "      <td>0.0</td>\n",
       "      <td>0.0</td>\n",
       "    </tr>\n",
       "    <tr>\n",
       "      <th>102_2</th>\n",
       "      <td>0.0</td>\n",
       "      <td>0.0</td>\n",
       "      <td>0.0</td>\n",
       "      <td>0.0</td>\n",
       "      <td>0.0</td>\n",
       "      <td>0.0</td>\n",
       "      <td>0.0</td>\n",
       "      <td>0.0</td>\n",
       "      <td>0.0</td>\n",
       "      <td>0.0</td>\n",
       "      <td>...</td>\n",
       "      <td>315.357931</td>\n",
       "      <td>315.357931</td>\n",
       "      <td>3784.295175</td>\n",
       "      <td>0.0</td>\n",
       "      <td>0.0</td>\n",
       "      <td>157.678966</td>\n",
       "      <td>0.0</td>\n",
       "      <td>0.0</td>\n",
       "      <td>0.0</td>\n",
       "      <td>0.0</td>\n",
       "    </tr>\n",
       "    <tr>\n",
       "      <th>102_4</th>\n",
       "      <td>0.0</td>\n",
       "      <td>0.0</td>\n",
       "      <td>0.0</td>\n",
       "      <td>0.0</td>\n",
       "      <td>0.0</td>\n",
       "      <td>0.0</td>\n",
       "      <td>0.0</td>\n",
       "      <td>0.0</td>\n",
       "      <td>0.0</td>\n",
       "      <td>0.0</td>\n",
       "      <td>...</td>\n",
       "      <td>0.0</td>\n",
       "      <td>0.0</td>\n",
       "      <td>2067.539628</td>\n",
       "      <td>0.0</td>\n",
       "      <td>0.0</td>\n",
       "      <td>0.0</td>\n",
       "      <td>0.0</td>\n",
       "      <td>0.0</td>\n",
       "      <td>0.0</td>\n",
       "      <td>0.0</td>\n",
       "    </tr>\n",
       "    <tr>\n",
       "      <th>102_5</th>\n",
       "      <td>0.0</td>\n",
       "      <td>0.0</td>\n",
       "      <td>0.0</td>\n",
       "      <td>0.0</td>\n",
       "      <td>0.0</td>\n",
       "      <td>0.0</td>\n",
       "      <td>0.0</td>\n",
       "      <td>0.0</td>\n",
       "      <td>0.0</td>\n",
       "      <td>0.0</td>\n",
       "      <td>...</td>\n",
       "      <td>2839.372634</td>\n",
       "      <td>0.0</td>\n",
       "      <td>10816.657653</td>\n",
       "      <td>0.0</td>\n",
       "      <td>0.0</td>\n",
       "      <td>0.0</td>\n",
       "      <td>0.0</td>\n",
       "      <td>0.0</td>\n",
       "      <td>0.0</td>\n",
       "      <td>0.0</td>\n",
       "    </tr>\n",
       "    <tr>\n",
       "      <th>102_7</th>\n",
       "      <td>0.0</td>\n",
       "      <td>0.0</td>\n",
       "      <td>0.0</td>\n",
       "      <td>0.0</td>\n",
       "      <td>0.0</td>\n",
       "      <td>0.0</td>\n",
       "      <td>0.0</td>\n",
       "      <td>0.0</td>\n",
       "      <td>0.0</td>\n",
       "      <td>0.0</td>\n",
       "      <td>...</td>\n",
       "      <td>804.667069</td>\n",
       "      <td>0.0</td>\n",
       "      <td>5632.669483</td>\n",
       "      <td>0.0</td>\n",
       "      <td>0.0</td>\n",
       "      <td>0.0</td>\n",
       "      <td>0.0</td>\n",
       "      <td>0.0</td>\n",
       "      <td>0.0</td>\n",
       "      <td>0.0</td>\n",
       "    </tr>\n",
       "    <tr>\n",
       "      <th>...</th>\n",
       "      <td>...</td>\n",
       "      <td>...</td>\n",
       "      <td>...</td>\n",
       "      <td>...</td>\n",
       "      <td>...</td>\n",
       "      <td>...</td>\n",
       "      <td>...</td>\n",
       "      <td>...</td>\n",
       "      <td>...</td>\n",
       "      <td>...</td>\n",
       "      <td>...</td>\n",
       "      <td>...</td>\n",
       "      <td>...</td>\n",
       "      <td>...</td>\n",
       "      <td>...</td>\n",
       "      <td>...</td>\n",
       "      <td>...</td>\n",
       "      <td>...</td>\n",
       "      <td>...</td>\n",
       "      <td>...</td>\n",
       "      <td>...</td>\n",
       "    </tr>\n",
       "    <tr>\n",
       "      <th>126_2_236</th>\n",
       "      <td>0.0</td>\n",
       "      <td>0.0</td>\n",
       "      <td>0.0</td>\n",
       "      <td>0.0</td>\n",
       "      <td>0.0</td>\n",
       "      <td>0.0</td>\n",
       "      <td>0.0</td>\n",
       "      <td>0.0</td>\n",
       "      <td>0.0</td>\n",
       "      <td>0.0</td>\n",
       "      <td>...</td>\n",
       "      <td>393.287887</td>\n",
       "      <td>131.095962</td>\n",
       "      <td>262.191924</td>\n",
       "      <td>0.0</td>\n",
       "      <td>0.0</td>\n",
       "      <td>0.0</td>\n",
       "      <td>0.0</td>\n",
       "      <td>0.0</td>\n",
       "      <td>0.0</td>\n",
       "      <td>0.0</td>\n",
       "    </tr>\n",
       "    <tr>\n",
       "      <th>126_2_237</th>\n",
       "      <td>0.0</td>\n",
       "      <td>0.0</td>\n",
       "      <td>0.0</td>\n",
       "      <td>0.0</td>\n",
       "      <td>0.0</td>\n",
       "      <td>0.0</td>\n",
       "      <td>216.450216</td>\n",
       "      <td>0.0</td>\n",
       "      <td>0.0</td>\n",
       "      <td>0.0</td>\n",
       "      <td>...</td>\n",
       "      <td>649.350649</td>\n",
       "      <td>0.0</td>\n",
       "      <td>1948.051948</td>\n",
       "      <td>0.0</td>\n",
       "      <td>0.0</td>\n",
       "      <td>0.0</td>\n",
       "      <td>0.0</td>\n",
       "      <td>0.0</td>\n",
       "      <td>0.0</td>\n",
       "      <td>0.0</td>\n",
       "    </tr>\n",
       "    <tr>\n",
       "      <th>126_2_240</th>\n",
       "      <td>0.0</td>\n",
       "      <td>0.0</td>\n",
       "      <td>0.0</td>\n",
       "      <td>0.0</td>\n",
       "      <td>0.0</td>\n",
       "      <td>0.0</td>\n",
       "      <td>0.0</td>\n",
       "      <td>0.0</td>\n",
       "      <td>0.0</td>\n",
       "      <td>0.0</td>\n",
       "      <td>...</td>\n",
       "      <td>502.815768</td>\n",
       "      <td>201.126307</td>\n",
       "      <td>402.252615</td>\n",
       "      <td>0.0</td>\n",
       "      <td>0.0</td>\n",
       "      <td>0.0</td>\n",
       "      <td>0.0</td>\n",
       "      <td>0.0</td>\n",
       "      <td>0.0</td>\n",
       "      <td>0.0</td>\n",
       "    </tr>\n",
       "    <tr>\n",
       "      <th>126_2_242</th>\n",
       "      <td>0.0</td>\n",
       "      <td>0.0</td>\n",
       "      <td>0.0</td>\n",
       "      <td>0.0</td>\n",
       "      <td>0.0</td>\n",
       "      <td>0.0</td>\n",
       "      <td>0.0</td>\n",
       "      <td>0.0</td>\n",
       "      <td>0.0</td>\n",
       "      <td>0.0</td>\n",
       "      <td>...</td>\n",
       "      <td>0.0</td>\n",
       "      <td>0.0</td>\n",
       "      <td>0.0</td>\n",
       "      <td>0.0</td>\n",
       "      <td>0.0</td>\n",
       "      <td>0.0</td>\n",
       "      <td>0.0</td>\n",
       "      <td>0.0</td>\n",
       "      <td>0.0</td>\n",
       "      <td>0.0</td>\n",
       "    </tr>\n",
       "    <tr>\n",
       "      <th>126_2_245</th>\n",
       "      <td>0.0</td>\n",
       "      <td>0.0</td>\n",
       "      <td>0.0</td>\n",
       "      <td>0.0</td>\n",
       "      <td>0.0</td>\n",
       "      <td>0.0</td>\n",
       "      <td>0.0</td>\n",
       "      <td>0.0</td>\n",
       "      <td>0.0</td>\n",
       "      <td>0.0</td>\n",
       "      <td>...</td>\n",
       "      <td>253.613999</td>\n",
       "      <td>126.807</td>\n",
       "      <td>126.807</td>\n",
       "      <td>0.0</td>\n",
       "      <td>0.0</td>\n",
       "      <td>0.0</td>\n",
       "      <td>0.0</td>\n",
       "      <td>0.0</td>\n",
       "      <td>0.0</td>\n",
       "      <td>0.0</td>\n",
       "    </tr>\n",
       "  </tbody>\n",
       "</table>\n",
       "<p>16201 rows × 30314 columns</p>\n",
       "</div>"
      ],
      "text/plain": [
       "0         FAM138A OR4F5 RP11-34P13 RP11-34P13 RP11-34P13 RP11-34P13  \\\n",
       "102_1         0.0   0.0        0.0        0.0        0.0        0.0   \n",
       "102_2         0.0   0.0        0.0        0.0        0.0        0.0   \n",
       "102_4         0.0   0.0        0.0        0.0        0.0        0.0   \n",
       "102_5         0.0   0.0        0.0        0.0        0.0        0.0   \n",
       "102_7         0.0   0.0        0.0        0.0        0.0        0.0   \n",
       "...           ...   ...        ...        ...        ...        ...   \n",
       "126_2_236     0.0   0.0        0.0        0.0        0.0        0.0   \n",
       "126_2_237     0.0   0.0        0.0        0.0        0.0        0.0   \n",
       "126_2_240     0.0   0.0        0.0        0.0        0.0        0.0   \n",
       "126_2_242     0.0   0.0        0.0        0.0        0.0        0.0   \n",
       "126_2_245     0.0   0.0        0.0        0.0        0.0        0.0   \n",
       "\n",
       "0            AP006222 RP4-669L17 OR4F29 RP4-669L17  ...       MT-ND5  \\\n",
       "102_1             0.0        0.0    0.0        0.0  ...   691.204424   \n",
       "102_2             0.0        0.0    0.0        0.0  ...   315.357931   \n",
       "102_4             0.0        0.0    0.0        0.0  ...          0.0   \n",
       "102_5             0.0        0.0    0.0        0.0  ...  2839.372634   \n",
       "102_7             0.0        0.0    0.0        0.0  ...   804.667069   \n",
       "...               ...        ...    ...        ...  ...          ...   \n",
       "126_2_236         0.0        0.0    0.0        0.0  ...   393.287887   \n",
       "126_2_237  216.450216        0.0    0.0        0.0  ...   649.350649   \n",
       "126_2_240         0.0        0.0    0.0        0.0  ...   502.815768   \n",
       "126_2_242         0.0        0.0    0.0        0.0  ...          0.0   \n",
       "126_2_245         0.0        0.0    0.0        0.0  ...   253.613999   \n",
       "\n",
       "0              MT-ND6        MT-CYB MGC39584 AC011043    AL592183 AC011841  \\\n",
       "102_1             0.0   8035.251426      0.0      0.0         0.0      0.0   \n",
       "102_2      315.357931   3784.295175      0.0      0.0  157.678966      0.0   \n",
       "102_4             0.0   2067.539628      0.0      0.0         0.0      0.0   \n",
       "102_5             0.0  10816.657653      0.0      0.0         0.0      0.0   \n",
       "102_7             0.0   5632.669483      0.0      0.0         0.0      0.0   \n",
       "...               ...           ...      ...      ...         ...      ...   \n",
       "126_2_236  131.095962    262.191924      0.0      0.0         0.0      0.0   \n",
       "126_2_237         0.0   1948.051948      0.0      0.0         0.0      0.0   \n",
       "126_2_240  201.126307    402.252615      0.0      0.0         0.0      0.0   \n",
       "126_2_242         0.0           0.0      0.0      0.0         0.0      0.0   \n",
       "126_2_245     126.807       126.807      0.0      0.0         0.0      0.0   \n",
       "\n",
       "0         BX072566 AL354822 BAGE5  \n",
       "102_1          0.0      0.0   0.0  \n",
       "102_2          0.0      0.0   0.0  \n",
       "102_4          0.0      0.0   0.0  \n",
       "102_5          0.0      0.0   0.0  \n",
       "102_7          0.0      0.0   0.0  \n",
       "...            ...      ...   ...  \n",
       "126_2_236      0.0      0.0   0.0  \n",
       "126_2_237      0.0      0.0   0.0  \n",
       "126_2_240      0.0      0.0   0.0  \n",
       "126_2_242      0.0      0.0   0.0  \n",
       "126_2_245      0.0      0.0   0.0  \n",
       "\n",
       "[16201 rows x 30314 columns]"
      ]
     },
     "execution_count": 8,
     "metadata": {},
     "output_type": "execute_result"
    }
   ],
   "source": [
    "df = df.iloc[1: , :]\n",
    "\n",
    "df"
   ]
  },
  {
   "cell_type": "code",
   "execution_count": 9,
   "id": "017516a7",
   "metadata": {
    "ExecuteTime": {
     "end_time": "2022-06-08T12:59:25.753959Z",
     "start_time": "2022-06-08T12:59:23.803511Z"
    }
   },
   "outputs": [],
   "source": [
    "Metadata = pd.read_excel(\"/home/lugli/spuccio/Projects/SP039/GSE131928_PMID31327527/GSE131928_single_cells_tumor_name_and_adult_or_peidatric.xlsx\",skiprows=[i for i in range(0,43)])"
   ]
  },
  {
   "cell_type": "code",
   "execution_count": 10,
   "id": "4f3c237f",
   "metadata": {
    "ExecuteTime": {
     "end_time": "2022-06-08T12:59:25.759806Z",
     "start_time": "2022-06-08T12:59:25.756313Z"
    }
   },
   "outputs": [],
   "source": [
    "Metadata = Metadata.set_index(\"Sample name\")"
   ]
  },
  {
   "cell_type": "code",
   "execution_count": 11,
   "id": "2a2798f6",
   "metadata": {
    "ExecuteTime": {
     "end_time": "2022-06-08T12:59:28.634373Z",
     "start_time": "2022-06-08T12:59:25.761244Z"
    }
   },
   "outputs": [],
   "source": [
    "bigtable = pd.merge(df,Metadata,left_index=True,right_index=True) "
   ]
  },
  {
   "cell_type": "code",
   "execution_count": 12,
   "id": "424218ec",
   "metadata": {
    "ExecuteTime": {
     "end_time": "2022-06-08T13:00:57.746169Z",
     "start_time": "2022-06-08T12:59:28.636051Z"
    }
   },
   "outputs": [
    {
     "data": {
      "text/plain": [
       "array(['MGH102', 'MGH143', 'MGH105', 'MGH114', 'MGH115', 'MGH118',\n",
       "       'MGH124', 'MGH125', 'MGH126'], dtype=object)"
      ]
     },
     "execution_count": 12,
     "metadata": {},
     "output_type": "execute_result"
    }
   ],
   "source": [
    "bigtable['tumour name'].unique() "
   ]
  },
  {
   "cell_type": "code",
   "execution_count": 13,
   "id": "59a79b3d",
   "metadata": {
    "ExecuteTime": {
     "end_time": "2022-06-08T13:01:17.744880Z",
     "start_time": "2022-06-08T13:00:57.747723Z"
    }
   },
   "outputs": [],
   "source": [
    "bigtable = bigtable.loc[bigtable['tumour name'] != \"MGH143\"]"
   ]
  },
  {
   "cell_type": "code",
   "execution_count": 14,
   "id": "a1487dc1",
   "metadata": {
    "ExecuteTime": {
     "end_time": "2022-06-08T13:01:17.753984Z",
     "start_time": "2022-06-08T13:01:17.746409Z"
    }
   },
   "outputs": [
    {
     "data": {
      "text/plain": [
       "array(['MGH102', 'MGH105', 'MGH114', 'MGH115', 'MGH118', 'MGH124',\n",
       "       'MGH125', 'MGH126'], dtype=object)"
      ]
     },
     "execution_count": 14,
     "metadata": {},
     "output_type": "execute_result"
    }
   ],
   "source": [
    "bigtable['tumour name'].unique() "
   ]
  },
  {
   "cell_type": "code",
   "execution_count": 15,
   "id": "353d549b",
   "metadata": {
    "ExecuteTime": {
     "end_time": "2022-06-08T13:01:35.085714Z",
     "start_time": "2022-06-08T13:01:17.755185Z"
    }
   },
   "outputs": [],
   "source": [
    "bigtable = bigtable.set_index('MGH' +bigtable.index.astype(str))"
   ]
  },
  {
   "cell_type": "code",
   "execution_count": 16,
   "id": "5c72ac4d",
   "metadata": {
    "ExecuteTime": {
     "end_time": "2022-06-08T13:01:52.385591Z",
     "start_time": "2022-06-08T13:01:35.087368Z"
    }
   },
   "outputs": [],
   "source": [
    "bigtable = bigtable.set_index(bigtable.index.astype(str).str.replace('_','-'))"
   ]
  },
  {
   "cell_type": "code",
   "execution_count": 17,
   "id": "57ed42e6",
   "metadata": {
    "ExecuteTime": {
     "end_time": "2022-06-08T13:01:59.482542Z",
     "start_time": "2022-06-08T13:01:52.387111Z"
    }
   },
   "outputs": [],
   "source": [
    "MGH102 = bigtable.loc[bigtable['tumour name'] == \"MGH102\"]\n",
    "MGH105 = bigtable.loc[bigtable['tumour name'] == \"MGH105\"]\n",
    "MGH114 = bigtable.loc[bigtable['tumour name'] == \"MGH114\"]\n",
    "MGH115 = bigtable.loc[bigtable['tumour name'] == \"MGH115\"]\n",
    "MGH118 =  bigtable.loc[bigtable['tumour name'] == \"MGH118\"]\n",
    "MGH124 =  bigtable.loc[bigtable['tumour name'] == \"MGH124\"]\n",
    "MGH125 =  bigtable.loc[bigtable['tumour name'] == \"MGH125\"]\n",
    "MGH126 =  bigtable.loc[bigtable['tumour name'] == \"MGH126\"]"
   ]
  },
  {
   "cell_type": "code",
   "execution_count": 18,
   "id": "b494f694",
   "metadata": {
    "ExecuteTime": {
     "end_time": "2022-06-08T13:02:10.206010Z",
     "start_time": "2022-06-08T13:01:59.484163Z"
    }
   },
   "outputs": [],
   "source": [
    "MGH102 = MGH102.reset_index(drop=True)\n",
    "MGH105 = MGH105.reset_index(drop=True)\n",
    "MGH114 = MGH114.reset_index(drop=True)\n",
    "MGH115 = MGH115.reset_index(drop=True)\n",
    "MGH118 = MGH118.reset_index(drop=True)\n",
    "MGH124 = MGH124.reset_index(drop=True)\n",
    "MGH125 = MGH125.reset_index(drop=True)\n",
    "MGH126 = MGH126.reset_index(drop=True)"
   ]
  },
  {
   "cell_type": "code",
   "execution_count": 19,
   "id": "9bc43ce1",
   "metadata": {
    "ExecuteTime": {
     "end_time": "2022-06-08T13:02:10.222909Z",
     "start_time": "2022-06-08T13:02:10.207297Z"
    }
   },
   "outputs": [],
   "source": [
    "MGH102.set_index(\"MGH102-\" + MGH102.index.astype(str),inplace=True)\n",
    "MGH105.set_index(\"MGH102-\" + MGH105.index.astype(str),inplace=True)\n",
    "MGH114.set_index(\"MGH114-\" + MGH114.index.astype(str),inplace=True)\n",
    "MGH115.set_index(\"MGH115-\" + MGH115.index.astype(str),inplace=True)\n",
    "MGH118.set_index(\"MGH118-\" + MGH118.index.astype(str),inplace=True)\n",
    "MGH124.set_index(\"MGH124-\" + MGH124.index.astype(str),inplace=True)\n",
    "MGH125.set_index(\"MGH125-\" + MGH125.index.astype(str),inplace=True)\n",
    "MGH126.set_index(\"MGH126-\" + MGH126.index.astype(str),inplace=True)"
   ]
  },
  {
   "cell_type": "code",
   "execution_count": 20,
   "id": "6dc2e810",
   "metadata": {
    "ExecuteTime": {
     "end_time": "2022-06-08T13:02:30.242821Z",
     "start_time": "2022-06-08T13:02:10.224062Z"
    }
   },
   "outputs": [
    {
     "name": "stderr",
     "output_type": "stream",
     "text": [
      "/tmp/ipykernel_15766/238673402.py:1: FutureWarning: X.dtype being converted to np.float32 from object. In the next version of anndata (0.9) conversion will not be automatic. Pass dtype explicitly to avoid this warning. Pass `AnnData(X, dtype=X.dtype, ...)` to get the future behavour.\n",
      "  adataMGH102 = sc.AnnData(MGH102.iloc[: , :30314])\n",
      "/home/lugli/spuccio/anaconda3/envs/scanpy19/lib/python3.10/site-packages/anndata/_core/anndata.py:1830: UserWarning: Variable names are not unique. To make them unique, call `.var_names_make_unique`.\n",
      "  utils.warn_names_duplicates(\"var\")\n",
      "/tmp/ipykernel_15766/238673402.py:2: FutureWarning: X.dtype being converted to np.float32 from object. In the next version of anndata (0.9) conversion will not be automatic. Pass dtype explicitly to avoid this warning. Pass `AnnData(X, dtype=X.dtype, ...)` to get the future behavour.\n",
      "  adataMGH105 = sc.AnnData(MGH105.iloc[: , :30314])\n",
      "/tmp/ipykernel_15766/238673402.py:3: FutureWarning: X.dtype being converted to np.float32 from object. In the next version of anndata (0.9) conversion will not be automatic. Pass dtype explicitly to avoid this warning. Pass `AnnData(X, dtype=X.dtype, ...)` to get the future behavour.\n",
      "  adataMGH114 = sc.AnnData(MGH114.iloc[: , :30314])\n",
      "/tmp/ipykernel_15766/238673402.py:4: FutureWarning: X.dtype being converted to np.float32 from object. In the next version of anndata (0.9) conversion will not be automatic. Pass dtype explicitly to avoid this warning. Pass `AnnData(X, dtype=X.dtype, ...)` to get the future behavour.\n",
      "  adataMGH115 = sc.AnnData(MGH115.iloc[: , :30314])\n",
      "/tmp/ipykernel_15766/238673402.py:5: FutureWarning: X.dtype being converted to np.float32 from object. In the next version of anndata (0.9) conversion will not be automatic. Pass dtype explicitly to avoid this warning. Pass `AnnData(X, dtype=X.dtype, ...)` to get the future behavour.\n",
      "  adataMGH118 = sc.AnnData(MGH118.iloc[: , :30314])\n",
      "/tmp/ipykernel_15766/238673402.py:6: FutureWarning: X.dtype being converted to np.float32 from object. In the next version of anndata (0.9) conversion will not be automatic. Pass dtype explicitly to avoid this warning. Pass `AnnData(X, dtype=X.dtype, ...)` to get the future behavour.\n",
      "  adataMGH124 = sc.AnnData(MGH124.iloc[: , :30314])\n",
      "/tmp/ipykernel_15766/238673402.py:7: FutureWarning: X.dtype being converted to np.float32 from object. In the next version of anndata (0.9) conversion will not be automatic. Pass dtype explicitly to avoid this warning. Pass `AnnData(X, dtype=X.dtype, ...)` to get the future behavour.\n",
      "  adataMGH125 = sc.AnnData(MGH125.iloc[: , :30314])\n",
      "/tmp/ipykernel_15766/238673402.py:8: FutureWarning: X.dtype being converted to np.float32 from object. In the next version of anndata (0.9) conversion will not be automatic. Pass dtype explicitly to avoid this warning. Pass `AnnData(X, dtype=X.dtype, ...)` to get the future behavour.\n",
      "  adataMGH126 = sc.AnnData(MGH126.iloc[: , :30314])\n"
     ]
    }
   ],
   "source": [
    "adataMGH102 = sc.AnnData(MGH102.iloc[: , :30314])\n",
    "adataMGH105 = sc.AnnData(MGH105.iloc[: , :30314])\n",
    "adataMGH114 = sc.AnnData(MGH114.iloc[: , :30314])\n",
    "adataMGH115 = sc.AnnData(MGH115.iloc[: , :30314])\n",
    "adataMGH118 = sc.AnnData(MGH118.iloc[: , :30314])\n",
    "adataMGH124 = sc.AnnData(MGH124.iloc[: , :30314])\n",
    "adataMGH125 = sc.AnnData(MGH125.iloc[: , :30314])\n",
    "adataMGH126 = sc.AnnData(MGH126.iloc[: , :30314])"
   ]
  },
  {
   "cell_type": "code",
   "execution_count": 21,
   "id": "839d2878",
   "metadata": {
    "ExecuteTime": {
     "end_time": "2022-06-08T13:02:30.247759Z",
     "start_time": "2022-06-08T13:02:30.244277Z"
    }
   },
   "outputs": [
    {
     "data": {
      "text/plain": [
       "(1822, 30314)"
      ]
     },
     "execution_count": 21,
     "metadata": {},
     "output_type": "execute_result"
    }
   ],
   "source": [
    "adataMGH102.shape"
   ]
  },
  {
   "cell_type": "code",
   "execution_count": 22,
   "id": "86a94459",
   "metadata": {
    "ExecuteTime": {
     "end_time": "2022-06-08T13:02:30.252073Z",
     "start_time": "2022-06-08T13:02:30.248989Z"
    }
   },
   "outputs": [
    {
     "data": {
      "text/plain": [
       "(5513, 30314)"
      ]
     },
     "execution_count": 22,
     "metadata": {},
     "output_type": "execute_result"
    }
   ],
   "source": [
    "adataMGH105.shape"
   ]
  },
  {
   "cell_type": "code",
   "execution_count": 23,
   "id": "6384f459",
   "metadata": {
    "ExecuteTime": {
     "end_time": "2022-06-08T13:02:30.256470Z",
     "start_time": "2022-06-08T13:02:30.253115Z"
    }
   },
   "outputs": [
    {
     "data": {
      "text/plain": [
       "(473, 30314)"
      ]
     },
     "execution_count": 23,
     "metadata": {},
     "output_type": "execute_result"
    }
   ],
   "source": [
    "adataMGH114.shape"
   ]
  },
  {
   "cell_type": "code",
   "execution_count": 24,
   "id": "c408d351",
   "metadata": {
    "ExecuteTime": {
     "end_time": "2022-06-08T13:02:30.260999Z",
     "start_time": "2022-06-08T13:02:30.257923Z"
    }
   },
   "outputs": [
    {
     "data": {
      "text/plain": [
       "(1283, 30314)"
      ]
     },
     "execution_count": 24,
     "metadata": {},
     "output_type": "execute_result"
    }
   ],
   "source": [
    "adataMGH115.shape"
   ]
  },
  {
   "cell_type": "code",
   "execution_count": 25,
   "id": "10f45e54",
   "metadata": {
    "ExecuteTime": {
     "end_time": "2022-06-08T13:02:30.265307Z",
     "start_time": "2022-06-08T13:02:30.262375Z"
    }
   },
   "outputs": [
    {
     "data": {
      "text/plain": [
       "(539, 30314)"
      ]
     },
     "execution_count": 25,
     "metadata": {},
     "output_type": "execute_result"
    }
   ],
   "source": [
    "adataMGH118.shape"
   ]
  },
  {
   "cell_type": "code",
   "execution_count": 26,
   "id": "3a8a9100",
   "metadata": {
    "ExecuteTime": {
     "end_time": "2022-06-08T13:02:30.269448Z",
     "start_time": "2022-06-08T13:02:30.266503Z"
    }
   },
   "outputs": [
    {
     "data": {
      "text/plain": [
       "(2415, 30314)"
      ]
     },
     "execution_count": 26,
     "metadata": {},
     "output_type": "execute_result"
    }
   ],
   "source": [
    "adataMGH124.shape"
   ]
  },
  {
   "cell_type": "code",
   "execution_count": 27,
   "id": "91659334",
   "metadata": {
    "ExecuteTime": {
     "end_time": "2022-06-08T13:02:30.273747Z",
     "start_time": "2022-06-08T13:02:30.270708Z"
    }
   },
   "outputs": [
    {
     "data": {
      "text/plain": [
       "(1613, 30314)"
      ]
     },
     "execution_count": 27,
     "metadata": {},
     "output_type": "execute_result"
    }
   ],
   "source": [
    "adataMGH125.shape"
   ]
  },
  {
   "cell_type": "code",
   "execution_count": 28,
   "id": "082ae193",
   "metadata": {
    "ExecuteTime": {
     "end_time": "2022-06-08T13:02:30.280518Z",
     "start_time": "2022-06-08T13:02:30.277864Z"
    }
   },
   "outputs": [
    {
     "data": {
      "text/plain": [
       "(229, 30314)"
      ]
     },
     "execution_count": 28,
     "metadata": {},
     "output_type": "execute_result"
    }
   ],
   "source": [
    "adataMGH126.shape"
   ]
  },
  {
   "cell_type": "code",
   "execution_count": 29,
   "id": "002f7c47",
   "metadata": {
    "ExecuteTime": {
     "end_time": "2022-06-08T13:02:30.289894Z",
     "start_time": "2022-06-08T13:02:30.281705Z"
    }
   },
   "outputs": [],
   "source": [
    "adataMGH102.obs['SampleID'] = \"MGH102\"\n",
    "adataMGH102.obs['GEO_RNA'] = \"NotAvailable\"\n",
    "adataMGH102.obs['Cohort'] = \"GSE131928\"\n",
    "adataMGH102.obs['Type'] = \"PrimaryTumor\"  \n",
    "adataMGH102.obs['Subtype'] = \"NotAvailable\"\n",
    "adataMGH102.obs['Diagnosis'] = \"Glioblastoma\"\n",
    "adataMGH102.obs['Grade'] = \"IV\"\n",
    "adataMGH102.obs['Location'] = \"Left_Temporal\"\n",
    "adataMGH102.obs['IDH1_Status'] = \"WT\"\n",
    "adataMGH102.obs['EGFR_Status'] = \"WT\"\n",
    "adataMGH124.obs['MET'] = \"WT\"\n",
    "adataMGH102.obs['MGMT'] = \"NM\"\n",
    "adataMGH102.obs['CellCount'] = \"1822\"\n",
    "adataMGH102.obs['Sample'] = \"Patient7\"\n",
    "adataMGH102.obs['Sex'] = \"M\"\n",
    "adataMGH102.obs['Age'] = \"65\"\n",
    "adataMGH102.obs['Sorted'] = \"CD45\""
   ]
  },
  {
   "cell_type": "code",
   "execution_count": 30,
   "id": "29438719",
   "metadata": {
    "ExecuteTime": {
     "end_time": "2022-06-08T13:02:30.298336Z",
     "start_time": "2022-06-08T13:02:30.290999Z"
    }
   },
   "outputs": [],
   "source": [
    "adataMGH105.obs['SampleID'] = \"MGH105\"\n",
    "adataMGH105.obs['GEO_RNA'] = \"NotAvailable\"\n",
    "adataMGH105.obs['Cohort'] = \"GSE131928\"\n",
    "adataMGH105.obs['Type'] = \"PrimaryTumor\"  \n",
    "adataMGH105.obs['Subtype'] = \"NotAvailable\"\n",
    "adataMGH105.obs['Diagnosis'] = \"Glioblastoma\"\n",
    "adataMGH105.obs['Grade'] = \"IV\"\n",
    "adataMGH105.obs['Location'] = \"Right_Temporal\"\n",
    "adataMGH105.obs['IDH1_Status'] = \"WT\"\n",
    "adataMGH105.obs['EGFR_Status'] = \"Positive\"\n",
    "adataMGH105.obs['MET'] = \"WT\"\n",
    "adataMGH105.obs['MGMT'] = \"NM\"\n",
    "adataMGH105.obs['CellCount'] = \"5513\"\n",
    "adataMGH105.obs['Sample'] = \"Patient8\"\n",
    "adataMGH105.obs['Sex'] = \"F\"\n",
    "adataMGH105.obs['Age'] = \"67\"\n",
    "adataMGH105.obs['Sorted'] = \"CD45\""
   ]
  },
  {
   "cell_type": "code",
   "execution_count": 31,
   "id": "5874a7ac",
   "metadata": {
    "ExecuteTime": {
     "end_time": "2022-06-08T13:02:30.306630Z",
     "start_time": "2022-06-08T13:02:30.299561Z"
    }
   },
   "outputs": [],
   "source": [
    "adataMGH115.obs['SampleID'] = \"MGH115\"\n",
    "adataMGH115.obs['GEO_RNA'] = \"NotAvailable\"\n",
    "adataMGH115.obs['Cohort'] = \"GSE131928\"\n",
    "adataMGH115.obs['Type'] = \"PrimaryTumor\"  \n",
    "adataMGH115.obs['Subtype'] = \"NotAvailable\"\n",
    "adataMGH115.obs['Diagnosis'] = \"Glioblastoma\"\n",
    "adataMGH115.obs['Grade'] = \"IV\"\n",
    "adataMGH115.obs['Location'] = \"Right_Frontal\"\n",
    "adataMGH115.obs['IDH1_Status'] = \"WT\"\n",
    "adataMGH115.obs['EGFR_Status'] = \"Positive\"\n",
    "adataMGH124.obs['MET'] = \"WT\"\n",
    "adataMGH115.obs['MGMT'] = \"NM\"\n",
    "adataMGH115.obs['CellCount'] = \"1283\"\n",
    "adataMGH115.obs['Sample'] = \"Patient9\"\n",
    "adataMGH115.obs['Sex'] = \"F\"\n",
    "adataMGH115.obs['Age'] = \"69\"\n",
    "adataMGH115.obs['Sorted'] = \"CD45\""
   ]
  },
  {
   "cell_type": "code",
   "execution_count": 32,
   "id": "12803960",
   "metadata": {
    "ExecuteTime": {
     "end_time": "2022-06-08T13:02:30.314919Z",
     "start_time": "2022-06-08T13:02:30.307957Z"
    }
   },
   "outputs": [],
   "source": [
    "adataMGH124.obs['SampleID'] = \"MGH124\"\n",
    "adataMGH124.obs['GEO_RNA'] = \"NotAvailable\"\n",
    "adataMGH124.obs['Cohort'] = \"GSE131928\"\n",
    "adataMGH124.obs['Type'] = \"PrimaryTumor\"  \n",
    "adataMGH124.obs['Subtype'] = \"NotAvailable\"\n",
    "adataMGH124.obs['Diagnosis'] = \"Glioblastoma\"\n",
    "adataMGH124.obs['Grade'] = \"IV\"\n",
    "adataMGH124.obs['Location'] = \"Right_Frontal\"\n",
    "adataMGH124.obs['IDH1_Status'] = \"WT\"\n",
    "adataMGH124.obs['EGFR_Status'] = \"WT\"\n",
    "adataMGH124.obs['MET'] = \"WT\"\n",
    "adataMGH124.obs['MGMT'] = \"NM\"\n",
    "adataMGH124.obs['CellCount'] = \"2415\"\n",
    "adataMGH124.obs['Sample'] = \"Patient10\"\n",
    "adataMGH124.obs['Sex'] = \"F\"\n",
    "adataMGH124.obs['Age'] = \"68\"\n",
    "adataMGH124.obs['Sorted'] = \"CD45\""
   ]
  },
  {
   "cell_type": "code",
   "execution_count": 33,
   "id": "15ee1b9f",
   "metadata": {
    "ExecuteTime": {
     "end_time": "2022-06-08T13:02:30.323357Z",
     "start_time": "2022-06-08T13:02:30.316122Z"
    }
   },
   "outputs": [],
   "source": [
    "adataMGH125.obs['SampleID'] = \"MGH125\"\n",
    "adataMGH125.obs['GEO_RNA'] = \"NotAvailable\"\n",
    "adataMGH125.obs['Cohort'] = \"GSE131928\"\n",
    "adataMGH125.obs['Type'] = \"PrimaryTumor\"  \n",
    "adataMGH125.obs['Subtype'] = \"NotAvailable\"\n",
    "adataMGH125.obs['Diagnosis'] = \"Glioblastoma\"\n",
    "adataMGH125.obs['Grade'] = \"IV\"\n",
    "adataMGH125.obs['Location'] = \"Right_Frontatemporal\"\n",
    "adataMGH125.obs['IDH1_Status'] = \"WT\"\n",
    "adataMGH125.obs['EGFR_Status'] = \"WT\"\n",
    "adataMGH125.obs['MET'] = \"WT\"\n",
    "adataMGH125.obs['MGMT'] = \"NM\"\n",
    "adataMGH125.obs['CellCount'] = \"1613\"\n",
    "adataMGH125.obs['Sample'] = \"Patient11\"\n",
    "adataMGH125.obs['Sex'] = \"M\"\n",
    "adataMGH125.obs['Age'] = \"76\"\n",
    "adataMGH125.obs['Sorted'] = \"CD45\""
   ]
  },
  {
   "cell_type": "code",
   "execution_count": 34,
   "id": "853e8b97",
   "metadata": {
    "ExecuteTime": {
     "end_time": "2022-06-08T13:02:30.420309Z",
     "start_time": "2022-06-08T13:02:30.324482Z"
    }
   },
   "outputs": [],
   "source": [
    "adataMGH126.obs['SampleID'] = \"MGH126\"\n",
    "adataMGH126.obs['GEO_RNA'] = \"NotAvailable\"\n",
    "adataMGH126.obs['Cohort'] = \"GSE131928\"\n",
    "adataMGH126.obs['Type'] = \"PrimaryTumor\"  \n",
    "adataMGH126.obs['Subtype'] = \"NotAvailable\"\n",
    "adataMGH126.obs['Diagnosis'] = \"Glioblastoma\"\n",
    "adataMGH126.obs['Grade'] = \"IV\"\n",
    "adataMGH126.obs['Location'] = \"Right_Temporal\"\n",
    "adataMGH126.obs['IDH1_Status'] = \"WT\"\n",
    "adataMGH126.obs['EGFR_Status'] = \"WT\"\n",
    "adataMGH126.obs['MET'] = \"WT\"\n",
    "adataMGH126.obs['MGMT'] = \"Methylated\"\n",
    "adataMGH126.obs['CellCount'] = \"229\"\n",
    "adataMGH126.obs['Sample'] = \"Patient12\"\n",
    "adataMGH126.obs['Sex'] = \"M\"\n",
    "adataMGH126.obs['Age'] = \"65\"\n",
    "adataMGH126.obs['Sorted'] = \"CD45\""
   ]
  },
  {
   "cell_type": "markdown",
   "id": "e2d556c8",
   "metadata": {
    "ExecuteTime": {
     "end_time": "2022-05-11T10:31:10.487444Z",
     "start_time": "2022-05-11T10:31:10.479838Z"
    }
   },
   "source": [
    "adataMGH114.obs['SampleID'] = \"MGH114\"\n",
    "adataMGH114.obs['GEO_RNA'] = \"NotAvailable\"\n",
    "adataMGH114.obs['Cohort'] = \"GSE131928\"\n",
    "adataMGH114.obs['Type'] = \"PrimaryTumor\"  \n",
    "adataMGH114.obs['Subtype'] = \"NotAvailable\"\n",
    "adataMGH114.obs['Diagnosis'] = \"Glioblastoma\"\n",
    "adataMGH114.obs['Grade'] = \"NotAvailable\"\n",
    "adataMGH114.obs['Location'] = \"NotAvailable\"\n",
    "adataMGH114.obs['IDH1_Status'] = \"NotAvailable\"\n",
    "adataMGH114.obs['EGFR_Status'] = \"NotAvailable\"\n",
    "adataMGH114.obs['MET'] = \"NotAvailable\"\n",
    "adataMGH114.obs['MGMT'] = \"NotAvailable\"\n",
    "adataMGH114.obs['CellCount'] = \"473\"\n",
    "adataMGH114.obs['Sample'] = \"Patient13\"\n",
    "adataMGH114.obs['Sex'] = \"NotAvailable\"\n",
    "adataMGH114.obs['Age'] = \"NotAvailable\"\n",
    "adataMGH114.obs['Sorted'] = \"CD45\""
   ]
  },
  {
   "cell_type": "markdown",
   "id": "76e977c7",
   "metadata": {
    "ExecuteTime": {
     "end_time": "2022-05-11T10:31:10.496497Z",
     "start_time": "2022-05-11T10:31:10.488628Z"
    }
   },
   "source": [
    "adataMGH118.obs['SampleID'] = \"MGH118\"\n",
    "adataMGH118.obs['GEO_RNA'] = \"NotAvailable\"\n",
    "adataMGH118.obs['Cohort'] = \"GSE131928\"\n",
    "adataMGH118.obs['Type'] = \"PrimaryTumor\"  \n",
    "adataMGH118.obs['Subtype'] = \"NotAvailable\"\n",
    "adataMGH118.obs['Diagnosis'] = \"Glioblastoma\"\n",
    "adataMGH118.obs['Grade'] = \"NotAvailable\"\n",
    "adataMGH118.obs['Location'] = \"NotAvailable\"\n",
    "adataMGH118.obs['IDH1_Status'] = \"NotAvailable\"\n",
    "adataMGH118.obs['EGFR_Status'] = \"NotAvailable\"\n",
    "adataMGH118.obs['MET'] = \"NotAvailable\"\n",
    "adataMGH118.obs['MGMT'] = \"NotAvailable\"\n",
    "adataMGH118.obs['CellCount'] = \"539\"\n",
    "adataMGH118.obs['Sample'] = \"Patient14\"\n",
    "adataMGH118.obs['Sex'] = \"NotAvailable\"\n",
    "adataMGH118.obs['Age'] = \"NotAvailable\"\n",
    "adataMGH118.obs['Sorted'] = \"CD45\""
   ]
  },
  {
   "cell_type": "code",
   "execution_count": 35,
   "id": "011edd7a",
   "metadata": {
    "ExecuteTime": {
     "end_time": "2022-06-08T13:02:30.475635Z",
     "start_time": "2022-06-08T13:02:30.421776Z"
    }
   },
   "outputs": [],
   "source": [
    "adataMGH102.var_names_make_unique()\n",
    "adataMGH114.var_names_make_unique()\n",
    "adataMGH115.var_names_make_unique()\n",
    "adataMGH118.var_names_make_unique()\n",
    "adataMGH124.var_names_make_unique()\n",
    "adataMGH125.var_names_make_unique()\n",
    "adataMGH126.var_names_make_unique()"
   ]
  },
  {
   "cell_type": "code",
   "execution_count": 36,
   "id": "397a596b",
   "metadata": {
    "ExecuteTime": {
     "end_time": "2022-06-08T13:02:35.150594Z",
     "start_time": "2022-06-08T13:02:30.477362Z"
    }
   },
   "outputs": [],
   "source": [
    "adataMGH102.write(outpath+\"MGH102.h5ad\")\n",
    "adataMGH105.write(outpath+\"MGH105.h5ad\")\n",
    "#adataMGH114.write(outpath+\"MGH114.h5ad\")\n",
    "adataMGH115.write(outpath+\"MGH115.h5ad\")\n",
    "#adataMGH118.write(outpath+\"MGH118.h5ad\")\n",
    "adataMGH124.write(outpath+\"MGH124.h5ad\")\n",
    "adataMGH125.write(outpath+\"MGH125.h5ad\")\n",
    "adataMGH126.write(outpath+\"MGH126.h5ad\")"
   ]
  },
  {
   "cell_type": "code",
   "execution_count": null,
   "id": "bb8909c8",
   "metadata": {},
   "outputs": [],
   "source": []
  }
 ],
 "metadata": {
  "kernelspec": {
   "display_name": "Python [conda env:scanpy19]",
   "language": "python",
   "name": "conda-env-scanpy19-py"
  },
  "language_info": {
   "codemirror_mode": {
    "name": "ipython",
    "version": 3
   },
   "file_extension": ".py",
   "mimetype": "text/x-python",
   "name": "python",
   "nbconvert_exporter": "python",
   "pygments_lexer": "ipython3",
   "version": "3.10.4"
  },
  "toc": {
   "base_numbering": 1,
   "nav_menu": {},
   "number_sections": true,
   "sideBar": true,
   "skip_h1_title": false,
   "title_cell": "Table of Contents",
   "title_sidebar": "Contents",
   "toc_cell": false,
   "toc_position": {},
   "toc_section_display": true,
   "toc_window_display": false
  },
  "varInspector": {
   "cols": {
    "lenName": 16,
    "lenType": 16,
    "lenVar": 40
   },
   "kernels_config": {
    "python": {
     "delete_cmd_postfix": "",
     "delete_cmd_prefix": "del ",
     "library": "var_list.py",
     "varRefreshCmd": "print(var_dic_list())"
    },
    "r": {
     "delete_cmd_postfix": ") ",
     "delete_cmd_prefix": "rm(",
     "library": "var_list.r",
     "varRefreshCmd": "cat(var_dic_list()) "
    }
   },
   "types_to_exclude": [
    "module",
    "function",
    "builtin_function_or_method",
    "instance",
    "_Feature"
   ],
   "window_display": false
  }
 },
 "nbformat": 4,
 "nbformat_minor": 5
}
