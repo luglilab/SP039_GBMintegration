{
 "cells": [
  {
   "cell_type": "code",
   "execution_count": 1,
   "id": "98a10bb8",
   "metadata": {
    "ExecuteTime": {
     "end_time": "2022-06-08T14:08:41.561286Z",
     "start_time": "2022-06-08T14:08:39.979772Z"
    }
   },
   "outputs": [],
   "source": [
    "import scanpy as sc\n",
    "import pandas as pd"
   ]
  },
  {
   "cell_type": "code",
   "execution_count": 2,
   "id": "c8e59a42",
   "metadata": {
    "ExecuteTime": {
     "end_time": "2022-06-08T14:08:41.565946Z",
     "start_time": "2022-06-08T14:08:41.563278Z"
    }
   },
   "outputs": [],
   "source": [
    "from os import listdir\n",
    "from os.path import isfile, join"
   ]
  },
  {
   "cell_type": "code",
   "execution_count": 3,
   "id": "437cb648",
   "metadata": {
    "ExecuteTime": {
     "end_time": "2022-06-08T14:08:41.569918Z",
     "start_time": "2022-06-08T14:08:41.567305Z"
    }
   },
   "outputs": [],
   "source": [
    "outpath = \"/home/lugli/spuccio/Projects/SP039/FileH5AD_input/\"\n",
    "outputPath = \"/home/lugli/spuccio/Projects/SP039/FileH5AD_input/\""
   ]
  },
  {
   "cell_type": "code",
   "execution_count": 4,
   "id": "5aae42f4",
   "metadata": {
    "ExecuteTime": {
     "end_time": "2022-06-08T14:08:41.576349Z",
     "start_time": "2022-06-08T14:08:41.571687Z"
    }
   },
   "outputs": [],
   "source": [
    "def h5ad_create(folderID,outputPath):\n",
    "    folderPath = \"/home/lugli/spuccio/Projects/SP035_TregIntegration/Joice_Lung_Melanoma/\"\n",
    "    tmp1 = \"adata\"+folderID\n",
    "    tmp1 = sc.read(folderPath+folderID+\"/filtered_feature_bc_matrix/matrix.mtx.gz\")\n",
    "    tmp1 = tmp1.transpose()\n",
    "    genes = pd.read_csv(folderPath+ folderID + \"/filtered_feature_bc_matrix/features.tsv.gz\",header=None,sep=\"\\t\")\n",
    "    barcodes = pd.read_csv(folderPath+ folderID +\"/filtered_feature_bc_matrix/barcodes.tsv.gz\",header=None,sep=\"\\t\")\n",
    "    genes = genes[[0,1]]\n",
    "    genes =genes.rename({0: 'ENSGeneID', 1: 'GeneSymbol'}, axis=1)\n",
    "    tmp1.var = genes\n",
    "    tmp1.var.index = genes['GeneSymbol']\n",
    "    del tmp1.var['GeneSymbol']\n",
    "    barcodes =barcodes.rename({0: 'barcode'}, axis=1)\n",
    "    tmp1.obs = barcodes\n",
    "    tmp1.obs.index = barcodes['barcode']\n",
    "    del tmp1.obs['barcode']\n",
    "    tmp1.var_names_make_unique()\n",
    "    print(tmp1)\n",
    "    tmp1.write_h5ad(outputPath+folderID+'.h5ad')"
   ]
  },
  {
   "cell_type": "code",
   "execution_count": 5,
   "id": "26f5c09e",
   "metadata": {
    "ExecuteTime": {
     "end_time": "2022-06-08T14:08:41.600873Z",
     "start_time": "2022-06-08T14:08:41.577638Z"
    }
   },
   "outputs": [],
   "source": [
    "onlydir = [f for f in listdir(\"/home/lugli/spuccio/Projects/SP035_TregIntegration/Joice_Lung_Melanoma\") if not isfile(join(\"/home/lugli/spuccio/Projects/SP035_TregIntegration/Joice_Lung_Melanoma\", f))]"
   ]
  },
  {
   "cell_type": "code",
   "execution_count": 6,
   "id": "acf18f32",
   "metadata": {
    "ExecuteTime": {
     "end_time": "2022-06-08T14:11:16.739152Z",
     "start_time": "2022-06-08T14:08:41.602613Z"
    }
   },
   "outputs": [
    {
     "name": "stdout",
     "output_type": "stream",
     "text": [
      "KSO07_GBM157-GEX\n",
      "AnnData object with n_obs × n_vars = 521 × 36601\n",
      "    var: 'ENSGeneID'\n",
      "KSO07_GBM149-PBMCs-GEX\n",
      "AnnData object with n_obs × n_vars = 7010 × 36601\n",
      "    var: 'ENSGeneID'\n",
      "KSO07_BRM141-PBMCs-GEX\n",
      "AnnData object with n_obs × n_vars = 9021 × 36601\n",
      "    var: 'ENSGeneID'\n",
      "KSO07_BRM112-PBMCs-GEX\n",
      "AnnData object with n_obs × n_vars = 2951 × 36601\n",
      "    var: 'ENSGeneID'\n",
      "KSO07_GBM157-PBMCs-GEX\n",
      "AnnData object with n_obs × n_vars = 3227 × 36601\n",
      "    var: 'ENSGeneID'\n",
      "KSO07_BRM125-PBMCs-GEX\n",
      "AnnData object with n_obs × n_vars = 5235 × 36601\n",
      "    var: 'ENSGeneID'\n",
      "KSO07_GBM136-PBMCs-GEX\n",
      "AnnData object with n_obs × n_vars = 6751 × 36601\n",
      "    var: 'ENSGeneID'\n",
      "KSO07_BRM139-PBMCs-GEX\n",
      "AnnData object with n_obs × n_vars = 7188 × 36601\n",
      "    var: 'ENSGeneID'\n",
      "KSO07_GBM149-GEX\n",
      "AnnData object with n_obs × n_vars = 2725 × 36601\n",
      "    var: 'ENSGeneID'\n",
      "KSO07_BRM112-GEX\n",
      "AnnData object with n_obs × n_vars = 6240 × 36601\n",
      "    var: 'ENSGeneID'\n",
      "KSO07_BRM143-PBMCs-GEX\n",
      "AnnData object with n_obs × n_vars = 4603 × 36601\n",
      "    var: 'ENSGeneID'\n",
      "KSO07_BRM143-GEX\n",
      "AnnData object with n_obs × n_vars = 2953 × 36601\n",
      "    var: 'ENSGeneID'\n",
      "KSO07_GBM136-GEX\n",
      "AnnData object with n_obs × n_vars = 918 × 36601\n",
      "    var: 'ENSGeneID'\n",
      "KSO07_BRM125-GEX\n",
      "AnnData object with n_obs × n_vars = 4741 × 36601\n",
      "    var: 'ENSGeneID'\n",
      "KSO07_BRM141-GEX\n",
      "AnnData object with n_obs × n_vars = 9982 × 36601\n",
      "    var: 'ENSGeneID'\n",
      "KSO07_BRM139-GEX\n",
      "AnnData object with n_obs × n_vars = 607 × 36601\n",
      "    var: 'ENSGeneID'\n",
      "KSO07_BrM138-GEX\n",
      "AnnData object with n_obs × n_vars = 4436 × 36601\n",
      "    var: 'ENSGeneID'\n",
      "KSO07_BrM138-PBMCs-GEX\n",
      "AnnData object with n_obs × n_vars = 3516 × 36601\n",
      "    var: 'ENSGeneID'\n"
     ]
    }
   ],
   "source": [
    "for _ in range(len(onlydir)):\n",
    "    print(onlydir[_])\n",
    "    h5ad_create(onlydir[_],outputPath)"
   ]
  },
  {
   "cell_type": "code",
   "execution_count": 7,
   "id": "46856ebd",
   "metadata": {
    "ExecuteTime": {
     "end_time": "2022-06-08T14:11:23.433382Z",
     "start_time": "2022-06-08T14:11:16.742606Z"
    }
   },
   "outputs": [],
   "source": [
    "KSO07_BRM112_GEX = sc.read(\"/home/lugli/spuccio/Projects/SP035_TregIntegration/utility/data/H5ad_files/KSO07_BRM112-GEX.h5ad\")\n",
    "KSO07_BRM112_PBMCs_GEX = sc.read(\"/home/lugli/spuccio/Projects/SP035_TregIntegration/utility/data/H5ad_files/KSO07_BRM112-PBMCs-GEX.h5ad\")\n",
    "KSO07_BRM125_GEX = sc.read(\"/home/lugli/spuccio/Projects/SP035_TregIntegration/utility/data/H5ad_files/KSO07_BRM125-GEX.h5ad\")\n",
    "KSO07_BRM125_PBMCs_GEX = sc.read(\"/home/lugli/spuccio/Projects/SP035_TregIntegration/utility/data/H5ad_files/KSO07_BRM125-PBMCs-GEX.h5ad\")\n",
    "KSO07_BrM138_GEX = sc.read(\"/home/lugli/spuccio/Projects/SP035_TregIntegration/utility/data/H5ad_files/KSO07_BRM139-GEX.h5ad\")\n",
    "KSO07_BrM138_PBMCs_GEX = sc.read(\"/home/lugli/spuccio/Projects/SP035_TregIntegration/utility/data/H5ad_files/KSO07_BRM139-PBMCs-GEX.h5ad\")\n",
    "KSO07_BRM139_GEX = sc.read(\"/home/lugli/spuccio/Projects/SP035_TregIntegration/utility/data/H5ad_files/KSO07_BRM141-GEX.h5ad\")\n",
    "KSO07_BRM139_PBMCs_GEX = sc.read(\"/home/lugli/spuccio/Projects/SP035_TregIntegration/utility/data/H5ad_files/KSO07_BRM141-PBMCs-GEX.h5ad\")\n",
    "KSO07_BRM141_GEX = sc.read(\"/home/lugli/spuccio/Projects/SP035_TregIntegration/utility/data/H5ad_files/KSO07_BRM143-GEX.h5ad\")\n",
    "KSO07_BRM141_PBMCs_GEX = sc.read(\"/home/lugli/spuccio/Projects/SP035_TregIntegration/utility/data/H5ad_files/KSO07_BRM143-PBMCs-GEX.h5ad\")\n",
    "KSO07_BRM143_GEX = sc.read(\"/home/lugli/spuccio/Projects/SP035_TregIntegration/utility/data/H5ad_files/KSO07_BrM138-GEX.h5ad\")\n",
    "KSO07_BRM143_PBMCs_GEX = sc.read(\"/home/lugli/spuccio/Projects/SP035_TregIntegration/utility/data/H5ad_files/KSO07_BrM138-PBMCs-GEX.h5ad\")\n",
    "KSO07_GBM136_GEX = sc.read(\"/home/lugli/spuccio/Projects/SP035_TregIntegration/utility/data/H5ad_files/KSO07_GBM136-GEX.h5ad\")\n",
    "KSO07_GBM136_PBMCs_GEX = sc.read(\"/home/lugli/spuccio/Projects/SP035_TregIntegration/utility/data/H5ad_files/KSO07_GBM136-PBMCs-GEX.h5ad\")\n",
    "KSO07_GBM149_GEX = sc.read(\"/home/lugli/spuccio/Projects/SP035_TregIntegration/utility/data/H5ad_files/KSO07_GBM149-GEX.h5ad\")\n",
    "KSO07_GBM149_PBMCs_GEX = sc.read(\"/home/lugli/spuccio/Projects/SP035_TregIntegration/utility/data/H5ad_files/KSO07_GBM149-PBMCs-GEX.h5ad\")\n",
    "KSO07_GBM157_GEX = sc.read(\"/home/lugli/spuccio/Projects/SP035_TregIntegration/utility/data/H5ad_files/KSO07_GBM157-GEX.h5ad\")\n",
    "KSO07_GBM157_PBMCs_GEX = sc.read(\"/home/lugli/spuccio/Projects/SP035_TregIntegration/utility/data/H5ad_files/KSO07_GBM157-PBMCs-GEX.h5ad\")"
   ]
  },
  {
   "cell_type": "code",
   "execution_count": 8,
   "id": "3f24702a",
   "metadata": {
    "ExecuteTime": {
     "end_time": "2022-06-08T14:11:23.455640Z",
     "start_time": "2022-06-08T14:11:23.435559Z"
    }
   },
   "outputs": [],
   "source": [
    "del KSO07_BRM112_GEX.obs\n",
    "del KSO07_BRM112_PBMCs_GEX.obs\n",
    "del KSO07_BRM125_GEX.obs\n",
    "del KSO07_BRM125_PBMCs_GEX.obs\n",
    "del KSO07_BrM138_GEX.obs\n",
    "del KSO07_BrM138_PBMCs_GEX.obs\n",
    "del KSO07_BRM139_GEX.obs\n",
    "del KSO07_BRM139_PBMCs_GEX.obs\n",
    "del KSO07_BRM141_GEX.obs\n",
    "del KSO07_BRM141_PBMCs_GEX.obs\n",
    "del KSO07_BRM143_GEX.obs\n",
    "del KSO07_BRM143_PBMCs_GEX.obs\n",
    "del KSO07_GBM136_GEX.obs\n",
    "del KSO07_GBM136_PBMCs_GEX.obs\n",
    "del KSO07_GBM149_GEX.obs\n",
    "del KSO07_GBM149_PBMCs_GEX.obs\n",
    "del KSO07_GBM157_GEX.obs\n",
    "del KSO07_GBM157_PBMCs_GEX.obs"
   ]
  },
  {
   "cell_type": "code",
   "execution_count": 9,
   "id": "b46e7ba0",
   "metadata": {
    "ExecuteTime": {
     "end_time": "2022-06-08T14:11:23.463483Z",
     "start_time": "2022-06-08T14:11:23.457700Z"
    }
   },
   "outputs": [],
   "source": [
    "KSO07_BRM112_GEX.obs['SampleID'] = \"KSO07_BRM112_GEX\"\n",
    "KSO07_BRM112_GEX.obs['Type'] = \"Metastasis\"  \n",
    "KSO07_BRM112_GEX.obs['Diagnosis'] = \"Lung\"\n",
    "KSO07_BRM112_GEX.obs['Sample'] = \"Patient47\"\n",
    "KSO07_BRM112_GEX.obs['Sorted'] = \"CD3\""
   ]
  },
  {
   "cell_type": "code",
   "execution_count": 10,
   "id": "f222c1a1",
   "metadata": {
    "ExecuteTime": {
     "end_time": "2022-06-08T14:11:23.477773Z",
     "start_time": "2022-06-08T14:11:23.466521Z"
    }
   },
   "outputs": [],
   "source": [
    "KSO07_BRM112_PBMCs_GEX.obs['SampleID'] = \"KSO07_BRM112_PBMCs_GEX\"\n",
    "KSO07_BRM112_PBMCs_GEX.obs['Type'] = \"Blood\"  \n",
    "KSO07_BRM112_PBMCs_GEX.obs['Diagnosis'] = \"Lung\"\n",
    "KSO07_BRM112_PBMCs_GEX.obs['Sample'] = \"Patient47\"\n",
    "KSO07_BRM112_PBMCs_GEX.obs['Sorted'] = \"CD3\""
   ]
  },
  {
   "cell_type": "code",
   "execution_count": 11,
   "id": "5c985d17",
   "metadata": {
    "ExecuteTime": {
     "end_time": "2022-06-08T14:11:23.494707Z",
     "start_time": "2022-06-08T14:11:23.479397Z"
    }
   },
   "outputs": [],
   "source": [
    "KSO07_BRM125_GEX.obs['SampleID'] = \"KSO07_BRM125_GEX\"\n",
    "KSO07_BRM125_GEX.obs['Type'] = \"Metastasis\"  \n",
    "KSO07_BRM125_GEX.obs['Diagnosis'] = \"Lung\"\n",
    "KSO07_BRM125_GEX.obs['Sample'] = \"Patient48\"\n",
    "KSO07_BRM125_GEX.obs['Sorted'] = \"CD3\""
   ]
  },
  {
   "cell_type": "code",
   "execution_count": 12,
   "id": "f4898489",
   "metadata": {
    "ExecuteTime": {
     "end_time": "2022-06-08T14:11:23.507622Z",
     "start_time": "2022-06-08T14:11:23.497109Z"
    }
   },
   "outputs": [],
   "source": [
    "KSO07_BRM125_PBMCs_GEX.obs['SampleID'] = \"KSO07_BRM125_PBMCs_GEX\"\n",
    "KSO07_BRM125_PBMCs_GEX.obs['Type'] = \"Blood\"  \n",
    "KSO07_BRM125_PBMCs_GEX.obs['Diagnosis'] = \"Lung\"\n",
    "KSO07_BRM125_PBMCs_GEX.obs['Sample'] = \"Patient48\"\n",
    "KSO07_BRM125_PBMCs_GEX.obs['Sorted'] = \"CD3\""
   ]
  },
  {
   "cell_type": "code",
   "execution_count": 13,
   "id": "2e21c8e4",
   "metadata": {
    "ExecuteTime": {
     "end_time": "2022-06-08T14:11:23.514933Z",
     "start_time": "2022-06-08T14:11:23.509610Z"
    }
   },
   "outputs": [],
   "source": [
    "KSO07_BrM138_GEX.obs['SampleID'] = \"KSO07_BrM138_GEX\"\n",
    "KSO07_BrM138_GEX.obs['Type'] = \"Metastasis\"  \n",
    "KSO07_BrM138_GEX.obs['Diagnosis'] = \"Lung\"\n",
    "KSO07_BrM138_GEX.obs['Sample'] = \"Patient49\"\n",
    "KSO07_BrM138_GEX.obs['Sorted'] = \"CD3\""
   ]
  },
  {
   "cell_type": "code",
   "execution_count": 14,
   "id": "c99f2b0c",
   "metadata": {
    "ExecuteTime": {
     "end_time": "2022-06-08T14:11:23.524093Z",
     "start_time": "2022-06-08T14:11:23.516911Z"
    }
   },
   "outputs": [],
   "source": [
    "KSO07_BrM138_PBMCs_GEX.obs['SampleID'] = \"KSO07_BrM138_PBMCs_GEX\"\n",
    "KSO07_BrM138_PBMCs_GEX.obs['Type'] = \"Blood\"  \n",
    "KSO07_BrM138_PBMCs_GEX.obs['Diagnosis'] = \"Lung\"\n",
    "KSO07_BrM138_PBMCs_GEX.obs['Sample'] = \"Patient49\"\n",
    "KSO07_BrM138_PBMCs_GEX.obs['Sorted'] = \"CD3\""
   ]
  },
  {
   "cell_type": "code",
   "execution_count": 15,
   "id": "b281e260",
   "metadata": {
    "ExecuteTime": {
     "end_time": "2022-06-08T14:11:23.531400Z",
     "start_time": "2022-06-08T14:11:23.525811Z"
    }
   },
   "outputs": [],
   "source": [
    "KSO07_BRM139_GEX.obs['SampleID'] = \"KSO07_BRM139_GEX\"\n",
    "KSO07_BRM139_GEX.obs['Type'] = \"Metastasis\"  \n",
    "KSO07_BRM139_GEX.obs['Diagnosis'] = \"Lung\"\n",
    "KSO07_BRM139_GEX.obs['Sample'] = \"Patient50\"\n",
    "KSO07_BRM139_GEX.obs['Sorted'] = \"CD3\""
   ]
  },
  {
   "cell_type": "code",
   "execution_count": 16,
   "id": "15419382",
   "metadata": {
    "ExecuteTime": {
     "end_time": "2022-06-08T14:11:23.543871Z",
     "start_time": "2022-06-08T14:11:23.533346Z"
    }
   },
   "outputs": [],
   "source": [
    "KSO07_BRM139_PBMCs_GEX.obs['SampleID'] = \"KSO07_BRM139_PBMCs_GEX\"\n",
    "KSO07_BRM139_PBMCs_GEX.obs['Type'] = \"Blood\"  \n",
    "KSO07_BRM139_PBMCs_GEX.obs['Diagnosis'] = \"Lung\"\n",
    "KSO07_BRM139_PBMCs_GEX.obs['Sample'] = \"Patient50\"\n",
    "KSO07_BRM139_PBMCs_GEX.obs['Sorted'] = \"CD3\""
   ]
  },
  {
   "cell_type": "code",
   "execution_count": 17,
   "id": "69c66b44",
   "metadata": {
    "ExecuteTime": {
     "end_time": "2022-06-08T14:11:23.550908Z",
     "start_time": "2022-06-08T14:11:23.545568Z"
    }
   },
   "outputs": [],
   "source": [
    "KSO07_BRM141_GEX.obs['SampleID'] = \"KSO07_BRM141_GEX\"\n",
    "KSO07_BRM141_GEX.obs['Type'] = \"Metastasis\"  \n",
    "KSO07_BRM141_GEX.obs['Diagnosis'] = \"Lung\"\n",
    "KSO07_BRM141_GEX.obs['Sample'] = \"Patient51\"\n",
    "KSO07_BRM141_GEX.obs['Sorted'] = \"CD3\""
   ]
  },
  {
   "cell_type": "code",
   "execution_count": 18,
   "id": "f9f227a2",
   "metadata": {
    "ExecuteTime": {
     "end_time": "2022-06-08T14:11:23.558478Z",
     "start_time": "2022-06-08T14:11:23.552882Z"
    }
   },
   "outputs": [],
   "source": [
    "KSO07_BRM141_PBMCs_GEX.obs['SampleID'] = \"KSO07_BRM141_PBMCs_GEX\"\n",
    "KSO07_BRM141_PBMCs_GEX.obs['Type'] = \"BLOOD\"  \n",
    "KSO07_BRM141_PBMCs_GEX.obs['Diagnosis'] = \"Lung\"\n",
    "KSO07_BRM141_PBMCs_GEX.obs['Sample'] = \"Patient51\"\n",
    "KSO07_BRM141_PBMCs_GEX.obs['Sorted'] = \"CD3\""
   ]
  },
  {
   "cell_type": "code",
   "execution_count": 19,
   "id": "86b38e86",
   "metadata": {
    "ExecuteTime": {
     "end_time": "2022-06-08T14:11:23.570228Z",
     "start_time": "2022-06-08T14:11:23.560181Z"
    }
   },
   "outputs": [],
   "source": [
    "KSO07_BRM143_GEX.obs['SampleID'] = \"KSO07_BRM143_GEX\"\n",
    "KSO07_BRM143_GEX.obs['Type'] = \"Metastasis\"  \n",
    "KSO07_BRM143_GEX.obs['Diagnosis'] = \"Melanoma\"\n",
    "KSO07_BRM143_GEX.obs['Sample'] = \"Patient52\"\n",
    "KSO07_BRM143_GEX.obs['Sorted'] = \"CD3\""
   ]
  },
  {
   "cell_type": "code",
   "execution_count": 20,
   "id": "364384e1",
   "metadata": {
    "ExecuteTime": {
     "end_time": "2022-06-08T14:11:23.577827Z",
     "start_time": "2022-06-08T14:11:23.572365Z"
    }
   },
   "outputs": [],
   "source": [
    "KSO07_BRM143_PBMCs_GEX.obs['SampleID'] = \"KSO07_BRM143_PBMCs_GEX\"\n",
    "KSO07_BRM143_PBMCs_GEX.obs['Type'] = \"Blood\"  \n",
    "KSO07_BRM143_PBMCs_GEX.obs['Diagnosis'] = \"Melanoma\"\n",
    "KSO07_BRM143_PBMCs_GEX.obs['Sample'] = \"Patient52\"\n",
    "KSO07_BRM143_PBMCs_GEX.obs['Sorted'] = \"CD3\""
   ]
  },
  {
   "cell_type": "code",
   "execution_count": 21,
   "id": "552ccdc1",
   "metadata": {
    "ExecuteTime": {
     "end_time": "2022-06-08T14:11:23.587784Z",
     "start_time": "2022-06-08T14:11:23.579835Z"
    }
   },
   "outputs": [],
   "source": [
    "KSO07_GBM136_GEX.obs['SampleID'] = \"KSO07_GBM136_GEX\"\n",
    "KSO07_GBM136_GEX.obs['Type'] = \"PrimaryTumor\"  \n",
    "KSO07_GBM136_GEX.obs['Diagnosis'] = \"Melanoma\"\n",
    "KSO07_GBM136_GEX.obs['Sample'] = \"Patient53\"\n",
    "KSO07_GBM136_GEX.obs['Sorted'] = \"CD3\""
   ]
  },
  {
   "cell_type": "code",
   "execution_count": 22,
   "id": "54565eb4",
   "metadata": {
    "ExecuteTime": {
     "end_time": "2022-06-08T14:11:23.597417Z",
     "start_time": "2022-06-08T14:11:23.589559Z"
    }
   },
   "outputs": [],
   "source": [
    "KSO07_GBM136_PBMCs_GEX.obs['SampleID'] = \"KSO07_GBM136_PBMCs_GEX\"\n",
    "KSO07_GBM136_PBMCs_GEX.obs['Type'] = \"Blood\"  \n",
    "KSO07_GBM136_PBMCs_GEX.obs['Diagnosis'] = \"Melanoma\"\n",
    "KSO07_GBM136_PBMCs_GEX.obs['Sample'] = \"Patient53\"\n",
    "KSO07_GBM136_PBMCs_GEX.obs['Sorted'] = \"CD3\""
   ]
  },
  {
   "cell_type": "code",
   "execution_count": 23,
   "id": "ba94c5f1",
   "metadata": {
    "ExecuteTime": {
     "end_time": "2022-06-08T14:11:23.604327Z",
     "start_time": "2022-06-08T14:11:23.599454Z"
    }
   },
   "outputs": [],
   "source": [
    "KSO07_GBM149_GEX.obs['SampleID'] = \"KSO07_GBM149_GEX\"\n",
    "KSO07_GBM149_GEX.obs['Type'] = \"PrimaryTumor\"  \n",
    "KSO07_GBM149_GEX.obs['Diagnosis'] = \"Melanoma\"\n",
    "KSO07_GBM149_GEX.obs['Sample'] = \"Patient54\"\n",
    "KSO07_GBM149_GEX.obs['Sorted'] = \"CD3\""
   ]
  },
  {
   "cell_type": "code",
   "execution_count": 24,
   "id": "9b65f901",
   "metadata": {
    "ExecuteTime": {
     "end_time": "2022-06-08T14:11:23.611958Z",
     "start_time": "2022-06-08T14:11:23.606376Z"
    }
   },
   "outputs": [],
   "source": [
    "KSO07_GBM149_PBMCs_GEX.obs['SampleID'] = \"KSO07_GBM149_PBMCs_GEX\"\n",
    "KSO07_GBM149_PBMCs_GEX.obs['Type'] = \"Blood\"  \n",
    "KSO07_GBM149_PBMCs_GEX.obs['Diagnosis'] = \"Melanoma\"\n",
    "KSO07_GBM149_PBMCs_GEX.obs['Sample'] = \"Patient54\"\n",
    "KSO07_GBM149_PBMCs_GEX.obs['Sorted'] = \"CD3\""
   ]
  },
  {
   "cell_type": "code",
   "execution_count": 25,
   "id": "33f73874",
   "metadata": {
    "ExecuteTime": {
     "end_time": "2022-06-08T14:11:23.618984Z",
     "start_time": "2022-06-08T14:11:23.613940Z"
    }
   },
   "outputs": [],
   "source": [
    "KSO07_GBM157_GEX.obs['SampleID'] = \"KSO07_GBM157_GEX\"\n",
    "KSO07_GBM157_GEX.obs['Type'] = \"PrimaryTumor\"  \n",
    "KSO07_GBM157_GEX.obs['Diagnosis'] = \"Glioblastoma\"\n",
    "KSO07_GBM157_GEX.obs['Sample'] = \"Patient55\"\n",
    "KSO07_GBM157_GEX.obs['Sorted'] = \"CD3\""
   ]
  },
  {
   "cell_type": "code",
   "execution_count": 26,
   "id": "3b143496",
   "metadata": {
    "ExecuteTime": {
     "end_time": "2022-06-08T14:11:23.626263Z",
     "start_time": "2022-06-08T14:11:23.620825Z"
    }
   },
   "outputs": [],
   "source": [
    "KSO07_GBM157_PBMCs_GEX.obs['SampleID'] = \"KSO07_GBM157_PBMCs_GEX\"\n",
    "KSO07_GBM157_PBMCs_GEX.obs['Type'] = \"Blood\"  \n",
    "KSO07_GBM157_PBMCs_GEX.obs['Diagnosis'] = \"Glioblastoma\"\n",
    "KSO07_GBM157_PBMCs_GEX.obs['Sample'] = \"Patient55\"\n",
    "KSO07_GBM157_PBMCs_GEX.obs['Sorted'] = \"CD3\""
   ]
  },
  {
   "cell_type": "code",
   "execution_count": 27,
   "id": "49e75447",
   "metadata": {
    "ExecuteTime": {
     "end_time": "2022-06-08T14:11:23.652367Z",
     "start_time": "2022-06-08T14:11:23.628128Z"
    }
   },
   "outputs": [
    {
     "name": "stdout",
     "output_type": "stream",
     "text": [
      "KSO07_BRM112_GEX\t KSO07_BRM112_PBMCs_GEX\t KSO07_BRM125_GEX\t KSO07_BRM125_PBMCs_GEX\t KSO07_BRM139_GEX\t KSO07_BRM139_PBMCs_GEX\t KSO07_BRM141_GEX\t KSO07_BRM141_PBMCs_GEX\t KSO07_BRM143_GEX\t \n",
      "KSO07_BRM143_PBMCs_GEX\t KSO07_BrM138_GEX\t KSO07_BrM138_PBMCs_GEX\t KSO07_GBM136_GEX\t KSO07_GBM136_PBMCs_GEX\t KSO07_GBM149_GEX\t KSO07_GBM149_PBMCs_GEX\t KSO07_GBM157_GEX\t KSO07_GBM157_PBMCs_GEX\t \n",
      "NamespaceMagics\t get_ipython\t getsizeof\t h5ad_create\t isfile\t join\t json\t listdir\t np\t \n",
      "onlydir\t outpath\t outputPath\t pd\t sc\t var_dic_list\t \n"
     ]
    }
   ],
   "source": [
    "%who"
   ]
  },
  {
   "cell_type": "code",
   "execution_count": 28,
   "id": "4ca98582",
   "metadata": {
    "ExecuteTime": {
     "end_time": "2022-06-08T14:11:23.679252Z",
     "start_time": "2022-06-08T14:11:23.657062Z"
    }
   },
   "outputs": [],
   "source": [
    "KSO07_BRM112_GEX.obs = KSO07_BRM112_GEX.obs.reset_index(drop=True)\n",
    "KSO07_BRM112_PBMCs_GEX.obs = KSO07_BRM112_PBMCs_GEX.obs.reset_index(drop=True)\n",
    "KSO07_BRM125_GEX.obs = KSO07_BRM125_GEX.obs.reset_index(drop=True)\n",
    "KSO07_BRM125_PBMCs_GEX.obs = KSO07_BRM125_PBMCs_GEX.obs.reset_index(drop=True)\n",
    "KSO07_BRM139_GEX.obs = KSO07_BRM139_GEX.obs.reset_index(drop=True)\n",
    "KSO07_BRM139_PBMCs_GEX.obs = KSO07_BRM139_PBMCs_GEX.obs.reset_index(drop=True)\n",
    "KSO07_BRM141_GEX.obs = KSO07_BRM141_GEX.obs.reset_index(drop=True)\n",
    "KSO07_BRM141_PBMCs_GEX.obs = KSO07_BRM141_PBMCs_GEX.obs.reset_index(drop=True)\n",
    "KSO07_BRM143_GEX.obs = KSO07_BRM143_GEX.obs.reset_index(drop=True)\n",
    "KSO07_BRM143_PBMCs_GEX.obs = KSO07_BRM143_PBMCs_GEX.obs.reset_index(drop=True)\n",
    "KSO07_BrM138_GEX.obs = KSO07_BrM138_GEX.obs.reset_index(drop=True)\n",
    "KSO07_BrM138_PBMCs_GEX.obs = KSO07_BrM138_PBMCs_GEX.obs.reset_index(drop=True)\n",
    "KSO07_GBM136_GEX.obs = KSO07_GBM136_GEX.obs.reset_index(drop=True)\n",
    "KSO07_BrM138_PBMCs_GEX.obs = KSO07_BrM138_PBMCs_GEX.obs.reset_index(drop=True)\n",
    "KSO07_GBM136_GEX.obs = KSO07_GBM136_GEX.obs.reset_index(drop=True)\n",
    "KSO07_GBM136_PBMCs_GEX.obs = KSO07_GBM136_PBMCs_GEX.obs.reset_index(drop=True)\n",
    "KSO07_GBM149_GEX.obs = KSO07_GBM149_GEX.obs.reset_index(drop=True)\n",
    "KSO07_GBM149_PBMCs_GEX.obs = KSO07_GBM149_PBMCs_GEX.obs.reset_index(drop=True)\n",
    "KSO07_GBM157_GEX.obs = KSO07_GBM157_GEX.obs.reset_index(drop=True)\n",
    "KSO07_GBM157_PBMCs_GEX.obs = KSO07_GBM157_PBMCs_GEX.obs.reset_index(drop=True)"
   ]
  },
  {
   "cell_type": "code",
   "execution_count": 29,
   "id": "86c56dde",
   "metadata": {
    "ExecuteTime": {
     "end_time": "2022-06-08T14:11:23.786082Z",
     "start_time": "2022-06-08T14:11:23.681013Z"
    }
   },
   "outputs": [],
   "source": [
    "KSO07_BRM112_GEX.obs.set_index(\"KSO07_BRM112_GEX-\" + KSO07_BRM112_GEX.obs.index.astype(str),inplace=True)\n",
    "KSO07_BRM112_PBMCs_GEX.obs.set_index(\"KSO07_BRM112_PBMCs_GEX-\" + KSO07_BRM112_PBMCs_GEX.obs.index.astype(str),inplace=True)\n",
    "KSO07_BRM125_GEX.obs.set_index(\"KSO07_BRM125_GEX-\" + KSO07_BRM125_GEX.obs.index.astype(str),inplace=True)\n",
    "KSO07_BRM125_PBMCs_GEX.obs.set_index(\"KSO07_BRM125_PBMCs_GEX-\" + KSO07_BRM125_PBMCs_GEX.obs.index.astype(str),inplace=True)\n",
    "KSO07_BRM139_GEX.obs.set_index(\"KSO07_BRM139_GEX-\" + KSO07_BRM139_GEX.obs.index.astype(str),inplace=True)\n",
    "KSO07_BRM139_PBMCs_GEX.obs.set_index(\"KSO07_BRM139_PBMCs_GEX-\" + KSO07_BRM139_PBMCs_GEX.obs.index.astype(str),inplace=True)\n",
    "KSO07_BRM141_GEX.obs.set_index(\"KSO07_BRM141_GEX-\" + KSO07_BRM141_GEX.obs.index.astype(str),inplace=True)\n",
    "KSO07_BRM141_PBMCs_GEX.obs.set_index(\"KSO07_BRM141_PBMCs_GEX-\" + KSO07_BRM141_PBMCs_GEX.obs.index.astype(str),inplace=True)\n",
    "KSO07_BRM143_GEX.obs.set_index(\"KSO07_BRM143_GEX-\" + KSO07_BRM143_GEX.obs.index.astype(str),inplace=True)\n",
    "KSO07_BRM143_PBMCs_GEX.obs.set_index(\"KSO07_BRM143_PBMCs_GEX-\" + KSO07_BRM143_PBMCs_GEX.obs.index.astype(str),inplace=True)\n",
    "KSO07_BrM138_GEX.obs.set_index(\"KSO07_BrM138_GEX-\" + KSO07_BrM138_GEX.obs.index.astype(str),inplace=True)\n",
    "KSO07_BrM138_PBMCs_GEX.obs.set_index(\"KSO07_BrM138_PBMCs_GEX-\" + KSO07_BrM138_PBMCs_GEX.obs.index.astype(str),inplace=True)\n",
    "KSO07_GBM136_GEX.obs.set_index(\"KSO07_GBM136_GEX-\" + KSO07_GBM136_GEX.obs.index.astype(str),inplace=True)\n",
    "KSO07_BrM138_PBMCs_GEX.obs.set_index(\"KSO07_BrM138_PBMCs_GEX-\" + KSO07_BrM138_PBMCs_GEX.obs.index.astype(str),inplace=True)\n",
    "KSO07_GBM136_GEX.obs.set_index(\"KSO07_GBM136_GEX-\" + KSO07_GBM136_GEX.obs.index.astype(str),inplace=True)\n",
    "KSO07_GBM136_PBMCs_GEX.obs.set_index(\"KSO07_GBM136_PBMCs_GEX-\" + KSO07_GBM136_PBMCs_GEX.obs.index.astype(str),inplace=True)\n",
    "KSO07_GBM149_GEX.obs.set_index(\"KSO07_GBM149_GEX-\" + KSO07_GBM149_GEX.obs.index.astype(str),inplace=True)\n",
    "KSO07_GBM149_PBMCs_GEX.obs.set_index(\"KSO07_GBM149_PBMCs_GEX-\" + KSO07_GBM149_PBMCs_GEX.obs.index.astype(str),inplace=True)\n",
    "KSO07_GBM157_GEX.obs.set_index(\"KSO07_GBM157_GEX-\" + KSO07_GBM157_GEX.obs.index.astype(str),inplace=True)\n",
    "KSO07_GBM157_PBMCs_GEX.obs.set_index(\"KSO07_GBM157_PBMCs_GEX-\" + KSO07_GBM157_PBMCs_GEX.obs.index.astype(str),inplace=True)"
   ]
  },
  {
   "cell_type": "code",
   "execution_count": 30,
   "id": "fc7e2c4e",
   "metadata": {
    "ExecuteTime": {
     "end_time": "2022-06-08T14:11:23.804117Z",
     "start_time": "2022-06-08T14:11:23.787987Z"
    }
   },
   "outputs": [
    {
     "data": {
      "text/html": [
       "<div>\n",
       "<style scoped>\n",
       "    .dataframe tbody tr th:only-of-type {\n",
       "        vertical-align: middle;\n",
       "    }\n",
       "\n",
       "    .dataframe tbody tr th {\n",
       "        vertical-align: top;\n",
       "    }\n",
       "\n",
       "    .dataframe thead th {\n",
       "        text-align: right;\n",
       "    }\n",
       "</style>\n",
       "<table border=\"1\" class=\"dataframe\">\n",
       "  <thead>\n",
       "    <tr style=\"text-align: right;\">\n",
       "      <th></th>\n",
       "      <th>SampleID</th>\n",
       "      <th>Type</th>\n",
       "      <th>Diagnosis</th>\n",
       "      <th>Sample</th>\n",
       "      <th>Sorted</th>\n",
       "    </tr>\n",
       "  </thead>\n",
       "  <tbody>\n",
       "    <tr>\n",
       "      <th>KSO07_GBM157_PBMCs_GEX-0</th>\n",
       "      <td>KSO07_GBM157_PBMCs_GEX</td>\n",
       "      <td>Blood</td>\n",
       "      <td>Glioblastoma</td>\n",
       "      <td>Patient55</td>\n",
       "      <td>CD3</td>\n",
       "    </tr>\n",
       "    <tr>\n",
       "      <th>KSO07_GBM157_PBMCs_GEX-1</th>\n",
       "      <td>KSO07_GBM157_PBMCs_GEX</td>\n",
       "      <td>Blood</td>\n",
       "      <td>Glioblastoma</td>\n",
       "      <td>Patient55</td>\n",
       "      <td>CD3</td>\n",
       "    </tr>\n",
       "    <tr>\n",
       "      <th>KSO07_GBM157_PBMCs_GEX-2</th>\n",
       "      <td>KSO07_GBM157_PBMCs_GEX</td>\n",
       "      <td>Blood</td>\n",
       "      <td>Glioblastoma</td>\n",
       "      <td>Patient55</td>\n",
       "      <td>CD3</td>\n",
       "    </tr>\n",
       "    <tr>\n",
       "      <th>KSO07_GBM157_PBMCs_GEX-3</th>\n",
       "      <td>KSO07_GBM157_PBMCs_GEX</td>\n",
       "      <td>Blood</td>\n",
       "      <td>Glioblastoma</td>\n",
       "      <td>Patient55</td>\n",
       "      <td>CD3</td>\n",
       "    </tr>\n",
       "    <tr>\n",
       "      <th>KSO07_GBM157_PBMCs_GEX-4</th>\n",
       "      <td>KSO07_GBM157_PBMCs_GEX</td>\n",
       "      <td>Blood</td>\n",
       "      <td>Glioblastoma</td>\n",
       "      <td>Patient55</td>\n",
       "      <td>CD3</td>\n",
       "    </tr>\n",
       "    <tr>\n",
       "      <th>...</th>\n",
       "      <td>...</td>\n",
       "      <td>...</td>\n",
       "      <td>...</td>\n",
       "      <td>...</td>\n",
       "      <td>...</td>\n",
       "    </tr>\n",
       "    <tr>\n",
       "      <th>KSO07_GBM157_PBMCs_GEX-3222</th>\n",
       "      <td>KSO07_GBM157_PBMCs_GEX</td>\n",
       "      <td>Blood</td>\n",
       "      <td>Glioblastoma</td>\n",
       "      <td>Patient55</td>\n",
       "      <td>CD3</td>\n",
       "    </tr>\n",
       "    <tr>\n",
       "      <th>KSO07_GBM157_PBMCs_GEX-3223</th>\n",
       "      <td>KSO07_GBM157_PBMCs_GEX</td>\n",
       "      <td>Blood</td>\n",
       "      <td>Glioblastoma</td>\n",
       "      <td>Patient55</td>\n",
       "      <td>CD3</td>\n",
       "    </tr>\n",
       "    <tr>\n",
       "      <th>KSO07_GBM157_PBMCs_GEX-3224</th>\n",
       "      <td>KSO07_GBM157_PBMCs_GEX</td>\n",
       "      <td>Blood</td>\n",
       "      <td>Glioblastoma</td>\n",
       "      <td>Patient55</td>\n",
       "      <td>CD3</td>\n",
       "    </tr>\n",
       "    <tr>\n",
       "      <th>KSO07_GBM157_PBMCs_GEX-3225</th>\n",
       "      <td>KSO07_GBM157_PBMCs_GEX</td>\n",
       "      <td>Blood</td>\n",
       "      <td>Glioblastoma</td>\n",
       "      <td>Patient55</td>\n",
       "      <td>CD3</td>\n",
       "    </tr>\n",
       "    <tr>\n",
       "      <th>KSO07_GBM157_PBMCs_GEX-3226</th>\n",
       "      <td>KSO07_GBM157_PBMCs_GEX</td>\n",
       "      <td>Blood</td>\n",
       "      <td>Glioblastoma</td>\n",
       "      <td>Patient55</td>\n",
       "      <td>CD3</td>\n",
       "    </tr>\n",
       "  </tbody>\n",
       "</table>\n",
       "<p>3227 rows × 5 columns</p>\n",
       "</div>"
      ],
      "text/plain": [
       "                                           SampleID   Type     Diagnosis  \\\n",
       "KSO07_GBM157_PBMCs_GEX-0     KSO07_GBM157_PBMCs_GEX  Blood  Glioblastoma   \n",
       "KSO07_GBM157_PBMCs_GEX-1     KSO07_GBM157_PBMCs_GEX  Blood  Glioblastoma   \n",
       "KSO07_GBM157_PBMCs_GEX-2     KSO07_GBM157_PBMCs_GEX  Blood  Glioblastoma   \n",
       "KSO07_GBM157_PBMCs_GEX-3     KSO07_GBM157_PBMCs_GEX  Blood  Glioblastoma   \n",
       "KSO07_GBM157_PBMCs_GEX-4     KSO07_GBM157_PBMCs_GEX  Blood  Glioblastoma   \n",
       "...                                             ...    ...           ...   \n",
       "KSO07_GBM157_PBMCs_GEX-3222  KSO07_GBM157_PBMCs_GEX  Blood  Glioblastoma   \n",
       "KSO07_GBM157_PBMCs_GEX-3223  KSO07_GBM157_PBMCs_GEX  Blood  Glioblastoma   \n",
       "KSO07_GBM157_PBMCs_GEX-3224  KSO07_GBM157_PBMCs_GEX  Blood  Glioblastoma   \n",
       "KSO07_GBM157_PBMCs_GEX-3225  KSO07_GBM157_PBMCs_GEX  Blood  Glioblastoma   \n",
       "KSO07_GBM157_PBMCs_GEX-3226  KSO07_GBM157_PBMCs_GEX  Blood  Glioblastoma   \n",
       "\n",
       "                                Sample Sorted  \n",
       "KSO07_GBM157_PBMCs_GEX-0     Patient55    CD3  \n",
       "KSO07_GBM157_PBMCs_GEX-1     Patient55    CD3  \n",
       "KSO07_GBM157_PBMCs_GEX-2     Patient55    CD3  \n",
       "KSO07_GBM157_PBMCs_GEX-3     Patient55    CD3  \n",
       "KSO07_GBM157_PBMCs_GEX-4     Patient55    CD3  \n",
       "...                                ...    ...  \n",
       "KSO07_GBM157_PBMCs_GEX-3222  Patient55    CD3  \n",
       "KSO07_GBM157_PBMCs_GEX-3223  Patient55    CD3  \n",
       "KSO07_GBM157_PBMCs_GEX-3224  Patient55    CD3  \n",
       "KSO07_GBM157_PBMCs_GEX-3225  Patient55    CD3  \n",
       "KSO07_GBM157_PBMCs_GEX-3226  Patient55    CD3  \n",
       "\n",
       "[3227 rows x 5 columns]"
      ]
     },
     "execution_count": 30,
     "metadata": {},
     "output_type": "execute_result"
    }
   ],
   "source": [
    "KSO07_GBM157_PBMCs_GEX.obs"
   ]
  },
  {
   "cell_type": "code",
   "execution_count": 31,
   "id": "6ec00b61",
   "metadata": {
    "ExecuteTime": {
     "end_time": "2022-06-08T14:11:27.139657Z",
     "start_time": "2022-06-08T14:11:23.805737Z"
    }
   },
   "outputs": [],
   "source": [
    "KSO07_BRM112_GEX.write(outpath+\"KSO07_BRM112_GEX.h5ad\")\n",
    "KSO07_BRM112_PBMCs_GEX.write(outpath+\"KSO07_BRM112_PBMCs_GEX.h5ad\")\n",
    "KSO07_BRM125_GEX.write(outpath+\"KSO07_BRM125_GEX.h5ad\")\n",
    "KSO07_BRM125_PBMCs_GEX.write(outpath+\"KSO07_BRM125_PBMCs_GEX.h5ad\")\n",
    "KSO07_BrM138_GEX.write(outpath+\"KSO07_BrM138_GEX.h5ad\")\n",
    "KSO07_BrM138_PBMCs_GEX.write(outpath+\"KSO07_BrM138_PBMCs_GEX.h5ad\")\n",
    "KSO07_BRM139_GEX.write(outpath+\"KSO07_BRM139_GEX.h5ad\")\n",
    "KSO07_BRM139_PBMCs_GEX.write(outpath+\"KSO07_BRM139_PBMCs_GEX.h5ad\")\n",
    "KSO07_BRM141_GEX.write(outpath+\"KSO07_BRM141_GEX.h5ad\")\n",
    "KSO07_BRM141_PBMCs_GEX.write(outpath+\"KSO07_BRM141_PBMCs_GEX.h5ad\")\n",
    "KSO07_BRM143_GEX.write(outpath+\"KSO07_BRM143_GEX.h5ad\")\n",
    "KSO07_BRM143_PBMCs_GEX.write(outpath+\"KSO07_BRM143_PBMCs_GEX.h5ad\")\n",
    "KSO07_GBM136_GEX.write(outpath+\"KSO07_GBM136_GEX.h5ad\")\n",
    "KSO07_GBM136_PBMCs_GEX.write(outpath+\"KSO07_GBM136_PBMCs_GEX.h5ad\")\n",
    "KSO07_GBM149_GEX.write(outpath+\"KSO07_GBM149_GEX.h5ad\")\n",
    "KSO07_GBM149_PBMCs_GEX.write(outpath+\"KSO07_GBM149_PBMCs_GEX.h5ad\")\n",
    "KSO07_GBM157_GEX.write(outpath+\"KSO07_GBM157_GEX.h5ad\")\n",
    "KSO07_GBM157_PBMCs_GEX.write(outpath+\"KSO07_GBM157_PBMCs_GEX.h5ad\")"
   ]
  },
  {
   "cell_type": "code",
   "execution_count": null,
   "id": "3e538486",
   "metadata": {},
   "outputs": [],
   "source": []
  }
 ],
 "metadata": {
  "kernelspec": {
   "display_name": "Python [conda env:scanpy19]",
   "language": "python",
   "name": "conda-env-scanpy19-py"
  },
  "language_info": {
   "codemirror_mode": {
    "name": "ipython",
    "version": 3
   },
   "file_extension": ".py",
   "mimetype": "text/x-python",
   "name": "python",
   "nbconvert_exporter": "python",
   "pygments_lexer": "ipython3",
   "version": "3.10.4"
  },
  "toc": {
   "base_numbering": 1,
   "nav_menu": {},
   "number_sections": true,
   "sideBar": true,
   "skip_h1_title": false,
   "title_cell": "Table of Contents",
   "title_sidebar": "Contents",
   "toc_cell": false,
   "toc_position": {},
   "toc_section_display": true,
   "toc_window_display": false
  },
  "varInspector": {
   "cols": {
    "lenName": 16,
    "lenType": 16,
    "lenVar": 40
   },
   "kernels_config": {
    "python": {
     "delete_cmd_postfix": "",
     "delete_cmd_prefix": "del ",
     "library": "var_list.py",
     "varRefreshCmd": "print(var_dic_list())"
    },
    "r": {
     "delete_cmd_postfix": ") ",
     "delete_cmd_prefix": "rm(",
     "library": "var_list.r",
     "varRefreshCmd": "cat(var_dic_list()) "
    }
   },
   "types_to_exclude": [
    "module",
    "function",
    "builtin_function_or_method",
    "instance",
    "_Feature"
   ],
   "window_display": false
  }
 },
 "nbformat": 4,
 "nbformat_minor": 5
}
