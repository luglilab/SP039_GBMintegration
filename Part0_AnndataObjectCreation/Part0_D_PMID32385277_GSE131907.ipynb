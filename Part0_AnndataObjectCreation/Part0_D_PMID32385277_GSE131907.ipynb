{
 "cells": [
  {
   "cell_type": "code",
   "execution_count": 1,
   "metadata": {
    "ExecuteTime": {
     "end_time": "2022-06-08T13:11:45.538092Z",
     "start_time": "2022-06-08T13:11:43.330574Z"
    }
   },
   "outputs": [],
   "source": [
    "import scanpy as sc\n",
    "import pandas as pd"
   ]
  },
  {
   "cell_type": "code",
   "execution_count": 2,
   "metadata": {
    "ExecuteTime": {
     "end_time": "2022-06-08T13:11:45.551541Z",
     "start_time": "2022-06-08T13:11:45.549429Z"
    }
   },
   "outputs": [],
   "source": [
    "outpath=\"/home/lugli/spuccio/Projects/SP039/FileH5AD_input/\""
   ]
  },
  {
   "cell_type": "code",
   "execution_count": 3,
   "metadata": {
    "ExecuteTime": {
     "end_time": "2022-06-08T13:21:23.797487Z",
     "start_time": "2022-06-08T13:11:45.559998Z"
    }
   },
   "outputs": [],
   "source": [
    "ad = sc.read_text(\"/home/lugli/spuccio/Projects/SP039/GSE131907_PMID32385277/GSE131907_Lung_Cancer_raw_UMI_matrix.txt\", delimiter=\"\\t\")"
   ]
  },
  {
   "cell_type": "code",
   "execution_count": 4,
   "metadata": {
    "ExecuteTime": {
     "end_time": "2022-06-08T13:21:24.248376Z",
     "start_time": "2022-06-08T13:21:24.245613Z"
    }
   },
   "outputs": [],
   "source": [
    "ad2 = ad.T"
   ]
  },
  {
   "cell_type": "code",
   "execution_count": 5,
   "metadata": {
    "ExecuteTime": {
     "end_time": "2022-06-08T13:21:24.804917Z",
     "start_time": "2022-06-08T13:21:24.438049Z"
    }
   },
   "outputs": [],
   "source": [
    "metadata = pd.read_csv(\"/home/lugli/spuccio/Projects/SP039/GSE131907_PMID32385277/GSE131907_Lung_Cancer_cell_annotation.txt.gz\",sep=\"\\t\",index_col=0)"
   ]
  },
  {
   "cell_type": "code",
   "execution_count": 6,
   "metadata": {
    "ExecuteTime": {
     "end_time": "2022-06-08T13:26:05.529071Z",
     "start_time": "2022-06-08T13:26:05.500067Z"
    }
   },
   "outputs": [],
   "source": [
    "ad2.obs = metadata"
   ]
  },
  {
   "cell_type": "code",
   "execution_count": 7,
   "metadata": {
    "ExecuteTime": {
     "end_time": "2022-06-08T13:26:05.539917Z",
     "start_time": "2022-06-08T13:26:05.531778Z"
    }
   },
   "outputs": [],
   "source": [
    "ad2.var['GeneTemp']= list(ad2.var.index)"
   ]
  },
  {
   "cell_type": "code",
   "execution_count": 8,
   "metadata": {
    "ExecuteTime": {
     "end_time": "2022-06-08T13:26:05.585968Z",
     "start_time": "2022-06-08T13:26:05.541933Z"
    }
   },
   "outputs": [],
   "source": [
    "ad2.var['GeneTempClean']= list(ad2.var['GeneTemp'].str.split(\".\",0, expand=True)[0])"
   ]
  },
  {
   "cell_type": "code",
   "execution_count": 9,
   "metadata": {
    "ExecuteTime": {
     "end_time": "2022-06-08T13:26:05.591889Z",
     "start_time": "2022-06-08T13:26:05.588396Z"
    }
   },
   "outputs": [],
   "source": [
    "ad2.var.index = ad2.var['GeneTempClean']"
   ]
  },
  {
   "cell_type": "code",
   "execution_count": 10,
   "metadata": {
    "ExecuteTime": {
     "end_time": "2022-06-08T13:26:05.609581Z",
     "start_time": "2022-06-08T13:26:05.593869Z"
    }
   },
   "outputs": [],
   "source": [
    "ad2.var_names_make_unique()"
   ]
  },
  {
   "cell_type": "code",
   "execution_count": 11,
   "metadata": {
    "ExecuteTime": {
     "end_time": "2022-06-08T13:26:05.614940Z",
     "start_time": "2022-06-08T13:26:05.611430Z"
    }
   },
   "outputs": [],
   "source": [
    "del ad2.var['GeneTemp']\n",
    "del ad2.var['GeneTempClean']"
   ]
  },
  {
   "cell_type": "code",
   "execution_count": 12,
   "metadata": {
    "ExecuteTime": {
     "end_time": "2022-06-08T13:26:05.669266Z",
     "start_time": "2022-06-08T13:26:05.616931Z"
    }
   },
   "outputs": [],
   "source": [
    "NS_02 = ad2[ad2.obs['Sample'].isin(['NS_02']),:]\n",
    "NS_03 = ad2[ad2.obs['Sample'].isin(['NS_03']),:]\n",
    "NS_04 = ad2[ad2.obs['Sample'].isin(['NS_04']),:]\n",
    "NS_06 = ad2[ad2.obs['Sample'].isin(['NS_06']),:]\n",
    "NS_07 = ad2[ad2.obs['Sample'].isin(['NS_07']),:]\n",
    "NS_12 = ad2[ad2.obs['Sample'].isin(['NS_12']),:]\n",
    "NS_13 = ad2[ad2.obs['Sample'].isin(['NS_13']),:]\n",
    "NS_16 = ad2[ad2.obs['Sample'].isin(['NS_16']),:]\n",
    "NS_17 = ad2[ad2.obs['Sample'].isin(['NS_17']),:]\n",
    "NS_19 = ad2[ad2.obs['Sample'].isin(['NS_19']),:]"
   ]
  },
  {
   "cell_type": "code",
   "execution_count": 13,
   "metadata": {
    "ExecuteTime": {
     "end_time": "2022-06-08T13:26:10.463523Z",
     "start_time": "2022-06-08T13:26:05.670637Z"
    }
   },
   "outputs": [],
   "source": [
    "del NS_02.obs\n",
    "del NS_03.obs\n",
    "del NS_04.obs\n",
    "del NS_06.obs\n",
    "del NS_07.obs\n",
    "del NS_12.obs\n",
    "del NS_13.obs\n",
    "del NS_16.obs\n",
    "del NS_17.obs\n",
    "del NS_19.obs"
   ]
  },
  {
   "cell_type": "code",
   "execution_count": 14,
   "metadata": {
    "ExecuteTime": {
     "end_time": "2022-06-08T13:26:10.472126Z",
     "start_time": "2022-06-08T13:26:10.465010Z"
    }
   },
   "outputs": [],
   "source": [
    "NS_02.obs['SampleID'] = \"NS02\"\n",
    "NS_02.obs['GEO_RNA'] = \"GSM3827162\"\n",
    "NS_02.obs['Cohort'] = \"GSE131907\"\n",
    "NS_02.obs['Type'] = \"Metastasis\"  \n",
    "NS_02.obs['Subtype'] = \"NotAvailable\"\n",
    "NS_02.obs['Diagnosis'] = \"Glioblastoma\"\n",
    "NS_02.obs['Grade'] = \"IV\"\n",
    "NS_02.obs['Location'] = \"NotAvailable\"\n",
    "NS_02.obs['IDH1_Status'] = \"NotAvailable\"\n",
    "NS_02.obs['EGFR_Status'] = \"WT\"\n",
    "NS_02.obs['CellCount'] = \"2313\"\n",
    "NS_02.obs['Sample'] = \"Patient19\"\n",
    "NS_02.obs['Sex'] = \"NotAvailable\"\n",
    "NS_02.obs['Age'] = \"NotAvailable\"\n",
    "NS_02.obs['Sorted'] = \"CD45\""
   ]
  },
  {
   "cell_type": "code",
   "execution_count": 15,
   "metadata": {
    "ExecuteTime": {
     "end_time": "2022-06-08T13:26:10.480633Z",
     "start_time": "2022-06-08T13:26:10.473985Z"
    }
   },
   "outputs": [],
   "source": [
    "NS_03.obs['SampleID'] = \"NS03\"\n",
    "NS_03.obs['GEO_RNA'] = \"GSM3827163\"\n",
    "NS_03.obs['Cohort'] = \"GSE131907\"\n",
    "NS_03.obs['Type'] = \"Metastasis\"  \n",
    "NS_03.obs['Subtype'] = \"NotAvailable\"\n",
    "NS_03.obs['Diagnosis'] = \"Glioblastoma\"\n",
    "NS_03.obs['Grade'] = \"IV\"\n",
    "NS_03.obs['Location'] = \"NotAvailable\"\n",
    "NS_03.obs['IDH1_Status'] = \"NotAvailable\"\n",
    "NS_03.obs['EGFR_Status'] = \"p.L858R\"\n",
    "NS_03.obs['CellCount'] = \"2990\"\n",
    "NS_03.obs['Sample'] = \"Patient20\"\n",
    "NS_03.obs['Sex'] = \"NotAvailable\"\n",
    "NS_03.obs['Age'] = \"NotAvailable\"\n",
    "NS_03.obs['Sorted'] = \"CD45\""
   ]
  },
  {
   "cell_type": "code",
   "execution_count": 16,
   "metadata": {
    "ExecuteTime": {
     "end_time": "2022-06-08T13:26:10.488323Z",
     "start_time": "2022-06-08T13:26:10.481908Z"
    }
   },
   "outputs": [],
   "source": [
    "NS_04.obs['SampleID'] = \"NS04\"\n",
    "NS_04.obs['GEO_RNA'] = \"GSM3827164\"\n",
    "NS_04.obs['Cohort'] = \"GSE131907\"\n",
    "NS_04.obs['Type'] = \"Metastasis\"  \n",
    "NS_04.obs['Subtype'] = \"NotAvailable\"\n",
    "NS_04.obs['Diagnosis'] = \"Glioblastoma\"\n",
    "NS_04.obs['Grade'] = \"IV\"\n",
    "NS_04.obs['Location'] = \"NotAvailable\"\n",
    "NS_04.obs['IDH1_Status'] = \"NotAvailable\"\n",
    "NS_04.obs['EGFR_Status'] = \"WT\"\n",
    "NS_04.obs['CellCount'] = \"1904\"\n",
    "NS_04.obs['Sample'] = \"Patient21\"\n",
    "NS_04.obs['Sex'] = \"NotAvailable\"\n",
    "NS_04.obs['Age'] = \"NotAvailable\"\n",
    "NS_04.obs['Sorted'] = \"CD45\""
   ]
  },
  {
   "cell_type": "code",
   "execution_count": 17,
   "metadata": {
    "ExecuteTime": {
     "end_time": "2022-06-08T13:26:10.496445Z",
     "start_time": "2022-06-08T13:26:10.489529Z"
    }
   },
   "outputs": [],
   "source": [
    "NS_06.obs['SampleID'] = \"NS06\"\n",
    "NS_06.obs['GEO_RNA'] = \"GSM3827165\"\n",
    "NS_06.obs['Cohort'] = \"GSE131907\"\n",
    "NS_06.obs['Type'] = \"Metastasis\"  \n",
    "NS_06.obs['Subtype'] = \"NotAvailable\"\n",
    "NS_06.obs['Diagnosis'] = \"Glioblastoma\"\n",
    "NS_06.obs['Grade'] = \"IV\"\n",
    "NS_06.obs['Location'] = \"NotAvailable\"\n",
    "NS_06.obs['IDH1_Status'] = \"NotAvailable\"\n",
    "NS_06.obs['EGFR_Status'] = \"WT\"\n",
    "NS_06.obs['CellCount'] = \"1070\"\n",
    "NS_06.obs['Sample'] = \"Patient22\"\n",
    "NS_06.obs['Sex'] = \"NotAvailable\"\n",
    "NS_06.obs['Age'] = \"NotAvailable\"\n",
    "NS_06.obs['Sorted'] = \"CD45\""
   ]
  },
  {
   "cell_type": "code",
   "execution_count": 18,
   "metadata": {
    "ExecuteTime": {
     "end_time": "2022-06-08T13:26:10.505961Z",
     "start_time": "2022-06-08T13:26:10.497781Z"
    }
   },
   "outputs": [],
   "source": [
    "NS_07.obs['SampleID'] = \"NS07\"\n",
    "NS_07.obs['GEO_RNA'] = \"GSM3827166\"\n",
    "NS_07.obs['Cohort'] = \"GSE131907\"\n",
    "NS_07.obs['Type'] = \"Metastasis\"  \n",
    "NS_07.obs['Subtype'] = \"NotAvailable\"\n",
    "NS_07.obs['Diagnosis'] = \"Glioblastoma\"\n",
    "NS_07.obs['Grade'] = \"IV\"\n",
    "NS_07.obs['Location'] = \"NotAvailable\"\n",
    "NS_07.obs['IDH1_Status'] = \"NotAvailable\"\n",
    "NS_07.obs['EGFR_Status'] = \"WT\"\n",
    "NS_07.obs['CellCount'] = \"5730\"\n",
    "NS_07.obs['Sample'] = \"Patient23\"\n",
    "NS_07.obs['Sex'] = \"NotAvailable\"\n",
    "NS_07.obs['Age'] = \"NotAvailable\"\n",
    "NS_07.obs['Sorted'] = \"CD45\""
   ]
  },
  {
   "cell_type": "code",
   "execution_count": 19,
   "metadata": {
    "ExecuteTime": {
     "end_time": "2022-06-08T13:26:10.514291Z",
     "start_time": "2022-06-08T13:26:10.507266Z"
    }
   },
   "outputs": [],
   "source": [
    "NS_12.obs['SampleID'] = \"NS12\"\n",
    "NS_12.obs['GEO_RNA'] = \"GSM3827167\"\n",
    "NS_12.obs['Cohort'] = \"GSE131907\"\n",
    "NS_12.obs['Type'] = \"Metastasis\"  \n",
    "NS_12.obs['Subtype'] = \"NotAvailable\"\n",
    "NS_12.obs['Diagnosis'] = \"Glioblastoma\"\n",
    "NS_12.obs['Grade'] = \"IV\"\n",
    "NS_12.obs['Location'] = \"NotAvailable\"\n",
    "NS_12.obs['IDH1_Status'] = \"NotAvailable\"\n",
    "NS_12.obs['EGFR_Status'] = \"del19_L858R\"\n",
    "NS_12.obs['CellCount'] = \"3182\"\n",
    "NS_12.obs['Sample'] = \"Patient24\"\n",
    "NS_12.obs['Sex'] = \"NotAvailable\"\n",
    "NS_12.obs['Age'] = \"NotAvailable\"\n",
    "NS_12.obs['Sorted'] = \"CD45\""
   ]
  },
  {
   "cell_type": "code",
   "execution_count": 20,
   "metadata": {
    "ExecuteTime": {
     "end_time": "2022-06-08T13:26:10.522689Z",
     "start_time": "2022-06-08T13:26:10.515691Z"
    }
   },
   "outputs": [],
   "source": [
    "NS_13.obs['SampleID'] = \"NS13\"\n",
    "NS_13.obs['GEO_RNA'] = \"GSM3827168\"\n",
    "NS_13.obs['Cohort'] = \"GSE131907\"\n",
    "NS_13.obs['Type'] = \"Metastasis\"  \n",
    "NS_13.obs['Subtype'] = \"NotAvailable\"\n",
    "NS_13.obs['Diagnosis'] = \"Glioblastoma\"\n",
    "NS_13.obs['Grade'] = \"IV\"\n",
    "NS_13.obs['Location'] = \"NotAvailable\"\n",
    "NS_13.obs['IDH1_Status'] = \"NotAvailable\"\n",
    "NS_13.obs['EGFR_Status'] = \"G719S_S768I\"\n",
    "NS_13.obs['CellCount'] = \"4845\"\n",
    "NS_13.obs['Sample'] = \"Patient25\"\n",
    "NS_13.obs['Sex'] = \"NotAvailable\"\n",
    "NS_13.obs['Age'] = \"NotAvailable\"\n",
    "NS_13.obs['Sorted'] = \"CD45\""
   ]
  },
  {
   "cell_type": "code",
   "execution_count": 21,
   "metadata": {
    "ExecuteTime": {
     "end_time": "2022-06-08T13:26:10.531024Z",
     "start_time": "2022-06-08T13:26:10.524262Z"
    }
   },
   "outputs": [],
   "source": [
    "NS_16.obs['SampleID'] = \"NS16\"\n",
    "NS_16.obs['GEO_RNA'] = \"GSM3827169\"\n",
    "NS_16.obs['Cohort'] = \"GSE131907\"\n",
    "NS_16.obs['Type'] = \"Metastasis\"  \n",
    "NS_16.obs['Subtype'] = \"NotAvailable\"\n",
    "NS_16.obs['Diagnosis'] = \"Glioblastoma\"\n",
    "NS_16.obs['Grade'] = \"IIIA\"\n",
    "NS_16.obs['Location'] = \"NotAvailable\"\n",
    "NS_16.obs['IDH1_Status'] = \"NotAvailable\"\n",
    "NS_16.obs['EGFR_Status'] = \"WT\"\n",
    "NS_16.obs['CellCount'] = \"1317\"\n",
    "NS_16.obs['Sample'] = \"Patient26\"\n",
    "NS_16.obs['Sex'] = \"NotAvailable\"\n",
    "NS_16.obs['Age'] = \"NotAvailable\"\n",
    "NS_16.obs['Sorted'] = \"CD45\""
   ]
  },
  {
   "cell_type": "code",
   "execution_count": 22,
   "metadata": {
    "ExecuteTime": {
     "end_time": "2022-06-08T13:26:10.540678Z",
     "start_time": "2022-06-08T13:26:10.532205Z"
    }
   },
   "outputs": [],
   "source": [
    "NS_17.obs['SampleID'] = \"NS17\"\n",
    "NS_17.obs['GEO_RNA'] = \"GSM3827170\"\n",
    "NS_17.obs['Cohort'] = \"GSE131907\"\n",
    "NS_17.obs['Type'] = \"Metastasis\"  \n",
    "NS_17.obs['Subtype'] = \"NotAvailable\"\n",
    "NS_17.obs['Diagnosis'] = \"Glioblastoma\"\n",
    "NS_17.obs['Grade'] = \"IV\"\n",
    "NS_17.obs['Location'] = \"NotAvailable\"\n",
    "NS_17.obs['IDH1_Status'] = \"NotAvailable\"\n",
    "NS_17.obs['EGFR_Status'] = \"NotAvailable\"\n",
    "NS_17.obs['CellCount'] = \"2409\"\n",
    "NS_17.obs['Sample'] = \"Patient27\"\n",
    "NS_17.obs['Sex'] = \"NotAvailable\"\n",
    "NS_17.obs['Age'] = \"NotAvailable\"\n",
    "NS_17.obs['Sorted'] = \"CD45\""
   ]
  },
  {
   "cell_type": "code",
   "execution_count": 23,
   "metadata": {
    "ExecuteTime": {
     "end_time": "2022-06-08T13:26:10.549511Z",
     "start_time": "2022-06-08T13:26:10.541943Z"
    }
   },
   "outputs": [],
   "source": [
    "NS_19.obs['SampleID'] = \"NS19\"\n",
    "NS_19.obs['GEO_RNA'] = \"GSM3827171\"\n",
    "NS_19.obs['Cohort'] = \"GSE131907\"\n",
    "NS_19.obs['Type'] = \"Metastasis\"  \n",
    "NS_19.obs['Subtype'] = \"NotAvailable\"\n",
    "NS_19.obs['Diagnosis'] = \"Glioblastoma\"\n",
    "NS_19.obs['Grade'] = \"IV\"\n",
    "NS_19.obs['Location'] = \"NotAvailable\"\n",
    "NS_19.obs['IDH1_Status'] = \"NotAvailable\"\n",
    "NS_19.obs['EGFR_Status'] = \"NotAvailable\"\n",
    "NS_19.obs['CellCount'] = \"3300\"\n",
    "NS_19.obs['Sample'] = \"Patient28\"\n",
    "NS_19.obs['Sex'] = \"NotAvailable\"\n",
    "NS_19.obs['Age'] = \"NotAvailable\"\n",
    "NS_19.obs['Sorted'] = \"CD45\""
   ]
  },
  {
   "cell_type": "code",
   "execution_count": 24,
   "metadata": {
    "ExecuteTime": {
     "end_time": "2022-06-08T13:26:10.555186Z",
     "start_time": "2022-06-08T13:26:10.550990Z"
    }
   },
   "outputs": [
    {
     "data": {
      "text/plain": [
       "AnnData object with n_obs × n_vars = 2313 × 29634\n",
       "    obs: 'SampleID', 'GEO_RNA', 'Cohort', 'Type', 'Subtype', 'Diagnosis', 'Grade', 'Location', 'IDH1_Status', 'EGFR_Status', 'CellCount', 'Sample', 'Sex', 'Age', 'Sorted'"
      ]
     },
     "execution_count": 24,
     "metadata": {},
     "output_type": "execute_result"
    }
   ],
   "source": [
    "NS_02"
   ]
  },
  {
   "cell_type": "code",
   "execution_count": 25,
   "metadata": {
    "ExecuteTime": {
     "end_time": "2022-06-08T13:26:10.569003Z",
     "start_time": "2022-06-08T13:26:10.556628Z"
    }
   },
   "outputs": [],
   "source": [
    "NS_02.obs = NS_02.obs.reset_index(drop=True)\n",
    "NS_03.obs = NS_03.obs.reset_index(drop=True)\n",
    "NS_04.obs = NS_04.obs.reset_index(drop=True)\n",
    "NS_06.obs = NS_06.obs.reset_index(drop=True)\n",
    "NS_07.obs = NS_07.obs.reset_index(drop=True)\n",
    "NS_12.obs = NS_12.obs.reset_index(drop=True)\n",
    "NS_13.obs = NS_13.obs.reset_index(drop=True)\n",
    "NS_16.obs = NS_16.obs.reset_index(drop=True)\n",
    "NS_17.obs = NS_17.obs.reset_index(drop=True)\n",
    "NS_19.obs = NS_19.obs.reset_index(drop=True)"
   ]
  },
  {
   "cell_type": "code",
   "execution_count": 26,
   "metadata": {
    "ExecuteTime": {
     "end_time": "2022-06-08T13:26:10.595977Z",
     "start_time": "2022-06-08T13:26:10.570420Z"
    }
   },
   "outputs": [],
   "source": [
    "NS_02.obs.set_index(\"NS02-\" + NS_02.obs.index.astype(str),inplace=True)\n",
    "NS_03.obs.set_index(\"NS03-\" + NS_03.obs.index.astype(str),inplace=True)\n",
    "NS_04.obs.set_index(\"NS04-\" + NS_04.obs.index.astype(str),inplace=True)\n",
    "NS_06.obs.set_index(\"NS06-\" + NS_06.obs.index.astype(str),inplace=True)\n",
    "NS_07.obs.set_index(\"NS07-\" + NS_07.obs.index.astype(str),inplace=True)\n",
    "NS_12.obs.set_index(\"NS12-\" + NS_12.obs.index.astype(str),inplace=True)\n",
    "NS_13.obs.set_index(\"NS13-\" + NS_13.obs.index.astype(str),inplace=True)\n",
    "NS_16.obs.set_index(\"NS16-\" + NS_16.obs.index.astype(str),inplace=True)\n",
    "NS_17.obs.set_index(\"NS17-\" + NS_17.obs.index.astype(str),inplace=True)\n",
    "NS_19.obs.set_index(\"NS19-\" + NS_19.obs.index.astype(str),inplace=True)"
   ]
  },
  {
   "cell_type": "code",
   "execution_count": 27,
   "metadata": {
    "ExecuteTime": {
     "end_time": "2022-06-08T13:26:16.403930Z",
     "start_time": "2022-06-08T13:26:10.597195Z"
    }
   },
   "outputs": [],
   "source": [
    "NS_02.write(outpath+\"NS02.h5ad\")\n",
    "NS_03.write(outpath+\"NS03.h5ad\")\n",
    "NS_04.write(outpath+\"NS04.h5ad\")\n",
    "NS_06.write(outpath+\"NS06.h5ad\")\n",
    "NS_07.write(outpath+\"NS07.h5ad\")\n",
    "NS_12.write(outpath+\"NS12.h5ad\")\n",
    "NS_13.write(outpath+\"NS13.h5ad\")\n",
    "NS_16.write(outpath+\"NS16.h5ad\")\n",
    "NS_17.write(outpath+\"NS17.h5ad\")\n",
    "NS_19.write(outpath+\"NS19.h5ad\")"
   ]
  }
 ],
 "metadata": {
  "kernelspec": {
   "display_name": "Python [conda env:scanpy19]",
   "language": "python",
   "name": "conda-env-scanpy19-py"
  },
  "language_info": {
   "codemirror_mode": {
    "name": "ipython",
    "version": 3
   },
   "file_extension": ".py",
   "mimetype": "text/x-python",
   "name": "python",
   "nbconvert_exporter": "python",
   "pygments_lexer": "ipython3",
   "version": "3.10.4"
  },
  "toc": {
   "base_numbering": 1,
   "nav_menu": {},
   "number_sections": true,
   "sideBar": true,
   "skip_h1_title": false,
   "title_cell": "Table of Contents",
   "title_sidebar": "Contents",
   "toc_cell": false,
   "toc_position": {},
   "toc_section_display": true,
   "toc_window_display": false
  },
  "varInspector": {
   "cols": {
    "lenName": 16,
    "lenType": 16,
    "lenVar": 40
   },
   "kernels_config": {
    "python": {
     "delete_cmd_postfix": "",
     "delete_cmd_prefix": "del ",
     "library": "var_list.py",
     "varRefreshCmd": "print(var_dic_list())"
    },
    "r": {
     "delete_cmd_postfix": ") ",
     "delete_cmd_prefix": "rm(",
     "library": "var_list.r",
     "varRefreshCmd": "cat(var_dic_list()) "
    }
   },
   "types_to_exclude": [
    "module",
    "function",
    "builtin_function_or_method",
    "instance",
    "_Feature"
   ],
   "window_display": false
  }
 },
 "nbformat": 4,
 "nbformat_minor": 4
}
