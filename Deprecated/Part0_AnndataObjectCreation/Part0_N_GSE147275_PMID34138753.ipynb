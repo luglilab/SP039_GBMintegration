{
 "cells": [
  {
   "cell_type": "code",
   "execution_count": 1,
   "id": "1403580b",
   "metadata": {
    "ExecuteTime": {
     "end_time": "2022-06-17T12:14:38.859705Z",
     "start_time": "2022-06-17T12:14:37.160405Z"
    }
   },
   "outputs": [],
   "source": [
    "import scanpy as sc \n",
    "import pandas as pd"
   ]
  },
  {
   "cell_type": "code",
   "execution_count": 2,
   "id": "d765cb5a",
   "metadata": {
    "ExecuteTime": {
     "end_time": "2022-06-17T12:14:38.864018Z",
     "start_time": "2022-06-17T12:14:38.861660Z"
    }
   },
   "outputs": [],
   "source": [
    "outpath=\"/home/lugli/spuccio/Projects/SP039/FileH5AD_input/\""
   ]
  },
  {
   "cell_type": "code",
   "execution_count": null,
   "id": "e17a4298",
   "metadata": {},
   "outputs": [],
   "source": []
  },
  {
   "cell_type": "code",
   "execution_count": 3,
   "id": "83b7025f",
   "metadata": {
    "ExecuteTime": {
     "end_time": "2022-06-17T12:14:39.716775Z",
     "start_time": "2022-06-17T12:14:38.865267Z"
    }
   },
   "outputs": [
    {
     "name": "stderr",
     "output_type": "stream",
     "text": [
      "/home/lugli/spuccio/anaconda3/envs/scanpy19/lib/python3.10/site-packages/anndata/_core/anndata.py:1830: UserWarning: Variable names are not unique. To make them unique, call `.var_names_make_unique`.\n",
      "  utils.warn_names_duplicates(\"var\")\n",
      "/home/lugli/spuccio/anaconda3/envs/scanpy19/lib/python3.10/site-packages/anndata/_core/anndata.py:1830: UserWarning: Variable names are not unique. To make them unique, call `.var_names_make_unique`.\n",
      "  utils.warn_names_duplicates(\"var\")\n",
      "/home/lugli/spuccio/anaconda3/envs/scanpy19/lib/python3.10/site-packages/anndata/_core/anndata.py:1830: UserWarning: Variable names are not unique. To make them unique, call `.var_names_make_unique`.\n",
      "  utils.warn_names_duplicates(\"var\")\n",
      "/home/lugli/spuccio/anaconda3/envs/scanpy19/lib/python3.10/site-packages/anndata/_core/anndata.py:1830: UserWarning: Variable names are not unique. To make them unique, call `.var_names_make_unique`.\n",
      "  utils.warn_names_duplicates(\"var\")\n",
      "/home/lugli/spuccio/anaconda3/envs/scanpy19/lib/python3.10/site-packages/anndata/_core/anndata.py:1830: UserWarning: Variable names are not unique. To make them unique, call `.var_names_make_unique`.\n",
      "  utils.warn_names_duplicates(\"var\")\n"
     ]
    }
   ],
   "source": [
    "Patient2 = sc.read_10x_h5(\"/home/lugli/spuccio/Projects/SP039/GSE147275_PMID34138753/run_Patient2/outs/filtered_feature_bc_matrix.h5\")\n",
    "Patient3 = sc.read_10x_h5(\"/home/lugli/spuccio/Projects/SP039/GSE147275_PMID34138753/run_Patient3/outs/filtered_feature_bc_matrix.h5\")\n",
    "Patient4 = sc.read_10x_h5(\"/home/lugli/spuccio/Projects/SP039/GSE147275_PMID34138753/run_Patient4/outs/filtered_feature_bc_matrix.h5\")\n",
    "Patient5 = sc.read_10x_h5(\"/home/lugli/spuccio/Projects/SP039/GSE147275_PMID34138753/run_Patient5/outs/filtered_feature_bc_matrix.h5\")\n",
    "Patient6 = sc.read_10x_h5(\"/home/lugli/spuccio/Projects/SP039/GSE147275_PMID34138753/run_Patient6/outs/filtered_feature_bc_matrix.h5\")"
   ]
  },
  {
   "cell_type": "code",
   "execution_count": 4,
   "id": "e8af2cf2",
   "metadata": {
    "ExecuteTime": {
     "end_time": "2022-06-17T12:14:39.746746Z",
     "start_time": "2022-06-17T12:14:39.718566Z"
    }
   },
   "outputs": [],
   "source": [
    "Patient2.var_names_make_unique()\n",
    "Patient3.var_names_make_unique()\n",
    "Patient4.var_names_make_unique()\n",
    "Patient5.var_names_make_unique()\n",
    "Patient6.var_names_make_unique()"
   ]
  },
  {
   "cell_type": "code",
   "execution_count": 5,
   "id": "0e3a6e55",
   "metadata": {
    "ExecuteTime": {
     "end_time": "2022-06-17T12:14:39.768155Z",
     "start_time": "2022-06-17T12:14:39.748046Z"
    }
   },
   "outputs": [],
   "source": [
    "Patient2.var['GeneTemp']= list(Patient2.var.index)\n",
    "Patient3.var['GeneTemp']= list(Patient3.var.index)\n",
    "Patient4.var['GeneTemp']= list(Patient4.var.index)\n",
    "Patient5.var['GeneTemp']= list(Patient5.var.index)\n",
    "Patient6.var['GeneTemp']= list(Patient6.var.index)"
   ]
  },
  {
   "cell_type": "code",
   "execution_count": 6,
   "id": "a10273db",
   "metadata": {
    "ExecuteTime": {
     "end_time": "2022-06-17T12:14:40.009680Z",
     "start_time": "2022-06-17T12:14:39.769510Z"
    }
   },
   "outputs": [],
   "source": [
    "Patient2.var['GeneTempClean']= list(Patient2.var['GeneTemp'].str.split(\".\",0, expand=True)[0])\n",
    "Patient3.var['GeneTempClean']= list(Patient3.var['GeneTemp'].str.split(\".\",0, expand=True)[0])\n",
    "Patient4.var['GeneTempClean']= list(Patient4.var['GeneTemp'].str.split(\".\",0, expand=True)[0])\n",
    "Patient5.var['GeneTempClean']= list(Patient5.var['GeneTemp'].str.split(\".\",0, expand=True)[0])\n",
    "Patient6.var['GeneTempClean']= list(Patient6.var['GeneTemp'].str.split(\".\",0, expand=True)[0])"
   ]
  },
  {
   "cell_type": "code",
   "execution_count": 7,
   "id": "a6119dd4",
   "metadata": {
    "ExecuteTime": {
     "end_time": "2022-06-17T12:14:40.015012Z",
     "start_time": "2022-06-17T12:14:40.011300Z"
    }
   },
   "outputs": [],
   "source": [
    "Patient2.var.index = Patient2.var['GeneTempClean'] \n",
    "Patient3.var.index = Patient3.var['GeneTempClean'] \n",
    "Patient4.var.index = Patient4.var['GeneTempClean']\n",
    "Patient5.var.index = Patient5.var['GeneTempClean'] \n",
    "Patient6.var.index = Patient6.var['GeneTempClean'] "
   ]
  },
  {
   "cell_type": "code",
   "execution_count": 8,
   "id": "c6bdac81",
   "metadata": {
    "ExecuteTime": {
     "end_time": "2022-06-17T12:14:40.020337Z",
     "start_time": "2022-06-17T12:14:40.016272Z"
    }
   },
   "outputs": [],
   "source": [
    "del Patient2.var['GeneTemp']\n",
    "del Patient2.var['GeneTempClean']\n",
    "#\n",
    "del Patient3.var['GeneTemp']\n",
    "del Patient3.var['GeneTempClean']\n",
    "#\n",
    "del Patient4.var['GeneTemp']\n",
    "del Patient4.var['GeneTempClean']\n",
    "#\n",
    "del Patient5.var['GeneTemp']\n",
    "del Patient5.var['GeneTempClean']\n",
    "#\n",
    "del Patient6.var['GeneTemp']\n",
    "del Patient6.var['GeneTempClean']"
   ]
  },
  {
   "cell_type": "code",
   "execution_count": 9,
   "id": "c0991311",
   "metadata": {
    "ExecuteTime": {
     "end_time": "2022-06-17T12:14:40.028002Z",
     "start_time": "2022-06-17T12:14:40.022402Z"
    }
   },
   "outputs": [],
   "source": [
    "Patient2.obs = Patient2.obs.reset_index(drop=True)\n",
    "Patient3.obs = Patient3.obs.reset_index(drop=True)\n",
    "Patient4.obs = Patient4.obs.reset_index(drop=True)\n",
    "Patient5.obs = Patient5.obs.reset_index(drop=True)\n",
    "Patient6.obs = Patient6.obs.reset_index(drop=True)"
   ]
  },
  {
   "cell_type": "code",
   "execution_count": 10,
   "id": "d664b46d",
   "metadata": {
    "ExecuteTime": {
     "end_time": "2022-06-17T12:14:40.052128Z",
     "start_time": "2022-06-17T12:14:40.030785Z"
    }
   },
   "outputs": [],
   "source": [
    "Patient2.obs.set_index(\"Patient2-\" + Patient2.obs.index.astype(str),inplace=True)\n",
    "Patient3.obs.set_index(\"Patient3-\" + Patient3.obs.index.astype(str),inplace=True)\n",
    "Patient4.obs.set_index(\"Patient4-\" + Patient4.obs.index.astype(str),inplace=True)\n",
    "Patient5.obs.set_index(\"Patient5-\" + Patient5.obs.index.astype(str),inplace=True)\n",
    "Patient6.obs.set_index(\"Patient6-\" + Patient6.obs.index.astype(str),inplace=True)"
   ]
  },
  {
   "cell_type": "code",
   "execution_count": 11,
   "id": "1f0a1075",
   "metadata": {
    "ExecuteTime": {
     "end_time": "2022-06-17T12:14:40.115942Z",
     "start_time": "2022-06-17T12:14:40.053580Z"
    }
   },
   "outputs": [],
   "source": [
    "Patient2.var_names_make_unique()\n",
    "Patient3.var_names_make_unique()\n",
    "Patient4.var_names_make_unique()\n",
    "Patient5.var_names_make_unique()\n",
    "Patient6.var_names_make_unique()"
   ]
  },
  {
   "cell_type": "code",
   "execution_count": 12,
   "id": "9c63ca87",
   "metadata": {
    "ExecuteTime": {
     "end_time": "2022-06-17T12:14:40.124238Z",
     "start_time": "2022-06-17T12:14:40.117745Z"
    }
   },
   "outputs": [],
   "source": [
    "Patient2.obs['SampleID'] = \"Patient2\"\n",
    "Patient2.obs['GEO_RNA'] = \"GSM4423287\"\n",
    "Patient2.obs['Cohort'] = \"GSE147275\"\n",
    "Patient2.obs['Type'] = \"PrimaryTumor\"  \n",
    "Patient2.obs['Subtype'] = \"NotAvailable\"\n",
    "Patient2.obs['Diagnosis'] = \"Glioblastoma\"\n",
    "Patient2.obs['Grade'] = \"IV\"\n",
    "Patient2.obs['Location'] = \"Right_Temporal\"\n",
    "Patient2.obs['IDH1_Status'] = \"WT\"\n",
    "Patient2.obs['EGFR_Status'] = \"NotAvailable\"\n",
    "Patient2.obs['CellCount'] = \"1651\"\n",
    "Patient2.obs['Sample'] = \"Patient81\"\n",
    "Patient2.obs['Sex'] = \"M\"\n",
    "Patient2.obs['Age'] = \"65\"\n",
    "Patient2.obs['Sorted'] = \"CD45\""
   ]
  },
  {
   "cell_type": "markdown",
   "id": "faf81dac",
   "metadata": {
    "ExecuteTime": {
     "end_time": "2022-05-23T13:23:51.257928Z",
     "start_time": "2022-05-23T13:23:51.245455Z"
    }
   },
   "source": [
    "Patient3.obs['SampleID'] = \"Patient3\"\n",
    "Patient3.obs['GEO_RNA'] = \"GSM4423288\"\n",
    "Patient3.obs['Cohort'] = \"GSE147275\"\n",
    "Patient3.obs['Type'] = \"PrimaryTumor\"  \n",
    "Patient3.obs['Subtype'] = \"NotAvailable\"\n",
    "Patient3.obs['Diagnosis'] = \"Glioblastoma\"\n",
    "Patient3.obs['Grade'] = \"IV\"\n",
    "Patient3.obs['Location'] = \"Right_Temporal\"\n",
    "Patient3.obs['IDH1_Status'] = \"WT\"\n",
    "Patient3.obs['EGFR_Status'] = \"NotAvailable\"\n",
    "Patient3.obs['CellCount'] = \"88\"\n",
    "Patient3.obs['Sample'] = \"Patient82\"\n",
    "Patient3.obs['Sex'] = \"M\"\n",
    "Patient3.obs['Age'] = \"53\"\n",
    "Patient3.obs['Sorted'] = \"CD45\""
   ]
  },
  {
   "cell_type": "code",
   "execution_count": 13,
   "id": "49b90b69",
   "metadata": {
    "ExecuteTime": {
     "end_time": "2022-06-17T12:14:40.133809Z",
     "start_time": "2022-06-17T12:14:40.125382Z"
    }
   },
   "outputs": [],
   "source": [
    "Patient4.obs['SampleID'] = \"Patient4\"\n",
    "Patient4.obs['GEO_RNA'] = \"GSM4423289\"\n",
    "Patient4.obs['Cohort'] = \"GSE147275\"\n",
    "Patient4.obs['Type'] = \"PrimaryTumor\"  \n",
    "Patient4.obs['Subtype'] = \"NotAvailable\"\n",
    "Patient4.obs['Diagnosis'] = \"Glioblastoma\"\n",
    "Patient4.obs['Grade'] = \"IV\"\n",
    "Patient4.obs['Location'] = \"Right_Frontal\"\n",
    "Patient4.obs['IDH1_Status'] = \"WT\"\n",
    "Patient4.obs['EGFR_Status'] = \"NotAvailable\"\n",
    "Patient4.obs['CellCount'] = \"10504\"\n",
    "Patient4.obs['Sample'] = \"Patient82\"\n",
    "Patient4.obs['Sex'] = \"M\"\n",
    "Patient4.obs['Age'] = \"52\"\n",
    "Patient4.obs['Sorted'] = \"CD45\""
   ]
  },
  {
   "cell_type": "code",
   "execution_count": 14,
   "id": "5d30466c",
   "metadata": {
    "ExecuteTime": {
     "end_time": "2022-06-17T12:14:40.141405Z",
     "start_time": "2022-06-17T12:14:40.134937Z"
    }
   },
   "outputs": [],
   "source": [
    "Patient5.obs['SampleID'] = \"Patient5\"\n",
    "Patient5.obs['GEO_RNA'] = \"GSM4423290\"\n",
    "Patient5.obs['Cohort'] = \"GSE147275\"\n",
    "Patient5.obs['Type'] = \"PrimaryTumor\"  \n",
    "Patient5.obs['Subtype'] = \"NotAvailable\"\n",
    "Patient5.obs['Diagnosis'] = \"Glioblastoma\"\n",
    "Patient5.obs['Grade'] = \"IV\"\n",
    "Patient5.obs['Location'] = \"Right_Basal\"\n",
    "Patient5.obs['IDH1_Status'] = \"WT\"\n",
    "Patient5.obs['EGFR_Status'] = \"NotAvailable\"\n",
    "Patient5.obs['CellCount'] = \"266\"\n",
    "Patient5.obs['Sample'] = \"Patient83\"\n",
    "Patient5.obs['Sex'] = \"M\"\n",
    "Patient5.obs['Age'] = \"66\"\n",
    "Patient5.obs['Sorted'] = \"CD45\""
   ]
  },
  {
   "cell_type": "code",
   "execution_count": 15,
   "id": "595f489b",
   "metadata": {
    "ExecuteTime": {
     "end_time": "2022-06-17T12:14:40.150535Z",
     "start_time": "2022-06-17T12:14:40.142577Z"
    }
   },
   "outputs": [],
   "source": [
    "Patient6.obs['SampleID'] = \"Patient6\"\n",
    "Patient6.obs['GEO_RNA'] = \"GSM4423291\"\n",
    "Patient6.obs['Cohort'] = \"GSE147275\"\n",
    "Patient6.obs['Type'] = \"PrimaryTumor\"  \n",
    "Patient6.obs['Subtype'] = \"NotAvailable\"\n",
    "Patient6.obs['Diagnosis'] = \"Glioblastoma\"\n",
    "Patient6.obs['Grade'] = \"IV\"\n",
    "Patient6.obs['Location'] = \"Right_Temporal\"\n",
    "Patient6.obs['IDH1_Status'] = \"WT\"\n",
    "Patient6.obs['EGFR_Status'] = \"NotAvailable\"\n",
    "Patient6.obs['CellCount'] = \"2122\"\n",
    "Patient6.obs['Sample'] = \"Patient84\"\n",
    "Patient6.obs['Sex'] = \"F\"\n",
    "Patient6.obs['Age'] = \"70\"\n",
    "Patient6.obs['Sorted'] = \"CD45\""
   ]
  },
  {
   "cell_type": "code",
   "execution_count": 16,
   "id": "9a2cd468",
   "metadata": {
    "ExecuteTime": {
     "end_time": "2022-06-17T12:14:40.952579Z",
     "start_time": "2022-06-17T12:14:40.151669Z"
    }
   },
   "outputs": [],
   "source": [
    "Patient2.write(outpath+\"Patient2.h5ad\")\n",
    "#Patient3.write(outpath+\"Patient3.h5ad\")\n",
    "Patient4.write(outpath+\"Patient4.h5ad\")\n",
    "Patient5.write(outpath+\"Patient5.h5ad\")\n",
    "Patient6.write(outpath+\"Patient6.h5ad\")"
   ]
  },
  {
   "cell_type": "code",
   "execution_count": null,
   "id": "1f0bfe48",
   "metadata": {},
   "outputs": [],
   "source": []
  }
 ],
 "metadata": {
  "kernelspec": {
   "display_name": "Python [conda env:scanpy19]",
   "language": "python",
   "name": "conda-env-scanpy19-py"
  },
  "language_info": {
   "codemirror_mode": {
    "name": "ipython",
    "version": 3
   },
   "file_extension": ".py",
   "mimetype": "text/x-python",
   "name": "python",
   "nbconvert_exporter": "python",
   "pygments_lexer": "ipython3",
   "version": "3.10.4"
  },
  "toc": {
   "base_numbering": 1,
   "nav_menu": {},
   "number_sections": true,
   "sideBar": true,
   "skip_h1_title": false,
   "title_cell": "Table of Contents",
   "title_sidebar": "Contents",
   "toc_cell": false,
   "toc_position": {},
   "toc_section_display": true,
   "toc_window_display": false
  },
  "varInspector": {
   "cols": {
    "lenName": 16,
    "lenType": 16,
    "lenVar": 40
   },
   "kernels_config": {
    "python": {
     "delete_cmd_postfix": "",
     "delete_cmd_prefix": "del ",
     "library": "var_list.py",
     "varRefreshCmd": "print(var_dic_list())"
    },
    "r": {
     "delete_cmd_postfix": ") ",
     "delete_cmd_prefix": "rm(",
     "library": "var_list.r",
     "varRefreshCmd": "cat(var_dic_list()) "
    }
   },
   "types_to_exclude": [
    "module",
    "function",
    "builtin_function_or_method",
    "instance",
    "_Feature"
   ],
   "window_display": false
  }
 },
 "nbformat": 4,
 "nbformat_minor": 5
}
