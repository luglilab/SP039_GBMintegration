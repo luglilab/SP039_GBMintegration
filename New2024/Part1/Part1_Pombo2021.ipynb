{
 "cells": [
  {
   "cell_type": "code",
   "execution_count": 1,
   "id": "3978eb59-e3a4-4d29-bc3b-dab3bc84d599",
   "metadata": {},
   "outputs": [
    {
     "name": "stdout",
     "output_type": "stream",
     "text": [
      "\n",
      "   ____            _     _    __                  \n",
      "  / __ \\____ ___  (_)___| |  / /__  _____________ \n",
      " / / / / __ `__ \\/ / ___/ | / / _ \\/ ___/ ___/ _ \\ \n",
      "/ /_/ / / / / / / / /__ | |/ /  __/ /  (__  )  __/ \n",
      "\\____/_/ /_/ /_/_/\\___/ |___/\\___/_/  /____/\\___/                                              \n",
      "\n",
      "Version: 1.6.11, Tutorials: https://omicverse.readthedocs.io/\n",
      "Dependency error: The 'phate>=1.0' distribution was not found and is required by the application\n"
     ]
    }
   ],
   "source": [
    "import scanpy as sc\n",
    "import omicverse as ov\n",
    "ov.plot_set()"
   ]
  },
  {
   "cell_type": "code",
   "execution_count": 2,
   "id": "44f51c01-4581-4459-a1a0-0c92055209e2",
   "metadata": {},
   "outputs": [
    {
     "data": {
      "text/plain": [
       "AnnData object with n_obs × n_vars = 79981 × 26355\n",
       "    obs: 'author', 'donor_id', 'is_primary_data', 'annotation_level_1', 'annotation_level_2', 'annotation_level_3', 'gbmap', 'method', 'stage', 'location', 'EGFR', 'MET', 'p53', 'TERT', 'ATRX', 'PTEN', 'MGMT', 'chr1p19q', 'PDGFR', 'suspension_type', 'tissue_ontology_term_id', 'cell_type', 'assay', 'tissue', 'development_stage'\n",
       "    uns: 'X_approximate_distribution', 'batch_condition', 'default_embedding', 'hvg', 'schema_version', 'title'\n",
       "    obsm: 'X_umap'"
      ]
     },
     "execution_count": 2,
     "metadata": {},
     "output_type": "execute_result"
    }
   ],
   "source": [
    "adata = sc.read(\"/home/lugli/spuccio/Projects/SP039/GBmap/Pombo2021_Part1.h5ad\")\n",
    "adata"
   ]
  },
  {
   "cell_type": "code",
   "execution_count": 3,
   "id": "5b9234b4-5aa1-42ff-ac2d-54ef94620605",
   "metadata": {},
   "outputs": [],
   "source": [
    "adata.var_names_make_unique()\n",
    "adata.obs_names_make_unique()"
   ]
  },
  {
   "cell_type": "code",
   "execution_count": null,
   "id": "5087c16f-8626-423a-9af8-d125d90c2407",
   "metadata": {},
   "outputs": [
    {
     "name": "stdout",
     "output_type": "stream",
     "text": [
      "CPU mode activated\n",
      "Calculate QC metrics\n",
      "End calculation of QC metrics.\n",
      "Original cell number: 79981\n",
      "!!!It should be noted that the `sccomposite` will remove more cells than             `scrublet`!!!\n",
      "Begin of post doublets removal and QC plot using `sccomposite`\n",
      "Cuda is not available; Fitting the COMPOSITE model on RNA modality\n"
     ]
    }
   ],
   "source": [
    "%%time\n",
    "adata=ov.pp.qc(adata,\n",
    "              tresh={'mito_perc': 0.2, 'nUMIs': 500, 'detected_genes': 250},\n",
    "               doublets_method='sccomposite',\n",
    "              batch_key=None)\n",
    "adata"
   ]
  },
  {
   "cell_type": "code",
   "execution_count": null,
   "id": "03e96ac0-0281-4e76-a5e7-594e0c70b6c3",
   "metadata": {},
   "outputs": [],
   "source": [
    "%%time\n",
    "adata=ov.pp.preprocess(adata,mode='shiftlog|pearson',n_HVGs=2000,\n",
    "                       target_sum=50*1e4)\n",
    "adata"
   ]
  },
  {
   "cell_type": "code",
   "execution_count": null,
   "id": "f13ffa5d-54ef-4bd6-b803-048a167ffb91",
   "metadata": {},
   "outputs": [],
   "source": [
    "X_counts_recovered, size_factors_sub=ov.pp.recover_counts(adata.X, 50*1e4, 50*1e5, log_base=None, \n",
    "                                                          chunk_size=10000)\n",
    "adata.layers['recover_counts']=X_counts_recovered"
   ]
  },
  {
   "cell_type": "code",
   "execution_count": null,
   "id": "0295a1ef-58dd-4688-bd6d-78da637d2309",
   "metadata": {},
   "outputs": [],
   "source": [
    "%%time\n",
    "adata.raw = adata\n",
    "adata = adata[:, adata.var.highly_variable_features]\n",
    "adata"
   ]
  },
  {
   "cell_type": "code",
   "execution_count": null,
   "id": "02666fe5-5884-4061-a2c3-00bd6011e87a",
   "metadata": {},
   "outputs": [],
   "source": [
    "%%time\n",
    "ov.pp.scale(adata)\n",
    "adata"
   ]
  },
  {
   "cell_type": "code",
   "execution_count": null,
   "id": "0a168025-7b3d-40f7-b47e-f96bc8b9e438",
   "metadata": {},
   "outputs": [],
   "source": [
    "%%time\n",
    "ov.pp.pca(adata,layer='scaled',n_pcs=50)\n",
    "adata"
   ]
  },
  {
   "cell_type": "code",
   "execution_count": null,
   "id": "2bd3dc65-cd5b-4300-824d-18db9e357b75",
   "metadata": {},
   "outputs": [],
   "source": [
    "%%time\n",
    "ov.pp.neighbors(adata, n_neighbors=15, n_pcs=50,\n",
    "               use_rep='scaled|original|X_pca')"
   ]
  },
  {
   "cell_type": "code",
   "execution_count": null,
   "id": "d8f7d862-7ee9-4961-9428-7fa7271ccc47",
   "metadata": {},
   "outputs": [],
   "source": [
    "%%time\n",
    "ov.pp.umap(adata)"
   ]
  },
  {
   "cell_type": "code",
   "execution_count": null,
   "id": "62807ee7-3093-4ca6-bd68-381a60bddc92",
   "metadata": {},
   "outputs": [],
   "source": [
    "ov.pl.embedding(adata,\n",
    "                basis='X_umap',\n",
    "                color='CST3',\n",
    "                frameon='small')"
   ]
  },
  {
   "cell_type": "code",
   "execution_count": null,
   "id": "e949337a-90d9-48c1-8fb6-08c11e414aba",
   "metadata": {},
   "outputs": [],
   "source": [
    "adata_raw=adata.raw.to_adata()\n",
    "ov.pp.score_genes_cell_cycle(adata_raw,species='human')"
   ]
  },
  {
   "cell_type": "code",
   "execution_count": null,
   "id": "f9848206-44c3-47ee-8738-166047b44304",
   "metadata": {},
   "outputs": [],
   "source": [
    "ov.pl.embedding(adata_raw,\n",
    "                basis='X_umap',\n",
    "                color='phase',\n",
    "                frameon='small')"
   ]
  },
  {
   "cell_type": "code",
   "execution_count": null,
   "id": "8d153480-b15e-499f-a65e-f23ca227a0c5",
   "metadata": {},
   "outputs": [],
   "source": [
    "ov.pp.leiden(adata,resolution=1)"
   ]
  },
  {
   "cell_type": "code",
   "execution_count": null,
   "id": "f4ad015f-584a-4cbc-a554-001f1f0752ac",
   "metadata": {},
   "outputs": [],
   "source": [
    "ov.pl.embedding(adata,\n",
    "                basis='X_umap',\n",
    "                color=['leiden', 'CST3', 'PTPRC'],\n",
    "                frameon='small',wspace=0.5)"
   ]
  },
  {
   "cell_type": "code",
   "execution_count": null,
   "id": "bf5279ca-107f-4e00-9086-2c94ca375ec1",
   "metadata": {},
   "outputs": [],
   "source": [
    "ov.pl.embedding(adata,\n",
    "                basis='X_umap',\n",
    "                color=['leiden', 'donor_id'],\n",
    "                frameon='small',wspace=0.5)"
   ]
  },
  {
   "cell_type": "code",
   "execution_count": null,
   "id": "a3ddc068-2547-4f21-b160-86b56385be06",
   "metadata": {},
   "outputs": [],
   "source": [
    "adata.write(\"/home/lugli/spuccio/Projects/SP039/GBmap/Pombo2021_Part1.h5ad\")"
   ]
  },
  {
   "cell_type": "code",
   "execution_count": 21,
   "id": "94bc3f41-6d0c-4b24-8171-dfcd3bf7929c",
   "metadata": {},
   "outputs": [
    {
     "data": {
      "text/plain": [
       "AnnData object with n_obs × n_vars = 79961 × 2000\n",
       "    obs: 'author', 'donor_id', 'is_primary_data', 'annotation_level_1', 'annotation_level_2', 'annotation_level_3', 'gbmap', 'method', 'stage', 'location', 'EGFR', 'MET', 'p53', 'TERT', 'ATRX', 'PTEN', 'MGMT', 'chr1p19q', 'PDGFR', 'suspension_type', 'tissue_ontology_term_id', 'cell_type', 'assay', 'tissue', 'development_stage', 'nUMIs', 'mito_perc', 'detected_genes', 'cell_complexity', 'sccomposite_doublet', 'sccomposite_consistency', 'passing_mt', 'passing_nUMIs', 'passing_ngenes', 'n_genes', 'leiden'\n",
       "    var: 'mt', 'n_cells', 'percent_cells', 'robust', 'means', 'variances', 'residual_variances', 'highly_variable_rank', 'highly_variable_features'\n",
       "    uns: 'X_approximate_distribution', 'batch_condition', 'default_embedding', 'hvg', 'schema_version', 'title', 'log1p', 'pca', 'scaled|original|pca_var_ratios', 'scaled|original|cum_sum_eigenvalues', 'neighbors', 'umap', 'leiden', 'leiden_colors', 'donor_id_colors'\n",
       "    obsm: 'X_umap', 'X_pca', 'scaled|original|X_pca'\n",
       "    varm: 'PCs', 'scaled|original|pca_loadings'\n",
       "    layers: 'counts', 'recover_counts', 'scaled'\n",
       "    obsp: 'distances', 'connectivities'"
      ]
     },
     "execution_count": 21,
     "metadata": {},
     "output_type": "execute_result"
    }
   ],
   "source": [
    "adata"
   ]
  },
  {
   "cell_type": "code",
   "execution_count": null,
   "id": "71d8bbdc-40ca-4342-b0e6-0923c351a4d4",
   "metadata": {},
   "outputs": [],
   "source": []
  }
 ],
 "metadata": {
  "kernelspec": {
   "display_name": "Python [conda env:GBM]",
   "language": "python",
   "name": "conda-env-GBM-py"
  },
  "language_info": {
   "codemirror_mode": {
    "name": "ipython",
    "version": 3
   },
   "file_extension": ".py",
   "mimetype": "text/x-python",
   "name": "python",
   "nbconvert_exporter": "python",
   "pygments_lexer": "ipython3",
   "version": "3.10.16"
  }
 },
 "nbformat": 4,
 "nbformat_minor": 5
}
