{
 "cells": [
  {
   "cell_type": "code",
   "execution_count": 30,
   "id": "c692b978",
   "metadata": {
    "ExecuteTime": {
     "end_time": "2022-06-07T13:24:48.867312Z",
     "start_time": "2022-06-07T13:24:48.861892Z"
    }
   },
   "outputs": [],
   "source": [
    "import scanpy as sc \n",
    "import pandas as pd"
   ]
  },
  {
   "cell_type": "code",
   "execution_count": 31,
   "id": "22693df8",
   "metadata": {
    "ExecuteTime": {
     "end_time": "2022-06-07T13:24:48.873857Z",
     "start_time": "2022-06-07T13:24:48.870587Z"
    }
   },
   "outputs": [],
   "source": [
    "outpath=\"/home/lugli/spuccio/Projects/SP039/FileH5AD_input/\""
   ]
  },
  {
   "cell_type": "code",
   "execution_count": 32,
   "id": "5601efc6",
   "metadata": {
    "ExecuteTime": {
     "end_time": "2022-06-07T13:24:49.124620Z",
     "start_time": "2022-06-07T13:24:48.875537Z"
    }
   },
   "outputs": [
    {
     "name": "stdout",
     "output_type": "stream",
     "text": [
      "ndGBM_02_1  ndGBM_03_2\tndGBM_07  rGBM01_B   rGBM_02_4\trGBM_04_1  rGBM_05_2\r\n",
      "ndGBM_02_2  ndGBM_03_3\tndGBM_08  rGBM01_C   rGBM_02_5\trGBM_04_2  rGBM_05_3\r\n",
      "ndGBM_02_4  ndGBM_04\tndGBM_09  rGBM01_D   rGBM_03_1\trGBM_04_3\r\n",
      "ndGBM_02_5  ndGBM_05\tndGBM_10  rGBM_02_2  rGBM_03_2\trGBM_04_4\r\n",
      "ndGBM_03_1  ndGBM_06\trGBM01_A  rGBM_02_3  rGBM_03_3\trGBM_05_1\r\n"
     ]
    }
   ],
   "source": [
    "!ls /home/lugli/spuccio/Projects/SP039/GSE182109_PMID35140215"
   ]
  },
  {
   "cell_type": "code",
   "execution_count": 33,
   "id": "2324bc40",
   "metadata": {
    "ExecuteTime": {
     "end_time": "2022-06-07T13:36:21.085489Z",
     "start_time": "2022-06-07T13:24:49.128046Z"
    }
   },
   "outputs": [],
   "source": [
    "ndGBM_02_1 = sc.read_10x_mtx(\"/home/lugli/spuccio/Projects/SP039/GSE182109_PMID35140215/ndGBM_02_1/\")\n",
    "ndGBM_02_2 = sc.read_10x_mtx(\"/home/lugli/spuccio/Projects/SP039/GSE182109_PMID35140215/ndGBM_02_2/\")\n",
    "ndGBM_02_4 = sc.read_10x_mtx(\"/home/lugli/spuccio/Projects/SP039/GSE182109_PMID35140215/ndGBM_02_4/\")\n",
    "ndGBM_02_5 = sc.read_10x_mtx(\"/home/lugli/spuccio/Projects/SP039/GSE182109_PMID35140215/ndGBM_02_5/\")\n",
    "ndGBM_03_1 = sc.read_10x_mtx(\"/home/lugli/spuccio/Projects/SP039/GSE182109_PMID35140215/ndGBM_03_1/\")\n",
    "ndGBM_03_2 = sc.read_10x_mtx(\"/home/lugli/spuccio/Projects/SP039/GSE182109_PMID35140215/ndGBM_03_2/\")\n",
    "ndGBM_03_3 = sc.read_10x_mtx(\"/home/lugli/spuccio/Projects/SP039/GSE182109_PMID35140215/ndGBM_03_3/\")\n",
    "ndGBM_04 = sc.read_10x_mtx(\"/home/lugli/spuccio/Projects/SP039/GSE182109_PMID35140215/ndGBM_04/\")\n",
    "ndGBM_05 = sc.read_10x_mtx(\"/home/lugli/spuccio/Projects/SP039/GSE182109_PMID35140215/ndGBM_05/\")\n",
    "ndGBM_06 = sc.read_10x_mtx(\"/home/lugli/spuccio/Projects/SP039/GSE182109_PMID35140215/ndGBM_06/\")\n",
    "ndGBM_07 = sc.read_10x_mtx(\"/home/lugli/spuccio/Projects/SP039/GSE182109_PMID35140215/ndGBM_07/\")\n",
    "ndGBM_08 = sc.read_10x_mtx(\"/home/lugli/spuccio/Projects/SP039/GSE182109_PMID35140215/ndGBM_08/\")\n",
    "ndGBM_09 = sc.read_10x_mtx(\"/home/lugli/spuccio/Projects/SP039/GSE182109_PMID35140215/ndGBM_09/\")\n",
    "ndGBM_10 = sc.read_10x_mtx(\"/home/lugli/spuccio/Projects/SP039/GSE182109_PMID35140215/ndGBM_10/\")\n",
    "rGBM01_A = sc.read_10x_mtx(\"/home/lugli/spuccio/Projects/SP039/GSE182109_PMID35140215/rGBM01_A/\")\n",
    "rGBM01_B = sc.read_10x_mtx(\"/home/lugli/spuccio/Projects/SP039/GSE182109_PMID35140215/rGBM01_B/\")\n",
    "rGBM01_C = sc.read_10x_mtx(\"/home/lugli/spuccio/Projects/SP039/GSE182109_PMID35140215/rGBM01_C/\")\n",
    "rGBM01_D = sc.read_10x_mtx(\"/home/lugli/spuccio/Projects/SP039/GSE182109_PMID35140215/rGBM01_D/\")\n",
    "rGBM_02_2 = sc.read_10x_mtx(\"/home/lugli/spuccio/Projects/SP039/GSE182109_PMID35140215/rGBM_02_2/\")\n",
    "rGBM_02_3 = sc.read_10x_mtx(\"/home/lugli/spuccio/Projects/SP039/GSE182109_PMID35140215/rGBM_02_3/\")\n",
    "rGBM_02_4 = sc.read_10x_mtx(\"/home/lugli/spuccio/Projects/SP039/GSE182109_PMID35140215/rGBM_02_4/\")\n",
    "rGBM_02_5 = sc.read_10x_mtx(\"/home/lugli/spuccio/Projects/SP039/GSE182109_PMID35140215/rGBM_02_5/\")\n",
    "rGBM_03_1 = sc.read_10x_mtx(\"/home/lugli/spuccio/Projects/SP039/GSE182109_PMID35140215/rGBM_03_2/\")\n",
    "rGBM_03_2 = sc.read_10x_mtx(\"/home/lugli/spuccio/Projects/SP039/GSE182109_PMID35140215/rGBM_03_2/\")\n",
    "rGBM_03_3 = sc.read_10x_mtx(\"/home/lugli/spuccio/Projects/SP039/GSE182109_PMID35140215/rGBM_03_3/\")\n",
    "rGBM_04_1 = sc.read_10x_mtx(\"/home/lugli/spuccio/Projects/SP039/GSE182109_PMID35140215/rGBM_04_1/\")\n",
    "rGBM_04_2 = sc.read_10x_mtx(\"/home/lugli/spuccio/Projects/SP039/GSE182109_PMID35140215/rGBM_04_2/\")\n",
    "rGBM_04_3 = sc.read_10x_mtx(\"/home/lugli/spuccio/Projects/SP039/GSE182109_PMID35140215/rGBM_04_3/\")\n",
    "rGBM_04_4 = sc.read_10x_mtx(\"/home/lugli/spuccio/Projects/SP039/GSE182109_PMID35140215/rGBM_04_4/\")\n",
    "rGBM_05_1 = sc.read_10x_mtx(\"/home/lugli/spuccio/Projects/SP039/GSE182109_PMID35140215/rGBM_05_1/\")\n",
    "rGBM_05_2 = sc.read_10x_mtx(\"/home/lugli/spuccio/Projects/SP039/GSE182109_PMID35140215/rGBM_05_2/\")\n",
    "rGBM_05_2 = sc.read_10x_mtx(\"/home/lugli/spuccio/Projects/SP039/GSE182109_PMID35140215/rGBM_05_2/\")\n",
    "rGBM_05_3 = sc.read_10x_mtx(\"/home/lugli/spuccio/Projects/SP039/GSE182109_PMID35140215/rGBM_05_3/\")\n"
   ]
  },
  {
   "cell_type": "code",
   "execution_count": 34,
   "id": "33936446",
   "metadata": {
    "ExecuteTime": {
     "end_time": "2022-06-07T13:36:21.170057Z",
     "start_time": "2022-06-07T13:36:21.087924Z"
    }
   },
   "outputs": [],
   "source": [
    "ndGBM_02_1.var_names_make_unique()\n",
    "ndGBM_02_2.var_names_make_unique()\n",
    "ndGBM_02_4.var_names_make_unique()\n",
    "ndGBM_02_5.var_names_make_unique()\n",
    "ndGBM_03_1.var_names_make_unique()\n",
    "ndGBM_03_2.var_names_make_unique()\n",
    "ndGBM_03_3.var_names_make_unique()\n",
    "ndGBM_04.var_names_make_unique()\n",
    "ndGBM_05.var_names_make_unique()\n",
    "ndGBM_06.var_names_make_unique()\n",
    "ndGBM_07.var_names_make_unique()\n",
    "ndGBM_08.var_names_make_unique()\n",
    "ndGBM_09.var_names_make_unique()\n",
    "ndGBM_10.var_names_make_unique()\n",
    "rGBM01_A.var_names_make_unique()\n",
    "rGBM01_B.var_names_make_unique()\n",
    "rGBM01_C.var_names_make_unique()\n",
    "rGBM01_D.var_names_make_unique()\n",
    "rGBM_02_2.var_names_make_unique()\n",
    "rGBM_02_3.var_names_make_unique()\n",
    "rGBM_02_4.var_names_make_unique()\n",
    "rGBM_02_5.var_names_make_unique()\n",
    "rGBM_03_1.var_names_make_unique()\n",
    "rGBM_03_2.var_names_make_unique()\n",
    "rGBM_03_3.var_names_make_unique()\n",
    "rGBM_04_1.var_names_make_unique()\n",
    "rGBM_04_2.var_names_make_unique()\n",
    "rGBM_04_3.var_names_make_unique()\n",
    "rGBM_04_4.var_names_make_unique()\n",
    "rGBM_05_1.var_names_make_unique()\n",
    "rGBM_05_2.var_names_make_unique()\n",
    "rGBM_05_3.var_names_make_unique()"
   ]
  },
  {
   "cell_type": "code",
   "execution_count": 35,
   "id": "6013d10f",
   "metadata": {
    "ExecuteTime": {
     "end_time": "2022-06-07T13:36:21.301075Z",
     "start_time": "2022-06-07T13:36:21.172002Z"
    }
   },
   "outputs": [],
   "source": [
    "ndGBM_02_1.var['GeneTemp']= list(ndGBM_02_1.var.index)\n",
    "ndGBM_02_2.var['GeneTemp']= list(ndGBM_02_2.var.index)\n",
    "ndGBM_02_4.var['GeneTemp']= list(ndGBM_02_4.var.index)\n",
    "ndGBM_02_5.var['GeneTemp']= list(ndGBM_02_5.var.index)\n",
    "ndGBM_03_1.var['GeneTemp']= list(ndGBM_03_1.var.index)\n",
    "ndGBM_03_2.var['GeneTemp']= list(ndGBM_03_2.var.index)\n",
    "ndGBM_03_3.var['GeneTemp']= list(ndGBM_03_3.var.index)\n",
    "ndGBM_04.var['GeneTemp']= list(ndGBM_04.var.index)\n",
    "ndGBM_05.var['GeneTemp']= list(ndGBM_05.var.index)\n",
    "ndGBM_06.var['GeneTemp']= list(ndGBM_06.var.index)\n",
    "ndGBM_07.var['GeneTemp']= list(ndGBM_07.var.index)\n",
    "ndGBM_08.var['GeneTemp']= list(ndGBM_08.var.index)\n",
    "ndGBM_09.var['GeneTemp']= list(ndGBM_09.var.index)\n",
    "ndGBM_10.var['GeneTemp']= list(ndGBM_10.var.index)\n",
    "rGBM01_A.var['GeneTemp']= list(rGBM01_A.var.index)\n",
    "rGBM01_B.var['GeneTemp']= list(rGBM01_B.var.index)\n",
    "rGBM01_C.var['GeneTemp']= list(rGBM01_C.var.index)\n",
    "rGBM01_D.var['GeneTemp']= list(rGBM01_D.var.index)\n",
    "rGBM_02_2.var['GeneTemp']= list(rGBM_02_2.var.index)\n",
    "rGBM_02_3.var['GeneTemp']= list(rGBM_02_3.var.index)\n",
    "rGBM_02_4.var['GeneTemp']= list(rGBM_02_4.var.index)\n",
    "rGBM_02_5.var['GeneTemp']= list(rGBM_02_5.var.index)\n",
    "rGBM_03_1.var['GeneTemp']= list(rGBM_03_1.var.index)\n",
    "rGBM_03_2.var['GeneTemp']= list(rGBM_03_2.var.index)\n",
    "rGBM_03_3.var['GeneTemp']= list(rGBM_03_3.var.index)\n",
    "rGBM_04_1.var['GeneTemp']= list(rGBM_04_1.var.index)\n",
    "rGBM_04_2.var['GeneTemp']= list(rGBM_04_2.var.index)\n",
    "rGBM_04_3.var['GeneTemp']= list(rGBM_04_3.var.index)\n",
    "rGBM_04_4.var['GeneTemp']= list(rGBM_04_4.var.index)\n",
    "rGBM_05_1.var['GeneTemp']= list(rGBM_05_1.var.index)\n",
    "rGBM_05_2.var['GeneTemp']= list(rGBM_05_2.var.index)\n",
    "rGBM_05_3.var['GeneTemp']= list(rGBM_05_3.var.index)"
   ]
  },
  {
   "cell_type": "code",
   "execution_count": 36,
   "id": "3c8eeba4",
   "metadata": {
    "ExecuteTime": {
     "end_time": "2022-06-07T13:36:22.972511Z",
     "start_time": "2022-06-07T13:36:21.302891Z"
    }
   },
   "outputs": [],
   "source": [
    "ndGBM_02_1.var['GeneTempClean']= list(ndGBM_02_1.var['GeneTemp'].str.split(\".\",0, expand=True)[0])\n",
    "ndGBM_02_2.var['GeneTempClean']= list(ndGBM_02_2.var['GeneTemp'].str.split(\".\",0, expand=True)[0])\n",
    "ndGBM_02_4.var['GeneTempClean']= list(ndGBM_02_4.var['GeneTemp'].str.split(\".\",0, expand=True)[0])\n",
    "ndGBM_02_5.var['GeneTempClean']= list(ndGBM_02_5.var['GeneTemp'].str.split(\".\",0, expand=True)[0])\n",
    "ndGBM_03_1.var['GeneTempClean']= list(ndGBM_03_1.var['GeneTemp'].str.split(\".\",0, expand=True)[0])\n",
    "ndGBM_03_2.var['GeneTempClean']= list(ndGBM_03_2.var['GeneTemp'].str.split(\".\",0, expand=True)[0])\n",
    "ndGBM_03_3.var['GeneTempClean']= list(ndGBM_03_3.var['GeneTemp'].str.split(\".\",0, expand=True)[0])\n",
    "ndGBM_04.var['GeneTempClean']= list(ndGBM_04.var['GeneTemp'].str.split(\".\",0, expand=True)[0])\n",
    "ndGBM_05.var['GeneTempClean']= list(ndGBM_05.var['GeneTemp'].str.split(\".\",0, expand=True)[0])\n",
    "ndGBM_06.var['GeneTempClean']= list(ndGBM_06.var['GeneTemp'].str.split(\".\",0, expand=True)[0])\n",
    "ndGBM_07.var['GeneTempClean']= list(ndGBM_07.var['GeneTemp'].str.split(\".\",0, expand=True)[0])\n",
    "ndGBM_08.var['GeneTempClean']= list(ndGBM_08.var['GeneTemp'].str.split(\".\",0, expand=True)[0])\n",
    "ndGBM_09.var['GeneTempClean']= list(ndGBM_09.var['GeneTemp'].str.split(\".\",0, expand=True)[0])\n",
    "ndGBM_10.var['GeneTempClean']= list(ndGBM_10.var['GeneTemp'].str.split(\".\",0, expand=True)[0])\n",
    "rGBM01_A.var['GeneTempClean']= list(rGBM01_A.var['GeneTemp'].str.split(\".\",0, expand=True)[0])\n",
    "rGBM01_B.var['GeneTempClean']= list(rGBM01_B.var['GeneTemp'].str.split(\".\",0, expand=True)[0])\n",
    "rGBM01_C.var['GeneTempClean']= list(rGBM01_C.var['GeneTemp'].str.split(\".\",0, expand=True)[0])\n",
    "rGBM01_D.var['GeneTempClean']= list(rGBM01_D.var['GeneTemp'].str.split(\".\",0, expand=True)[0])\n",
    "rGBM_02_2.var['GeneTempClean']= list(rGBM_02_2.var['GeneTemp'].str.split(\".\",0, expand=True)[0])\n",
    "rGBM_02_3.var['GeneTempClean']= list(rGBM_02_3.var['GeneTemp'].str.split(\".\",0, expand=True)[0])\n",
    "rGBM_02_4.var['GeneTempClean']= list(rGBM_02_4.var['GeneTemp'].str.split(\".\",0, expand=True)[0])\n",
    "rGBM_02_5.var['GeneTempClean']= list(rGBM_02_5.var['GeneTemp'].str.split(\".\",0, expand=True)[0])\n",
    "rGBM_03_1.var['GeneTempClean']= list(rGBM_03_1.var['GeneTemp'].str.split(\".\",0, expand=True)[0])\n",
    "rGBM_03_2.var['GeneTempClean']= list(rGBM_03_2.var['GeneTemp'].str.split(\".\",0, expand=True)[0])\n",
    "rGBM_03_3.var['GeneTempClean']= list(rGBM_03_3.var['GeneTemp'].str.split(\".\",0, expand=True)[0])\n",
    "rGBM_04_1.var['GeneTempClean']= list(rGBM_04_1.var['GeneTemp'].str.split(\".\",0, expand=True)[0])\n",
    "rGBM_04_2.var['GeneTempClean']= list(rGBM_04_2.var['GeneTemp'].str.split(\".\",0, expand=True)[0])\n",
    "rGBM_04_3.var['GeneTempClean']= list(rGBM_04_3.var['GeneTemp'].str.split(\".\",0, expand=True)[0])\n",
    "rGBM_04_4.var['GeneTempClean']= list(rGBM_04_4.var['GeneTemp'].str.split(\".\",0, expand=True)[0])\n",
    "rGBM_05_1.var['GeneTempClean']= list(rGBM_05_1.var['GeneTemp'].str.split(\".\",0, expand=True)[0])\n",
    "rGBM_05_2.var['GeneTempClean']= list(rGBM_05_2.var['GeneTemp'].str.split(\".\",0, expand=True)[0])\n",
    "rGBM_05_3.var['GeneTempClean']= list(rGBM_05_3.var['GeneTemp'].str.split(\".\",0, expand=True)[0])"
   ]
  },
  {
   "cell_type": "code",
   "execution_count": 37,
   "id": "a52847aa",
   "metadata": {
    "ExecuteTime": {
     "end_time": "2022-06-07T13:36:22.984720Z",
     "start_time": "2022-06-07T13:36:22.974379Z"
    }
   },
   "outputs": [],
   "source": [
    "ndGBM_02_1.var.index = ndGBM_02_1.var['GeneTempClean'] \n",
    "ndGBM_02_2.var.index = ndGBM_02_2.var['GeneTempClean'] \n",
    "ndGBM_02_4.var.index = ndGBM_02_4.var['GeneTempClean']\n",
    "ndGBM_02_5.var.index = ndGBM_02_5.var['GeneTempClean'] \n",
    "ndGBM_03_1.var.index = ndGBM_03_1.var['GeneTempClean'] \n",
    "ndGBM_03_2.var.index = ndGBM_03_2.var['GeneTempClean'] \n",
    "ndGBM_03_3.var.index = ndGBM_03_3.var['GeneTempClean'] \n",
    "ndGBM_04.var.index = ndGBM_04.var['GeneTempClean'] \n",
    "ndGBM_05.var.index = ndGBM_05.var['GeneTempClean'] \n",
    "ndGBM_06.var.index = ndGBM_06.var['GeneTempClean'] \n",
    "ndGBM_07.var.index = ndGBM_07.var['GeneTempClean'] \n",
    "ndGBM_08.var.index = ndGBM_08.var['GeneTempClean'] \n",
    "ndGBM_09.var.index = ndGBM_09.var['GeneTempClean'] \n",
    "ndGBM_10.var.index = ndGBM_10.var['GeneTempClean'] \n",
    "rGBM01_A.var.index = rGBM01_A.var['GeneTempClean'] \n",
    "rGBM01_B.var.index = rGBM01_B.var['GeneTempClean'] \n",
    "rGBM01_C.var.index = rGBM01_C.var['GeneTempClean'] \n",
    "rGBM01_D.var.index = rGBM01_D.var['GeneTempClean']\n",
    "rGBM_02_2.var.index = rGBM_02_2.var['GeneTempClean'] \n",
    "rGBM_02_3.var.index = rGBM_02_3.var['GeneTempClean'] \n",
    "rGBM_02_4.var.index = rGBM_02_4.var['GeneTempClean'] \n",
    "rGBM_02_5.var.index = rGBM_02_5.var['GeneTempClean'] \n",
    "rGBM_03_1.var.index = rGBM_03_1.var['GeneTempClean'] \n",
    "rGBM_03_2.var.index = rGBM_03_2.var['GeneTempClean'] \n",
    "rGBM_03_3.var.index = rGBM_03_3.var['GeneTempClean'] \n",
    "rGBM_04_1.var.index = rGBM_04_1.var['GeneTempClean'] \n",
    "rGBM_04_2.var.index = rGBM_04_2.var['GeneTempClean'] \n",
    "rGBM_04_3.var.index = rGBM_04_3.var['GeneTempClean'] \n",
    "rGBM_04_4.var.index = rGBM_04_4.var['GeneTempClean'] \n",
    "rGBM_05_1.var.index = rGBM_05_1.var['GeneTempClean'] \n",
    "rGBM_05_2.var.index = rGBM_05_2.var['GeneTempClean'] \n",
    "rGBM_05_3.var.index = rGBM_05_3.var['GeneTempClean'] "
   ]
  },
  {
   "cell_type": "code",
   "execution_count": 38,
   "id": "b7d4f44d",
   "metadata": {
    "ExecuteTime": {
     "end_time": "2022-06-07T13:36:23.000445Z",
     "start_time": "2022-06-07T13:36:22.986140Z"
    }
   },
   "outputs": [],
   "source": [
    "del ndGBM_02_1.var['GeneTemp']\n",
    "del ndGBM_02_1.var['GeneTempClean']\n",
    "\n",
    "del ndGBM_02_2.var['GeneTemp']\n",
    "del ndGBM_02_2.var['GeneTempClean']\n",
    "\n",
    "del ndGBM_02_4.var['GeneTemp']\n",
    "del ndGBM_02_4.var['GeneTempClean']\n",
    "\n",
    "del ndGBM_02_5.var['GeneTemp']\n",
    "del ndGBM_02_5.var['GeneTempClean']\n",
    "\n",
    "del ndGBM_03_1.var['GeneTemp']\n",
    "del ndGBM_03_1.var['GeneTempClean']\n",
    "\n",
    "del ndGBM_03_2.var['GeneTemp']\n",
    "del ndGBM_03_2.var['GeneTempClean']\n",
    "\n",
    "del ndGBM_03_3.var['GeneTemp']\n",
    "del ndGBM_03_3.var['GeneTempClean']\n",
    "\n",
    "del ndGBM_04.var['GeneTemp']\n",
    "del ndGBM_04.var['GeneTempClean']\n",
    "\n",
    "del ndGBM_05.var['GeneTemp']\n",
    "del ndGBM_05.var['GeneTempClean']\n",
    "\n",
    "del ndGBM_06.var['GeneTemp']\n",
    "del ndGBM_06.var['GeneTempClean']\n",
    "\n",
    "del ndGBM_07.var['GeneTemp']\n",
    "del ndGBM_07.var['GeneTempClean']\n",
    "\n",
    "del ndGBM_08.var['GeneTemp']\n",
    "del ndGBM_08.var['GeneTempClean']\n",
    "\n",
    "\n",
    "del ndGBM_09.var['GeneTemp']\n",
    "del ndGBM_09.var['GeneTempClean']\n",
    "\n",
    "del ndGBM_10.var['GeneTemp']\n",
    "del ndGBM_10.var['GeneTempClean']\n",
    "\n",
    "\n",
    "\n",
    "del rGBM01_A.var['GeneTemp']\n",
    "del rGBM01_A.var['GeneTempClean']\n",
    "\n",
    "del rGBM01_B.var['GeneTemp']\n",
    "del rGBM01_B.var['GeneTempClean']\n",
    "\n",
    "del rGBM01_C.var['GeneTemp']\n",
    "del rGBM01_C.var['GeneTempClean']\n",
    "\n",
    "del rGBM01_D.var['GeneTemp']\n",
    "del rGBM01_D.var['GeneTempClean']\n",
    "\n",
    "del rGBM_02_2.var['GeneTemp']\n",
    "del rGBM_02_2.var['GeneTempClean']\n",
    "\n",
    "del rGBM_02_3.var['GeneTemp']\n",
    "del rGBM_02_3.var['GeneTempClean']\n",
    "\n",
    "del rGBM_02_4.var['GeneTemp']\n",
    "del rGBM_02_4.var['GeneTempClean']\n",
    "\n",
    "del rGBM_02_5.var['GeneTemp']\n",
    "del rGBM_02_5.var['GeneTempClean']\n",
    "\n",
    "del rGBM_03_1.var['GeneTemp']\n",
    "del rGBM_03_1.var['GeneTempClean']\n",
    "\n",
    "del rGBM_03_2.var['GeneTemp']\n",
    "del rGBM_03_2.var['GeneTempClean']\n",
    "\n",
    "del rGBM_03_3.var['GeneTemp']\n",
    "del rGBM_03_3.var['GeneTempClean']\n",
    "\n",
    "del rGBM_04_1.var['GeneTemp']\n",
    "del rGBM_04_1.var['GeneTempClean']\n",
    "\n",
    "del rGBM_04_2.var['GeneTemp']\n",
    "del rGBM_04_2.var['GeneTempClean']\n",
    "\n",
    "\n",
    "del rGBM_04_3.var['GeneTemp']\n",
    "del rGBM_04_3.var['GeneTempClean']\n",
    "\n",
    "del rGBM_04_4.var['GeneTemp']\n",
    "del rGBM_04_4.var['GeneTempClean']\n",
    "\n",
    "\n",
    "\n",
    "del rGBM_05_1.var['GeneTemp']\n",
    "del rGBM_05_1.var['GeneTempClean']\n",
    "\n",
    "del rGBM_05_2.var['GeneTemp']\n",
    "del rGBM_05_2.var['GeneTempClean']\n",
    "\n",
    "del rGBM_05_3.var['GeneTemp']\n",
    "del rGBM_05_3.var['GeneTempClean']\n"
   ]
  },
  {
   "cell_type": "code",
   "execution_count": 39,
   "id": "4448305a",
   "metadata": {
    "ExecuteTime": {
     "end_time": "2022-06-07T13:36:23.015302Z",
     "start_time": "2022-06-07T13:36:23.001660Z"
    }
   },
   "outputs": [],
   "source": [
    "ndGBM_02_1.obs = ndGBM_02_1.obs.reset_index(drop=True)\n",
    "ndGBM_02_2.obs = ndGBM_02_2.obs.reset_index(drop=True)\n",
    "ndGBM_02_4.obs = ndGBM_02_4.obs.reset_index(drop=True)\n",
    "ndGBM_02_5.obs = ndGBM_02_5.obs.reset_index(drop=True)\n",
    "ndGBM_03_1.obs = ndGBM_03_1.obs.reset_index(drop=True)\n",
    "ndGBM_03_2.obs = ndGBM_03_2.obs.reset_index(drop=True)\n",
    "ndGBM_03_3.obs = ndGBM_03_3.obs.reset_index(drop=True)\n",
    "ndGBM_04.obs = ndGBM_04.obs.reset_index(drop=True)\n",
    "ndGBM_05.obs = ndGBM_05.obs.reset_index(drop=True)\n",
    "ndGBM_06.obs = ndGBM_06.obs.reset_index(drop=True)\n",
    "ndGBM_07.obs = ndGBM_07.obs.reset_index(drop=True)\n",
    "ndGBM_08.obs = ndGBM_08.obs.reset_index(drop=True)\n",
    "ndGBM_09.obs = ndGBM_09.obs.reset_index(drop=True)\n",
    "ndGBM_10.obs = ndGBM_10.obs.reset_index(drop=True)\n",
    "rGBM01_A.obs = rGBM01_A.obs.reset_index(drop=True)\n",
    "rGBM01_B.obs = rGBM01_B.obs.reset_index(drop=True)\n",
    "rGBM01_C.obs = rGBM01_C.obs.reset_index(drop=True)\n",
    "rGBM01_D.obs = rGBM01_D.obs.reset_index(drop=True)\n",
    "rGBM_02_2.obs = rGBM_02_2.obs.reset_index(drop=True)\n",
    "rGBM_02_3.obs = rGBM_02_3.obs.reset_index(drop=True)\n",
    "rGBM_02_4.obs = rGBM_02_4.obs.reset_index(drop=True)\n",
    "rGBM_02_5.obs = rGBM_02_5.obs.reset_index(drop=True)\n",
    "rGBM_03_1.obs = rGBM_03_1.obs.reset_index(drop=True)\n",
    "rGBM_03_2.obs = rGBM_03_2.obs.reset_index(drop=True)\n",
    "rGBM_03_3.obs = rGBM_03_3.obs.reset_index(drop=True)\n",
    "rGBM_04_1.obs = rGBM_04_1.obs.reset_index(drop=True)\n",
    "rGBM_04_2.obs = rGBM_04_2.obs.reset_index(drop=True)\n",
    "rGBM_04_3.obs = rGBM_04_3.obs.reset_index(drop=True)\n",
    "rGBM_04_4.obs = rGBM_04_4.obs.reset_index(drop=True)\n",
    "rGBM_05_1.obs = rGBM_05_1.obs.reset_index(drop=True)\n",
    "rGBM_05_2.obs = rGBM_05_2.obs.reset_index(drop=True)\n",
    "rGBM_05_3.obs = rGBM_05_3.obs.reset_index(drop=True)"
   ]
  },
  {
   "cell_type": "code",
   "execution_count": 40,
   "id": "c0244690",
   "metadata": {
    "ExecuteTime": {
     "end_time": "2022-06-07T13:36:23.149460Z",
     "start_time": "2022-06-07T13:36:23.016613Z"
    }
   },
   "outputs": [],
   "source": [
    "ndGBM_02_1.obs.set_index(\"ndGBM_02_1-\" + ndGBM_02_1.obs.index.astype(str),inplace=True)\n",
    "ndGBM_02_2.obs.set_index(\"ndGBM_02_2-\" + ndGBM_02_2.obs.index.astype(str),inplace=True)\n",
    "ndGBM_02_4.obs.set_index(\"ndGBM_02_4-\" + ndGBM_02_4.obs.index.astype(str),inplace=True)\n",
    "ndGBM_02_5.obs.set_index(\"ndGBM_02_5-\" + ndGBM_02_5.obs.index.astype(str),inplace=True)\n",
    "ndGBM_03_1.obs.set_index(\"ndGBM_03_1-\" + ndGBM_03_1.obs.index.astype(str),inplace=True)\n",
    "ndGBM_03_2.obs.set_index(\"ndGBM_03_2-\" + ndGBM_03_2.obs.index.astype(str),inplace=True)\n",
    "ndGBM_03_3.obs.set_index(\"ndGBM_03_3-\" + ndGBM_03_3.obs.index.astype(str),inplace=True)\n",
    "ndGBM_04.obs.set_index(\"ndGBM_04-\" + ndGBM_04.obs.index.astype(str),inplace=True)\n",
    "ndGBM_05.obs.set_index(\"ndGBM_05-\" + ndGBM_05.obs.index.astype(str),inplace=True)\n",
    "ndGBM_06.obs.set_index(\"ndGBM_06-\" + ndGBM_06.obs.index.astype(str),inplace=True)\n",
    "ndGBM_07.obs.set_index(\"ndGBM_07-\" + ndGBM_07.obs.index.astype(str),inplace=True)\n",
    "ndGBM_08.obs.set_index(\"ndGBM_08-\" + ndGBM_08.obs.index.astype(str),inplace=True)\n",
    "ndGBM_09.obs.set_index(\"ndGBM_09-\" + ndGBM_09.obs.index.astype(str),inplace=True)\n",
    "ndGBM_10.obs.set_index(\"ndGBM_10-\" + ndGBM_10.obs.index.astype(str),inplace=True)\n",
    "rGBM01_A.obs.set_index(\"rGBM01_A-\" + rGBM01_A.obs.index.astype(str),inplace=True)\n",
    "rGBM01_B.obs.set_index(\"rGBM01_B-\" + rGBM01_B.obs.index.astype(str),inplace=True)\n",
    "rGBM01_C.obs.set_index(\"rGBM01_C-\" + rGBM01_C.obs.index.astype(str),inplace=True)\n",
    "rGBM01_D.obs.set_index(\"rGBM01_D-\" + rGBM01_D.obs.index.astype(str),inplace=True)\n",
    "rGBM_02_2.obs.set_index(\"rGBM_02_2-\" + rGBM_02_2.obs.index.astype(str),inplace=True)\n",
    "rGBM_02_3.obs.set_index(\"rGBM_02_3-\" + rGBM_02_3.obs.index.astype(str),inplace=True)\n",
    "rGBM_02_4.obs.set_index(\"rGBM_02_4-\" + rGBM_02_4.obs.index.astype(str),inplace=True)\n",
    "rGBM_02_5.obs.set_index(\"rGBM_02_5-\" + rGBM_02_5.obs.index.astype(str),inplace=True)\n",
    "rGBM_03_1.obs.set_index(\"rGBM_03_1-\" + rGBM_03_1.obs.index.astype(str),inplace=True)\n",
    "rGBM_03_2.obs.set_index(\"rGBM_03_2-\" + rGBM_03_2.obs.index.astype(str),inplace=True)\n",
    "rGBM_03_3.obs.set_index(\"rGBM_03_3-\" + rGBM_03_3.obs.index.astype(str),inplace=True)\n",
    "rGBM_04_1.obs.set_index(\"rGBM_04_1-\" + rGBM_04_1.obs.index.astype(str),inplace=True)\n",
    "rGBM_04_2.obs.set_index(\"rGBM_04_2-\" + rGBM_04_2.obs.index.astype(str),inplace=True)\n",
    "rGBM_04_3.obs.set_index(\"rGBM_04_3-\" + rGBM_04_3.obs.index.astype(str),inplace=True)\n",
    "rGBM_04_4.obs.set_index(\"rGBM_04_4-\" + rGBM_04_4.obs.index.astype(str),inplace=True)\n",
    "rGBM_05_1.obs.set_index(\"rGBM_05_1-\" + rGBM_05_1.obs.index.astype(str),inplace=True)\n",
    "rGBM_05_2.obs.set_index(\"rGBM_05_2-\" + rGBM_05_2.obs.index.astype(str),inplace=True)\n",
    "rGBM_05_3.obs.set_index(\"rGBM_05_3-\" + rGBM_05_3.obs.index.astype(str),inplace=True)"
   ]
  },
  {
   "cell_type": "code",
   "execution_count": 41,
   "id": "a651b159",
   "metadata": {
    "ExecuteTime": {
     "end_time": "2022-06-07T13:36:23.488501Z",
     "start_time": "2022-06-07T13:36:23.151056Z"
    }
   },
   "outputs": [],
   "source": [
    "ndGBM_02_1.var_names_make_unique()\n",
    "ndGBM_02_2.var_names_make_unique()\n",
    "ndGBM_02_4.var_names_make_unique()\n",
    "ndGBM_02_5.var_names_make_unique()\n",
    "ndGBM_03_1.var_names_make_unique()\n",
    "ndGBM_03_2.var_names_make_unique()\n",
    "ndGBM_03_3.var_names_make_unique()\n",
    "ndGBM_04.var_names_make_unique()\n",
    "ndGBM_05.var_names_make_unique()\n",
    "ndGBM_06.var_names_make_unique()\n",
    "ndGBM_07.var_names_make_unique()\n",
    "ndGBM_08.var_names_make_unique()\n",
    "ndGBM_09.var_names_make_unique()\n",
    "ndGBM_10.var_names_make_unique()\n",
    "rGBM01_A.var_names_make_unique()\n",
    "rGBM01_B.var_names_make_unique()\n",
    "rGBM01_C.var_names_make_unique()\n",
    "rGBM01_D.var_names_make_unique()\n",
    "rGBM_02_2.var_names_make_unique()\n",
    "rGBM_02_3.var_names_make_unique()\n",
    "rGBM_02_4.var_names_make_unique()\n",
    "rGBM_02_5.var_names_make_unique()\n",
    "rGBM_03_1.var_names_make_unique()\n",
    "rGBM_03_2.var_names_make_unique()\n",
    "rGBM_03_3.var_names_make_unique()\n",
    "rGBM_04_1.var_names_make_unique()\n",
    "rGBM_04_2.var_names_make_unique()\n",
    "rGBM_04_3.var_names_make_unique()\n",
    "rGBM_04_4.var_names_make_unique()\n",
    "rGBM_05_1.var_names_make_unique()\n",
    "rGBM_05_2.var_names_make_unique()\n",
    "rGBM_05_3.var_names_make_unique()"
   ]
  },
  {
   "cell_type": "code",
   "execution_count": 42,
   "id": "d3a0e348",
   "metadata": {
    "ExecuteTime": {
     "end_time": "2022-06-07T13:36:26.474652Z",
     "start_time": "2022-06-07T13:36:23.489793Z"
    }
   },
   "outputs": [
    {
     "name": "stderr",
     "output_type": "stream",
     "text": [
      "/home/lugli/spuccio/anaconda3/envs/scanpy19/lib/python3.10/site-packages/anndata/_core/anndata.py:1785: FutureWarning: X.dtype being converted to np.float32 from float64. In the next version of anndata (0.9) conversion will not be automatic. Pass dtype explicitly to avoid this warning. Pass `AnnData(X, dtype=X.dtype, ...)` to get the future behavour.\n",
      "  [AnnData(sparse.csr_matrix(a.shape), obs=a.obs) for a in all_adatas],\n",
      "/home/lugli/spuccio/anaconda3/envs/scanpy19/lib/python3.10/site-packages/anndata/_core/anndata.py:1785: FutureWarning: X.dtype being converted to np.float32 from float64. In the next version of anndata (0.9) conversion will not be automatic. Pass dtype explicitly to avoid this warning. Pass `AnnData(X, dtype=X.dtype, ...)` to get the future behavour.\n",
      "  [AnnData(sparse.csr_matrix(a.shape), obs=a.obs) for a in all_adatas],\n",
      "/home/lugli/spuccio/anaconda3/envs/scanpy19/lib/python3.10/site-packages/anndata/_core/anndata.py:1785: FutureWarning: X.dtype being converted to np.float32 from float64. In the next version of anndata (0.9) conversion will not be automatic. Pass dtype explicitly to avoid this warning. Pass `AnnData(X, dtype=X.dtype, ...)` to get the future behavour.\n",
      "  [AnnData(sparse.csr_matrix(a.shape), obs=a.obs) for a in all_adatas],\n",
      "/home/lugli/spuccio/anaconda3/envs/scanpy19/lib/python3.10/site-packages/anndata/_core/anndata.py:1785: FutureWarning: X.dtype being converted to np.float32 from float64. In the next version of anndata (0.9) conversion will not be automatic. Pass dtype explicitly to avoid this warning. Pass `AnnData(X, dtype=X.dtype, ...)` to get the future behavour.\n",
      "  [AnnData(sparse.csr_matrix(a.shape), obs=a.obs) for a in all_adatas],\n",
      "/home/lugli/spuccio/anaconda3/envs/scanpy19/lib/python3.10/site-packages/anndata/_core/anndata.py:1785: FutureWarning: X.dtype being converted to np.float32 from float64. In the next version of anndata (0.9) conversion will not be automatic. Pass dtype explicitly to avoid this warning. Pass `AnnData(X, dtype=X.dtype, ...)` to get the future behavour.\n",
      "  [AnnData(sparse.csr_matrix(a.shape), obs=a.obs) for a in all_adatas],\n",
      "/home/lugli/spuccio/anaconda3/envs/scanpy19/lib/python3.10/site-packages/anndata/_core/anndata.py:1785: FutureWarning: X.dtype being converted to np.float32 from float64. In the next version of anndata (0.9) conversion will not be automatic. Pass dtype explicitly to avoid this warning. Pass `AnnData(X, dtype=X.dtype, ...)` to get the future behavour.\n",
      "  [AnnData(sparse.csr_matrix(a.shape), obs=a.obs) for a in all_adatas],\n",
      "/home/lugli/spuccio/anaconda3/envs/scanpy19/lib/python3.10/site-packages/anndata/_core/anndata.py:1785: FutureWarning: X.dtype being converted to np.float32 from float64. In the next version of anndata (0.9) conversion will not be automatic. Pass dtype explicitly to avoid this warning. Pass `AnnData(X, dtype=X.dtype, ...)` to get the future behavour.\n",
      "  [AnnData(sparse.csr_matrix(a.shape), obs=a.obs) for a in all_adatas],\n"
     ]
    }
   ],
   "source": [
    "CNSTM_068= rGBM01_A.concatenate(rGBM01_B,rGBM01_C,rGBM01_D)\n",
    "CNSTM_096= ndGBM_02_1.concatenate(ndGBM_02_2,ndGBM_02_4,ndGBM_02_5)\n",
    "CNSTM_375= rGBM_02_2.concatenate(rGBM_02_3,rGBM_02_4,rGBM_02_5)\n",
    "CNSTM_379= rGBM_03_1.concatenate(rGBM_03_2,rGBM_03_3)\n",
    "CNSTM_390= rGBM_04_1.concatenate(rGBM_04_2,rGBM_04_3,rGBM_04_4)\n",
    "CNSTM_394= ndGBM_03_1.concatenate(ndGBM_03_2,ndGBM_03_3)\n",
    "CNSTM_397= rGBM_05_1.concatenate(rGBM_05_2,rGBM_05_3)"
   ]
  },
  {
   "cell_type": "code",
   "execution_count": 43,
   "id": "bb31776e",
   "metadata": {
    "ExecuteTime": {
     "end_time": "2022-06-07T13:36:26.480412Z",
     "start_time": "2022-06-07T13:36:26.477077Z"
    }
   },
   "outputs": [],
   "source": [
    "del CNSTM_068.obs['batch']\n",
    "del CNSTM_096.obs['batch']\n",
    "del CNSTM_375.obs['batch']\n",
    "del CNSTM_379.obs['batch']\n",
    "del CNSTM_390.obs['batch']\n",
    "del CNSTM_394.obs['batch']\n",
    "del CNSTM_397.obs['batch']"
   ]
  },
  {
   "cell_type": "code",
   "execution_count": 44,
   "id": "b739ae7d",
   "metadata": {
    "ExecuteTime": {
     "end_time": "2022-06-07T13:36:26.489285Z",
     "start_time": "2022-06-07T13:36:26.481718Z"
    }
   },
   "outputs": [],
   "source": [
    "CNSTM_068.obs['SampleID'] = \"CNSTM_068\"\n",
    "CNSTM_068.obs['GEO_RNA'] = \"GSM5518596\"\n",
    "CNSTM_068.obs['Cohort'] = \"GSE182109\"\n",
    "CNSTM_068.obs['Type'] = \"PrimaryTumor\"  \n",
    "CNSTM_068.obs['Subtype'] = \"NotAvailable\"\n",
    "CNSTM_068.obs['Diagnosis'] = \"Glioblastoma\"\n",
    "CNSTM_068.obs['Grade'] = \"IV\"\n",
    "CNSTM_068.obs['Location'] = \"Left_Temporal\"\n",
    "CNSTM_068.obs['IDH1_Status'] = \"NotAvailable\"\n",
    "CNSTM_068.obs['EGFR_Status'] = \"NotAvailable\"\n",
    "CNSTM_068.obs['CellCount'] = \"4594\"\n",
    "CNSTM_068.obs['Sample'] = \"Patient85\"\n",
    "CNSTM_068.obs['Sex'] = \"F\"\n",
    "CNSTM_068.obs['Age'] = \"NotAvailable\"\n",
    "CNSTM_068.obs['Sorted'] = \"CD45\""
   ]
  },
  {
   "cell_type": "code",
   "execution_count": 45,
   "id": "1a3d1ebd",
   "metadata": {
    "ExecuteTime": {
     "end_time": "2022-06-07T13:36:26.497781Z",
     "start_time": "2022-06-07T13:36:26.490315Z"
    }
   },
   "outputs": [],
   "source": [
    "CNSTM_096.obs['SampleID'] = \"CNSTM_096\"\n",
    "CNSTM_096.obs['GEO_RNA'] = \"GSM5518608\"\n",
    "CNSTM_096.obs['Cohort'] = \"GSE182109\"\n",
    "CNSTM_096.obs['Type'] = \"PrimaryTumor\"  \n",
    "CNSTM_096.obs['Subtype'] = \"NotAvailable\"\n",
    "CNSTM_096.obs['Diagnosis'] = \"Glioblastoma\"\n",
    "CNSTM_096.obs['Grade'] = \"IV\"\n",
    "CNSTM_096.obs['Location'] = \"Frontal_Lobe\"\n",
    "CNSTM_096.obs['IDH1_Status'] = \"NotAvailable\"\n",
    "CNSTM_096.obs['EGFR_Status'] = \"NotAvailable\"\n",
    "CNSTM_096.obs['CellCount'] = \"31147\"\n",
    "CNSTM_096.obs['Sample'] = \"Patient86\"\n",
    "CNSTM_096.obs['Sex'] = \"M\"\n",
    "CNSTM_096.obs['Age'] = \"NotAvailable\"\n",
    "CNSTM_096.obs['Sorted'] = \"CD45\""
   ]
  },
  {
   "cell_type": "code",
   "execution_count": 46,
   "id": "5bcb2901",
   "metadata": {
    "ExecuteTime": {
     "end_time": "2022-06-07T13:36:26.507077Z",
     "start_time": "2022-06-07T13:36:26.498977Z"
    }
   },
   "outputs": [],
   "source": [
    "CNSTM_375.obs['SampleID'] = \"CNSTM_375\"\n",
    "CNSTM_375.obs['GEO_RNA'] = \"GSM5518612\"\n",
    "CNSTM_375.obs['Cohort'] = \"GSE182109\"\n",
    "CNSTM_375.obs['Type'] = \"PrimaryTumor\"  \n",
    "CNSTM_375.obs['Subtype'] = \"NotAvailable\"\n",
    "CNSTM_375.obs['Diagnosis'] = \"Glioblastoma\"\n",
    "CNSTM_375.obs['Grade'] = \"IV\"\n",
    "CNSTM_375.obs['Location'] = \"Right_Frontal\"\n",
    "CNSTM_375.obs['IDH1_Status'] = \"NotAvailable\"\n",
    "CNSTM_375.obs['EGFR_Status'] = \"NotAvailable\"\n",
    "CNSTM_375.obs['CellCount'] = \"26684\"\n",
    "CNSTM_375.obs['Sample'] = \"Patient87\"\n",
    "CNSTM_375.obs['Sex'] = \"F\"\n",
    "CNSTM_375.obs['Age'] = \"NotAvailable\"\n",
    "CNSTM_375.obs['Sorted'] = \"CD45\""
   ]
  },
  {
   "cell_type": "code",
   "execution_count": 47,
   "id": "6e4bb2e9",
   "metadata": {
    "ExecuteTime": {
     "end_time": "2022-06-07T13:36:26.514640Z",
     "start_time": "2022-06-07T13:36:26.508040Z"
    }
   },
   "outputs": [],
   "source": [
    "CNSTM_379.obs['SampleID'] = \"CNSTM_379\"\n",
    "CNSTM_379.obs['GEO_RNA'] = \"GSM5518596\"\n",
    "CNSTM_379.obs['Cohort'] = \"GSE182109\"\n",
    "CNSTM_379.obs['Type'] = \"PrimaryTumor\"  \n",
    "CNSTM_379.obs['Subtype'] = \"NotAvailable\"\n",
    "CNSTM_379.obs['Diagnosis'] = \"Glioblastoma\"\n",
    "CNSTM_379.obs['Grade'] = \"IV\"\n",
    "CNSTM_379.obs['Location'] = \"NotAvailable\"\n",
    "CNSTM_379.obs['IDH1_Status'] = \"NotAvailable\"\n",
    "CNSTM_379.obs['EGFR_Status'] = \"NotAvailable\"\n",
    "CNSTM_379.obs['CellCount'] = \"8732\"\n",
    "CNSTM_379.obs['Sample'] = \"Patient88\"\n",
    "CNSTM_379.obs['Sex'] = \"F\"\n",
    "CNSTM_379.obs['Age'] = \"NotAvailable\"\n",
    "CNSTM_379.obs['Sorted'] = \"CD45\""
   ]
  },
  {
   "cell_type": "code",
   "execution_count": 48,
   "id": "36ed1ed0",
   "metadata": {
    "ExecuteTime": {
     "end_time": "2022-06-07T13:36:26.523238Z",
     "start_time": "2022-06-07T13:36:26.515820Z"
    }
   },
   "outputs": [],
   "source": [
    "CNSTM_390.obs['SampleID'] = \"CNSTM_390\"\n",
    "CNSTM_390.obs['GEO_RNA'] = \"GSM5518619\"\n",
    "CNSTM_390.obs['Cohort'] = \"GSE182109\"\n",
    "CNSTM_390.obs['Type'] = \"PrimaryTumor\"  \n",
    "CNSTM_390.obs['Subtype'] = \"NotAvailable\"\n",
    "CNSTM_390.obs['Diagnosis'] = \"Glioblastoma\"\n",
    "CNSTM_390.obs['Grade'] = \"IV\"\n",
    "CNSTM_390.obs['Location'] = \"Left_Frontal\"\n",
    "CNSTM_390.obs['IDH1_Status'] = \"NotAvailable\"\n",
    "CNSTM_390.obs['EGFR_Status'] = \"NotAvailable\"\n",
    "CNSTM_390.obs['CellCount'] = \"29470\"\n",
    "CNSTM_390.obs['Sample'] = \"Patient89\"\n",
    "CNSTM_390.obs['Sex'] = \"F\"\n",
    "CNSTM_390.obs['Age'] = \"NotAvailable\"\n",
    "CNSTM_390.obs['Sorted'] = \"CD45\""
   ]
  },
  {
   "cell_type": "code",
   "execution_count": 49,
   "id": "df37b2cc",
   "metadata": {
    "ExecuteTime": {
     "end_time": "2022-06-07T13:36:26.531167Z",
     "start_time": "2022-06-07T13:36:26.524366Z"
    }
   },
   "outputs": [],
   "source": [
    "CNSTM_394.obs['SampleID'] = \"CNSTM_394\"\n",
    "CNSTM_394.obs['GEO_RNA'] = \"GSM5518623\"\n",
    "CNSTM_394.obs['Cohort'] = \"GSE182109\"\n",
    "CNSTM_394.obs['Type'] = \"PrimaryTumor\"  \n",
    "CNSTM_394.obs['Subtype'] = \"NotAvailable\"\n",
    "CNSTM_394.obs['Diagnosis'] = \"Glioblastoma\"\n",
    "CNSTM_394.obs['Grade'] = \"IV\"\n",
    "CNSTM_394.obs['Location'] = \"Left_Parietal\"\n",
    "CNSTM_394.obs['IDH1_Status'] = \"NotAvailable\"\n",
    "CNSTM_394.obs['EGFR_Status'] = \"NotAvailable\"\n",
    "CNSTM_394.obs['CellCount'] = \"17484\"\n",
    "CNSTM_394.obs['Sample'] = \"Patient90\"\n",
    "CNSTM_394.obs['Sex'] = \"F\"\n",
    "CNSTM_394.obs['Age'] = \"NotAvailable\"\n",
    "CNSTM_394.obs['Sorted'] = \"CD45\""
   ]
  },
  {
   "cell_type": "code",
   "execution_count": 50,
   "id": "67395a3c",
   "metadata": {
    "ExecuteTime": {
     "end_time": "2022-06-07T13:36:26.539384Z",
     "start_time": "2022-06-07T13:36:26.532373Z"
    }
   },
   "outputs": [],
   "source": [
    "CNSTM_397.obs['SampleID'] = \"CNSTM_397\"\n",
    "CNSTM_397.obs['GEO_RNA'] = \"GSM5518626\"\n",
    "CNSTM_397.obs['Cohort'] = \"GSE182109\"\n",
    "CNSTM_397.obs['Type'] = \"PrimaryTumor\"  \n",
    "CNSTM_397.obs['Subtype'] = \"NotAvailable\"\n",
    "CNSTM_397.obs['Diagnosis'] = \"Glioblastoma\"\n",
    "CNSTM_397.obs['Grade'] = \"IV\"\n",
    "CNSTM_397.obs['Location'] = \"Left_Temporal\"\n",
    "CNSTM_397.obs['IDH1_Status'] = \"NotAvailable\"\n",
    "CNSTM_397.obs['EGFR_Status'] = \"NotAvailable\"\n",
    "CNSTM_397.obs['CellCount'] = \"10842\"\n",
    "CNSTM_397.obs['Sample'] = \"Patient91\"\n",
    "CNSTM_397.obs['Sex'] = \"F\"\n",
    "CNSTM_397.obs['Age'] = \"NotAvailable\"\n",
    "CNSTM_397.obs['Sorted'] = \"CD45\""
   ]
  },
  {
   "cell_type": "code",
   "execution_count": 51,
   "id": "cce78bec",
   "metadata": {
    "ExecuteTime": {
     "end_time": "2022-06-07T13:36:26.547558Z",
     "start_time": "2022-06-07T13:36:26.540664Z"
    }
   },
   "outputs": [],
   "source": [
    "ndGBM_10.obs['SampleID'] = \"MDAG_1\"\n",
    "ndGBM_10.obs['GEO_RNA'] = \"GSM5518629\"\n",
    "ndGBM_10.obs['Cohort'] = \"GSE182109\"\n",
    "ndGBM_10.obs['Type'] = \"PrimaryTumor\"  \n",
    "ndGBM_10.obs['Subtype'] = \"NotAvailable\"\n",
    "ndGBM_10.obs['Diagnosis'] = \"Glioblastoma\"\n",
    "ndGBM_10.obs['Grade'] = \"III\"\n",
    "ndGBM_10.obs['Location'] = \"Left_Frontal\"\n",
    "ndGBM_10.obs['IDH1_Status'] = \"NotAvailable\"\n",
    "ndGBM_10.obs['EGFR_Status'] = \"NotAvailable\"\n",
    "ndGBM_10.obs['CellCount'] = \"11190\"\n",
    "ndGBM_10.obs['Sample'] = \"Patient92\"\n",
    "ndGBM_10.obs['Sex'] = \"F\"\n",
    "ndGBM_10.obs['Age'] = \"NotAvailable\"\n",
    "ndGBM_10.obs['Sorted'] = \"CD45\""
   ]
  },
  {
   "cell_type": "code",
   "execution_count": 52,
   "id": "6c87f0e6",
   "metadata": {
    "ExecuteTime": {
     "end_time": "2022-06-07T13:36:26.555555Z",
     "start_time": "2022-06-07T13:36:26.548652Z"
    }
   },
   "outputs": [],
   "source": [
    "ndGBM_04.obs['SampleID'] = \"MDAG_4\"\n",
    "ndGBM_04.obs['GEO_RNA'] = \"GSM5518633\"\n",
    "ndGBM_04.obs['Cohort'] = \"GSE182109\"\n",
    "ndGBM_04.obs['Type'] = \"PrimaryTumor\"  \n",
    "ndGBM_04.obs['Subtype'] = \"NotAvailable\"\n",
    "ndGBM_04.obs['Diagnosis'] = \"Glioblastoma\"\n",
    "ndGBM_04.obs['Grade'] = \"IV\"\n",
    "ndGBM_04.obs['Location'] = \"Right_Parietal\"\n",
    "ndGBM_04.obs['IDH1_Status'] = \"NotAvailable\"\n",
    "ndGBM_04.obs['EGFR_Status'] = \"NotAvailable\"\n",
    "ndGBM_04.obs['CellCount'] = \"8593\"\n",
    "ndGBM_04.obs['Sample'] = \"Patient93\"\n",
    "ndGBM_04.obs['Sex'] = \"F\"\n",
    "ndGBM_04.obs['Age'] = \"NotAvailable\"\n",
    "ndGBM_04.obs['Sorted'] = \"CD45\""
   ]
  },
  {
   "cell_type": "code",
   "execution_count": 53,
   "id": "b3409660",
   "metadata": {
    "ExecuteTime": {
     "end_time": "2022-06-07T13:36:26.563393Z",
     "start_time": "2022-06-07T13:36:26.556703Z"
    }
   },
   "outputs": [],
   "source": [
    "ndGBM_05.obs['SampleID'] = \"MDAG_06\"\n",
    "ndGBM_05.obs['GEO_RNA'] = \"GSM5518634\"\n",
    "ndGBM_05.obs['Cohort'] = \"GSE182109\"\n",
    "ndGBM_05.obs['Type'] = \"PrimaryTumor\"  \n",
    "ndGBM_05.obs['Subtype'] = \"NotAvailable\"\n",
    "ndGBM_05.obs['Diagnosis'] = \"Glioblastoma\"\n",
    "ndGBM_05.obs['Grade'] = \"IV\"\n",
    "ndGBM_05.obs['Location'] = \"Right_Frontal\"\n",
    "ndGBM_05.obs['IDH1_Status'] = \"NotAvailable\"\n",
    "ndGBM_05.obs['EGFR_Status'] = \"NotAvailable\"\n",
    "ndGBM_05.obs['CellCount'] = \"8267\"\n",
    "ndGBM_05.obs['Sample'] = \"Patient94\"\n",
    "ndGBM_05.obs['Sex'] = \"M\"\n",
    "ndGBM_05.obs['Age'] = \"NotAvailable\"\n",
    "ndGBM_05.obs['Sorted'] = \"CD45\""
   ]
  },
  {
   "cell_type": "code",
   "execution_count": 54,
   "id": "79f7042b",
   "metadata": {
    "ExecuteTime": {
     "end_time": "2022-06-07T13:36:26.571467Z",
     "start_time": "2022-06-07T13:36:26.564758Z"
    }
   },
   "outputs": [],
   "source": [
    "ndGBM_06.obs['SampleID'] = \"MDAG_07\"\n",
    "ndGBM_06.obs['GEO_RNA'] = \"GSM5518635\"\n",
    "ndGBM_06.obs['Cohort'] = \"GSE182109\"\n",
    "ndGBM_06.obs['Type'] = \"PrimaryTumor\"  \n",
    "ndGBM_06.obs['Subtype'] = \"NotAvailable\"\n",
    "ndGBM_06.obs['Diagnosis'] = \"Glioblastoma\"\n",
    "ndGBM_06.obs['Grade'] = \"IV\"\n",
    "ndGBM_06.obs['Location'] = \"Left_Frontal\"\n",
    "ndGBM_06.obs['IDH1_Status'] = \"NotAvailable\"\n",
    "ndGBM_06.obs['EGFR_Status'] = \"NotAvailable\"\n",
    "ndGBM_06.obs['CellCount'] = \"3884\"\n",
    "ndGBM_06.obs['Sample'] = \"Patient95\"\n",
    "ndGBM_06.obs['Sex'] = \"M\"\n",
    "ndGBM_06.obs['Age'] = \"NotAvailable\"\n",
    "ndGBM_06.obs['Sorted'] = \"CD45\""
   ]
  },
  {
   "cell_type": "code",
   "execution_count": 55,
   "id": "c716cb4c",
   "metadata": {
    "ExecuteTime": {
     "end_time": "2022-06-07T13:36:26.579815Z",
     "start_time": "2022-06-07T13:36:26.572621Z"
    }
   },
   "outputs": [],
   "source": [
    "ndGBM_07.obs['SampleID'] = \"MDAG_09\"\n",
    "ndGBM_07.obs['GEO_RNA'] = \"GSM5518636\"\n",
    "ndGBM_07.obs['Cohort'] = \"GSE182109\"\n",
    "ndGBM_07.obs['Type'] = \"PrimaryTumor\"  \n",
    "ndGBM_07.obs['Subtype'] = \"NotAvailable\"\n",
    "ndGBM_07.obs['Diagnosis'] = \"Glioblastoma\"\n",
    "ndGBM_07.obs['Grade'] = \"IV\"\n",
    "ndGBM_07.obs['Location'] = \"Right_Basal\"\n",
    "ndGBM_07.obs['IDH1_Status'] = \"NotAvailable\"\n",
    "ndGBM_07.obs['EGFR_Status'] = \"NotAvailable\"\n",
    "ndGBM_07.obs['CellCount'] = \"10304\"\n",
    "ndGBM_07.obs['Sample'] = \"Patient96\"\n",
    "ndGBM_07.obs['Sex'] = \"F\"\n",
    "ndGBM_07.obs['Age'] = \"NotAvailable\"\n",
    "ndGBM_07.obs['Sorted'] = \"CD45\""
   ]
  },
  {
   "cell_type": "code",
   "execution_count": 56,
   "id": "72c09174",
   "metadata": {
    "ExecuteTime": {
     "end_time": "2022-06-07T13:36:26.588037Z",
     "start_time": "2022-06-07T13:36:26.580944Z"
    }
   },
   "outputs": [],
   "source": [
    "ndGBM_08.obs['SampleID'] = \"MDAG_10\"\n",
    "ndGBM_08.obs['GEO_RNA'] = \"GSM5518637\"\n",
    "ndGBM_08.obs['Cohort'] = \"GSE182109\"\n",
    "ndGBM_08.obs['Type'] = \"PrimaryTumor\"  \n",
    "ndGBM_08.obs['Subtype'] = \"NotAvailable\"\n",
    "ndGBM_08.obs['Diagnosis'] = \"Glioblastoma\"\n",
    "ndGBM_08.obs['Grade'] = \"IV\"\n",
    "ndGBM_08.obs['Location'] = \"Right_Temporal\"\n",
    "ndGBM_08.obs['IDH1_Status'] = \"NotAvailable\"\n",
    "ndGBM_08.obs['EGFR_Status'] = \"NotAvailable\"\n",
    "ndGBM_08.obs['CellCount'] = \"6139\"\n",
    "ndGBM_08.obs['Sample'] = \"Patient97\"\n",
    "ndGBM_08.obs['Sex'] = \"M\"\n",
    "ndGBM_08.obs['Age'] = \"NotAvailable\"\n",
    "ndGBM_08.obs['Sorted'] = \"CD45\""
   ]
  },
  {
   "cell_type": "code",
   "execution_count": 57,
   "id": "3c45c295",
   "metadata": {
    "ExecuteTime": {
     "end_time": "2022-06-07T13:36:26.596326Z",
     "start_time": "2022-06-07T13:36:26.589368Z"
    }
   },
   "outputs": [],
   "source": [
    "ndGBM_09.obs['SampleID'] = \"MDAG_09\"\n",
    "ndGBM_09.obs['GEO_RNA'] = \"GSM5518639\"\n",
    "ndGBM_09.obs['Cohort'] = \"GSE182109\"\n",
    "ndGBM_09.obs['Type'] = \"PrimaryTumor\"  \n",
    "ndGBM_09.obs['Subtype'] = \"NotAvailable\"\n",
    "ndGBM_09.obs['Diagnosis'] = \"Glioblastoma\"\n",
    "ndGBM_09.obs['Grade'] = \"IV\"\n",
    "ndGBM_09.obs['Location'] = \"NotAvailable\"\n",
    "ndGBM_09.obs['IDH1_Status'] = \"NotAvailable\"\n",
    "ndGBM_09.obs['EGFR_Status'] = \"NotAvailable\"\n",
    "ndGBM_09.obs['CellCount'] = \"5779\"\n",
    "ndGBM_09.obs['Sample'] = \"Patient98\"\n",
    "ndGBM_09.obs['Sex'] = \"M\"\n",
    "ndGBM_09.obs['Age'] = \"NotAvailable\"\n",
    "ndGBM_09.obs['Sorted'] = \"CD45\""
   ]
  },
  {
   "cell_type": "code",
   "execution_count": 58,
   "id": "6d1d276e",
   "metadata": {
    "ExecuteTime": {
     "end_time": "2022-06-07T13:36:35.464142Z",
     "start_time": "2022-06-07T13:36:26.597457Z"
    }
   },
   "outputs": [],
   "source": [
    "ndGBM_09.write(outpath+\"ndGBM_09.h5ad\")\n",
    "ndGBM_08.write(outpath+\"ndGBM_08.h5ad\")\n",
    "ndGBM_07.write(outpath+\"ndGBM_07.h5ad\")\n",
    "ndGBM_06.write(outpath+\"ndGBM_06.h5ad\")\n",
    "ndGBM_05.write(outpath+\"ndGBM_05.h5ad\")\n",
    "ndGBM_04.write(outpath+\"ndGBM_04.h5ad\")\n",
    "ndGBM_10.write(outpath+\"ndGBM_10.h5ad\")\n",
    "CNSTM_397.write(outpath+\"CNSTM_397.h5ad\")\n",
    "CNSTM_394.write(outpath+\"CNSTM_394.h5ad\")\n",
    "CNSTM_390.write(outpath+\"CNSTM_390.h5ad\")\n",
    "CNSTM_379.write(outpath+\"CNSTM_379.h5ad\")\n",
    "CNSTM_375.write(outpath+\"CNSTM_375.h5ad\")\n",
    "CNSTM_096.write(outpath+\"CNSTM_096.h5ad\")\n",
    "CNSTM_068.write(outpath+\"CNSTM_068.h5ad\")"
   ]
  },
  {
   "cell_type": "code",
   "execution_count": null,
   "id": "cd147c1d",
   "metadata": {},
   "outputs": [],
   "source": []
  }
 ],
 "metadata": {
  "kernelspec": {
   "display_name": "Python [conda env:scanpy19]",
   "language": "python",
   "name": "conda-env-scanpy19-py"
  },
  "language_info": {
   "codemirror_mode": {
    "name": "ipython",
    "version": 3
   },
   "file_extension": ".py",
   "mimetype": "text/x-python",
   "name": "python",
   "nbconvert_exporter": "python",
   "pygments_lexer": "ipython3",
   "version": "3.10.4"
  },
  "toc": {
   "base_numbering": 1,
   "nav_menu": {},
   "number_sections": true,
   "sideBar": true,
   "skip_h1_title": false,
   "title_cell": "Table of Contents",
   "title_sidebar": "Contents",
   "toc_cell": false,
   "toc_position": {},
   "toc_section_display": true,
   "toc_window_display": false
  },
  "varInspector": {
   "cols": {
    "lenName": 16,
    "lenType": 16,
    "lenVar": 40
   },
   "kernels_config": {
    "python": {
     "delete_cmd_postfix": "",
     "delete_cmd_prefix": "del ",
     "library": "var_list.py",
     "varRefreshCmd": "print(var_dic_list())"
    },
    "r": {
     "delete_cmd_postfix": ") ",
     "delete_cmd_prefix": "rm(",
     "library": "var_list.r",
     "varRefreshCmd": "cat(var_dic_list()) "
    }
   },
   "types_to_exclude": [
    "module",
    "function",
    "builtin_function_or_method",
    "instance",
    "_Feature"
   ],
   "window_display": false
  }
 },
 "nbformat": 4,
 "nbformat_minor": 5
}
