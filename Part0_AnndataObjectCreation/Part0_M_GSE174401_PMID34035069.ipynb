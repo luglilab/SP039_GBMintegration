{
 "cells": [
  {
   "cell_type": "code",
   "execution_count": 1,
   "id": "98ead3cb",
   "metadata": {
    "ExecuteTime": {
     "end_time": "2022-05-31T22:15:25.329939Z",
     "start_time": "2022-05-31T22:15:22.492221Z"
    }
   },
   "outputs": [],
   "source": [
    "import scanpy as sc \n",
    "import pandas as pd"
   ]
  },
  {
   "cell_type": "code",
   "execution_count": 2,
   "id": "5892baed",
   "metadata": {
    "ExecuteTime": {
     "end_time": "2022-05-31T22:15:25.334269Z",
     "start_time": "2022-05-31T22:15:25.331898Z"
    }
   },
   "outputs": [],
   "source": [
    "outpath=\"/home/lugli/spuccio/Projects/SP039/FileH5AD_input/\""
   ]
  },
  {
   "cell_type": "code",
   "execution_count": 3,
   "id": "738bac1b",
   "metadata": {
    "ExecuteTime": {
     "end_time": "2022-05-31T22:15:28.374987Z",
     "start_time": "2022-05-31T22:15:25.335693Z"
    }
   },
   "outputs": [
    {
     "name": "stderr",
     "output_type": "stream",
     "text": [
      "/home/lugli/spuccio/anaconda3/envs/scanpy19/lib/python3.10/site-packages/anndata/_core/anndata.py:1830: UserWarning: Variable names are not unique. To make them unique, call `.var_names_make_unique`.\n",
      "  utils.warn_names_duplicates(\"var\")\n",
      "/home/lugli/spuccio/anaconda3/envs/scanpy19/lib/python3.10/site-packages/anndata/_core/anndata.py:1830: UserWarning: Variable names are not unique. To make them unique, call `.var_names_make_unique`.\n",
      "  utils.warn_names_duplicates(\"var\")\n",
      "/home/lugli/spuccio/anaconda3/envs/scanpy19/lib/python3.10/site-packages/anndata/_core/anndata.py:1830: UserWarning: Variable names are not unique. To make them unique, call `.var_names_make_unique`.\n",
      "  utils.warn_names_duplicates(\"var\")\n",
      "/home/lugli/spuccio/anaconda3/envs/scanpy19/lib/python3.10/site-packages/anndata/_core/anndata.py:1830: UserWarning: Variable names are not unique. To make them unique, call `.var_names_make_unique`.\n",
      "  utils.warn_names_duplicates(\"var\")\n",
      "/home/lugli/spuccio/anaconda3/envs/scanpy19/lib/python3.10/site-packages/anndata/_core/anndata.py:1830: UserWarning: Variable names are not unique. To make them unique, call `.var_names_make_unique`.\n",
      "  utils.warn_names_duplicates(\"var\")\n",
      "/home/lugli/spuccio/anaconda3/envs/scanpy19/lib/python3.10/site-packages/anndata/_core/anndata.py:1830: UserWarning: Variable names are not unique. To make them unique, call `.var_names_make_unique`.\n",
      "  utils.warn_names_duplicates(\"var\")\n",
      "/home/lugli/spuccio/anaconda3/envs/scanpy19/lib/python3.10/site-packages/anndata/_core/anndata.py:1830: UserWarning: Variable names are not unique. To make them unique, call `.var_names_make_unique`.\n",
      "  utils.warn_names_duplicates(\"var\")\n",
      "/home/lugli/spuccio/anaconda3/envs/scanpy19/lib/python3.10/site-packages/anndata/_core/anndata.py:1830: UserWarning: Variable names are not unique. To make them unique, call `.var_names_make_unique`.\n",
      "  utils.warn_names_duplicates(\"var\")\n",
      "/home/lugli/spuccio/anaconda3/envs/scanpy19/lib/python3.10/site-packages/anndata/_core/anndata.py:1830: UserWarning: Variable names are not unique. To make them unique, call `.var_names_make_unique`.\n",
      "  utils.warn_names_duplicates(\"var\")\n",
      "/home/lugli/spuccio/anaconda3/envs/scanpy19/lib/python3.10/site-packages/anndata/_core/anndata.py:1830: UserWarning: Variable names are not unique. To make them unique, call `.var_names_make_unique`.\n",
      "  utils.warn_names_duplicates(\"var\")\n",
      "/home/lugli/spuccio/anaconda3/envs/scanpy19/lib/python3.10/site-packages/anndata/_core/anndata.py:1830: UserWarning: Variable names are not unique. To make them unique, call `.var_names_make_unique`.\n",
      "  utils.warn_names_duplicates(\"var\")\n",
      "/home/lugli/spuccio/anaconda3/envs/scanpy19/lib/python3.10/site-packages/anndata/_core/anndata.py:1830: UserWarning: Variable names are not unique. To make them unique, call `.var_names_make_unique`.\n",
      "  utils.warn_names_duplicates(\"var\")\n",
      "/home/lugli/spuccio/anaconda3/envs/scanpy19/lib/python3.10/site-packages/anndata/_core/anndata.py:1830: UserWarning: Variable names are not unique. To make them unique, call `.var_names_make_unique`.\n",
      "  utils.warn_names_duplicates(\"var\")\n",
      "/home/lugli/spuccio/anaconda3/envs/scanpy19/lib/python3.10/site-packages/anndata/_core/anndata.py:1830: UserWarning: Variable names are not unique. To make them unique, call `.var_names_make_unique`.\n",
      "  utils.warn_names_duplicates(\"var\")\n",
      "/home/lugli/spuccio/anaconda3/envs/scanpy19/lib/python3.10/site-packages/anndata/_core/anndata.py:1830: UserWarning: Variable names are not unique. To make them unique, call `.var_names_make_unique`.\n",
      "  utils.warn_names_duplicates(\"var\")\n"
     ]
    }
   ],
   "source": [
    "run_MB_10_1 = sc.read_10x_h5(\"/home/lugli/spuccio/Projects/SP039/GSE174401_PMID34035069/fastq/run_MB-10_1/outs/filtered_feature_bc_matrix.h5\")\n",
    "run_MB_10 = sc.read_10x_h5(\"/home/lugli/spuccio/Projects/SP039/GSE174401_PMID34035069/fastq/run_MB-10/outs/filtered_feature_bc_matrix.h5\")\n",
    "run_MB_12 = sc.read_10x_h5(\"/home/lugli/spuccio/Projects/SP039/GSE174401_PMID34035069/fastq/run_MB-12/outs/filtered_feature_bc_matrix.h5\")\n",
    "run_MB_14 = sc.read_10x_h5(\"/home/lugli/spuccio/Projects/SP039/GSE174401_PMID34035069/fastq/run_MB-14/outs/filtered_feature_bc_matrix.h5\")\n",
    "run_MB_15 = sc.read_10x_h5(\"/home/lugli/spuccio/Projects/SP039/GSE174401_PMID34035069/fastq/run_MB-15/outs/filtered_feature_bc_matrix.h5\")\n",
    "run_MB_17 = sc.read_10x_h5(\"/home/lugli/spuccio/Projects/SP039/GSE174401_PMID34035069/fastq/run_MB-17/outs/filtered_feature_bc_matrix.h5\")\n",
    "run_MB_20 = sc.read_10x_h5(\"/home/lugli/spuccio/Projects/SP039/GSE174401_PMID34035069/fastq/run_MB-20/outs/filtered_feature_bc_matrix.h5\")\n",
    "run_MB_4_1 = sc.read_10x_h5(\"/home/lugli/spuccio/Projects/SP039/GSE174401_PMID34035069/fastq/run_MB-4_1/outs/filtered_feature_bc_matrix.h5\")\n",
    "run_MB_4_2 = sc.read_10x_h5(\"/home/lugli/spuccio/Projects/SP039/GSE174401_PMID34035069/fastq/run_MB-4_2/outs/filtered_feature_bc_matrix.h5\") \n",
    "run_MB_5_1 = sc.read_10x_h5(\"/home/lugli/spuccio/Projects/SP039/GSE174401_PMID34035069/fastq/run_MB-5_1/outs/filtered_feature_bc_matrix.h5\") \n",
    "run_MB_5_2 = sc.read_10x_h5(\"/home/lugli/spuccio/Projects/SP039/GSE174401_PMID34035069/fastq/run_MB-5_2/outs/filtered_feature_bc_matrix.h5\") \n",
    "run_MB_8_1 = sc.read_10x_h5(\"/home/lugli/spuccio/Projects/SP039/GSE174401_PMID34035069/fastq/run_MB-8_1/outs/filtered_feature_bc_matrix.h5\") \n",
    "run_MB_8_2 = sc.read_10x_h5(\"/home/lugli/spuccio/Projects/SP039/GSE174401_PMID34035069/fastq/run_MB-8_2/outs/filtered_feature_bc_matrix.h5\") \n",
    "run_MB_9_1 = sc.read_10x_h5(\"/home/lugli/spuccio/Projects/SP039/GSE174401_PMID34035069/fastq/run_MB-9_1/outs/filtered_feature_bc_matrix.h5\") \n",
    "run_MB_9_2 = sc.read_10x_h5(\"/home/lugli/spuccio/Projects/SP039/GSE174401_PMID34035069/fastq/run_MB-9_2/outs/filtered_feature_bc_matrix.h5\")"
   ]
  },
  {
   "cell_type": "code",
   "execution_count": 4,
   "id": "6afe878f",
   "metadata": {
    "ExecuteTime": {
     "end_time": "2022-05-31T22:15:28.383107Z",
     "start_time": "2022-05-31T22:15:28.376789Z"
    }
   },
   "outputs": [
    {
     "name": "stdout",
     "output_type": "stream",
     "text": [
      "NamespaceMagics\t get_ipython\t getsizeof\t json\t np\t outpath\t pd\t run_MB_10\t run_MB_10_1\t \n",
      "run_MB_12\t run_MB_14\t run_MB_15\t run_MB_17\t run_MB_20\t run_MB_4_1\t run_MB_4_2\t run_MB_5_1\t run_MB_5_2\t \n",
      "run_MB_8_1\t run_MB_8_2\t run_MB_9_1\t run_MB_9_2\t sc\t var_dic_list\t \n"
     ]
    }
   ],
   "source": [
    "%who"
   ]
  },
  {
   "cell_type": "code",
   "execution_count": 5,
   "id": "55fb0d84",
   "metadata": {
    "ExecuteTime": {
     "end_time": "2022-05-31T22:15:28.474844Z",
     "start_time": "2022-05-31T22:15:28.384240Z"
    }
   },
   "outputs": [],
   "source": [
    "run_MB_10.var_names_make_unique()\n",
    "run_MB_10_1.var_names_make_unique()\n",
    "run_MB_12.var_names_make_unique()\n",
    "run_MB_14.var_names_make_unique()\n",
    "run_MB_15.var_names_make_unique()\n",
    "run_MB_17.var_names_make_unique()\n",
    "run_MB_20.var_names_make_unique()\n",
    "run_MB_4_1.var_names_make_unique()\n",
    "run_MB_4_2.var_names_make_unique()\n",
    "run_MB_5_1.var_names_make_unique()\n",
    "run_MB_5_2.var_names_make_unique()\n",
    "run_MB_8_1.var_names_make_unique()\n",
    "run_MB_8_2.var_names_make_unique()\n",
    "run_MB_9_1.var_names_make_unique()\n",
    "run_MB_9_2.var_names_make_unique()"
   ]
  },
  {
   "cell_type": "code",
   "execution_count": 6,
   "id": "74eb5bfe",
   "metadata": {
    "ExecuteTime": {
     "end_time": "2022-05-31T22:15:28.523430Z",
     "start_time": "2022-05-31T22:15:28.476295Z"
    }
   },
   "outputs": [],
   "source": [
    "run_MB_10.var['GeneTemp']= list(run_MB_10.var.index)\n",
    "run_MB_10_1.var['GeneTemp']= list(run_MB_10_1.var.index)\n",
    "run_MB_12.var['GeneTemp']= list(run_MB_12.var.index)\n",
    "run_MB_14.var['GeneTemp']= list(run_MB_14.var.index)\n",
    "run_MB_15.var['GeneTemp']= list(run_MB_15.var.index)\n",
    "run_MB_17.var['GeneTemp']= list(run_MB_17.var.index)\n",
    "run_MB_20.var['GeneTemp']= list(run_MB_20.var.index)\n",
    "run_MB_4_1.var['GeneTemp']= list(run_MB_4_1.var.index)\n",
    "run_MB_4_2.var['GeneTemp']= list(run_MB_4_2.var.index)\n",
    "run_MB_5_1.var['GeneTemp']= list(run_MB_5_1.var.index)\n",
    "run_MB_5_2.var['GeneTemp']= list(run_MB_5_2.var.index)\n",
    "run_MB_8_1.var['GeneTemp']= list(run_MB_8_1.var.index)\n",
    "run_MB_8_2.var['GeneTemp']= list(run_MB_8_2.var.index)\n",
    "run_MB_9_1.var['GeneTemp']= list(run_MB_9_1.var.index)\n",
    "run_MB_9_2.var['GeneTemp']= list(run_MB_9_2.var.index)"
   ]
  },
  {
   "cell_type": "code",
   "execution_count": 7,
   "id": "2d635a76",
   "metadata": {
    "ExecuteTime": {
     "end_time": "2022-05-31T22:15:29.189963Z",
     "start_time": "2022-05-31T22:15:28.524922Z"
    }
   },
   "outputs": [],
   "source": [
    "run_MB_10.var['GeneTempClean']= list(run_MB_10.var['GeneTemp'].str.split(\".\",0, expand=True)[0])\n",
    "run_MB_10_1.var['GeneTempClean']= list(run_MB_10_1.var['GeneTemp'].str.split(\".\",0, expand=True)[0])\n",
    "run_MB_12.var['GeneTempClean']= list(run_MB_12.var['GeneTemp'].str.split(\".\",0, expand=True)[0])\n",
    "run_MB_14.var['GeneTempClean']= list(run_MB_14.var['GeneTemp'].str.split(\".\",0, expand=True)[0])\n",
    "run_MB_15.var['GeneTempClean']= list(run_MB_15.var['GeneTemp'].str.split(\".\",0, expand=True)[0])\n",
    "run_MB_17.var['GeneTempClean']= list(run_MB_17.var['GeneTemp'].str.split(\".\",0, expand=True)[0])\n",
    "run_MB_20.var['GeneTempClean']= list(run_MB_20.var['GeneTemp'].str.split(\".\",0, expand=True)[0])\n",
    "run_MB_4_1.var['GeneTempClean']= list(run_MB_4_1.var['GeneTemp'].str.split(\".\",0, expand=True)[0])\n",
    "run_MB_4_2.var['GeneTempClean']= list(run_MB_4_2.var['GeneTemp'].str.split(\".\",0, expand=True)[0])\n",
    "run_MB_5_1.var['GeneTempClean']= list(run_MB_5_1.var['GeneTemp'].str.split(\".\",0, expand=True)[0])\n",
    "run_MB_5_2.var['GeneTempClean']= list(run_MB_5_2.var['GeneTemp'].str.split(\".\",0, expand=True)[0])\n",
    "run_MB_8_1.var['GeneTempClean']= list(run_MB_8_1.var['GeneTemp'].str.split(\".\",0, expand=True)[0])\n",
    "run_MB_8_2.var['GeneTempClean']= list(run_MB_8_2.var['GeneTemp'].str.split(\".\",0, expand=True)[0])\n",
    "run_MB_9_1.var['GeneTempClean']= list(run_MB_9_1.var['GeneTemp'].str.split(\".\",0, expand=True)[0])\n",
    "run_MB_9_2.var['GeneTempClean']= list(run_MB_9_2.var['GeneTemp'].str.split(\".\",0, expand=True)[0])"
   ]
  },
  {
   "cell_type": "code",
   "execution_count": 8,
   "id": "da8c2912",
   "metadata": {
    "ExecuteTime": {
     "end_time": "2022-05-31T22:15:29.197787Z",
     "start_time": "2022-05-31T22:15:29.191580Z"
    }
   },
   "outputs": [],
   "source": [
    "run_MB_10.var.index = run_MB_10.var['GeneTempClean'] \n",
    "run_MB_10_1.var.index = run_MB_10_1.var['GeneTempClean'] \n",
    "run_MB_12.var.index = run_MB_12.var['GeneTempClean']\n",
    "run_MB_14.var.index = run_MB_14.var['GeneTempClean'] \n",
    "run_MB_15.var.index = run_MB_15.var['GeneTempClean'] \n",
    "run_MB_17.var.index = run_MB_17.var['GeneTempClean'] \n",
    "run_MB_20.var.index = run_MB_20.var['GeneTempClean'] \n",
    "run_MB_4_1.var.index = run_MB_4_1.var['GeneTempClean'] \n",
    "run_MB_4_2.var.index = run_MB_4_2.var['GeneTempClean'] \n",
    "run_MB_5_1.var.index = run_MB_5_1.var['GeneTempClean'] \n",
    "run_MB_5_2.var.index = run_MB_5_2.var['GeneTempClean'] \n",
    "run_MB_8_1.var.index = run_MB_8_1.var['GeneTempClean'] \n",
    "run_MB_8_2.var.index = run_MB_8_2.var['GeneTempClean'] \n",
    "run_MB_9_1.var.index = run_MB_9_1.var['GeneTempClean'] \n",
    "run_MB_9_2.var.index = run_MB_9_2.var['GeneTempClean'] "
   ]
  },
  {
   "cell_type": "code",
   "execution_count": 9,
   "id": "8459e721",
   "metadata": {
    "ExecuteTime": {
     "end_time": "2022-05-31T22:15:29.206506Z",
     "start_time": "2022-05-31T22:15:29.199115Z"
    }
   },
   "outputs": [],
   "source": [
    "del run_MB_10.var['GeneTemp']\n",
    "del run_MB_10.var['GeneTempClean']\n",
    "\n",
    "del run_MB_10_1.var['GeneTemp']\n",
    "del run_MB_10_1.var['GeneTempClean']\n",
    "\n",
    "del run_MB_12.var['GeneTemp']\n",
    "del run_MB_12.var['GeneTempClean']\n",
    "\n",
    "del run_MB_14.var['GeneTemp']\n",
    "del run_MB_14.var['GeneTempClean']\n",
    "\n",
    "del run_MB_15.var['GeneTemp']\n",
    "del run_MB_15.var['GeneTempClean']\n",
    "\n",
    "del run_MB_17.var['GeneTemp']\n",
    "del run_MB_17.var['GeneTempClean']\n",
    "\n",
    "del run_MB_20.var['GeneTemp']\n",
    "del run_MB_20.var['GeneTempClean']\n",
    "\n",
    "del run_MB_4_1.var['GeneTemp']\n",
    "del run_MB_4_1.var['GeneTempClean']\n",
    "\n",
    "del run_MB_4_2.var['GeneTemp']\n",
    "del run_MB_4_2.var['GeneTempClean']\n",
    "\n",
    "del run_MB_5_1.var['GeneTemp']\n",
    "del run_MB_5_1.var['GeneTempClean']\n",
    "\n",
    "del run_MB_5_2.var['GeneTemp']\n",
    "del run_MB_5_2.var['GeneTempClean']\n",
    "\n",
    "del run_MB_8_1.var['GeneTemp']\n",
    "del run_MB_8_1.var['GeneTempClean']\n",
    "\n",
    "del run_MB_8_2.var['GeneTemp']\n",
    "del run_MB_8_2.var['GeneTempClean']\n",
    "\n",
    "\n",
    "del run_MB_9_1.var['GeneTemp']\n",
    "del run_MB_9_1.var['GeneTempClean']\n",
    "\n",
    "del run_MB_9_2.var['GeneTemp']\n",
    "del run_MB_9_2.var['GeneTempClean']\n"
   ]
  },
  {
   "cell_type": "code",
   "execution_count": 10,
   "id": "bd9cc8ce",
   "metadata": {
    "ExecuteTime": {
     "end_time": "2022-05-31T22:15:29.213605Z",
     "start_time": "2022-05-31T22:15:29.208474Z"
    }
   },
   "outputs": [],
   "source": [
    "run_MB_10.obs = run_MB_10.obs.reset_index(drop=True)\n",
    "run_MB_10_1.obs = run_MB_10_1.obs.reset_index(drop=True)\n",
    "run_MB_12.obs = run_MB_12.obs.reset_index(drop=True)\n",
    "run_MB_14.obs = run_MB_14.obs.reset_index(drop=True)\n",
    "run_MB_15.obs = run_MB_15.obs.reset_index(drop=True)\n",
    "run_MB_17.obs = run_MB_17.obs.reset_index(drop=True)\n",
    "run_MB_20.obs = run_MB_20.obs.reset_index(drop=True)\n",
    "run_MB_4_1.obs = run_MB_4_1.obs.reset_index(drop=True)\n",
    "run_MB_4_2.obs = run_MB_4_2.obs.reset_index(drop=True)\n",
    "run_MB_5_1.obs = run_MB_5_1.obs.reset_index(drop=True)\n",
    "run_MB_5_2.obs = run_MB_5_2.obs.reset_index(drop=True)\n",
    "run_MB_8_1.obs = run_MB_8_1.obs.reset_index(drop=True)\n",
    "run_MB_8_2.obs = run_MB_8_2.obs.reset_index(drop=True)\n",
    "run_MB_9_1.obs = run_MB_9_1.obs.reset_index(drop=True)\n",
    "run_MB_9_2.obs = run_MB_9_2.obs.reset_index(drop=True)"
   ]
  },
  {
   "cell_type": "code",
   "execution_count": 11,
   "id": "a94a2b2e",
   "metadata": {
    "ExecuteTime": {
     "end_time": "2022-05-31T22:15:29.232731Z",
     "start_time": "2022-05-31T22:15:29.214695Z"
    }
   },
   "outputs": [],
   "source": [
    "run_MB_10.obs.set_index(\"MB_10-\" + run_MB_10.obs.index.astype(str),inplace=True)\n",
    "run_MB_10_1.obs.set_index(\"MB_10_1-\" + run_MB_10_1.obs.index.astype(str),inplace=True)\n",
    "run_MB_12.obs.set_index(\"MB_12-\" + run_MB_12.obs.index.astype(str),inplace=True)\n",
    "run_MB_14.obs.set_index(\"MB_14-\" + run_MB_14.obs.index.astype(str),inplace=True)\n",
    "run_MB_15.obs.set_index(\"MB_15-\" + run_MB_15.obs.index.astype(str),inplace=True)\n",
    "run_MB_17.obs.set_index(\"MB_17-\" + run_MB_17.obs.index.astype(str),inplace=True)\n",
    "run_MB_20.obs.set_index(\"MB_20-\" + run_MB_20.obs.index.astype(str),inplace=True)\n",
    "run_MB_4_1.obs.set_index(\"MB_4_1-\" + run_MB_4_1.obs.index.astype(str),inplace=True)\n",
    "run_MB_4_2.obs.set_index(\"MB_4_2-\" + run_MB_4_2.obs.index.astype(str),inplace=True)\n",
    "run_MB_5_1.obs.set_index(\"MB_5_1-\" + run_MB_5_1.obs.index.astype(str),inplace=True)\n",
    "run_MB_5_2.obs.set_index(\"MB_5_2-\" + run_MB_5_2.obs.index.astype(str),inplace=True)\n",
    "run_MB_8_1.obs.set_index(\"MB_8_1-\" + run_MB_8_1.obs.index.astype(str),inplace=True)\n",
    "run_MB_8_2.obs.set_index(\"MB_8_2-\" + run_MB_8_2.obs.index.astype(str),inplace=True)\n",
    "run_MB_9_1.obs.set_index(\"MB_9_1-\" + run_MB_9_1.obs.index.astype(str),inplace=True)\n",
    "run_MB_9_2.obs.set_index(\"MB_9_2-\" + run_MB_9_2.obs.index.astype(str),inplace=True)"
   ]
  },
  {
   "cell_type": "code",
   "execution_count": 12,
   "id": "cd245130",
   "metadata": {
    "ExecuteTime": {
     "end_time": "2022-05-31T22:15:29.379482Z",
     "start_time": "2022-05-31T22:15:29.234246Z"
    }
   },
   "outputs": [],
   "source": [
    "run_MB_10.var_names_make_unique()\n",
    "run_MB_10_1.var_names_make_unique()\n",
    "run_MB_12.var_names_make_unique()\n",
    "run_MB_14.var_names_make_unique()\n",
    "run_MB_15.var_names_make_unique()\n",
    "run_MB_17.var_names_make_unique()\n",
    "run_MB_20.var_names_make_unique()\n",
    "run_MB_4_1.var_names_make_unique()\n",
    "run_MB_4_2.var_names_make_unique()\n",
    "run_MB_5_1.var_names_make_unique()\n",
    "run_MB_5_2.var_names_make_unique()\n",
    "run_MB_8_1.var_names_make_unique()\n",
    "run_MB_8_2.var_names_make_unique()\n",
    "run_MB_9_1.var_names_make_unique()\n",
    "run_MB_9_2.var_names_make_unique()"
   ]
  },
  {
   "cell_type": "code",
   "execution_count": 13,
   "id": "88085e3d",
   "metadata": {
    "ExecuteTime": {
     "end_time": "2022-05-31T22:15:29.914574Z",
     "start_time": "2022-05-31T22:15:29.381112Z"
    }
   },
   "outputs": [
    {
     "name": "stderr",
     "output_type": "stream",
     "text": [
      "/home/lugli/spuccio/anaconda3/envs/scanpy19/lib/python3.10/site-packages/anndata/_core/anndata.py:1785: FutureWarning: X.dtype being converted to np.float32 from float64. In the next version of anndata (0.9) conversion will not be automatic. Pass dtype explicitly to avoid this warning. Pass `AnnData(X, dtype=X.dtype, ...)` to get the future behavour.\n",
      "  [AnnData(sparse.csr_matrix(a.shape), obs=a.obs) for a in all_adatas],\n",
      "/home/lugli/spuccio/anaconda3/envs/scanpy19/lib/python3.10/site-packages/anndata/_core/anndata.py:1785: FutureWarning: X.dtype being converted to np.float32 from float64. In the next version of anndata (0.9) conversion will not be automatic. Pass dtype explicitly to avoid this warning. Pass `AnnData(X, dtype=X.dtype, ...)` to get the future behavour.\n",
      "  [AnnData(sparse.csr_matrix(a.shape), obs=a.obs) for a in all_adatas],\n",
      "/home/lugli/spuccio/anaconda3/envs/scanpy19/lib/python3.10/site-packages/anndata/_core/anndata.py:1785: FutureWarning: X.dtype being converted to np.float32 from float64. In the next version of anndata (0.9) conversion will not be automatic. Pass dtype explicitly to avoid this warning. Pass `AnnData(X, dtype=X.dtype, ...)` to get the future behavour.\n",
      "  [AnnData(sparse.csr_matrix(a.shape), obs=a.obs) for a in all_adatas],\n",
      "/home/lugli/spuccio/anaconda3/envs/scanpy19/lib/python3.10/site-packages/anndata/_core/anndata.py:1785: FutureWarning: X.dtype being converted to np.float32 from float64. In the next version of anndata (0.9) conversion will not be automatic. Pass dtype explicitly to avoid this warning. Pass `AnnData(X, dtype=X.dtype, ...)` to get the future behavour.\n",
      "  [AnnData(sparse.csr_matrix(a.shape), obs=a.obs) for a in all_adatas],\n",
      "/home/lugli/spuccio/anaconda3/envs/scanpy19/lib/python3.10/site-packages/anndata/_core/anndata.py:1785: FutureWarning: X.dtype being converted to np.float32 from float64. In the next version of anndata (0.9) conversion will not be automatic. Pass dtype explicitly to avoid this warning. Pass `AnnData(X, dtype=X.dtype, ...)` to get the future behavour.\n",
      "  [AnnData(sparse.csr_matrix(a.shape), obs=a.obs) for a in all_adatas],\n"
     ]
    }
   ],
   "source": [
    "MB_10 = run_MB_10.concatenate([run_MB_10_1])\n",
    "MB_4 = run_MB_4_1.concatenate([run_MB_4_2])\n",
    "MB_5 = run_MB_5_1.concatenate([run_MB_5_2])\n",
    "MB_8 = run_MB_8_1.concatenate([run_MB_8_2])\n",
    "MB_9 = run_MB_9_1.concatenate([run_MB_9_2])"
   ]
  },
  {
   "cell_type": "code",
   "execution_count": 14,
   "id": "48826eae",
   "metadata": {
    "ExecuteTime": {
     "end_time": "2022-05-31T22:15:29.918952Z",
     "start_time": "2022-05-31T22:15:29.915954Z"
    }
   },
   "outputs": [],
   "source": [
    "del MB_10.obs['batch']\n",
    "del MB_4.obs['batch']\n",
    "del MB_5.obs['batch']\n",
    "del MB_8.obs['batch']\n",
    "del MB_9.obs['batch']"
   ]
  },
  {
   "cell_type": "code",
   "execution_count": 15,
   "id": "800087a5",
   "metadata": {
    "ExecuteTime": {
     "end_time": "2022-05-31T22:15:29.927109Z",
     "start_time": "2022-05-31T22:15:29.920569Z"
    }
   },
   "outputs": [],
   "source": [
    "MB_10.obs['SampleID'] = \"MB_10\"\n",
    "MB_10.obs['GEO_RNA'] = \"NotAvailable\"\n",
    "MB_10.obs['Cohort'] = \"GSE174401\"\n",
    "MB_10.obs['Type'] = \"Metastasis\"  \n",
    "MB_10.obs['Subtype'] = \"NotAvailable\"\n",
    "MB_10.obs['Diagnosis'] = \"Lung\"\n",
    "MB_10.obs['Grade'] = \"NotAvailable\"\n",
    "MB_10.obs['Location'] = \"Right_Parietal\"\n",
    "MB_10.obs['IDH1_Status'] = \"NotAvailable\"\n",
    "MB_10.obs['EGFR_Status'] = \"NotAvailable\"\n",
    "MB_10.obs['CellCount'] = \"914\"\n",
    "MB_10.obs['Sample'] = \"Patient71\"\n",
    "MB_10.obs['Sex'] = \"NotAvailable\"\n",
    "MB_10.obs['Age'] = \"NotAvailable\"\n",
    "MB_10.obs['Sorted'] = \"CD45\""
   ]
  },
  {
   "cell_type": "code",
   "execution_count": 16,
   "id": "3cca65fc",
   "metadata": {
    "ExecuteTime": {
     "end_time": "2022-05-31T22:15:29.934859Z",
     "start_time": "2022-05-31T22:15:29.928351Z"
    }
   },
   "outputs": [],
   "source": [
    "MB_4.obs['SampleID'] = \"MB_4\"\n",
    "MB_4.obs['GEO_RNA'] = \"NotAvailable\"\n",
    "MB_4.obs['Cohort'] = \"GSE174401\"\n",
    "MB_4.obs['Type'] = \"Metastasis\"  \n",
    "MB_4.obs['Subtype'] = \"NotAvailable\"\n",
    "MB_4.obs['Diagnosis'] = \"Lung\"\n",
    "MB_4.obs['Grade'] = \"NotAvailable\"\n",
    "MB_4.obs['Location'] = \"Right_Parietal\"\n",
    "MB_4.obs['IDH1_Status'] = \"NotAvailable\"\n",
    "MB_4.obs['EGFR_Status'] = \"NotAvailable\"\n",
    "MB_4.obs['CellCount'] = \"2057\"\n",
    "MB_4.obs['Sample'] = \"Patient72\"\n",
    "MB_4.obs['Sex'] = \"NotAvailable\"\n",
    "MB_4.obs['Age'] = \"NotAvailable\"\n",
    "MB_4.obs['Sorted'] = \"CD45\""
   ]
  },
  {
   "cell_type": "code",
   "execution_count": 17,
   "id": "4fb7804e",
   "metadata": {
    "ExecuteTime": {
     "end_time": "2022-05-31T22:15:29.942525Z",
     "start_time": "2022-05-31T22:15:29.935905Z"
    }
   },
   "outputs": [],
   "source": [
    "MB_5.obs['SampleID'] = \"MB_5\"\n",
    "MB_5.obs['GEO_RNA'] = \"NotAvailable\"\n",
    "MB_5.obs['Cohort'] = \"GSE174401\"\n",
    "MB_5.obs['Type'] = \"Metastasis\"  \n",
    "MB_5.obs['Subtype'] = \"NotAvailable\"\n",
    "MB_5.obs['Diagnosis'] = \"Lung\"\n",
    "MB_5.obs['Grade'] = \"NotAvailable\"\n",
    "MB_5.obs['Location'] = \"Right_Parietal\"\n",
    "MB_5.obs['IDH1_Status'] = \"NotAvailable\"\n",
    "MB_5.obs['EGFR_Status'] = \"NotAvailable\"\n",
    "MB_5.obs['CellCount'] = \"1140\"\n",
    "MB_5.obs['Sample'] = \"Patient73\"\n",
    "MB_5.obs['Sex'] = \"NotAvailable\"\n",
    "MB_5.obs['Age'] = \"NotAvailable\"\n",
    "MB_5.obs['Sorted'] = \"CD45\""
   ]
  },
  {
   "cell_type": "code",
   "execution_count": 18,
   "id": "ac810804",
   "metadata": {
    "ExecuteTime": {
     "end_time": "2022-05-31T22:15:29.949968Z",
     "start_time": "2022-05-31T22:15:29.943615Z"
    }
   },
   "outputs": [],
   "source": [
    "MB_8.obs['SampleID'] = \"MB_8\"\n",
    "MB_8.obs['GEO_RNA'] = \"NotAvailable\"\n",
    "MB_8.obs['Cohort'] = \"GSE174401\"\n",
    "MB_8.obs['Type'] = \"Metastasis\"  \n",
    "MB_8.obs['Subtype'] = \"NotAvailable\"\n",
    "MB_8.obs['Diagnosis'] = \"Lung\"\n",
    "MB_8.obs['Grade'] = \"NotAvailable\"\n",
    "MB_8.obs['Location'] = \"Right_Parietal\"\n",
    "MB_8.obs['IDH1_Status'] = \"NotAvailable\"\n",
    "MB_8.obs['EGFR_Status'] = \"NotAvailable\"\n",
    "MB_8.obs['CellCount'] = \"1831\"\n",
    "MB_8.obs['Sample'] = \"Patient74\"\n",
    "MB_8.obs['Sex'] = \"NotAvailable\"\n",
    "MB_8.obs['Age'] = \"NotAvailable\"\n",
    "MB_8.obs['Sorted'] = \"CD45\""
   ]
  },
  {
   "cell_type": "code",
   "execution_count": 19,
   "id": "c9d14ae7",
   "metadata": {
    "ExecuteTime": {
     "end_time": "2022-05-31T22:15:29.957732Z",
     "start_time": "2022-05-31T22:15:29.951069Z"
    }
   },
   "outputs": [],
   "source": [
    "MB_9.obs['SampleID'] = \"MB_9\"\n",
    "MB_9.obs['GEO_RNA'] = \"NotAvailable\"\n",
    "MB_9.obs['Cohort'] = \"GSE174401\"\n",
    "MB_9.obs['Type'] = \"Metastasis\"  \n",
    "MB_9.obs['Subtype'] = \"NotAvailable\"\n",
    "MB_9.obs['Diagnosis'] = \"Lung\"\n",
    "MB_9.obs['Grade'] = \"NotAvailable\"\n",
    "MB_9.obs['Location'] = \"Right_Parietal\"\n",
    "MB_9.obs['IDH1_Status'] = \"NotAvailable\"\n",
    "MB_9.obs['EGFR_Status'] = \"NotAvailable\"\n",
    "MB_9.obs['CellCount'] = \"1031\"\n",
    "MB_9.obs['Sample'] = \"Patient75\"\n",
    "MB_9.obs['Sex'] = \"NotAvailable\"\n",
    "MB_9.obs['Age'] = \"NotAvailable\"\n",
    "MB_9.obs['Sorted'] = \"CD45\""
   ]
  },
  {
   "cell_type": "code",
   "execution_count": 20,
   "id": "ba44339a",
   "metadata": {
    "ExecuteTime": {
     "end_time": "2022-05-31T22:15:29.965221Z",
     "start_time": "2022-05-31T22:15:29.958995Z"
    }
   },
   "outputs": [],
   "source": [
    "run_MB_12.obs['SampleID'] = \"MB_12\"\n",
    "run_MB_12.obs['GEO_RNA'] = \"NotAvailable\"\n",
    "run_MB_12.obs['Cohort'] = \"GSE174401\"\n",
    "run_MB_12.obs['Type'] = \"Metastasis\"  \n",
    "run_MB_12.obs['Subtype'] = \"NotAvailable\"\n",
    "run_MB_12.obs['Diagnosis'] = \"Lung\"\n",
    "run_MB_12.obs['Grade'] = \"NotAvailable\"\n",
    "run_MB_12.obs['Location'] = \"Right_Parietal\"\n",
    "run_MB_12.obs['IDH1_Status'] = \"NotAvailable\"\n",
    "run_MB_12.obs['EGFR_Status'] = \"NotAvailable\"\n",
    "run_MB_12.obs['CellCount'] = \"1259\"\n",
    "run_MB_12.obs['Sample'] = \"Patient76\"\n",
    "run_MB_12.obs['Sex'] = \"NotAvailable\"\n",
    "run_MB_12.obs['Age'] = \"NotAvailable\"\n",
    "run_MB_12.obs['Sorted'] = \"CD45\""
   ]
  },
  {
   "cell_type": "code",
   "execution_count": 21,
   "id": "860d57f9",
   "metadata": {
    "ExecuteTime": {
     "end_time": "2022-05-31T22:15:29.972692Z",
     "start_time": "2022-05-31T22:15:29.966410Z"
    }
   },
   "outputs": [],
   "source": [
    "run_MB_14.obs['SampleID'] = \"MB_14\"\n",
    "run_MB_14.obs['GEO_RNA'] = \"NotAvailable\"\n",
    "run_MB_14.obs['Cohort'] = \"GSE174401\"\n",
    "run_MB_14.obs['Type'] = \"Metastasis\"  \n",
    "run_MB_14.obs['Subtype'] = \"NotAvailable\"\n",
    "run_MB_14.obs['Diagnosis'] = \"Lung\"\n",
    "run_MB_14.obs['Grade'] = \"NotAvailable\"\n",
    "run_MB_14.obs['Location'] = \"Right_Parietal\"\n",
    "run_MB_14.obs['IDH1_Status'] = \"NotAvailable\"\n",
    "run_MB_14.obs['EGFR_Status'] = \"NotAvailable\"\n",
    "run_MB_14.obs['CellCount'] = \"1539\"\n",
    "run_MB_14.obs['Sample'] = \"Patient77\"\n",
    "run_MB_14.obs['Sex'] = \"NotAvailable\"\n",
    "run_MB_14.obs['Age'] = \"NotAvailable\"\n",
    "run_MB_14.obs['Sorted'] = \"CD45\""
   ]
  },
  {
   "cell_type": "code",
   "execution_count": 22,
   "id": "8e85ad82",
   "metadata": {
    "ExecuteTime": {
     "end_time": "2022-05-31T22:15:29.980451Z",
     "start_time": "2022-05-31T22:15:29.973850Z"
    }
   },
   "outputs": [],
   "source": [
    "run_MB_15.obs['SampleID'] = \"MB_15\"\n",
    "run_MB_15.obs['GEO_RNA'] = \"NotAvailable\"\n",
    "run_MB_15.obs['Cohort'] = \"GSE174401\"\n",
    "run_MB_15.obs['Type'] = \"Metastasis\"  \n",
    "run_MB_15.obs['Subtype'] = \"NotAvailable\"\n",
    "run_MB_15.obs['Diagnosis'] = \"Lung\"\n",
    "run_MB_15.obs['Grade'] = \"NotAvailable\"\n",
    "run_MB_15.obs['Location'] = \"Right_Parietal\"\n",
    "run_MB_15.obs['IDH1_Status'] = \"NotAvailable\"\n",
    "run_MB_15.obs['EGFR_Status'] = \"NotAvailable\"\n",
    "run_MB_15.obs['CellCount'] = \"1729\"\n",
    "run_MB_15.obs['Sample'] = \"Patient78\"\n",
    "run_MB_15.obs['Sex'] = \"NotAvailable\"\n",
    "run_MB_15.obs['Age'] = \"NotAvailable\"\n",
    "run_MB_15.obs['Sorted'] = \"CD45\""
   ]
  },
  {
   "cell_type": "code",
   "execution_count": 23,
   "id": "4b223bac",
   "metadata": {
    "ExecuteTime": {
     "end_time": "2022-05-31T22:15:29.989931Z",
     "start_time": "2022-05-31T22:15:29.981486Z"
    }
   },
   "outputs": [],
   "source": [
    "run_MB_17.obs['SampleID'] = \"MB_17\"\n",
    "run_MB_17.obs['GEO_RNA'] = \"NotAvailable\"\n",
    "run_MB_17.obs['Cohort'] = \"GSE174401\"\n",
    "run_MB_17.obs['Type'] = \"Metastasis\"  \n",
    "run_MB_17.obs['Subtype'] = \"NotAvailable\"\n",
    "run_MB_17.obs['Diagnosis'] = \"Lung\"\n",
    "run_MB_17.obs['Grade'] = \"NotAvailable\"\n",
    "run_MB_17.obs['Location'] = \"Right_Parietal\"\n",
    "run_MB_17.obs['IDH1_Status'] = \"NotAvailable\"\n",
    "run_MB_17.obs['EGFR_Status'] = \"NotAvailable\"\n",
    "run_MB_17.obs['CellCount'] = \"1257\"\n",
    "run_MB_17.obs['Sample'] = \"Patient79\"\n",
    "run_MB_17.obs['Sex'] = \"NotAvailable\"\n",
    "run_MB_17.obs['Age'] = \"NotAvailable\"\n",
    "run_MB_17.obs['Sorted'] = \"CD45\""
   ]
  },
  {
   "cell_type": "code",
   "execution_count": 24,
   "id": "99ccc813",
   "metadata": {
    "ExecuteTime": {
     "end_time": "2022-05-31T22:15:29.998219Z",
     "start_time": "2022-05-31T22:15:29.991172Z"
    }
   },
   "outputs": [],
   "source": [
    "run_MB_20.obs['SampleID'] = \"MB_20\"\n",
    "run_MB_20.obs['GEO_RNA'] = \"NotAvailable\"\n",
    "run_MB_20.obs['Cohort'] = \"GSE174401\"\n",
    "run_MB_20.obs['Type'] = \"Metastasis\"  \n",
    "run_MB_20.obs['Subtype'] = \"NotAvailable\"\n",
    "run_MB_20.obs['Diagnosis'] = \"Lung\"\n",
    "run_MB_20.obs['Grade'] = \"NotAvailable\"\n",
    "run_MB_20.obs['Location'] = \"Right_Parietal\"\n",
    "run_MB_20.obs['IDH1_Status'] = \"NotAvailable\"\n",
    "run_MB_20.obs['EGFR_Status'] = \"NotAvailable\"\n",
    "run_MB_20.obs['CellCount'] = \"1605\"\n",
    "run_MB_20.obs['Sample'] = \"Patient80\"\n",
    "run_MB_20.obs['Sex'] = \"NotAvailable\"\n",
    "run_MB_20.obs['Age'] = \"NotAvailable\"\n",
    "run_MB_20.obs['Sorted'] = \"CD45\""
   ]
  },
  {
   "cell_type": "code",
   "execution_count": 25,
   "id": "66ac0a2a",
   "metadata": {
    "ExecuteTime": {
     "end_time": "2022-05-31T22:15:31.495829Z",
     "start_time": "2022-05-31T22:15:29.999661Z"
    }
   },
   "outputs": [],
   "source": [
    "MB_10.write(outpath+\"MB_10.h5ad\")\n",
    "MB_4.write(outpath+\"MB_4.h5ad\")\n",
    "MB_5.write(outpath+\"MB_5.h5ad\")\n",
    "MB_8.write(outpath+\"MB_8.h5ad\")\n",
    "MB_9.write(outpath+\"MB_9.h5ad\")\n",
    "run_MB_12.write(outpath+\"MB_12.h5ad\")\n",
    "run_MB_14.write(outpath+\"MB_14.h5ad\")\n",
    "run_MB_15.write(outpath+\"MB_15.h5ad\")\n",
    "run_MB_17.write(outpath+\"MB_17.h5ad\")\n",
    "run_MB_20.write(outpath+\"MB_20.h5ad\")"
   ]
  }
 ],
 "metadata": {
  "kernelspec": {
   "display_name": "Python [conda env:scanpy19]",
   "language": "python",
   "name": "conda-env-scanpy19-py"
  },
  "language_info": {
   "codemirror_mode": {
    "name": "ipython",
    "version": 3
   },
   "file_extension": ".py",
   "mimetype": "text/x-python",
   "name": "python",
   "nbconvert_exporter": "python",
   "pygments_lexer": "ipython3",
   "version": "3.10.4"
  },
  "toc": {
   "base_numbering": 1,
   "nav_menu": {},
   "number_sections": true,
   "sideBar": true,
   "skip_h1_title": false,
   "title_cell": "Table of Contents",
   "title_sidebar": "Contents",
   "toc_cell": false,
   "toc_position": {},
   "toc_section_display": true,
   "toc_window_display": false
  },
  "varInspector": {
   "cols": {
    "lenName": 16,
    "lenType": 16,
    "lenVar": 40
   },
   "kernels_config": {
    "python": {
     "delete_cmd_postfix": "",
     "delete_cmd_prefix": "del ",
     "library": "var_list.py",
     "varRefreshCmd": "print(var_dic_list())"
    },
    "r": {
     "delete_cmd_postfix": ") ",
     "delete_cmd_prefix": "rm(",
     "library": "var_list.r",
     "varRefreshCmd": "cat(var_dic_list()) "
    }
   },
   "types_to_exclude": [
    "module",
    "function",
    "builtin_function_or_method",
    "instance",
    "_Feature"
   ],
   "window_display": false
  }
 },
 "nbformat": 4,
 "nbformat_minor": 5
}
