{
 "cells": [
  {
   "cell_type": "code",
   "execution_count": 1,
   "id": "df97405c",
   "metadata": {
    "ExecuteTime": {
     "end_time": "2022-06-08T15:53:38.868142Z",
     "start_time": "2022-06-08T15:53:37.269984Z"
    }
   },
   "outputs": [],
   "source": [
    "import pandas as pd\n",
    "import scanpy as sc"
   ]
  },
  {
   "cell_type": "code",
   "execution_count": 2,
   "id": "16a13e22",
   "metadata": {
    "ExecuteTime": {
     "end_time": "2022-06-08T15:53:38.872655Z",
     "start_time": "2022-06-08T15:53:38.870266Z"
    }
   },
   "outputs": [],
   "source": [
    "outpath=\"/home/lugli/spuccio/Projects/SP039/FileH5AD_input/\""
   ]
  },
  {
   "cell_type": "code",
   "execution_count": 3,
   "id": "f82f8740",
   "metadata": {
    "ExecuteTime": {
     "end_time": "2022-06-08T15:53:39.024291Z",
     "start_time": "2022-06-08T15:53:38.874000Z"
    }
   },
   "outputs": [
    {
     "name": "stdout",
     "output_type": "stream",
     "text": [
      "41467_2022_28523_MOESM4_ESM.xlsx  counts192UKF.csv  counts317UKF.csv\r\n",
      "counts154UKF.csv\t\t  counts194UKF.csv  counts322UKF.csv\r\n",
      "counts185UKF.csv\t\t  counts294UKF.csv  countsP234_JAKUKF.csv\r\n"
     ]
    }
   ],
   "source": [
    "!ls /home/lugli/spuccio/Projects/SP039/PMID35177622"
   ]
  },
  {
   "cell_type": "code",
   "execution_count": 4,
   "id": "42ed3ab6",
   "metadata": {
    "ExecuteTime": {
     "end_time": "2022-06-08T15:55:33.068477Z",
     "start_time": "2022-06-08T15:53:39.029013Z"
    }
   },
   "outputs": [],
   "source": [
    "UKF154 = sc.read_csv(\"/home/lugli/spuccio/Projects/SP039/PMID35177622/counts154UKF.csv\")\n",
    "UKF185 = sc.read_csv(\"/home/lugli/spuccio/Projects/SP039/PMID35177622/counts185UKF.csv\")\n",
    "UKF194 = sc.read_csv(\"/home/lugli/spuccio/Projects/SP039/PMID35177622/counts194UKF.csv\")\n",
    "UKF294 = sc.read_csv(\"/home/lugli/spuccio/Projects/SP039/PMID35177622/counts294UKF.csv\")\n",
    "UKF317 = sc.read_csv(\"/home/lugli/spuccio/Projects/SP039/PMID35177622/counts317UKF.csv\")\n",
    "UKF322 = sc.read_csv(\"/home/lugli/spuccio/Projects/SP039/PMID35177622/counts322UKF.csv\")\n",
    "UKF192 = sc.read_csv(\"/home/lugli/spuccio/Projects/SP039/PMID35177622/counts192UKF.csv\")\n",
    "UKF234 = sc.read_csv(\"/home/lugli/spuccio/Projects/SP039/PMID35177622/countsP234_JAKUKF.csv\")"
   ]
  },
  {
   "cell_type": "code",
   "execution_count": 5,
   "id": "a867fab2",
   "metadata": {
    "ExecuteTime": {
     "end_time": "2022-06-08T15:55:33.075259Z",
     "start_time": "2022-06-08T15:55:33.070434Z"
    }
   },
   "outputs": [],
   "source": [
    "UKF154 = UKF154.T\n",
    "UKF185 = UKF185.T\n",
    "UKF194 = UKF194.T\n",
    "UKF294 = UKF294.T\n",
    "UKF317 = UKF317.T\n",
    "UKF322 =  UKF322.T\n",
    "UKF192 = UKF192.T\n",
    "UKF234 =  UKF234.T"
   ]
  },
  {
   "cell_type": "code",
   "execution_count": 6,
   "id": "762b4a4d",
   "metadata": {
    "ExecuteTime": {
     "end_time": "2022-06-08T15:55:33.111633Z",
     "start_time": "2022-06-08T15:55:33.076776Z"
    }
   },
   "outputs": [],
   "source": [
    "UKF154.var['GeneTemp']= list(UKF154.var.index)\n",
    "UKF185.var['GeneTemp']= list(UKF185.var.index)\n",
    "UKF194.var['GeneTemp']= list(UKF194.var.index)\n",
    "UKF294.var['GeneTemp']= list(UKF294.var.index)\n",
    "UKF317.var['GeneTemp']= list(UKF317.var.index)\n",
    "UKF322.var['GeneTemp']= list(UKF322.var.index)\n",
    "UKF192.var['GeneTemp']= list(UKF192.var.index)\n",
    "UKF234.var['GeneTemp']= list(UKF234.var.index)"
   ]
  },
  {
   "cell_type": "code",
   "execution_count": 7,
   "id": "5ffe0292",
   "metadata": {
    "ExecuteTime": {
     "end_time": "2022-06-08T15:55:33.408369Z",
     "start_time": "2022-06-08T15:55:33.113173Z"
    }
   },
   "outputs": [],
   "source": [
    "UKF154.var['GeneTempClean']= list(UKF154.var['GeneTemp'].str.split(\".\",0, expand=True)[0])\n",
    "UKF185.var['GeneTempClean']= list(UKF185.var['GeneTemp'].str.split(\".\",0, expand=True)[0])\n",
    "UKF194.var['GeneTempClean']= list(UKF194.var['GeneTemp'].str.split(\".\",0, expand=True)[0])\n",
    "UKF294.var['GeneTempClean']= list(UKF294.var['GeneTemp'].str.split(\".\",0, expand=True)[0])\n",
    "UKF317.var['GeneTempClean']= list(UKF317.var['GeneTemp'].str.split(\".\",0, expand=True)[0])\n",
    "UKF322.var['GeneTempClean']= list(UKF322.var['GeneTemp'].str.split(\".\",0, expand=True)[0])\n",
    "UKF192.var['GeneTempClean']= list(UKF192.var['GeneTemp'].str.split(\".\",0, expand=True)[0])\n",
    "UKF234.var['GeneTempClean']= list(UKF234.var['GeneTemp'].str.split(\".\",0, expand=True)[0])"
   ]
  },
  {
   "cell_type": "code",
   "execution_count": 8,
   "id": "df4dd5b9",
   "metadata": {
    "ExecuteTime": {
     "end_time": "2022-06-08T15:55:33.414326Z",
     "start_time": "2022-06-08T15:55:33.409993Z"
    }
   },
   "outputs": [],
   "source": [
    "UKF154.var.index = UKF154.var['GeneTempClean']\n",
    "UKF185.var.index = UKF185.var['GeneTempClean']\n",
    "UKF194.var.index = UKF194.var['GeneTempClean']\n",
    "UKF294.var.index = UKF294.var['GeneTempClean']\n",
    "UKF317.var.index = UKF317.var['GeneTempClean']\n",
    "UKF322.var.index = UKF322.var['GeneTempClean']\n",
    "UKF192.var.index = UKF192.var['GeneTempClean']\n",
    "UKF234.var.index = UKF234.var['GeneTempClean']"
   ]
  },
  {
   "cell_type": "code",
   "execution_count": 9,
   "id": "6a4847d0",
   "metadata": {
    "ExecuteTime": {
     "end_time": "2022-06-08T15:55:33.420342Z",
     "start_time": "2022-06-08T15:55:33.415767Z"
    }
   },
   "outputs": [],
   "source": [
    "del UKF154.var['GeneTemp']\n",
    "del UKF154.var['GeneTempClean']\n",
    "\n",
    "del UKF185.var['GeneTemp']\n",
    "del UKF185.var['GeneTempClean']\n",
    "\n",
    "del UKF194.var['GeneTemp']\n",
    "del UKF194.var['GeneTempClean']\n",
    "\n",
    "del UKF294.var['GeneTemp']\n",
    "del UKF294.var['GeneTempClean']\n",
    "\n",
    "del UKF317.var['GeneTemp']\n",
    "del UKF317.var['GeneTempClean']\n",
    "\n",
    "del UKF322.var['GeneTemp']\n",
    "del UKF322.var['GeneTempClean']\n",
    "\n",
    "del UKF192.var['GeneTemp']\n",
    "del UKF192.var['GeneTempClean']\n",
    "\n",
    "del UKF234.var['GeneTemp']\n",
    "del UKF234.var['GeneTempClean']"
   ]
  },
  {
   "cell_type": "code",
   "execution_count": 10,
   "id": "1fa9cad9",
   "metadata": {
    "ExecuteTime": {
     "end_time": "2022-06-08T15:55:33.427439Z",
     "start_time": "2022-06-08T15:55:33.422445Z"
    }
   },
   "outputs": [],
   "source": [
    "UKF154.obs = UKF154.obs.reset_index(drop=True)\n",
    "UKF185.obs = UKF185.obs.reset_index(drop=True)\n",
    "UKF194.obs = UKF194.obs.reset_index(drop=True)\n",
    "UKF294.obs = UKF294.obs.reset_index(drop=True)\n",
    "UKF317.obs = UKF317.obs.reset_index(drop=True)\n",
    "UKF322.obs = UKF322.obs.reset_index(drop=True)\n",
    "UKF192.obs = UKF192.obs.reset_index(drop=True)\n",
    "UKF234.obs = UKF234.obs.reset_index(drop=True)"
   ]
  },
  {
   "cell_type": "code",
   "execution_count": 11,
   "id": "ddcc0452",
   "metadata": {
    "ExecuteTime": {
     "end_time": "2022-06-08T15:55:33.463302Z",
     "start_time": "2022-06-08T15:55:33.428552Z"
    }
   },
   "outputs": [],
   "source": [
    "UKF154.obs.set_index(\"UKF154-\" + UKF154.obs.index.astype(str),inplace=True)\n",
    "UKF185.obs.set_index(\"UKF185-\" + UKF185.obs.index.astype(str),inplace=True)\n",
    "UKF194.obs.set_index(\"UKF194-\" + UKF194.obs.index.astype(str),inplace=True)\n",
    "UKF294.obs.set_index(\"UKF294-\" + UKF294.obs.index.astype(str),inplace=True)\n",
    "UKF317.obs.set_index(\"UKF317-\" + UKF317.obs.index.astype(str),inplace=True)\n",
    "UKF322.obs.set_index(\"UKF322-\" + UKF322.obs.index.astype(str),inplace=True)\n",
    "UKF192.obs.set_index(\"UKF192-\" + UKF192.obs.index.astype(str),inplace=True)\n",
    "UKF234.obs.set_index(\"UKF234-\" + UKF234.obs.index.astype(str),inplace=True)"
   ]
  },
  {
   "cell_type": "code",
   "execution_count": 12,
   "id": "ae91b923",
   "metadata": {
    "ExecuteTime": {
     "end_time": "2022-06-08T15:55:33.471544Z",
     "start_time": "2022-06-08T15:55:33.464693Z"
    }
   },
   "outputs": [],
   "source": [
    "UKF154.obs['SampleID'] = \"UKF154\"\n",
    "UKF154.obs['GEO_RNA'] = \"NotAvailable\"\n",
    "UKF154.obs['Cohort'] = \"NotAvailable\"\n",
    "UKF154.obs['Type'] = \"PrimaryTumor\"  \n",
    "UKF154.obs['Subtype'] = \"NotAvailable\"\n",
    "UKF154.obs['Diagnosis'] = \"Glioblastoma\"\n",
    "UKF154.obs['Grade'] = \"NotAvailable\"\n",
    "UKF154.obs['Location'] = \"Parietal\"\n",
    "UKF154.obs['IDH1_Status'] = \"WT\"\n",
    "UKF154.obs['EGFR_Status'] = \"NotAvailable\"\n",
    "UKF154.obs['CellCount'] = \"3759\"\n",
    "UKF154.obs['Sample'] = \"Patient63\"\n",
    "UKF154.obs['Sex'] = \"M\"\n",
    "UKF154.obs['Age'] = \"NotAvailable\"\n",
    "UKF154.obs['Sorted'] = \"CD45\""
   ]
  },
  {
   "cell_type": "code",
   "execution_count": 13,
   "id": "f79d2460",
   "metadata": {
    "ExecuteTime": {
     "end_time": "2022-06-08T15:55:33.479826Z",
     "start_time": "2022-06-08T15:55:33.472660Z"
    }
   },
   "outputs": [],
   "source": [
    "UKF185.obs['SampleID'] = \"UKF185\"\n",
    "UKF185.obs['GEO_RNA'] = \"NotAvailable\"\n",
    "UKF185.obs['Cohort'] = \"NotAvailable\"\n",
    "UKF185.obs['Type'] = \"PrimaryTumor\"  \n",
    "UKF185.obs['Subtype'] = \"NotAvailable\"\n",
    "UKF185.obs['Diagnosis'] = \"Glioblastoma\"\n",
    "UKF185.obs['Grade'] = \"NotAvailable\"\n",
    "UKF185.obs['Location'] = \"Frontal\"\n",
    "UKF185.obs['IDH1_Status'] = \"Mut\"\n",
    "UKF185.obs['EGFR_Status'] = \"NotAvailable\"\n",
    "UKF185.obs['CellCount'] = \"4237\"\n",
    "UKF185.obs['Sample'] = \"Patient64\"\n",
    "UKF185.obs['Sex'] = \"M\"\n",
    "UKF185.obs['Age'] = \"NotAvailable\"\n",
    "UKF185.obs['Sorted'] = \"CD45\""
   ]
  },
  {
   "cell_type": "code",
   "execution_count": 14,
   "id": "791f4d3e",
   "metadata": {
    "ExecuteTime": {
     "end_time": "2022-06-08T15:55:33.488024Z",
     "start_time": "2022-06-08T15:55:33.481320Z"
    }
   },
   "outputs": [],
   "source": [
    "UKF194.obs['SampleID'] = \"UKF194\"\n",
    "UKF194.obs['GEO_RNA'] = \"NotAvailable\"\n",
    "UKF194.obs['Cohort'] = \"NotAvailable\"\n",
    "UKF194.obs['Type'] = \"PrimaryTumor\"  \n",
    "UKF194.obs['Subtype'] = \"NotAvailable\"\n",
    "UKF194.obs['Diagnosis'] = \"Glioblastoma\"\n",
    "UKF194.obs['Grade'] = \"NotAvailable\"\n",
    "UKF194.obs['Location'] = \"Temporal\"\n",
    "UKF194.obs['IDH1_Status'] = \"WT\"\n",
    "UKF194.obs['EGFR_Status'] = \"NotAvailable\"\n",
    "UKF194.obs['CellCount'] = \"5647\"\n",
    "UKF194.obs['Sample'] = \"Patient65\"\n",
    "UKF194.obs['Sex'] = \"M\"\n",
    "UKF194.obs['Age'] = \"NotAvailable\"\n",
    "UKF194.obs['Sorted'] = \"CD45\""
   ]
  },
  {
   "cell_type": "code",
   "execution_count": 15,
   "id": "5105cba4",
   "metadata": {
    "ExecuteTime": {
     "end_time": "2022-06-08T15:55:33.496471Z",
     "start_time": "2022-06-08T15:55:33.489279Z"
    }
   },
   "outputs": [],
   "source": [
    "UKF294.obs['SampleID'] = \"UKF294\"\n",
    "UKF294.obs['GEO_RNA'] = \"NotAvailable\"\n",
    "UKF294.obs['Cohort'] = \"NotAvailable\"\n",
    "UKF294.obs['Type'] = \"PrimaryTumor\"  \n",
    "UKF294.obs['Subtype'] = \"NotAvailable\"\n",
    "UKF294.obs['Diagnosis'] = \"Glioblastoma\"\n",
    "UKF294.obs['Grade'] = \"NotAvailable\"\n",
    "UKF294.obs['Location'] = \"Temporal\"\n",
    "UKF294.obs['IDH1_Status'] = \"WT\"\n",
    "UKF294.obs['EGFR_Status'] = \"NotAvailable\"\n",
    "UKF294.obs['CellCount'] = \"6725\"\n",
    "UKF294.obs['Sample'] = \"Patient66\"\n",
    "UKF294.obs['Sex'] = \"M\"\n",
    "UKF294.obs['Age'] = \"NotAvailable\"\n",
    "UKF294.obs['Sorted'] = \"CD45\""
   ]
  },
  {
   "cell_type": "code",
   "execution_count": 16,
   "id": "5e8b5c96",
   "metadata": {
    "ExecuteTime": {
     "end_time": "2022-06-08T15:55:33.504804Z",
     "start_time": "2022-06-08T15:55:33.497603Z"
    }
   },
   "outputs": [],
   "source": [
    "UKF317.obs['SampleID'] = \"UKF317\"\n",
    "UKF317.obs['GEO_RNA'] = \"NotAvailable\"\n",
    "UKF317.obs['Cohort'] = \"NotAvailable\"\n",
    "UKF317.obs['Type'] = \"PrimaryTumor\"  \n",
    "UKF317.obs['Subtype'] = \"NotAvailable\"\n",
    "UKF317.obs['Diagnosis'] = \"Glioblastoma\"\n",
    "UKF317.obs['Grade'] = \"NotAvailable\"\n",
    "UKF317.obs['Location'] = \"Temporal\"\n",
    "UKF317.obs['IDH1_Status'] = \"WT\"\n",
    "UKF317.obs['EGFR_Status'] = \"NotAvailable\"\n",
    "UKF317.obs['CellCount'] = \"10777\"\n",
    "UKF317.obs['Sample'] = \"Patient67\"\n",
    "UKF317.obs['Sex'] = \"W\"\n",
    "UKF317.obs['Age'] = \"NotAvailable\"\n",
    "UKF317.obs['Sorted'] = \"CD45\""
   ]
  },
  {
   "cell_type": "code",
   "execution_count": 17,
   "id": "082440f7",
   "metadata": {
    "ExecuteTime": {
     "end_time": "2022-06-08T15:55:33.512817Z",
     "start_time": "2022-06-08T15:55:33.506257Z"
    }
   },
   "outputs": [],
   "source": [
    "UKF322.obs['SampleID'] = \"UKF322\"\n",
    "UKF322.obs['GEO_RNA'] = \"NotAvailable\"\n",
    "UKF322.obs['Cohort'] = \"NotAvailable\"\n",
    "UKF322.obs['Type'] = \"PrimaryTumor\"  \n",
    "UKF322.obs['Subtype'] = \"NotAvailable\"\n",
    "UKF322.obs['Diagnosis'] = \"Glioblastoma\"\n",
    "UKF322.obs['Grade'] = \"NotAvailable\"\n",
    "UKF322.obs['Location'] = \"Temporal\"\n",
    "UKF322.obs['IDH1_Status'] = \"WT\"\n",
    "UKF322.obs['EGFR_Status'] = \"NotAvailable\"\n",
    "UKF322.obs['CellCount'] = \"5387\"\n",
    "UKF322.obs['Sample'] = \"Patient68\"\n",
    "UKF322.obs['Sex'] = \"W\"\n",
    "UKF322.obs['Age'] = \"NotAvailable\"\n",
    "UKF322.obs['Sorted'] = \"CD45\""
   ]
  },
  {
   "cell_type": "code",
   "execution_count": 18,
   "id": "0829f7b5",
   "metadata": {
    "ExecuteTime": {
     "end_time": "2022-06-08T15:55:33.520750Z",
     "start_time": "2022-06-08T15:55:33.514212Z"
    }
   },
   "outputs": [],
   "source": [
    "UKF192.obs['SampleID'] = \"UKF192\"\n",
    "UKF192.obs['GEO_RNA'] = \"NotAvailable\"\n",
    "UKF192.obs['Cohort'] = \"NotAvailable\"\n",
    "UKF192.obs['Type'] = \"PrimaryTumor\"  \n",
    "UKF192.obs['Subtype'] = \"NotAvailable\"\n",
    "UKF192.obs['Diagnosis'] = \"Glioblastoma\"\n",
    "UKF192.obs['Grade'] = \"NotAvailable\"\n",
    "UKF192.obs['Location'] = \"Temporal\"\n",
    "UKF192.obs['IDH1_Status'] = \"WT\"\n",
    "UKF192.obs['EGFR_Status'] = \"NotAvailable\"\n",
    "UKF192.obs['CellCount'] = \"3363\"\n",
    "UKF192.obs['Sample'] = \"Patient69\"\n",
    "UKF192.obs['Sex'] = \"W\"\n",
    "UKF192.obs['Age'] = \"NotAvailable\"\n",
    "UKF192.obs['Sorted'] = \"CD45\""
   ]
  },
  {
   "cell_type": "code",
   "execution_count": 19,
   "id": "e6a970e3",
   "metadata": {
    "ExecuteTime": {
     "end_time": "2022-06-08T15:55:33.528937Z",
     "start_time": "2022-06-08T15:55:33.522183Z"
    }
   },
   "outputs": [],
   "source": [
    "UKF234.obs['SampleID'] = \"UKF234\"\n",
    "UKF234.obs['GEO_RNA'] = \"NotAvailable\"\n",
    "UKF234.obs['Cohort'] = \"NotAvailable\"\n",
    "UKF234.obs['Type'] = \"PrimaryTumor\"  \n",
    "UKF234.obs['Subtype'] = \"NotAvailable\"\n",
    "UKF234.obs['Diagnosis'] = \"Glioblastoma\"\n",
    "UKF234.obs['Grade'] = \"NotAvailable\"\n",
    "UKF234.obs['Location'] = \"Temporal\"\n",
    "UKF234.obs['IDH1_Status'] = \"WT\"\n",
    "UKF234.obs['EGFR_Status'] = \"NotAvailable\"\n",
    "UKF234.obs['CellCount'] = \"5720\"\n",
    "UKF234.obs['Sample'] = \"Patient70\"\n",
    "UKF234.obs['Sex'] = \"W\"\n",
    "UKF234.obs['Age'] = \"NotAvailable\"\n",
    "UKF234.obs['Sorted'] = \"CD45\""
   ]
  },
  {
   "cell_type": "code",
   "execution_count": 20,
   "id": "301aca98",
   "metadata": {
    "ExecuteTime": {
     "end_time": "2022-06-08T15:55:33.543633Z",
     "start_time": "2022-06-08T15:55:33.530321Z"
    }
   },
   "outputs": [],
   "source": [
    "UKF154.obs = UKF154.obs.reset_index(drop=True)\n",
    "UKF185.obs = UKF185.obs.reset_index(drop=True)\n",
    "UKF194.obs = UKF194.obs.reset_index(drop=True)\n",
    "UKF294.obs = UKF294.obs.reset_index(drop=True)\n",
    "UKF317.obs = UKF317.obs.reset_index(drop=True)\n",
    "UKF322.obs = UKF322.obs.reset_index(drop=True)\n",
    "UKF192.obs = UKF192.obs.reset_index(drop=True)\n",
    "UKF234.obs = UKF234.obs.reset_index(drop=True)"
   ]
  },
  {
   "cell_type": "code",
   "execution_count": 21,
   "id": "5bd33ec0",
   "metadata": {
    "ExecuteTime": {
     "end_time": "2022-06-08T15:55:33.579044Z",
     "start_time": "2022-06-08T15:55:33.545438Z"
    }
   },
   "outputs": [],
   "source": [
    "UKF154.obs.set_index(\"UKF154-\" + UKF154.obs.index.astype(str),inplace=True)\n",
    "UKF185.obs.set_index(\"UKF185-\" + UKF185.obs.index.astype(str),inplace=True)\n",
    "UKF194.obs.set_index(\"UKF194-\" + UKF194.obs.index.astype(str),inplace=True)\n",
    "UKF294.obs.set_index(\"UKF294-\" + UKF294.obs.index.astype(str),inplace=True)\n",
    "UKF317.obs.set_index(\"UKF317-\" + UKF317.obs.index.astype(str),inplace=True)\n",
    "UKF322.obs.set_index(\"UKF322-\" + UKF322.obs.index.astype(str),inplace=True)\n",
    "UKF192.obs.set_index(\"UKF192-\" + UKF192.obs.index.astype(str),inplace=True)\n",
    "UKF234.obs.set_index(\"UKF234-\" + UKF234.obs.index.astype(str),inplace=True)"
   ]
  },
  {
   "cell_type": "code",
   "execution_count": 22,
   "id": "11156378",
   "metadata": {
    "ExecuteTime": {
     "end_time": "2022-06-08T15:55:33.639385Z",
     "start_time": "2022-06-08T15:55:33.580138Z"
    }
   },
   "outputs": [],
   "source": [
    "UKF154.var_names_make_unique()\n",
    "UKF185.var_names_make_unique()\n",
    "UKF194.var_names_make_unique()\n",
    "UKF294.var_names_make_unique()\n",
    "UKF317.var_names_make_unique()\n",
    "UKF322.var_names_make_unique()\n",
    "UKF192.var_names_make_unique()\n",
    "UKF234.var_names_make_unique()"
   ]
  },
  {
   "cell_type": "code",
   "execution_count": 23,
   "id": "95017c71",
   "metadata": {
    "ExecuteTime": {
     "end_time": "2022-06-08T15:55:45.822911Z",
     "start_time": "2022-06-08T15:55:33.640909Z"
    }
   },
   "outputs": [],
   "source": [
    "UKF154.write(outpath+\"UKF154.h5ad\")\n",
    "UKF185.write(outpath+\"UKF185.h5ad\")\n",
    "UKF194.write(outpath+\"UKF194.h5ad\")\n",
    "UKF294.write(outpath+\"UKF294.h5ad\")\n",
    "UKF317.write(outpath+\"UKF317.h5ad\")\n",
    "UKF322.write(outpath+\"UKF322.h5ad\")\n",
    "UKF192.write(outpath+\"UKF192.h5ad\")\n",
    "UKF234.write(outpath+\"UKF234.h5ad\")"
   ]
  }
 ],
 "metadata": {
  "kernelspec": {
   "display_name": "Python [conda env:scanpy19]",
   "language": "python",
   "name": "conda-env-scanpy19-py"
  },
  "language_info": {
   "codemirror_mode": {
    "name": "ipython",
    "version": 3
   },
   "file_extension": ".py",
   "mimetype": "text/x-python",
   "name": "python",
   "nbconvert_exporter": "python",
   "pygments_lexer": "ipython3",
   "version": "3.10.4"
  },
  "toc": {
   "base_numbering": 1,
   "nav_menu": {},
   "number_sections": true,
   "sideBar": true,
   "skip_h1_title": false,
   "title_cell": "Table of Contents",
   "title_sidebar": "Contents",
   "toc_cell": false,
   "toc_position": {},
   "toc_section_display": true,
   "toc_window_display": false
  },
  "varInspector": {
   "cols": {
    "lenName": 16,
    "lenType": 16,
    "lenVar": 40
   },
   "kernels_config": {
    "python": {
     "delete_cmd_postfix": "",
     "delete_cmd_prefix": "del ",
     "library": "var_list.py",
     "varRefreshCmd": "print(var_dic_list())"
    },
    "r": {
     "delete_cmd_postfix": ") ",
     "delete_cmd_prefix": "rm(",
     "library": "var_list.r",
     "varRefreshCmd": "cat(var_dic_list()) "
    }
   },
   "types_to_exclude": [
    "module",
    "function",
    "builtin_function_or_method",
    "instance",
    "_Feature"
   ],
   "window_display": false
  }
 },
 "nbformat": 4,
 "nbformat_minor": 5
}
