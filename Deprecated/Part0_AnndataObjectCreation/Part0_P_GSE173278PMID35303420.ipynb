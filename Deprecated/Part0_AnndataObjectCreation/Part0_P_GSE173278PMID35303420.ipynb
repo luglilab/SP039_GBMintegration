{
 "cells": [
  {
   "cell_type": "code",
   "execution_count": 1,
   "id": "42427476",
   "metadata": {
    "ExecuteTime": {
     "end_time": "2022-06-08T17:13:54.563730Z",
     "start_time": "2022-06-08T17:13:53.002047Z"
    }
   },
   "outputs": [],
   "source": [
    "import scanpy as sc \n",
    "import pandas as pd"
   ]
  },
  {
   "cell_type": "code",
   "execution_count": 2,
   "id": "7ba073e5",
   "metadata": {
    "ExecuteTime": {
     "end_time": "2022-06-08T17:13:54.599795Z",
     "start_time": "2022-06-08T17:13:54.565967Z"
    }
   },
   "outputs": [],
   "source": [
    "import csv\n",
    "import gzip\n",
    "import os\n",
    "import scipy.io"
   ]
  },
  {
   "cell_type": "code",
   "execution_count": 3,
   "id": "e41ed878",
   "metadata": {
    "ExecuteTime": {
     "end_time": "2022-06-08T17:13:54.604099Z",
     "start_time": "2022-06-08T17:13:54.601491Z"
    }
   },
   "outputs": [],
   "source": [
    "outpath=\"/home/lugli/spuccio/Projects/SP039/FileH5AD_input/\""
   ]
  },
  {
   "cell_type": "code",
   "execution_count": 4,
   "id": "d8c9a260",
   "metadata": {
    "ExecuteTime": {
     "end_time": "2022-06-08T17:19:00.217136Z",
     "start_time": "2022-06-08T17:13:54.605775Z"
    }
   },
   "outputs": [],
   "source": [
    "matrix_dir = \"/home/lugli/spuccio/Projects/SP039/GSE173278_PMID_35303420/Raw/\"\n",
    "# read in MEX format matrix as table\n",
    "mat = scipy.io.mmread(os.path.join(matrix_dir, \"matrix.mtx.gz\"))"
   ]
  },
  {
   "cell_type": "code",
   "execution_count": 5,
   "id": "b075b3e8",
   "metadata": {
    "ExecuteTime": {
     "end_time": "2022-06-08T17:19:00.239995Z",
     "start_time": "2022-06-08T17:19:00.220070Z"
    }
   },
   "outputs": [],
   "source": [
    "features_path = os.path.join(matrix_dir, \"features.tsv.gz\")\n",
    "feature_ids = [row[0] for row in csv.reader(gzip.open(features_path, mode=\"rt\"), delimiter=\"\\t\")]"
   ]
  },
  {
   "cell_type": "code",
   "execution_count": 6,
   "id": "e5264f33",
   "metadata": {
    "ExecuteTime": {
     "end_time": "2022-06-08T17:19:00.258466Z",
     "start_time": "2022-06-08T17:19:00.241147Z"
    }
   },
   "outputs": [],
   "source": [
    "gene_names = [row[1] for row in csv.reader(gzip.open(features_path, mode=\"rt\"), delimiter=\"\\t\")]"
   ]
  },
  {
   "cell_type": "code",
   "execution_count": 7,
   "id": "28b07c85",
   "metadata": {
    "ExecuteTime": {
     "end_time": "2022-06-08T17:19:00.344421Z",
     "start_time": "2022-06-08T17:19:00.259637Z"
    }
   },
   "outputs": [],
   "source": [
    "# list of feature_types, e.g. 'Gene Expression'\n",
    "feature_types = [row[1] for row in csv.reader(gzip.open(features_path, mode=\"rt\"), delimiter=\"\\t\")]\n",
    "barcodes_path = os.path.join(matrix_dir, \"barcodes.tsv.gz\")\n",
    "barcodes = [row[0] for row in csv.reader(gzip.open(barcodes_path, mode=\"rt\"), delimiter=\"\\t\")]"
   ]
  },
  {
   "cell_type": "code",
   "execution_count": 8,
   "id": "a3ca2874",
   "metadata": {
    "ExecuteTime": {
     "end_time": "2022-06-08T17:19:02.967917Z",
     "start_time": "2022-06-08T17:19:00.345895Z"
    }
   },
   "outputs": [],
   "source": [
    "matrix = pd.DataFrame.sparse.from_spmatrix(mat)\n",
    "matrix.columns = barcodes\n",
    "matrix.insert(loc=0, column=\"feature_id\", value=feature_ids)\n",
    "matrix.insert(loc=0, column=\"gene\", value=gene_names)\n",
    "matrix.insert(loc=0, column=\"feature_type\", value=feature_types)"
   ]
  },
  {
   "cell_type": "code",
   "execution_count": 9,
   "id": "dfce66d0",
   "metadata": {
    "ExecuteTime": {
     "end_time": "2022-06-08T17:20:33.624827Z",
     "start_time": "2022-06-08T17:19:02.969323Z"
    }
   },
   "outputs": [],
   "source": [
    "matrix = matrix.drop_duplicates(['gene'])"
   ]
  },
  {
   "cell_type": "code",
   "execution_count": 10,
   "id": "a14bbfd9",
   "metadata": {
    "ExecuteTime": {
     "end_time": "2022-06-08T17:20:33.668165Z",
     "start_time": "2022-06-08T17:20:33.627031Z"
    }
   },
   "outputs": [],
   "source": [
    "matrix['GeneTempClean']= list(matrix['gene'].str.split(\".\",0, expand=True)[0])"
   ]
  },
  {
   "cell_type": "code",
   "execution_count": 11,
   "id": "34175d35",
   "metadata": {
    "ExecuteTime": {
     "end_time": "2022-06-08T17:20:36.557170Z",
     "start_time": "2022-06-08T17:20:33.669575Z"
    }
   },
   "outputs": [],
   "source": [
    "matrix = matrix.set_index(['GeneTempClean'],drop=True)"
   ]
  },
  {
   "cell_type": "code",
   "execution_count": 12,
   "id": "5ed3d0ea",
   "metadata": {
    "ExecuteTime": {
     "end_time": "2022-06-08T17:20:38.419624Z",
     "start_time": "2022-06-08T17:20:36.667902Z"
    }
   },
   "outputs": [
    {
     "data": {
      "text/html": [
       "<div>\n",
       "<style scoped>\n",
       "    .dataframe tbody tr th:only-of-type {\n",
       "        vertical-align: middle;\n",
       "    }\n",
       "\n",
       "    .dataframe tbody tr th {\n",
       "        vertical-align: top;\n",
       "    }\n",
       "\n",
       "    .dataframe thead th {\n",
       "        text-align: right;\n",
       "    }\n",
       "</style>\n",
       "<table border=\"1\" class=\"dataframe\">\n",
       "  <thead>\n",
       "    <tr style=\"text-align: right;\">\n",
       "      <th></th>\n",
       "      <th>feature_type</th>\n",
       "      <th>gene</th>\n",
       "      <th>feature_id</th>\n",
       "      <th>AAACCTGCACAACTGT-1</th>\n",
       "      <th>AAACCTGCACCAGCAC-1</th>\n",
       "      <th>AAACCTGGTCAGGACA-1</th>\n",
       "      <th>AAACGGGAGCTGCCCA-1</th>\n",
       "      <th>AAACGGGTCTGTGCAA-1</th>\n",
       "      <th>AAAGATGAGAGCTATA-1</th>\n",
       "      <th>AAAGATGCACATAACC-1</th>\n",
       "      <th>...</th>\n",
       "      <th>TTGGAACGTTGATTGC-99</th>\n",
       "      <th>TTGGCAAAGGGATCTG-99</th>\n",
       "      <th>TTGGCAACATATACGC-99</th>\n",
       "      <th>TTTACTGAGTATTGGA-99</th>\n",
       "      <th>TTTACTGGTCGCGTGT-99</th>\n",
       "      <th>TTTATGCAGGCACATG-99</th>\n",
       "      <th>TTTGCGCAGAAACCGC-99</th>\n",
       "      <th>TTTGCGCCACCACGTG-99</th>\n",
       "      <th>TTTGCGCGTACCGGCT-99</th>\n",
       "      <th>TTTGCGCGTTCCCTTG-99</th>\n",
       "    </tr>\n",
       "    <tr>\n",
       "      <th>GeneTempClean</th>\n",
       "      <th></th>\n",
       "      <th></th>\n",
       "      <th></th>\n",
       "      <th></th>\n",
       "      <th></th>\n",
       "      <th></th>\n",
       "      <th></th>\n",
       "      <th></th>\n",
       "      <th></th>\n",
       "      <th></th>\n",
       "      <th></th>\n",
       "      <th></th>\n",
       "      <th></th>\n",
       "      <th></th>\n",
       "      <th></th>\n",
       "      <th></th>\n",
       "      <th></th>\n",
       "      <th></th>\n",
       "      <th></th>\n",
       "      <th></th>\n",
       "      <th></th>\n",
       "    </tr>\n",
       "  </thead>\n",
       "  <tbody>\n",
       "    <tr>\n",
       "      <th>RP11-34P13</th>\n",
       "      <td>RP11-34P13.3</td>\n",
       "      <td>RP11-34P13.3</td>\n",
       "      <td>ENSG00000243485</td>\n",
       "      <td>0</td>\n",
       "      <td>0</td>\n",
       "      <td>0</td>\n",
       "      <td>0</td>\n",
       "      <td>0</td>\n",
       "      <td>0</td>\n",
       "      <td>0</td>\n",
       "      <td>...</td>\n",
       "      <td>0</td>\n",
       "      <td>0</td>\n",
       "      <td>0</td>\n",
       "      <td>0</td>\n",
       "      <td>0</td>\n",
       "      <td>0</td>\n",
       "      <td>0</td>\n",
       "      <td>0</td>\n",
       "      <td>0</td>\n",
       "      <td>0</td>\n",
       "    </tr>\n",
       "    <tr>\n",
       "      <th>RP11-34P13</th>\n",
       "      <td>RP11-34P13.7</td>\n",
       "      <td>RP11-34P13.7</td>\n",
       "      <td>ENSG00000238009</td>\n",
       "      <td>0</td>\n",
       "      <td>0</td>\n",
       "      <td>0</td>\n",
       "      <td>0</td>\n",
       "      <td>0</td>\n",
       "      <td>0</td>\n",
       "      <td>0</td>\n",
       "      <td>...</td>\n",
       "      <td>0</td>\n",
       "      <td>0</td>\n",
       "      <td>0</td>\n",
       "      <td>0</td>\n",
       "      <td>0</td>\n",
       "      <td>0</td>\n",
       "      <td>0</td>\n",
       "      <td>0</td>\n",
       "      <td>0</td>\n",
       "      <td>0</td>\n",
       "    </tr>\n",
       "    <tr>\n",
       "      <th>RP11-34P13</th>\n",
       "      <td>RP11-34P13.8</td>\n",
       "      <td>RP11-34P13.8</td>\n",
       "      <td>ENSG00000239945</td>\n",
       "      <td>0</td>\n",
       "      <td>0</td>\n",
       "      <td>0</td>\n",
       "      <td>0</td>\n",
       "      <td>0</td>\n",
       "      <td>0</td>\n",
       "      <td>0</td>\n",
       "      <td>...</td>\n",
       "      <td>0</td>\n",
       "      <td>0</td>\n",
       "      <td>0</td>\n",
       "      <td>0</td>\n",
       "      <td>0</td>\n",
       "      <td>0</td>\n",
       "      <td>0</td>\n",
       "      <td>0</td>\n",
       "      <td>0</td>\n",
       "      <td>0</td>\n",
       "    </tr>\n",
       "    <tr>\n",
       "      <th>RP11-34P13</th>\n",
       "      <td>RP11-34P13.9</td>\n",
       "      <td>RP11-34P13.9</td>\n",
       "      <td>ENSG00000241599</td>\n",
       "      <td>0</td>\n",
       "      <td>0</td>\n",
       "      <td>0</td>\n",
       "      <td>0</td>\n",
       "      <td>0</td>\n",
       "      <td>0</td>\n",
       "      <td>0</td>\n",
       "      <td>...</td>\n",
       "      <td>0</td>\n",
       "      <td>0</td>\n",
       "      <td>0</td>\n",
       "      <td>0</td>\n",
       "      <td>0</td>\n",
       "      <td>0</td>\n",
       "      <td>0</td>\n",
       "      <td>0</td>\n",
       "      <td>0</td>\n",
       "      <td>0</td>\n",
       "    </tr>\n",
       "    <tr>\n",
       "      <th>FO538757</th>\n",
       "      <td>FO538757.3</td>\n",
       "      <td>FO538757.3</td>\n",
       "      <td>ENSG00000279928</td>\n",
       "      <td>0</td>\n",
       "      <td>0</td>\n",
       "      <td>0</td>\n",
       "      <td>0</td>\n",
       "      <td>0</td>\n",
       "      <td>0</td>\n",
       "      <td>0</td>\n",
       "      <td>...</td>\n",
       "      <td>0</td>\n",
       "      <td>0</td>\n",
       "      <td>0</td>\n",
       "      <td>0</td>\n",
       "      <td>0</td>\n",
       "      <td>0</td>\n",
       "      <td>0</td>\n",
       "      <td>0</td>\n",
       "      <td>0</td>\n",
       "      <td>0</td>\n",
       "    </tr>\n",
       "  </tbody>\n",
       "</table>\n",
       "<p>5 rows × 86535 columns</p>\n",
       "</div>"
      ],
      "text/plain": [
       "               feature_type          gene       feature_id  \\\n",
       "GeneTempClean                                                \n",
       "RP11-34P13     RP11-34P13.3  RP11-34P13.3  ENSG00000243485   \n",
       "RP11-34P13     RP11-34P13.7  RP11-34P13.7  ENSG00000238009   \n",
       "RP11-34P13     RP11-34P13.8  RP11-34P13.8  ENSG00000239945   \n",
       "RP11-34P13     RP11-34P13.9  RP11-34P13.9  ENSG00000241599   \n",
       "FO538757         FO538757.3    FO538757.3  ENSG00000279928   \n",
       "\n",
       "               AAACCTGCACAACTGT-1  AAACCTGCACCAGCAC-1  AAACCTGGTCAGGACA-1  \\\n",
       "GeneTempClean                                                               \n",
       "RP11-34P13                      0                   0                   0   \n",
       "RP11-34P13                      0                   0                   0   \n",
       "RP11-34P13                      0                   0                   0   \n",
       "RP11-34P13                      0                   0                   0   \n",
       "FO538757                        0                   0                   0   \n",
       "\n",
       "               AAACGGGAGCTGCCCA-1  AAACGGGTCTGTGCAA-1  AAAGATGAGAGCTATA-1  \\\n",
       "GeneTempClean                                                               \n",
       "RP11-34P13                      0                   0                   0   \n",
       "RP11-34P13                      0                   0                   0   \n",
       "RP11-34P13                      0                   0                   0   \n",
       "RP11-34P13                      0                   0                   0   \n",
       "FO538757                        0                   0                   0   \n",
       "\n",
       "               AAAGATGCACATAACC-1  ...  TTGGAACGTTGATTGC-99  \\\n",
       "GeneTempClean                      ...                        \n",
       "RP11-34P13                      0  ...                    0   \n",
       "RP11-34P13                      0  ...                    0   \n",
       "RP11-34P13                      0  ...                    0   \n",
       "RP11-34P13                      0  ...                    0   \n",
       "FO538757                        0  ...                    0   \n",
       "\n",
       "               TTGGCAAAGGGATCTG-99  TTGGCAACATATACGC-99  TTTACTGAGTATTGGA-99  \\\n",
       "GeneTempClean                                                                  \n",
       "RP11-34P13                       0                    0                    0   \n",
       "RP11-34P13                       0                    0                    0   \n",
       "RP11-34P13                       0                    0                    0   \n",
       "RP11-34P13                       0                    0                    0   \n",
       "FO538757                         0                    0                    0   \n",
       "\n",
       "               TTTACTGGTCGCGTGT-99  TTTATGCAGGCACATG-99  TTTGCGCAGAAACCGC-99  \\\n",
       "GeneTempClean                                                                  \n",
       "RP11-34P13                       0                    0                    0   \n",
       "RP11-34P13                       0                    0                    0   \n",
       "RP11-34P13                       0                    0                    0   \n",
       "RP11-34P13                       0                    0                    0   \n",
       "FO538757                         0                    0                    0   \n",
       "\n",
       "               TTTGCGCCACCACGTG-99  TTTGCGCGTACCGGCT-99  TTTGCGCGTTCCCTTG-99  \n",
       "GeneTempClean                                                                 \n",
       "RP11-34P13                       0                    0                    0  \n",
       "RP11-34P13                       0                    0                    0  \n",
       "RP11-34P13                       0                    0                    0  \n",
       "RP11-34P13                       0                    0                    0  \n",
       "FO538757                         0                    0                    0  \n",
       "\n",
       "[5 rows x 86535 columns]"
      ]
     },
     "execution_count": 12,
     "metadata": {},
     "output_type": "execute_result"
    }
   ],
   "source": [
    "matrix.head()"
   ]
  },
  {
   "cell_type": "code",
   "execution_count": 13,
   "id": "d3abe0c3",
   "metadata": {
    "ExecuteTime": {
     "end_time": "2022-06-08T17:20:40.006474Z",
     "start_time": "2022-06-08T17:20:38.421004Z"
    }
   },
   "outputs": [],
   "source": [
    "del matrix['feature_type']\n",
    "del matrix['gene']\n",
    "del matrix['feature_id']"
   ]
  },
  {
   "cell_type": "code",
   "execution_count": 14,
   "id": "4cc0d1aa",
   "metadata": {
    "ExecuteTime": {
     "end_time": "2022-06-08T17:21:26.015733Z",
     "start_time": "2022-06-08T17:20:40.009025Z"
    }
   },
   "outputs": [
    {
     "name": "stderr",
     "output_type": "stream",
     "text": [
      "/tmp/ipykernel_7209/3338772884.py:1: FutureWarning: X.dtype being converted to np.float32 from int64. In the next version of anndata (0.9) conversion will not be automatic. Pass dtype explicitly to avoid this warning. Pass `AnnData(X, dtype=X.dtype, ...)` to get the future behavour.\n",
      "  adata = sc.AnnData(matrix.T)\n",
      "/home/lugli/spuccio/anaconda3/envs/scanpy19/lib/python3.10/site-packages/anndata/_core/anndata.py:1830: UserWarning: Variable names are not unique. To make them unique, call `.var_names_make_unique`.\n",
      "  utils.warn_names_duplicates(\"var\")\n"
     ]
    }
   ],
   "source": [
    "adata = sc.AnnData(matrix.T)"
   ]
  },
  {
   "cell_type": "code",
   "execution_count": 15,
   "id": "cb7374df",
   "metadata": {
    "ExecuteTime": {
     "end_time": "2022-06-08T17:21:26.031790Z",
     "start_time": "2022-06-08T17:21:26.017717Z"
    }
   },
   "outputs": [],
   "source": [
    "adata.var_names_make_unique()"
   ]
  },
  {
   "cell_type": "code",
   "execution_count": 16,
   "id": "0fb8ae5b",
   "metadata": {
    "ExecuteTime": {
     "end_time": "2022-06-08T17:21:26.115886Z",
     "start_time": "2022-06-08T17:21:26.033080Z"
    }
   },
   "outputs": [],
   "source": [
    "meta = pd.read_csv(\"/home/lugli/spuccio/Projects/SP039/GSE173278_PMID_35303420/GSE173278_scRNAseq_all_cells_metadata.csv.gz\")"
   ]
  },
  {
   "cell_type": "code",
   "execution_count": 17,
   "id": "3e0eeafc",
   "metadata": {
    "ExecuteTime": {
     "end_time": "2022-06-08T17:21:26.120965Z",
     "start_time": "2022-06-08T17:21:26.117347Z"
    }
   },
   "outputs": [],
   "source": [
    "meta.set_index(['cell_name'],drop=True,inplace=True)"
   ]
  },
  {
   "cell_type": "code",
   "execution_count": null,
   "id": "8a4e6c4a",
   "metadata": {
    "ExecuteTime": {
     "end_time": "2022-05-23T20:11:55.417328Z",
     "start_time": "2022-05-23T20:11:55.400755Z"
    }
   },
   "outputs": [],
   "source": []
  },
  {
   "cell_type": "code",
   "execution_count": 18,
   "id": "2e7dffb9",
   "metadata": {
    "ExecuteTime": {
     "end_time": "2022-06-08T17:21:26.131387Z",
     "start_time": "2022-06-08T17:21:26.122271Z"
    }
   },
   "outputs": [],
   "source": [
    "adata.obs = meta"
   ]
  },
  {
   "cell_type": "code",
   "execution_count": 19,
   "id": "43c13b09",
   "metadata": {
    "ExecuteTime": {
     "end_time": "2022-06-08T17:21:26.140807Z",
     "start_time": "2022-06-08T17:21:26.132806Z"
    }
   },
   "outputs": [
    {
     "data": {
      "text/plain": [
       "JK125    13306\n",
       "JK142    12376\n",
       "JK152    11947\n",
       "JK156     9326\n",
       "JK153     8987\n",
       "JK124     8462\n",
       "JK136     7362\n",
       "JK163     5873\n",
       "JK126     5496\n",
       "JK134     3397\n",
       "Name: patient, dtype: int64"
      ]
     },
     "execution_count": 19,
     "metadata": {},
     "output_type": "execute_result"
    }
   ],
   "source": [
    "adata.obs['patient'].value_counts()"
   ]
  },
  {
   "cell_type": "code",
   "execution_count": 20,
   "id": "41c03882",
   "metadata": {
    "ExecuteTime": {
     "end_time": "2022-06-08T17:21:26.149322Z",
     "start_time": "2022-06-08T17:21:26.142250Z"
    }
   },
   "outputs": [
    {
     "data": {
      "text/plain": [
       "org     40726\n",
       "tis     34024\n",
       "cell    11782\n",
       "Name: source, dtype: int64"
      ]
     },
     "execution_count": 20,
     "metadata": {},
     "output_type": "execute_result"
    }
   ],
   "source": [
    "adata.obs['source'].value_counts()"
   ]
  },
  {
   "cell_type": "code",
   "execution_count": 21,
   "id": "4bb83fa1",
   "metadata": {
    "ExecuteTime": {
     "end_time": "2022-06-08T17:21:26.158973Z",
     "start_time": "2022-06-08T17:21:26.150626Z"
    }
   },
   "outputs": [],
   "source": [
    "adata = adata[adata.obs['source'].isin(['tis']),:]"
   ]
  },
  {
   "cell_type": "code",
   "execution_count": 22,
   "id": "a76fa174",
   "metadata": {
    "ExecuteTime": {
     "end_time": "2022-06-08T17:21:26.165416Z",
     "start_time": "2022-06-08T17:21:26.160079Z"
    }
   },
   "outputs": [],
   "source": [
    "adata = adata[adata.obs['source'].isin(['tis']),:]"
   ]
  },
  {
   "cell_type": "code",
   "execution_count": 23,
   "id": "12f98e45",
   "metadata": {
    "ExecuteTime": {
     "end_time": "2022-06-08T17:21:26.181985Z",
     "start_time": "2022-06-08T17:21:26.166769Z"
    }
   },
   "outputs": [],
   "source": [
    "JK124 = adata[adata.obs['patient'].isin(['JK124']),:]\n",
    "JK125 = adata[adata.obs['patient'].isin(['JK125']),:]\n",
    "JK126 = adata[adata.obs['patient'].isin(['JK126']),:]\n",
    "JK134 = adata[adata.obs['patient'].isin(['JK134']),:]\n",
    "JK136 = adata[adata.obs['patient'].isin(['JK136']),:]\n",
    "JK142 = adata[adata.obs['patient'].isin(['JK142']),:]\n",
    "JK152 = adata[adata.obs['patient'].isin(['JK152']),:]\n",
    "JK153 = adata[adata.obs['patient'].isin(['JK153']),:]\n",
    "JK156 = adata[adata.obs['patient'].isin(['JK156']),:]\n",
    "JK163 = adata[adata.obs['patient'].isin(['JK163']),:]"
   ]
  },
  {
   "cell_type": "code",
   "execution_count": 24,
   "id": "8107d746",
   "metadata": {
    "ExecuteTime": {
     "end_time": "2022-06-08T17:21:26.644733Z",
     "start_time": "2022-06-08T17:21:26.183204Z"
    }
   },
   "outputs": [],
   "source": [
    "JK124.obs = JK124.obs.reset_index(drop=True)\n",
    "JK125.obs = JK125.obs.reset_index(drop=True)\n",
    "JK126.obs = JK126.obs.reset_index(drop=True)\n",
    "JK134.obs = JK134.obs.reset_index(drop=True)\n",
    "JK136.obs = JK136.obs.reset_index(drop=True)\n",
    "JK142.obs = JK142.obs.reset_index(drop=True)\n",
    "JK152.obs = JK152.obs.reset_index(drop=True)\n",
    "JK153.obs = JK153.obs.reset_index(drop=True)\n",
    "JK156.obs = JK156.obs.reset_index(drop=True)\n",
    "JK163.obs = JK163.obs.reset_index(drop=True)"
   ]
  },
  {
   "cell_type": "code",
   "execution_count": 25,
   "id": "754e4740",
   "metadata": {
    "ExecuteTime": {
     "end_time": "2022-06-08T17:21:26.675861Z",
     "start_time": "2022-06-08T17:21:26.646215Z"
    }
   },
   "outputs": [],
   "source": [
    "JK124.obs.set_index(\"JK124-\" + JK124.obs.index.astype(str),inplace=True)\n",
    "JK125.obs.set_index(\"JK125-\" + JK125.obs.index.astype(str),inplace=True)\n",
    "JK126.obs.set_index(\"JK126-\" + JK126.obs.index.astype(str),inplace=True)\n",
    "JK134.obs.set_index(\"JK134-\" + JK134.obs.index.astype(str),inplace=True)\n",
    "JK136.obs.set_index(\"JK136-\" + JK136.obs.index.astype(str),inplace=True)\n",
    "JK142.obs.set_index(\"JK142-\" + JK142.obs.index.astype(str),inplace=True)\n",
    "JK152.obs.set_index(\"JK152-\" + JK152.obs.index.astype(str),inplace=True)\n",
    "JK153.obs.set_index(\"JK153-\" + JK153.obs.index.astype(str),inplace=True)\n",
    "JK156.obs.set_index(\"JK156-\" + JK156.obs.index.astype(str),inplace=True)\n",
    "JK163.obs.set_index(\"JK163-\" + JK163.obs.index.astype(str),inplace=True)"
   ]
  },
  {
   "cell_type": "code",
   "execution_count": 26,
   "id": "df29a86d",
   "metadata": {
    "ExecuteTime": {
     "end_time": "2022-06-08T17:21:26.684985Z",
     "start_time": "2022-06-08T17:21:26.677375Z"
    }
   },
   "outputs": [],
   "source": [
    "del JK124.obs\n",
    "del JK125.obs\n",
    "del JK126.obs\n",
    "del JK134.obs\n",
    "del JK136.obs\n",
    "del JK142.obs\n",
    "del JK152.obs\n",
    "del JK153.obs\n",
    "del JK156.obs\n",
    "del JK163.obs"
   ]
  },
  {
   "cell_type": "code",
   "execution_count": 27,
   "id": "03898ef6",
   "metadata": {
    "ExecuteTime": {
     "end_time": "2022-06-08T17:21:26.693978Z",
     "start_time": "2022-06-08T17:21:26.686544Z"
    }
   },
   "outputs": [],
   "source": [
    "JK124.obs['SampleID'] = \"JK124\"\n",
    "JK124.obs['GEO_RNA'] = \"GSM5264672\"\n",
    "JK124.obs['Cohort'] = \"GSE173280\"\n",
    "JK124.obs['Type'] = \"PrimaryTumor\"  \n",
    "JK124.obs['Subtype'] = \"NotAvailable\"\n",
    "JK124.obs['Diagnosis'] = \"Glioblastoma\"\n",
    "JK124.obs['Grade'] = \"NotAvailable\"\n",
    "JK124.obs['Location'] = \"Right_Temporal\"\n",
    "JK124.obs['IDH1_Status'] = \"WT\"\n",
    "JK124.obs['EGFR_Status'] = \"NotAvailable\"\n",
    "JK124.obs['CellCount'] = \"6982\"\n",
    "JK124.obs['Sample'] = \"Patient99\"\n",
    "JK124.obs['Sex'] = \"M\"\n",
    "JK124.obs['Age'] = \"65\"\n",
    "JK124.obs['Sorted'] = \"CD45\""
   ]
  },
  {
   "cell_type": "code",
   "execution_count": 28,
   "id": "1b4c77ff",
   "metadata": {
    "ExecuteTime": {
     "end_time": "2022-06-08T17:21:26.702330Z",
     "start_time": "2022-06-08T17:21:26.695222Z"
    }
   },
   "outputs": [],
   "source": [
    "JK125.obs['SampleID'] = \"JK125\"\n",
    "JK125.obs['GEO_RNA'] = \"GSM5264680\"\n",
    "JK125.obs['Cohort'] = \"GSE173280\"\n",
    "JK125.obs['Type'] = \"PrimaryTumor\"  \n",
    "JK125.obs['Subtype'] = \"NotAvailable\"\n",
    "JK125.obs['Diagnosis'] = \"Glioblastoma\"\n",
    "JK125.obs['Grade'] = \"NotAvailable\"\n",
    "JK125.obs['Location'] = \"Right_Frontal\"\n",
    "JK125.obs['IDH1_Status'] = \"WT\"\n",
    "JK125.obs['EGFR_Status'] = \"NotAvailable\"\n",
    "JK125.obs['CellCount'] = \"3169\"\n",
    "JK125.obs['Sample'] = \"Patient100\"\n",
    "JK125.obs['Sex'] = \"F\"\n",
    "JK125.obs['Age'] = \"84\"\n",
    "JK125.obs['Sorted'] = \"CD45\""
   ]
  },
  {
   "cell_type": "code",
   "execution_count": 29,
   "id": "c52cfa1f",
   "metadata": {
    "ExecuteTime": {
     "end_time": "2022-06-08T17:21:26.719968Z",
     "start_time": "2022-06-08T17:21:26.703503Z"
    }
   },
   "outputs": [],
   "source": [
    "JK126.obs['SampleID'] = \"JK126\"\n",
    "JK126.obs['GEO_RNA'] = \"GSM5264680\"\n",
    "JK126.obs['Cohort'] = \"GSE173280\"\n",
    "JK126.obs['Type'] = \"PrimaryTumor\"  \n",
    "JK126.obs['Subtype'] = \"NotAvailable\"\n",
    "JK126.obs['Diagnosis'] = \"Glioblastoma\"\n",
    "JK126.obs['Grade'] = \"NotAvailable\"\n",
    "JK126.obs['Location'] = \"Left_Frontal\"\n",
    "JK126.obs['IDH1_Status'] = \"WT\"\n",
    "JK126.obs['EGFR_Status'] = \"NotAvailable\"\n",
    "JK126.obs['CellCount'] = \"2837\"\n",
    "JK126.obs['Sample'] = \"Patient101\"\n",
    "JK126.obs['Sex'] = \"M\"\n",
    "JK126.obs['Age'] = \"58\"\n",
    "JK126.obs['Sorted'] = \"CD45\""
   ]
  },
  {
   "cell_type": "code",
   "execution_count": 30,
   "id": "1f384c43",
   "metadata": {
    "ExecuteTime": {
     "end_time": "2022-06-08T17:21:26.730093Z",
     "start_time": "2022-06-08T17:21:26.721536Z"
    }
   },
   "outputs": [],
   "source": [
    "JK134.obs['SampleID'] = \"JK134\"\n",
    "JK134.obs['GEO_RNA'] = \"GSM5264680\"\n",
    "JK134.obs['Cohort'] = \"GSE173280\"\n",
    "JK134.obs['Type'] = \"PrimaryTumor\"  \n",
    "JK134.obs['Subtype'] = \"NotAvailable\"\n",
    "JK134.obs['Diagnosis'] = \"Glioblastoma\"\n",
    "JK134.obs['Grade'] = \"NotAvailable\"\n",
    "JK134.obs['Location'] = \"Right_Frontal\"\n",
    "JK134.obs['IDH1_Status'] = \"WT\"\n",
    "JK134.obs['EGFR_Status'] = \"NotAvailable\"\n",
    "JK134.obs['CellCount'] = \"2346\"\n",
    "JK134.obs['Sample'] = \"Patient102\"\n",
    "JK134.obs['Sex'] = \"F\"\n",
    "JK134.obs['Age'] = \"58\"\n",
    "JK134.obs['Sorted'] = \"CD45\""
   ]
  },
  {
   "cell_type": "code",
   "execution_count": 31,
   "id": "1f6dc05a",
   "metadata": {
    "ExecuteTime": {
     "end_time": "2022-06-08T17:21:26.738288Z",
     "start_time": "2022-06-08T17:21:26.731230Z"
    }
   },
   "outputs": [],
   "source": [
    "JK136.obs['SampleID'] = \"JK136\"\n",
    "JK136.obs['GEO_RNA'] = \"GSM5264680\"\n",
    "JK136.obs['Cohort'] = \"GSE173280\"\n",
    "JK136.obs['Type'] = \"PrimaryTumor\"  \n",
    "JK136.obs['Subtype'] = \"NotAvailable\"\n",
    "JK136.obs['Diagnosis'] = \"Glioblastoma\"\n",
    "JK136.obs['Grade'] = \"NotAvailable\"\n",
    "JK136.obs['Location'] = \"Left_Temporal\"\n",
    "JK136.obs['IDH1_Status'] = \"WT\"\n",
    "JK136.obs['EGFR_Status'] = \"NotAvailable\"\n",
    "JK136.obs['CellCount'] = \"4372\"\n",
    "JK136.obs['Sample'] = \"Patient103\"\n",
    "JK136.obs['Sex'] = \"F\"\n",
    "JK136.obs['Age'] = \"57\"\n",
    "JK136.obs['Sorted'] = \"CD45\""
   ]
  },
  {
   "cell_type": "code",
   "execution_count": 32,
   "id": "d468d4cc",
   "metadata": {
    "ExecuteTime": {
     "end_time": "2022-06-08T17:21:26.746775Z",
     "start_time": "2022-06-08T17:21:26.739915Z"
    }
   },
   "outputs": [],
   "source": [
    "JK142.obs['SampleID'] = \"JK142\"\n",
    "JK142.obs['GEO_RNA'] = \"GSM5264680\"\n",
    "JK142.obs['Cohort'] = \"GSE173280\"\n",
    "JK142.obs['Type'] = \"PrimaryTumor\"  \n",
    "JK142.obs['Subtype'] = \"NotAvailable\"\n",
    "JK142.obs['Diagnosis'] = \"Glioblastoma\"\n",
    "JK142.obs['Grade'] = \"NotAvailable\"\n",
    "JK142.obs['Location'] = \"Right_Temporal\"\n",
    "JK142.obs['IDH1_Status'] = \"WT\"\n",
    "JK142.obs['EGFR_Status'] = \"NotAvailable\"\n",
    "JK142.obs['CellCount'] = \"4553\"\n",
    "JK142.obs['Sample'] = \"Patient104\"\n",
    "JK142.obs['Sex'] = \"F\"\n",
    "JK142.obs['Age'] = \"66\"\n",
    "JK142.obs['Sorted'] = \"CD45\""
   ]
  },
  {
   "cell_type": "code",
   "execution_count": 33,
   "id": "75dc03db",
   "metadata": {
    "ExecuteTime": {
     "end_time": "2022-06-08T17:21:26.754736Z",
     "start_time": "2022-06-08T17:21:26.747934Z"
    }
   },
   "outputs": [],
   "source": [
    "JK152.obs['SampleID'] = \"JK152\"\n",
    "JK152.obs['GEO_RNA'] = \"GSM5264680\"\n",
    "JK152.obs['Cohort'] = \"GSE173280\"\n",
    "JK152.obs['Type'] = \"PrimaryTumor\"  \n",
    "JK152.obs['Subtype'] = \"NotAvailable\"\n",
    "JK152.obs['Diagnosis'] = \"Glioblastoma\"\n",
    "JK152.obs['Grade'] = \"NotAvailable\"\n",
    "JK152.obs['Location'] = \"Right_Parietal\"\n",
    "JK152.obs['IDH1_Status'] = \"WT\"\n",
    "JK152.obs['EGFR_Status'] = \"NotAvailable\"\n",
    "JK152.obs['CellCount'] = \"2625\"\n",
    "JK152.obs['Sample'] = \"Patient105\"\n",
    "JK152.obs['Sex'] = \"M\"\n",
    "JK152.obs['Age'] = \"46\"\n",
    "JK152.obs['Sorted'] = \"CD45\""
   ]
  },
  {
   "cell_type": "code",
   "execution_count": 34,
   "id": "12a618cd",
   "metadata": {
    "ExecuteTime": {
     "end_time": "2022-06-08T17:21:26.763151Z",
     "start_time": "2022-06-08T17:21:26.756202Z"
    }
   },
   "outputs": [],
   "source": [
    "JK153.obs['SampleID'] = \"JK153\"\n",
    "JK153.obs['GEO_RNA'] = \"GSM5264680\"\n",
    "JK153.obs['Cohort'] = \"GSE173280\"\n",
    "JK153.obs['Type'] = \"PrimaryTumor\"  \n",
    "JK153.obs['Subtype'] = \"NotAvailable\"\n",
    "JK153.obs['Diagnosis'] = \"Glioblastoma\"\n",
    "JK153.obs['Grade'] = \"NotAvailable\"\n",
    "JK153.obs['Location'] = \"Left_Parietal\"\n",
    "JK153.obs['IDH1_Status'] = \"WT\"\n",
    "JK153.obs['EGFR_Status'] = \"NotAvailable\"\n",
    "JK153.obs['CellCount'] = \"3277\"\n",
    "JK153.obs['Sample'] = \"Patient106\"\n",
    "JK153.obs['Sex'] = \"F\"\n",
    "JK153.obs['Age'] = \"66\"\n",
    "JK153.obs['Sorted'] = \"CD45\""
   ]
  },
  {
   "cell_type": "code",
   "execution_count": 35,
   "id": "f5204908",
   "metadata": {
    "ExecuteTime": {
     "end_time": "2022-06-08T17:21:26.770998Z",
     "start_time": "2022-06-08T17:21:26.764321Z"
    }
   },
   "outputs": [],
   "source": [
    "JK156.obs['SampleID'] = \"JK156\"\n",
    "JK156.obs['GEO_RNA'] = \"GSM5264680\"\n",
    "JK156.obs['Cohort'] = \"GSE173280\"\n",
    "JK156.obs['Type'] = \"PrimaryTumor\"  \n",
    "JK156.obs['Subtype'] = \"NotAvailable\"\n",
    "JK156.obs['Diagnosis'] = \"Glioblastoma\"\n",
    "JK156.obs['Grade'] = \"NotAvailable\"\n",
    "JK156.obs['Location'] = \"Left_Temporal\"\n",
    "JK156.obs['IDH1_Status'] = \"WT\"\n",
    "JK156.obs['EGFR_Status'] = \"NotAvailable\"\n",
    "JK156.obs['CellCount'] = \"1548\"\n",
    "JK156.obs['Sample'] = \"Patient107\"\n",
    "JK156.obs['Sex'] = \"M\"\n",
    "JK156.obs['Age'] = \"67\"\n",
    "JK156.obs['Sorted'] = \"CD45\""
   ]
  },
  {
   "cell_type": "code",
   "execution_count": 36,
   "id": "0c9c7800",
   "metadata": {
    "ExecuteTime": {
     "end_time": "2022-06-08T17:21:26.779438Z",
     "start_time": "2022-06-08T17:21:26.772469Z"
    }
   },
   "outputs": [],
   "source": [
    "JK163.obs['SampleID'] = \"JK163\"\n",
    "JK163.obs['GEO_RNA'] = \"GSM5264680\"\n",
    "JK163.obs['Cohort'] = \"GSE173280\"\n",
    "JK163.obs['Type'] = \"PrimaryTumor\"  \n",
    "JK163.obs['Subtype'] = \"NotAvailable\"\n",
    "JK163.obs['Diagnosis'] = \"Glioblastoma\"\n",
    "JK163.obs['Grade'] = \"NotAvailable\"\n",
    "JK163.obs['Location'] = \"Right_Frontal\"\n",
    "JK163.obs['IDH1_Status'] = \"WT\"\n",
    "JK163.obs['EGFR_Status'] = \"NotAvailable\"\n",
    "JK163.obs['CellCount'] = \"2315\"\n",
    "JK163.obs['Sample'] = \"Patient108\"\n",
    "JK163.obs['Sex'] = \"M\"\n",
    "JK163.obs['Age'] = \"64\"\n",
    "JK163.obs['Sorted'] = \"CD45\""
   ]
  },
  {
   "cell_type": "code",
   "execution_count": 37,
   "id": "cb5c93e3",
   "metadata": {
    "ExecuteTime": {
     "end_time": "2022-06-08T17:21:28.882489Z",
     "start_time": "2022-06-08T17:21:26.780896Z"
    }
   },
   "outputs": [],
   "source": [
    "JK124.write(outpath+\"JK124.h5ad\")\n",
    "JK125.write(outpath+\"JK125.h5ad\")\n",
    "JK126.write(outpath+\"JK126.h5ad\")\n",
    "JK134.write(outpath+\"JK134.h5ad\")\n",
    "JK136.write(outpath+\"JK136.h5ad\")\n",
    "JK142.write(outpath+\"JK142.h5ad\")\n",
    "JK152.write(outpath+\"JK152.h5ad\")\n",
    "JK153.write(outpath+\"JK153.h5ad\")\n",
    "JK156.write(outpath+\"JK156.h5ad\")\n",
    "JK163.write(outpath+\"JK163.h5ad\")"
   ]
  },
  {
   "cell_type": "code",
   "execution_count": null,
   "id": "4f1c8749",
   "metadata": {},
   "outputs": [],
   "source": []
  }
 ],
 "metadata": {
  "kernelspec": {
   "display_name": "Python [conda env:scanpy19]",
   "language": "python",
   "name": "conda-env-scanpy19-py"
  },
  "language_info": {
   "codemirror_mode": {
    "name": "ipython",
    "version": 3
   },
   "file_extension": ".py",
   "mimetype": "text/x-python",
   "name": "python",
   "nbconvert_exporter": "python",
   "pygments_lexer": "ipython3",
   "version": "3.10.4"
  },
  "toc": {
   "base_numbering": 1,
   "nav_menu": {},
   "number_sections": true,
   "sideBar": true,
   "skip_h1_title": false,
   "title_cell": "Table of Contents",
   "title_sidebar": "Contents",
   "toc_cell": false,
   "toc_position": {},
   "toc_section_display": true,
   "toc_window_display": false
  },
  "varInspector": {
   "cols": {
    "lenName": 16,
    "lenType": 16,
    "lenVar": 40
   },
   "kernels_config": {
    "python": {
     "delete_cmd_postfix": "",
     "delete_cmd_prefix": "del ",
     "library": "var_list.py",
     "varRefreshCmd": "print(var_dic_list())"
    },
    "r": {
     "delete_cmd_postfix": ") ",
     "delete_cmd_prefix": "rm(",
     "library": "var_list.r",
     "varRefreshCmd": "cat(var_dic_list()) "
    }
   },
   "types_to_exclude": [
    "module",
    "function",
    "builtin_function_or_method",
    "instance",
    "_Feature"
   ],
   "window_display": false
  }
 },
 "nbformat": 4,
 "nbformat_minor": 5
}
