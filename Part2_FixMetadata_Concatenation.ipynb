{
 "cells": [
  {
   "cell_type": "code",
   "execution_count": 1,
   "id": "808c14c4",
   "metadata": {
    "ExecuteTime": {
     "end_time": "2022-09-05T14:58:33.884429Z",
     "start_time": "2022-09-05T14:58:23.418038Z"
    }
   },
   "outputs": [],
   "source": [
    "import numpy as np\n",
    "import pandas as pd\n",
    "import scanpy as sc\n",
    "import scanpy.external as sce\n",
    "import scrublet as scr\n",
    "import celltypist\n",
    "from celltypist import models\n",
    "import decoupler as dc\n",
    "import matplotlib.pyplot as plt\n",
    "import seaborn as sns\n",
    "sc.set_figure_params(dpi=150)"
   ]
  },
  {
   "cell_type": "markdown",
   "id": "d905e4e0",
   "metadata": {},
   "source": [
    "# Import raw files"
   ]
  },
  {
   "cell_type": "code",
   "execution_count": 2,
   "id": "1c3884aa",
   "metadata": {
    "ExecuteTime": {
     "end_time": "2022-09-05T14:58:34.050118Z",
     "start_time": "2022-09-05T14:58:33.886837Z"
    }
   },
   "outputs": [
    {
     "name": "stdout",
     "output_type": "stream",
     "text": [
      "Adata_fromC_toR.h5ad\r\n",
      "Part1_B_GSE131928_PMID31327527.h5ad\r\n",
      "Part1_B_GSE131928_PMID31327527_part2.h5ad\r\n",
      "Part1_C_PMID33782623_GSE163120.h5ad\r\n",
      "Part1_D_PMID32385277_GSE131907.h5ad\r\n",
      "Part1_E_ImportDataFromGliomaLocati.h5ad\r\n",
      "Part1_F_ImportDataFromGliomaMetastasis.h5ad\r\n",
      "Part1_G_ImportDataFromJoyce.h5ad\r\n",
      "Part1_H_PMID30545854.h5ad\r\n",
      "Part1_I_Winkler.h5ad\r\n",
      "Part1_L_PMID35177622.h5ad\r\n",
      "Part1_M_GSE174401_PMID34035069.h5ad\r\n",
      "Part1_N_GSE147275_PMID34138753.h5ad\r\n",
      "Part1_O_GSE182109_PMID35140215.h5ad\r\n",
      "Part1_P_GSE173278PMID35303420.h5ad\r\n",
      "Part1_Q_PRJNA579593_PMID31901251.h5ad\r\n",
      "Part1_R_SCP503_PMID35122077.h5ad\r\n"
     ]
    }
   ],
   "source": [
    "!ls /home/lugli/spuccio/Projects/SP039/FileH5AD_concatenated/"
   ]
  },
  {
   "cell_type": "code",
   "execution_count": 3,
   "id": "742f567f",
   "metadata": {
    "ExecuteTime": {
     "end_time": "2022-09-05T15:03:04.916362Z",
     "start_time": "2022-09-05T14:58:34.053867Z"
    }
   },
   "outputs": [],
   "source": [
    "adata_B = sc.read(\"/home/lugli/spuccio/Projects/SP039/FileH5AD_concatenated/Part1_B_GSE131928_PMID31327527.h5ad\")\n",
    "adata_C = sc.read(\"/home/lugli/spuccio/Projects/SP039/FileH5AD_concatenated/Part1_C_PMID33782623_GSE163120.h5ad\")\n",
    "adata_D = sc.read(\"/home/lugli/spuccio/Projects/SP039/FileH5AD_concatenated/Part1_D_PMID32385277_GSE131907.h5ad\")\n",
    "adata_E = sc.read(\"/home/lugli/spuccio/Projects/SP039/FileH5AD_concatenated/Part1_E_ImportDataFromGliomaLocati.h5ad\")\n",
    "adata_F = sc.read(\"/home/lugli/spuccio/Projects/SP039/FileH5AD_concatenated/Part1_F_ImportDataFromGliomaMetastasis.h5ad\")\n",
    "adata_G = sc.read(\"/home/lugli/spuccio/Projects/SP039/FileH5AD_concatenated/Part1_G_ImportDataFromJoyce.h5ad\")\n",
    "adata_H = sc.read(\"/home/lugli/spuccio/Projects/SP039/FileH5AD_concatenated/Part1_H_PMID30545854.h5ad\")\n",
    "adata_I = sc.read(\"/home/lugli/spuccio/Projects/SP039/FileH5AD_concatenated/Part1_I_Winkler.h5ad\")\n",
    "adata_L = sc.read(\"/home/lugli/spuccio/Projects/SP039/FileH5AD_concatenated/Part1_L_PMID35177622.h5ad\")\n",
    "adata_M = sc.read(\"/home/lugli/spuccio/Projects/SP039/FileH5AD_concatenated/Part1_M_GSE174401_PMID34035069.h5ad\")\n",
    "adata_N = sc.read(\"/home/lugli/spuccio/Projects/SP039/FileH5AD_concatenated/Part1_N_GSE147275_PMID34138753.h5ad\")\n",
    "adata_O = sc.read(\"/home/lugli/spuccio/Projects/SP039/FileH5AD_concatenated/Part1_O_GSE182109_PMID35140215.h5ad\")\n",
    "adata_P = sc.read(\"/home/lugli/spuccio/Projects/SP039/FileH5AD_concatenated/Part1_P_GSE173278PMID35303420.h5ad\")\n",
    "adata_Q = sc.read(\"/home/lugli/spuccio/Projects/SP039/FileH5AD_concatenated/Part1_Q_PRJNA579593_PMID31901251.h5ad\")\n",
    "adata_R = sc.read(\"/home/lugli/spuccio/Projects/SP039/FileH5AD_concatenated/Part1_R_SCP503_PMID35122077.h5ad\")"
   ]
  },
  {
   "cell_type": "markdown",
   "id": "8ded4cbb",
   "metadata": {},
   "source": [
    "# Update dataset B"
   ]
  },
  {
   "cell_type": "code",
   "execution_count": 4,
   "id": "f4b8173a",
   "metadata": {
    "ExecuteTime": {
     "end_time": "2022-09-05T15:03:04.949794Z",
     "start_time": "2022-09-05T15:03:04.941249Z"
    }
   },
   "outputs": [
    {
     "data": {
      "text/plain": [
       "Index(['SampleID', 'GEO_RNA', 'Cohort', 'Type', 'Subtype', 'Diagnosis',\n",
       "       'Grade', 'Location', 'IDH1_Status', 'EGFR_Status', 'MGMT', 'CellCount',\n",
       "       'Sample', 'Sex', 'Age', 'Sorted', 'MET', 'batch', 'n_genes_by_counts',\n",
       "       'total_counts', 'total_counts_mt', 'pct_counts_mt', 'total_counts_ribo',\n",
       "       'pct_counts_ribo', 'total_counts_hb', 'pct_counts_hb', 'percent_mt2',\n",
       "       'n_counts', 'n_genes', 'leiden', 'majority_voting', 'cell_type'],\n",
       "      dtype='object')"
      ]
     },
     "execution_count": 4,
     "metadata": {},
     "output_type": "execute_result"
    }
   ],
   "source": [
    "adata_B.obs.columns"
   ]
  },
  {
   "cell_type": "code",
   "execution_count": 5,
   "id": "6b44c4e4",
   "metadata": {
    "ExecuteTime": {
     "end_time": "2022-09-05T15:03:04.974336Z",
     "start_time": "2022-09-05T15:03:04.952301Z"
    }
   },
   "outputs": [
    {
     "data": {
      "text/plain": [
       "MGH102-0      CD45\n",
       "MGH102-1      CD45\n",
       "MGH102-2      CD45\n",
       "MGH102-3      CD45\n",
       "MGH102-4      CD45\n",
       "              ... \n",
       "MGH126-224    CD45\n",
       "MGH126-225    CD45\n",
       "MGH126-226    CD45\n",
       "MGH126-227    CD45\n",
       "MGH126-228    CD45\n",
       "Name: Sorted, Length: 11786, dtype: category\n",
       "Categories (1, object): ['CD45']"
      ]
     },
     "execution_count": 5,
     "metadata": {},
     "output_type": "execute_result"
    }
   ],
   "source": [
    "adata_B.obs['Sorted']"
   ]
  },
  {
   "cell_type": "code",
   "execution_count": 6,
   "id": "57ead388",
   "metadata": {
    "ExecuteTime": {
     "end_time": "2022-09-05T15:03:04.983625Z",
     "start_time": "2022-09-05T15:03:04.976914Z"
    }
   },
   "outputs": [],
   "source": [
    "adata_B.obs.rename(columns={\"majority_voting\": \"Celltypist_Classification\"}, inplace=True)\n",
    "adata_B.obs.rename(columns={\"cell_type\": \"PanglaoDB_Classification\"}, inplace=True)"
   ]
  },
  {
   "cell_type": "code",
   "execution_count": 7,
   "id": "7f4c9c64",
   "metadata": {
    "ExecuteTime": {
     "end_time": "2022-09-05T15:03:04.992204Z",
     "start_time": "2022-09-05T15:03:04.986486Z"
    }
   },
   "outputs": [
    {
     "data": {
      "text/plain": [
       "8     4424\n",
       "10    2415\n",
       "7     1822\n",
       "11    1613\n",
       "9     1283\n",
       "12     229\n",
       "Name: Sample, dtype: int64"
      ]
     },
     "execution_count": 7,
     "metadata": {},
     "output_type": "execute_result"
    }
   ],
   "source": [
    "adata_B.obs['Sample'].value_counts()"
   ]
  },
  {
   "cell_type": "code",
   "execution_count": 8,
   "id": "bdfd2ffb",
   "metadata": {
    "ExecuteTime": {
     "end_time": "2022-09-05T15:03:05.002382Z",
     "start_time": "2022-09-05T15:03:04.993934Z"
    }
   },
   "outputs": [],
   "source": [
    "adata_B.obs['Sample'] = adata_B.obs['Sample'].astype(\"str\")"
   ]
  },
  {
   "cell_type": "code",
   "execution_count": 9,
   "id": "b164d1e3",
   "metadata": {
    "ExecuteTime": {
     "end_time": "2022-09-05T15:03:05.007065Z",
     "start_time": "2022-09-05T15:03:05.003934Z"
    }
   },
   "outputs": [],
   "source": [
    "ptz_dict = {'7':\"Patient1\",\n",
    "            '8':\"Patient2\",\n",
    "            '9':\"Patient3\",\n",
    "            '10':\"Patient4\",\n",
    "            '11':\"Patient5\",\n",
    "            '12':\"Patient6\"}"
   ]
  },
  {
   "cell_type": "code",
   "execution_count": 10,
   "id": "e6b63df6",
   "metadata": {
    "ExecuteTime": {
     "end_time": "2022-09-05T15:03:05.020937Z",
     "start_time": "2022-09-05T15:03:05.008627Z"
    }
   },
   "outputs": [],
   "source": [
    "# Add cell type column based on annotation\n",
    "adata_B.obs['Sample'] = [ptz_dict[clust] for clust in adata_B.obs['Sample']]"
   ]
  },
  {
   "cell_type": "code",
   "execution_count": 11,
   "id": "0db5e903",
   "metadata": {
    "ExecuteTime": {
     "end_time": "2022-09-05T15:03:05.025716Z",
     "start_time": "2022-09-05T15:03:05.022696Z"
    }
   },
   "outputs": [],
   "source": [
    "del adata_B.obs['batch']"
   ]
  },
  {
   "cell_type": "markdown",
   "id": "8df6c18f",
   "metadata": {},
   "source": [
    "# Update dataset C"
   ]
  },
  {
   "cell_type": "code",
   "execution_count": 12,
   "id": "8458b2a1",
   "metadata": {
    "ExecuteTime": {
     "end_time": "2022-09-05T15:03:05.031565Z",
     "start_time": "2022-09-05T15:03:05.027319Z"
    }
   },
   "outputs": [
    {
     "data": {
      "text/plain": [
       "Index(['SampleID', 'GEO_RNA', 'Cohort', 'Type', 'Subtype', 'Diagnosis',\n",
       "       'Grade', 'Location', 'IDH1_Status', 'EGFR_Status', 'MGMT', 'CellCount',\n",
       "       'Sample', 'Sex', 'Age', 'Sorted', 'MET', 'batch', 'n_genes_by_counts',\n",
       "       'total_counts', 'total_counts_mt', 'pct_counts_mt', 'total_counts_ribo',\n",
       "       'pct_counts_ribo', 'total_counts_hb', 'pct_counts_hb', 'percent_mt2',\n",
       "       'n_counts', 'n_genes', 'S_score', 'G2M_score', 'phase',\n",
       "       'doublet_scores', 'predicted_doublets', 'doublet_info',\n",
       "       'predicted_labels', 'over_clustering', 'majority_voting', 'conf_score',\n",
       "       'leiden', 'cell_type'],\n",
       "      dtype='object')"
      ]
     },
     "execution_count": 12,
     "metadata": {},
     "output_type": "execute_result"
    }
   ],
   "source": [
    "adata_C.obs.columns"
   ]
  },
  {
   "cell_type": "code",
   "execution_count": 13,
   "id": "e66bf985",
   "metadata": {
    "ExecuteTime": {
     "end_time": "2022-09-05T15:03:05.038553Z",
     "start_time": "2022-09-05T15:03:05.033158Z"
    }
   },
   "outputs": [
    {
     "data": {
      "text/plain": [
       "ND1-0       CD45\n",
       "ND1-1       CD45\n",
       "ND1-2       CD45\n",
       "ND1-3       CD45\n",
       "ND1-4       CD45\n",
       "            ... \n",
       "ND5-1714    CD45\n",
       "ND5-1715    CD45\n",
       "ND5-1716    CD45\n",
       "ND5-1717    CD45\n",
       "ND5-1718    CD45\n",
       "Name: Sorted, Length: 8096, dtype: category\n",
       "Categories (1, object): ['CD45']"
      ]
     },
     "execution_count": 13,
     "metadata": {},
     "output_type": "execute_result"
    }
   ],
   "source": [
    "adata_C.obs['Sorted']"
   ]
  },
  {
   "cell_type": "code",
   "execution_count": 14,
   "id": "03ed1226",
   "metadata": {
    "ExecuteTime": {
     "end_time": "2022-09-05T15:03:05.045081Z",
     "start_time": "2022-09-05T15:03:05.041599Z"
    }
   },
   "outputs": [],
   "source": [
    "adata_C.obs.rename(columns={\"majority_voting\": \"Celltypist_Classification\"}, inplace=True)\n",
    "adata_C.obs.rename(columns={\"cell_type\": \"PanglaoDB_Classification\"}, inplace=True)"
   ]
  },
  {
   "cell_type": "code",
   "execution_count": 15,
   "id": "1537abaf",
   "metadata": {
    "ExecuteTime": {
     "end_time": "2022-09-05T15:03:05.051337Z",
     "start_time": "2022-09-05T15:03:05.046539Z"
    }
   },
   "outputs": [
    {
     "data": {
      "text/plain": [
       "16    3572\n",
       "14    1749\n",
       "17    1712\n",
       "13     714\n",
       "15     349\n",
       "Name: Sample, dtype: int64"
      ]
     },
     "execution_count": 15,
     "metadata": {},
     "output_type": "execute_result"
    }
   ],
   "source": [
    "adata_C.obs['Sample'].value_counts()"
   ]
  },
  {
   "cell_type": "code",
   "execution_count": 16,
   "id": "3d9888ca",
   "metadata": {
    "ExecuteTime": {
     "end_time": "2022-09-05T15:03:05.059681Z",
     "start_time": "2022-09-05T15:03:05.053151Z"
    }
   },
   "outputs": [],
   "source": [
    "adata_C.obs['Sample'] = adata_C.obs['Sample'].astype(\"str\")"
   ]
  },
  {
   "cell_type": "code",
   "execution_count": 17,
   "id": "cabd1f6a",
   "metadata": {
    "ExecuteTime": {
     "end_time": "2022-09-05T15:03:05.064303Z",
     "start_time": "2022-09-05T15:03:05.061178Z"
    }
   },
   "outputs": [],
   "source": [
    "ptz_dict = {'13':\"Patient7\",\n",
    "            '14':\"Patient8\",\n",
    "            '15':\"Patient9\",\n",
    "            '16':\"Patient10\",\n",
    "            '17':\"Patient11\"}"
   ]
  },
  {
   "cell_type": "code",
   "execution_count": 18,
   "id": "6ae7e22e",
   "metadata": {
    "ExecuteTime": {
     "end_time": "2022-09-05T15:03:05.070666Z",
     "start_time": "2022-09-05T15:03:05.065788Z"
    }
   },
   "outputs": [],
   "source": [
    "# Add cell type column based on annotation\n",
    "adata_C.obs['Sample'] = [ptz_dict[clust] for clust in adata_C.obs['Sample']]"
   ]
  },
  {
   "cell_type": "code",
   "execution_count": 19,
   "id": "1a2d693c",
   "metadata": {
    "ExecuteTime": {
     "end_time": "2022-09-05T15:03:05.075219Z",
     "start_time": "2022-09-05T15:03:05.072330Z"
    }
   },
   "outputs": [],
   "source": [
    "del adata_C.obs['batch']"
   ]
  },
  {
   "cell_type": "markdown",
   "id": "1592cf51",
   "metadata": {},
   "source": [
    "# Update dataset D"
   ]
  },
  {
   "cell_type": "code",
   "execution_count": 20,
   "id": "37033675",
   "metadata": {
    "ExecuteTime": {
     "end_time": "2022-09-05T15:03:05.080535Z",
     "start_time": "2022-09-05T15:03:05.076722Z"
    }
   },
   "outputs": [
    {
     "data": {
      "text/plain": [
       "Index(['SampleID', 'GEO_RNA', 'Cohort', 'Type', 'Subtype', 'Diagnosis',\n",
       "       'Grade', 'Location', 'IDH1_Status', 'EGFR_Status', 'MGMT', 'CellCount',\n",
       "       'Sample', 'Sex', 'Age', 'Sorted', 'MET', 'batch', 'n_genes_by_counts',\n",
       "       'total_counts', 'total_counts_mt', 'pct_counts_mt', 'total_counts_ribo',\n",
       "       'pct_counts_ribo', 'total_counts_hb', 'pct_counts_hb', 'percent_mt2',\n",
       "       'n_counts', 'n_genes', 'S_score', 'G2M_score', 'phase',\n",
       "       'doublet_scores', 'predicted_doublets', 'doublet_info',\n",
       "       'predicted_labels', 'over_clustering', 'majority_voting', 'conf_score',\n",
       "       'leiden', 'cell_type'],\n",
       "      dtype='object')"
      ]
     },
     "execution_count": 20,
     "metadata": {},
     "output_type": "execute_result"
    }
   ],
   "source": [
    "adata_D.obs.columns"
   ]
  },
  {
   "cell_type": "code",
   "execution_count": 21,
   "id": "b1b30e90",
   "metadata": {
    "ExecuteTime": {
     "end_time": "2022-09-05T15:03:05.084869Z",
     "start_time": "2022-09-05T15:03:05.082200Z"
    }
   },
   "outputs": [],
   "source": [
    "adata_D.obs['Sorted'] = \"WholeTissue\""
   ]
  },
  {
   "cell_type": "code",
   "execution_count": 22,
   "id": "6128ddb6",
   "metadata": {
    "ExecuteTime": {
     "end_time": "2022-09-05T15:03:05.090465Z",
     "start_time": "2022-09-05T15:03:05.086411Z"
    }
   },
   "outputs": [],
   "source": [
    "adata_D.obs.rename(columns={\"majority_voting\": \"Celltypist_Classification\"}, inplace=True)\n",
    "adata_D.obs.rename(columns={\"cell_type\": \"PanglaoDB_Classification\"}, inplace=True)"
   ]
  },
  {
   "cell_type": "code",
   "execution_count": 23,
   "id": "184f0337",
   "metadata": {
    "ExecuteTime": {
     "end_time": "2022-09-05T15:03:05.097414Z",
     "start_time": "2022-09-05T15:03:05.091963Z"
    }
   },
   "outputs": [
    {
     "data": {
      "text/plain": [
       "Patient23    5637\n",
       "Patient25    4759\n",
       "Patient28    3245\n",
       "Patient24    3122\n",
       "Patient20    2936\n",
       "Patient27    2365\n",
       "Patient19    2274\n",
       "Patient21    1879\n",
       "Patient26    1292\n",
       "Patient22    1056\n",
       "Name: Sample, dtype: int64"
      ]
     },
     "execution_count": 23,
     "metadata": {},
     "output_type": "execute_result"
    }
   ],
   "source": [
    "adata_D.obs['Sample'].value_counts()"
   ]
  },
  {
   "cell_type": "code",
   "execution_count": 24,
   "id": "a6185c15",
   "metadata": {
    "ExecuteTime": {
     "end_time": "2022-09-05T15:03:05.104826Z",
     "start_time": "2022-09-05T15:03:05.099001Z"
    }
   },
   "outputs": [],
   "source": [
    "adata_D.obs['Sample'] = adata_D.obs['Sample'].astype(\"str\")"
   ]
  },
  {
   "cell_type": "code",
   "execution_count": 25,
   "id": "0367d4d7",
   "metadata": {
    "ExecuteTime": {
     "end_time": "2022-09-05T15:03:05.109472Z",
     "start_time": "2022-09-05T15:03:05.106334Z"
    }
   },
   "outputs": [],
   "source": [
    "ptz_dict = {'Patient19':\"Patient12\",\n",
    "            'Patient20':\"Patient13\",\n",
    "            'Patient21':\"Patient14\",\n",
    "            'Patient22':\"Patient15\",\n",
    "            'Patient23':\"Patient16\",\n",
    "            'Patient24':\"Patient17\",\n",
    "            'Patient25':\"Patient18\",\n",
    "            'Patient26':\"Patient19\",\n",
    "            'Patient27':\"Patient20\",\n",
    "            'Patient28':\"Patient21\"}"
   ]
  },
  {
   "cell_type": "code",
   "execution_count": 26,
   "id": "7829329a",
   "metadata": {
    "ExecuteTime": {
     "end_time": "2022-09-05T15:03:05.121165Z",
     "start_time": "2022-09-05T15:03:05.111001Z"
    }
   },
   "outputs": [],
   "source": [
    "# Add cell type column based on annotation\n",
    "adata_D.obs['Sample'] = [ptz_dict[clust] for clust in adata_D.obs['Sample']]"
   ]
  },
  {
   "cell_type": "code",
   "execution_count": 27,
   "id": "c3e0c19a",
   "metadata": {
    "ExecuteTime": {
     "end_time": "2022-09-05T15:03:05.129006Z",
     "start_time": "2022-09-05T15:03:05.122986Z"
    }
   },
   "outputs": [],
   "source": [
    "del adata_D.obs['batch']"
   ]
  },
  {
   "cell_type": "markdown",
   "id": "d9f49080",
   "metadata": {},
   "source": [
    "# Update dataset E"
   ]
  },
  {
   "cell_type": "code",
   "execution_count": 28,
   "id": "4f51d3ab",
   "metadata": {
    "ExecuteTime": {
     "end_time": "2022-09-05T15:03:05.135192Z",
     "start_time": "2022-09-05T15:03:05.130647Z"
    }
   },
   "outputs": [
    {
     "data": {
      "text/plain": [
       "Index(['SampleID', 'GEO_RNA', 'Cohort', 'Type', 'Subtype', 'Diagnosis',\n",
       "       'Grade', 'Location', 'IDH1_Status', 'EGFR_Status', 'MGMT', 'CellCount',\n",
       "       'Sample', 'Sex', 'Age', 'Sorted', 'MET', 'batch', 'n_genes_by_counts',\n",
       "       'total_counts', 'total_counts_mt', 'pct_counts_mt', 'total_counts_ribo',\n",
       "       'pct_counts_ribo', 'total_counts_hb', 'pct_counts_hb', 'percent_mt2',\n",
       "       'n_counts', 'n_genes', 'S_score', 'G2M_score', 'phase',\n",
       "       'doublet_scores', 'predicted_doublets', 'doublet_info',\n",
       "       'predicted_labels', 'over_clustering', 'majority_voting', 'conf_score',\n",
       "       'leiden', 'cell_type'],\n",
       "      dtype='object')"
      ]
     },
     "execution_count": 28,
     "metadata": {},
     "output_type": "execute_result"
    }
   ],
   "source": [
    "adata_E.obs.columns"
   ]
  },
  {
   "cell_type": "code",
   "execution_count": 29,
   "id": "47072732",
   "metadata": {
    "ExecuteTime": {
     "end_time": "2022-09-05T15:03:05.142736Z",
     "start_time": "2022-09-05T15:03:05.136819Z"
    }
   },
   "outputs": [
    {
     "data": {
      "text/plain": [
       "GLIO1_T-0       CD45\n",
       "GLIO1_T-1       CD45\n",
       "GLIO1_T-2       CD45\n",
       "GLIO1_T-3       CD45\n",
       "GLIO1_T-4       CD45\n",
       "                ... \n",
       "GLIO7_T-4523    CD45\n",
       "GLIO7_T-4524    CD45\n",
       "GLIO7_T-4525    CD45\n",
       "GLIO7_T-4527    CD45\n",
       "GLIO7_T-4528    CD45\n",
       "Name: Sorted, Length: 31706, dtype: category\n",
       "Categories (1, object): ['CD45']"
      ]
     },
     "execution_count": 29,
     "metadata": {},
     "output_type": "execute_result"
    }
   ],
   "source": [
    "adata_E.obs['Sorted']"
   ]
  },
  {
   "cell_type": "code",
   "execution_count": 30,
   "id": "7b33e8e1",
   "metadata": {
    "ExecuteTime": {
     "end_time": "2022-09-05T15:03:05.148231Z",
     "start_time": "2022-09-05T15:03:05.144296Z"
    }
   },
   "outputs": [],
   "source": [
    "adata_E.obs.rename(columns={\"majority_voting\": \"Celltypist_Classification\"}, inplace=True)\n",
    "adata_E.obs.rename(columns={\"cell_type\": \"PanglaoDB_Classification\"}, inplace=True)"
   ]
  },
  {
   "cell_type": "code",
   "execution_count": 31,
   "id": "0c350dff",
   "metadata": {
    "ExecuteTime": {
     "end_time": "2022-09-05T15:03:05.155539Z",
     "start_time": "2022-09-05T15:03:05.149937Z"
    }
   },
   "outputs": [
    {
     "data": {
      "text/plain": [
       "Patient32    8421\n",
       "Patient30    6053\n",
       "Patient31    4728\n",
       "Patient35    4300\n",
       "Patient33    4123\n",
       "Patient34    2788\n",
       "Patient29    1293\n",
       "Name: Sample, dtype: int64"
      ]
     },
     "execution_count": 31,
     "metadata": {},
     "output_type": "execute_result"
    }
   ],
   "source": [
    "adata_E.obs['Sample'].value_counts()"
   ]
  },
  {
   "cell_type": "code",
   "execution_count": 32,
   "id": "7652620c",
   "metadata": {
    "ExecuteTime": {
     "end_time": "2022-09-05T15:03:05.163277Z",
     "start_time": "2022-09-05T15:03:05.157330Z"
    }
   },
   "outputs": [],
   "source": [
    "adata_E.obs['Sample'] = adata_E.obs['Sample'].astype(\"str\")"
   ]
  },
  {
   "cell_type": "code",
   "execution_count": 33,
   "id": "9a9dbb97",
   "metadata": {
    "ExecuteTime": {
     "end_time": "2022-09-05T15:03:05.168053Z",
     "start_time": "2022-09-05T15:03:05.165045Z"
    }
   },
   "outputs": [],
   "source": [
    "ptz_dict = {'Patient29':\"Patient22\",\n",
    "            'Patient30':\"Patient23\",\n",
    "            'Patient31':\"Patient24\",\n",
    "            'Patient32':\"Patient25\",\n",
    "            'Patient33':\"Patient26\",\n",
    "            'Patient34':\"Patient27\",\n",
    "            'Patient35':\"Patient28\"}"
   ]
  },
  {
   "cell_type": "code",
   "execution_count": 34,
   "id": "06262fc9",
   "metadata": {
    "ExecuteTime": {
     "end_time": "2022-09-05T15:03:05.180529Z",
     "start_time": "2022-09-05T15:03:05.169636Z"
    }
   },
   "outputs": [],
   "source": [
    "# Add cell type column based on annotation\n",
    "adata_E.obs['Sample'] = [ptz_dict[clust] for clust in adata_E.obs['Sample']]"
   ]
  },
  {
   "cell_type": "code",
   "execution_count": 35,
   "id": "779fcc50",
   "metadata": {
    "ExecuteTime": {
     "end_time": "2022-09-05T15:03:05.185246Z",
     "start_time": "2022-09-05T15:03:05.182214Z"
    }
   },
   "outputs": [],
   "source": [
    "del adata_E.obs['batch']"
   ]
  },
  {
   "cell_type": "markdown",
   "id": "5da443c1",
   "metadata": {},
   "source": [
    "# Update dataset F"
   ]
  },
  {
   "cell_type": "code",
   "execution_count": 36,
   "id": "b6f0218f",
   "metadata": {
    "ExecuteTime": {
     "end_time": "2022-09-05T15:03:05.191333Z",
     "start_time": "2022-09-05T15:03:05.186789Z"
    }
   },
   "outputs": [
    {
     "data": {
      "text/plain": [
       "Index(['SampleID', 'GEO_RNA', 'Cohort', 'Type', 'Subtype', 'Diagnosis',\n",
       "       'Grade', 'Location', 'IDH1_Status', 'EGFR_Status', 'MGMT', 'CellCount',\n",
       "       'Sample', 'Sex', 'Age', 'Sorted', 'MET', 'batch', 'n_genes_by_counts',\n",
       "       'total_counts', 'total_counts_mt', 'pct_counts_mt', 'total_counts_ribo',\n",
       "       'pct_counts_ribo', 'total_counts_hb', 'pct_counts_hb', 'percent_mt2',\n",
       "       'n_counts', 'n_genes', 'S_score', 'G2M_score', 'phase',\n",
       "       'doublet_scores', 'predicted_doublets', 'doublet_info',\n",
       "       'predicted_labels', 'over_clustering', 'majority_voting', 'conf_score',\n",
       "       'leiden', 'cell_type'],\n",
       "      dtype='object')"
      ]
     },
     "execution_count": 36,
     "metadata": {},
     "output_type": "execute_result"
    }
   ],
   "source": [
    "adata_F.obs.columns"
   ]
  },
  {
   "cell_type": "code",
   "execution_count": 37,
   "id": "5d064e20",
   "metadata": {
    "ExecuteTime": {
     "end_time": "2022-09-05T15:03:05.195578Z",
     "start_time": "2022-09-05T15:03:05.192956Z"
    }
   },
   "outputs": [],
   "source": [
    "adata_F.obs['Sorted'] = \"WholeTissue\""
   ]
  },
  {
   "cell_type": "code",
   "execution_count": 38,
   "id": "12888454",
   "metadata": {
    "ExecuteTime": {
     "end_time": "2022-09-05T15:03:05.200792Z",
     "start_time": "2022-09-05T15:03:05.197175Z"
    }
   },
   "outputs": [],
   "source": [
    "adata_F.obs.rename(columns={\"majority_voting\": \"Celltypist_Classification\"}, inplace=True)\n",
    "adata_F.obs.rename(columns={\"cell_type\": \"PanglaoDB_Classification\"}, inplace=True)"
   ]
  },
  {
   "cell_type": "code",
   "execution_count": 39,
   "id": "b3e334b7",
   "metadata": {
    "ExecuteTime": {
     "end_time": "2022-09-05T15:03:05.208035Z",
     "start_time": "2022-09-05T15:03:05.202344Z"
    }
   },
   "outputs": [
    {
     "data": {
      "text/plain": [
       "Patient37    10827\n",
       "Patient39     9848\n",
       "Patient45     9294\n",
       "Patient41     6894\n",
       "Patient36     6241\n",
       "Patient43     5606\n",
       "Patient38     3643\n",
       "Patient40     3431\n",
       "Patient46     2052\n",
       "Patient44     1980\n",
       "Patient42     1291\n",
       "Name: Sample, dtype: int64"
      ]
     },
     "execution_count": 39,
     "metadata": {},
     "output_type": "execute_result"
    }
   ],
   "source": [
    "adata_F.obs['Sample'].value_counts(dropna=False)"
   ]
  },
  {
   "cell_type": "code",
   "execution_count": 40,
   "id": "d61c4378",
   "metadata": {
    "ExecuteTime": {
     "end_time": "2022-09-05T15:03:05.219241Z",
     "start_time": "2022-09-05T15:03:05.209555Z"
    }
   },
   "outputs": [],
   "source": [
    "adata_F.obs['Sample'] = adata_F.obs['Sample'].astype(\"str\")"
   ]
  },
  {
   "cell_type": "code",
   "execution_count": 41,
   "id": "712cf2b4",
   "metadata": {
    "ExecuteTime": {
     "end_time": "2022-09-05T15:03:05.228822Z",
     "start_time": "2022-09-05T15:03:05.225526Z"
    }
   },
   "outputs": [],
   "source": [
    "ptz_dict = {'Patient36':\"Patient29\",\n",
    "            'Patient37':\"Patient30\",\n",
    "            'Patient38':\"Patient31\",\n",
    "            'Patient39':\"Patient32\",\n",
    "            'Patient40':\"Patient33\",\n",
    "            'Patient41':\"Patient34\",\n",
    "            'Patient42':\"Patient35\",\n",
    "            'Patient43':\"Patient36\",\n",
    "            'Patient44':\"Patient37\",\n",
    "            'Patient45':\"Patient38\",\n",
    "            'Patient46':\"Patient39\"}"
   ]
  },
  {
   "cell_type": "code",
   "execution_count": 42,
   "id": "a94ba9d5",
   "metadata": {
    "ExecuteTime": {
     "end_time": "2022-09-05T15:03:05.268646Z",
     "start_time": "2022-09-05T15:03:05.230263Z"
    }
   },
   "outputs": [],
   "source": [
    "# Add cell type column based on annotation\n",
    "adata_F.obs['Sample'] = [ptz_dict[clust] for clust in adata_F.obs['Sample']]"
   ]
  },
  {
   "cell_type": "code",
   "execution_count": 43,
   "id": "a95b3aa7",
   "metadata": {
    "ExecuteTime": {
     "end_time": "2022-09-05T15:03:05.273876Z",
     "start_time": "2022-09-05T15:03:05.270700Z"
    }
   },
   "outputs": [],
   "source": [
    "del adata_F.obs['batch']"
   ]
  },
  {
   "cell_type": "markdown",
   "id": "b9d1510f",
   "metadata": {},
   "source": [
    "# Update dataset G"
   ]
  },
  {
   "cell_type": "code",
   "execution_count": 44,
   "id": "5008b870",
   "metadata": {
    "ExecuteTime": {
     "end_time": "2022-09-05T15:03:05.279867Z",
     "start_time": "2022-09-05T15:03:05.275598Z"
    }
   },
   "outputs": [
    {
     "data": {
      "text/plain": [
       "Index(['SampleID', 'GEO_RNA', 'Cohort', 'Type', 'Subtype', 'Diagnosis',\n",
       "       'Grade', 'Location', 'IDH1_Status', 'EGFR_Status', 'MGMT', 'CellCount',\n",
       "       'Sample', 'Sex', 'Age', 'Sorted', 'MET', 'batch', 'n_genes_by_counts',\n",
       "       'total_counts', 'total_counts_mt', 'pct_counts_mt', 'total_counts_ribo',\n",
       "       'pct_counts_ribo', 'total_counts_hb', 'pct_counts_hb', 'percent_mt2',\n",
       "       'n_counts', 'n_genes', 'S_score', 'G2M_score', 'phase',\n",
       "       'doublet_scores', 'predicted_doublets', 'doublet_info',\n",
       "       'predicted_labels', 'over_clustering', 'majority_voting', 'conf_score',\n",
       "       'leiden', 'cell_type'],\n",
       "      dtype='object')"
      ]
     },
     "execution_count": 44,
     "metadata": {},
     "output_type": "execute_result"
    }
   ],
   "source": [
    "adata_G.obs.columns"
   ]
  },
  {
   "cell_type": "code",
   "execution_count": 45,
   "id": "4427f649",
   "metadata": {
    "ExecuteTime": {
     "end_time": "2022-09-05T15:03:05.284152Z",
     "start_time": "2022-09-05T15:03:05.281702Z"
    }
   },
   "outputs": [],
   "source": [
    "adata_G.obs['Sorted'] = \"CD3\""
   ]
  },
  {
   "cell_type": "code",
   "execution_count": 46,
   "id": "ae93a1c0",
   "metadata": {
    "ExecuteTime": {
     "end_time": "2022-09-05T15:03:05.289912Z",
     "start_time": "2022-09-05T15:03:05.285896Z"
    }
   },
   "outputs": [],
   "source": [
    "adata_G.obs.rename(columns={\"majority_voting\": \"Celltypist_Classification\"}, inplace=True)\n",
    "adata_G.obs.rename(columns={\"cell_type\": \"PanglaoDB_Classification\"}, inplace=True)"
   ]
  },
  {
   "cell_type": "code",
   "execution_count": 47,
   "id": "80865140",
   "metadata": {
    "ExecuteTime": {
     "end_time": "2022-09-05T15:03:05.297425Z",
     "start_time": "2022-09-05T15:03:05.291528Z"
    }
   },
   "outputs": [
    {
     "data": {
      "text/plain": [
       "Patient50    7302\n",
       "Patient47    4754\n",
       "Patient48    4222\n",
       "Patient52    4102\n",
       "Patient54    1825\n",
       "Patient51    1729\n",
       "Patient53     514\n",
       "Patient49     165\n",
       "Patient55      93\n",
       "Name: Sample, dtype: int64"
      ]
     },
     "execution_count": 47,
     "metadata": {},
     "output_type": "execute_result"
    }
   ],
   "source": [
    "adata_G.obs['Sample'].value_counts(dropna=False)"
   ]
  },
  {
   "cell_type": "code",
   "execution_count": 48,
   "id": "124d5b4d",
   "metadata": {
    "ExecuteTime": {
     "end_time": "2022-09-05T15:03:05.304413Z",
     "start_time": "2022-09-05T15:03:05.298840Z"
    }
   },
   "outputs": [],
   "source": [
    "adata_G.obs['Sample'] = adata_G.obs['Sample'].astype(\"str\")"
   ]
  },
  {
   "cell_type": "code",
   "execution_count": 49,
   "id": "9ee61c1f",
   "metadata": {
    "ExecuteTime": {
     "end_time": "2022-09-05T15:03:05.309054Z",
     "start_time": "2022-09-05T15:03:05.306120Z"
    }
   },
   "outputs": [],
   "source": [
    "ptz_dict = {'Patient47':\"Patient40\",\n",
    "            'Patient48':\"Patient41\",\n",
    "            'Patient49':\"Patient42\",\n",
    "            'Patient50':\"Patient43\",\n",
    "            'Patient51':\"Patient44\",\n",
    "            'Patient52':\"Patient45\",\n",
    "            'Patient53':\"Patient46\",\n",
    "            'Patient54':\"Patient47\",\n",
    "            'Patient55':\"Patient48\"}"
   ]
  },
  {
   "cell_type": "code",
   "execution_count": 50,
   "id": "6ee6bbb4",
   "metadata": {
    "ExecuteTime": {
     "end_time": "2022-09-05T15:03:05.320069Z",
     "start_time": "2022-09-05T15:03:05.310602Z"
    }
   },
   "outputs": [],
   "source": [
    "# Add cell type column based on annotation\n",
    "adata_G.obs['Sample'] = [ptz_dict[clust] for clust in adata_G.obs['Sample']]"
   ]
  },
  {
   "cell_type": "code",
   "execution_count": 51,
   "id": "82ee37fe",
   "metadata": {
    "ExecuteTime": {
     "end_time": "2022-09-05T15:03:05.324706Z",
     "start_time": "2022-09-05T15:03:05.321847Z"
    }
   },
   "outputs": [],
   "source": [
    "del adata_G.obs['batch']"
   ]
  },
  {
   "cell_type": "markdown",
   "id": "d7a37a22",
   "metadata": {},
   "source": [
    "# Update dataset H"
   ]
  },
  {
   "cell_type": "code",
   "execution_count": 52,
   "id": "0dc19dc8",
   "metadata": {
    "ExecuteTime": {
     "end_time": "2022-09-05T15:03:05.330346Z",
     "start_time": "2022-09-05T15:03:05.326273Z"
    }
   },
   "outputs": [
    {
     "data": {
      "text/plain": [
       "Index(['SampleID', 'GEO_RNA', 'Cohort', 'Type', 'Subtype', 'Diagnosis',\n",
       "       'Grade', 'Location', 'IDH1_Status', 'EGFR_Status', 'MGMT', 'CellCount',\n",
       "       'Sample', 'Sex', 'Age', 'Sorted', 'MET', 'batch', 'n_genes_by_counts',\n",
       "       'total_counts', 'total_counts_mt', 'pct_counts_mt', 'total_counts_ribo',\n",
       "       'pct_counts_ribo', 'total_counts_hb', 'pct_counts_hb', 'percent_mt2',\n",
       "       'n_counts', 'n_genes', 'S_score', 'G2M_score', 'phase',\n",
       "       'doublet_scores', 'predicted_doublets', 'doublet_info',\n",
       "       'predicted_labels', 'over_clustering', 'majority_voting', 'conf_score',\n",
       "       'leiden', 'cell_type'],\n",
       "      dtype='object')"
      ]
     },
     "execution_count": 52,
     "metadata": {},
     "output_type": "execute_result"
    }
   ],
   "source": [
    "adata_H.obs.columns"
   ]
  },
  {
   "cell_type": "code",
   "execution_count": 53,
   "id": "13a54f98",
   "metadata": {
    "ExecuteTime": {
     "end_time": "2022-09-05T15:03:05.334576Z",
     "start_time": "2022-09-05T15:03:05.331846Z"
    }
   },
   "outputs": [],
   "source": [
    "adata_H.obs['Sorted'] = \"WholeTissue\""
   ]
  },
  {
   "cell_type": "code",
   "execution_count": 54,
   "id": "4bbd7d61",
   "metadata": {
    "ExecuteTime": {
     "end_time": "2022-09-05T15:03:05.340095Z",
     "start_time": "2022-09-05T15:03:05.336211Z"
    }
   },
   "outputs": [],
   "source": [
    "adata_H.obs.rename(columns={\"majority_voting\": \"Celltypist_Classification\"}, inplace=True)\n",
    "adata_H.obs.rename(columns={\"cell_type\": \"PanglaoDB_Classification\"}, inplace=True)"
   ]
  },
  {
   "cell_type": "code",
   "execution_count": 55,
   "id": "34f1bd0d",
   "metadata": {
    "ExecuteTime": {
     "end_time": "2022-09-05T15:03:05.349133Z",
     "start_time": "2022-09-05T15:03:05.341885Z"
    }
   },
   "outputs": [
    {
     "data": {
      "text/plain": [
       "PatientPatient56    6753\n",
       "PatientPatient58    5470\n",
       "PatientPatient57    4421\n",
       "Name: Sample, dtype: int64"
      ]
     },
     "execution_count": 55,
     "metadata": {},
     "output_type": "execute_result"
    }
   ],
   "source": [
    "adata_H.obs['Sample'].value_counts(dropna=False)"
   ]
  },
  {
   "cell_type": "code",
   "execution_count": 56,
   "id": "c6c969c5",
   "metadata": {
    "ExecuteTime": {
     "end_time": "2022-09-05T15:03:05.356386Z",
     "start_time": "2022-09-05T15:03:05.350697Z"
    }
   },
   "outputs": [],
   "source": [
    "adata_H.obs['Sample'] = adata_H.obs['Sample'].astype(\"str\")"
   ]
  },
  {
   "cell_type": "code",
   "execution_count": 57,
   "id": "93ed89fc",
   "metadata": {
    "ExecuteTime": {
     "end_time": "2022-09-05T15:03:05.360743Z",
     "start_time": "2022-09-05T15:03:05.358197Z"
    }
   },
   "outputs": [],
   "source": [
    "ptz_dict = {'PatientPatient56':\"Patient49\",\n",
    "            'PatientPatient58':\"Patient50\",\n",
    "            'PatientPatient57':\"Patient51\"}"
   ]
  },
  {
   "cell_type": "code",
   "execution_count": 58,
   "id": "a0c6aaca",
   "metadata": {
    "ExecuteTime": {
     "end_time": "2022-09-05T15:03:05.369679Z",
     "start_time": "2022-09-05T15:03:05.362405Z"
    }
   },
   "outputs": [],
   "source": [
    "# Add cell type column based on annotation\n",
    "adata_H.obs['Sample'] = [ptz_dict[clust] for clust in adata_H.obs['Sample']]"
   ]
  },
  {
   "cell_type": "code",
   "execution_count": 59,
   "id": "2fc0bc2c",
   "metadata": {
    "ExecuteTime": {
     "end_time": "2022-09-05T15:03:05.374400Z",
     "start_time": "2022-09-05T15:03:05.371364Z"
    }
   },
   "outputs": [],
   "source": [
    "del adata_H.obs['batch']"
   ]
  },
  {
   "cell_type": "markdown",
   "id": "12d51fc5",
   "metadata": {},
   "source": [
    "# Update dataset I"
   ]
  },
  {
   "cell_type": "code",
   "execution_count": 60,
   "id": "5874abb1",
   "metadata": {
    "ExecuteTime": {
     "end_time": "2022-09-05T15:03:05.380068Z",
     "start_time": "2022-09-05T15:03:05.376011Z"
    }
   },
   "outputs": [
    {
     "data": {
      "text/plain": [
       "Index(['SampleID', 'GEO_RNA', 'Cohort', 'Type', 'Subtype', 'Diagnosis',\n",
       "       'Grade', 'Location', 'IDH1_Status', 'EGFR_Status', 'MGMT', 'CellCount',\n",
       "       'Sample', 'Sex', 'Age', 'Sorted', 'MET', 'batch', 'n_genes_by_counts',\n",
       "       'total_counts', 'total_counts_mt', 'pct_counts_mt', 'total_counts_ribo',\n",
       "       'pct_counts_ribo', 'total_counts_hb', 'pct_counts_hb', 'percent_mt2',\n",
       "       'n_counts', 'n_genes', 'S_score', 'G2M_score', 'phase',\n",
       "       'doublet_scores', 'predicted_doublets', 'doublet_info',\n",
       "       'predicted_labels', 'over_clustering', 'majority_voting', 'conf_score',\n",
       "       'leiden', 'cell_type'],\n",
       "      dtype='object')"
      ]
     },
     "execution_count": 60,
     "metadata": {},
     "output_type": "execute_result"
    }
   ],
   "source": [
    "adata_I.obs.columns"
   ]
  },
  {
   "cell_type": "code",
   "execution_count": 61,
   "id": "602c3245",
   "metadata": {
    "ExecuteTime": {
     "end_time": "2022-09-05T15:03:05.384164Z",
     "start_time": "2022-09-05T15:03:05.381542Z"
    }
   },
   "outputs": [],
   "source": [
    "adata_I.obs['Sorted'] = \"WholeTissue\""
   ]
  },
  {
   "cell_type": "code",
   "execution_count": 62,
   "id": "ce5d6772",
   "metadata": {
    "ExecuteTime": {
     "end_time": "2022-09-05T15:03:05.389470Z",
     "start_time": "2022-09-05T15:03:05.385700Z"
    }
   },
   "outputs": [],
   "source": [
    "adata_I.obs.rename(columns={\"majority_voting\": \"Celltypist_Classification\"}, inplace=True)\n",
    "adata_I.obs.rename(columns={\"cell_type\": \"PanglaoDB_Classification\"}, inplace=True)"
   ]
  },
  {
   "cell_type": "code",
   "execution_count": 63,
   "id": "99748a80",
   "metadata": {
    "ExecuteTime": {
     "end_time": "2022-09-05T15:03:05.396386Z",
     "start_time": "2022-09-05T15:03:05.390962Z"
    }
   },
   "outputs": [
    {
     "data": {
      "text/plain": [
       "Patient61    5945\n",
       "Patient60    3223\n",
       "Patient59     756\n",
       "Patient62     296\n",
       "Name: Sample, dtype: int64"
      ]
     },
     "execution_count": 63,
     "metadata": {},
     "output_type": "execute_result"
    }
   ],
   "source": [
    "adata_I.obs['Sample'].value_counts(dropna=False)"
   ]
  },
  {
   "cell_type": "code",
   "execution_count": 64,
   "id": "40872917",
   "metadata": {
    "ExecuteTime": {
     "end_time": "2022-09-05T15:03:05.400343Z",
     "start_time": "2022-09-05T15:03:05.397864Z"
    }
   },
   "outputs": [],
   "source": [
    "ptz_dict = {'Patient59':\"Patient52\",\n",
    "            'Patient60':\"Patient53\",\n",
    "            'Patient61':\"Patient54\",\n",
    "            'Patient62':\"Patient55\"}"
   ]
  },
  {
   "cell_type": "code",
   "execution_count": 65,
   "id": "8bb7ce3f",
   "metadata": {
    "ExecuteTime": {
     "end_time": "2022-09-05T15:03:05.406501Z",
     "start_time": "2022-09-05T15:03:05.401882Z"
    }
   },
   "outputs": [],
   "source": [
    "# Add cell type column based on annotation\n",
    "adata_I.obs['Sample'] = [ptz_dict[clust] for clust in adata_I.obs['Sample']]"
   ]
  },
  {
   "cell_type": "code",
   "execution_count": 66,
   "id": "5030e524",
   "metadata": {
    "ExecuteTime": {
     "end_time": "2022-09-05T15:03:05.411032Z",
     "start_time": "2022-09-05T15:03:05.408239Z"
    }
   },
   "outputs": [],
   "source": [
    "del adata_I.obs['batch']"
   ]
  },
  {
   "cell_type": "markdown",
   "id": "9a5b4c07",
   "metadata": {},
   "source": [
    "# Update dataset L"
   ]
  },
  {
   "cell_type": "code",
   "execution_count": 67,
   "id": "105f94c7",
   "metadata": {
    "ExecuteTime": {
     "end_time": "2022-09-05T15:03:05.416780Z",
     "start_time": "2022-09-05T15:03:05.412681Z"
    }
   },
   "outputs": [
    {
     "data": {
      "text/plain": [
       "Index(['SampleID', 'GEO_RNA', 'Cohort', 'Type', 'Subtype', 'Diagnosis',\n",
       "       'Grade', 'Location', 'IDH1_Status', 'EGFR_Status', 'MGMT', 'CellCount',\n",
       "       'Sample', 'Sex', 'Age', 'Sorted', 'MET', 'batch', 'n_genes_by_counts',\n",
       "       'total_counts', 'total_counts_mt', 'pct_counts_mt', 'total_counts_ribo',\n",
       "       'pct_counts_ribo', 'total_counts_hb', 'pct_counts_hb', 'percent_mt2',\n",
       "       'n_counts', 'n_genes', 'S_score', 'G2M_score', 'phase',\n",
       "       'doublet_scores', 'predicted_doublets', 'doublet_info',\n",
       "       'predicted_labels', 'over_clustering', 'majority_voting', 'conf_score',\n",
       "       'leiden', 'cell_type'],\n",
       "      dtype='object')"
      ]
     },
     "execution_count": 67,
     "metadata": {},
     "output_type": "execute_result"
    }
   ],
   "source": [
    "adata_L.obs.columns"
   ]
  },
  {
   "cell_type": "code",
   "execution_count": 68,
   "id": "3603772f",
   "metadata": {
    "ExecuteTime": {
     "end_time": "2022-09-05T15:03:05.421132Z",
     "start_time": "2022-09-05T15:03:05.418504Z"
    }
   },
   "outputs": [],
   "source": [
    "adata_L.obs['Sorted'] = \"WholeTissue\""
   ]
  },
  {
   "cell_type": "code",
   "execution_count": 69,
   "id": "6d078cb2",
   "metadata": {
    "ExecuteTime": {
     "end_time": "2022-09-05T15:03:05.425900Z",
     "start_time": "2022-09-05T15:03:05.422572Z"
    }
   },
   "outputs": [],
   "source": [
    "adata_L.obs.rename(columns={\"majority_voting\": \"Celltypist_Classification\"}, inplace=True)\n",
    "adata_L.obs.rename(columns={\"cell_type\": \"PanglaoDB_Classification\"}, inplace=True)"
   ]
  },
  {
   "cell_type": "code",
   "execution_count": 70,
   "id": "210119b4",
   "metadata": {
    "ExecuteTime": {
     "end_time": "2022-09-05T15:03:05.433134Z",
     "start_time": "2022-09-05T15:03:05.427071Z"
    }
   },
   "outputs": [
    {
     "data": {
      "text/plain": [
       "Patient67    10740\n",
       "Patient66     6689\n",
       "Patient70     5691\n",
       "Patient65     5632\n",
       "Patient68     5360\n",
       "Patient64     4220\n",
       "Patient63     3750\n",
       "Patient69     3354\n",
       "Name: Sample, dtype: int64"
      ]
     },
     "execution_count": 70,
     "metadata": {},
     "output_type": "execute_result"
    }
   ],
   "source": [
    "adata_L.obs['Sample'].value_counts(dropna=False)"
   ]
  },
  {
   "cell_type": "code",
   "execution_count": 71,
   "id": "b9d32ef9",
   "metadata": {
    "ExecuteTime": {
     "end_time": "2022-09-05T15:03:05.436802Z",
     "start_time": "2022-09-05T15:03:05.434463Z"
    }
   },
   "outputs": [],
   "source": [
    "ptz_dict = {'Patient63':\"Patient56\",\n",
    "            'Patient64':\"Patient57\",\n",
    "            'Patient65':\"Patient58\",\n",
    "            'Patient66':\"Patient59\",\n",
    "            'Patient67':\"Patient60\",\n",
    "            'Patient68':\"Patient61\",\n",
    "            'Patient69':\"Patient62\",\n",
    "            'Patient70':\"Patient63\"}"
   ]
  },
  {
   "cell_type": "code",
   "execution_count": 72,
   "id": "f76a6cc7",
   "metadata": {
    "ExecuteTime": {
     "end_time": "2022-09-05T15:03:05.446266Z",
     "start_time": "2022-09-05T15:03:05.438068Z"
    }
   },
   "outputs": [],
   "source": [
    "# Add cell type column based on annotation\n",
    "adata_L.obs['Sample'] = [ptz_dict[clust] for clust in adata_L.obs['Sample']]"
   ]
  },
  {
   "cell_type": "code",
   "execution_count": 73,
   "id": "4c5e5576",
   "metadata": {
    "ExecuteTime": {
     "end_time": "2022-09-05T15:03:05.449723Z",
     "start_time": "2022-09-05T15:03:05.447472Z"
    }
   },
   "outputs": [],
   "source": [
    "del adata_L.obs['batch']"
   ]
  },
  {
   "cell_type": "markdown",
   "id": "6e5c8aae",
   "metadata": {},
   "source": [
    "# Update dataset M"
   ]
  },
  {
   "cell_type": "code",
   "execution_count": 74,
   "id": "856c8a71",
   "metadata": {
    "ExecuteTime": {
     "end_time": "2022-09-05T15:03:05.454522Z",
     "start_time": "2022-09-05T15:03:05.450930Z"
    }
   },
   "outputs": [
    {
     "data": {
      "text/plain": [
       "Index(['SampleID', 'GEO_RNA', 'Cohort', 'Type', 'Subtype', 'Diagnosis',\n",
       "       'Grade', 'Location', 'IDH1_Status', 'EGFR_Status', 'MGMT', 'CellCount',\n",
       "       'Sample', 'Sex', 'Age', 'Sorted', 'MET', 'batch', 'n_genes_by_counts',\n",
       "       'total_counts', 'total_counts_mt', 'pct_counts_mt', 'total_counts_ribo',\n",
       "       'pct_counts_ribo', 'total_counts_hb', 'pct_counts_hb', 'percent_mt2',\n",
       "       'n_counts', 'n_genes', 'S_score', 'G2M_score', 'phase',\n",
       "       'doublet_scores', 'predicted_doublets', 'doublet_info',\n",
       "       'predicted_labels', 'over_clustering', 'majority_voting', 'conf_score',\n",
       "       'leiden', 'cell_type'],\n",
       "      dtype='object')"
      ]
     },
     "execution_count": 74,
     "metadata": {},
     "output_type": "execute_result"
    }
   ],
   "source": [
    "adata_M.obs.columns"
   ]
  },
  {
   "cell_type": "code",
   "execution_count": 75,
   "id": "9fc163e0",
   "metadata": {
    "ExecuteTime": {
     "end_time": "2022-09-05T15:03:05.458333Z",
     "start_time": "2022-09-05T15:03:05.455932Z"
    }
   },
   "outputs": [],
   "source": [
    "adata_M.obs['Sorted'] = \"WholeTissue\""
   ]
  },
  {
   "cell_type": "code",
   "execution_count": 76,
   "id": "b0e97d4a",
   "metadata": {
    "ExecuteTime": {
     "end_time": "2022-09-05T15:03:05.474302Z",
     "start_time": "2022-09-05T15:03:05.459645Z"
    }
   },
   "outputs": [],
   "source": [
    "adata_M.obs.rename(columns={\"majority_voting\": \"Celltypist_Classification\"}, inplace=True)\n",
    "adata_M.obs.rename(columns={\"cell_type\": \"PanglaoDB_Classification\"}, inplace=True)"
   ]
  },
  {
   "cell_type": "code",
   "execution_count": 77,
   "id": "f16bc897",
   "metadata": {
    "ExecuteTime": {
     "end_time": "2022-09-05T15:03:05.484604Z",
     "start_time": "2022-09-05T15:03:05.476114Z"
    }
   },
   "outputs": [
    {
     "data": {
      "text/plain": [
       "Patient72    1986\n",
       "Patient74    1733\n",
       "Patient78    1725\n",
       "Patient80    1598\n",
       "Patient77    1481\n",
       "Patient79    1238\n",
       "Patient76    1210\n",
       "Patient73    1078\n",
       "Patient71     893\n",
       "Name: Sample, dtype: int64"
      ]
     },
     "execution_count": 77,
     "metadata": {},
     "output_type": "execute_result"
    }
   ],
   "source": [
    "adata_M.obs['Sample'].value_counts(dropna=False)"
   ]
  },
  {
   "cell_type": "code",
   "execution_count": 78,
   "id": "2699a3c8",
   "metadata": {
    "ExecuteTime": {
     "end_time": "2022-09-05T15:03:05.488897Z",
     "start_time": "2022-09-05T15:03:05.486187Z"
    }
   },
   "outputs": [],
   "source": [
    "ptz_dict = {'Patient71':\"Patient64\",\n",
    "            'Patient72':\"Patient65\",\n",
    "            'Patient73':\"Patient66\",\n",
    "            'Patient74':\"Patient67\",\n",
    "            'Patient75':\"Patient68\",\n",
    "            'Patient76':\"Patient69\",\n",
    "            'Patient77':\"Patient70\",\n",
    "            'Patient78':\"Patient71\",\n",
    "            'Patient79':\"Patient72\",\n",
    "            'Patient80':\"Patient73\"}"
   ]
  },
  {
   "cell_type": "code",
   "execution_count": 79,
   "id": "18da767f",
   "metadata": {
    "ExecuteTime": {
     "end_time": "2022-09-05T15:03:05.494788Z",
     "start_time": "2022-09-05T15:03:05.490328Z"
    }
   },
   "outputs": [],
   "source": [
    "# Add cell type column based on annotation\n",
    "adata_M.obs['Sample'] = [ptz_dict[clust] for clust in adata_M.obs['Sample']]"
   ]
  },
  {
   "cell_type": "code",
   "execution_count": 80,
   "id": "de76e105",
   "metadata": {
    "ExecuteTime": {
     "end_time": "2022-09-05T15:03:05.498835Z",
     "start_time": "2022-09-05T15:03:05.496282Z"
    }
   },
   "outputs": [],
   "source": [
    "del adata_M.obs['batch']"
   ]
  },
  {
   "cell_type": "markdown",
   "id": "34f0360d",
   "metadata": {},
   "source": [
    "# Update dataset N"
   ]
  },
  {
   "cell_type": "code",
   "execution_count": 81,
   "id": "31a5ef42",
   "metadata": {
    "ExecuteTime": {
     "end_time": "2022-09-05T15:03:05.503468Z",
     "start_time": "2022-09-05T15:03:05.500165Z"
    }
   },
   "outputs": [
    {
     "data": {
      "text/plain": [
       "Index(['SampleID', 'GEO_RNA', 'Cohort', 'Type', 'Subtype', 'Diagnosis',\n",
       "       'Grade', 'Location', 'IDH1_Status', 'EGFR_Status', 'MGMT', 'CellCount',\n",
       "       'Sample', 'Sex', 'Age', 'Sorted', 'MET', 'batch', 'n_genes_by_counts',\n",
       "       'total_counts', 'total_counts_mt', 'pct_counts_mt', 'total_counts_ribo',\n",
       "       'pct_counts_ribo', 'total_counts_hb', 'pct_counts_hb', 'percent_mt2',\n",
       "       'n_counts', 'n_genes', 'S_score', 'G2M_score', 'phase',\n",
       "       'doublet_scores', 'predicted_doublets', 'doublet_info',\n",
       "       'predicted_labels', 'over_clustering', 'majority_voting', 'conf_score',\n",
       "       'leiden', 'cell_type'],\n",
       "      dtype='object')"
      ]
     },
     "execution_count": 81,
     "metadata": {},
     "output_type": "execute_result"
    }
   ],
   "source": [
    "adata_N.obs.columns"
   ]
  },
  {
   "cell_type": "code",
   "execution_count": 82,
   "id": "9bbc1b1c",
   "metadata": {
    "ExecuteTime": {
     "end_time": "2022-09-05T15:03:05.509036Z",
     "start_time": "2022-09-05T15:03:05.504606Z"
    }
   },
   "outputs": [
    {
     "data": {
      "text/plain": [
       "2_0       CD45\n",
       "2_1       CD45\n",
       "2_2       CD45\n",
       "2_3       CD45\n",
       "2_4       CD45\n",
       "          ... \n",
       "6_2116    CD45\n",
       "6_2117    CD45\n",
       "6_2119    CD45\n",
       "6_2120    CD45\n",
       "6_2121    CD45\n",
       "Name: Sorted, Length: 3848, dtype: category\n",
       "Categories (1, object): ['CD45']"
      ]
     },
     "execution_count": 82,
     "metadata": {},
     "output_type": "execute_result"
    }
   ],
   "source": [
    "adata_N.obs['Sorted']"
   ]
  },
  {
   "cell_type": "code",
   "execution_count": 83,
   "id": "2ba70f6a",
   "metadata": {
    "ExecuteTime": {
     "end_time": "2022-09-05T15:03:05.513362Z",
     "start_time": "2022-09-05T15:03:05.510225Z"
    }
   },
   "outputs": [],
   "source": [
    "adata_N.obs.rename(columns={\"majority_voting\": \"Celltypist_Classification\"}, inplace=True)\n",
    "adata_N.obs.rename(columns={\"cell_type\": \"PanglaoDB_Classification\"}, inplace=True)"
   ]
  },
  {
   "cell_type": "code",
   "execution_count": 84,
   "id": "912d5c2d",
   "metadata": {
    "ExecuteTime": {
     "end_time": "2022-09-05T15:03:05.519546Z",
     "start_time": "2022-09-05T15:03:05.514625Z"
    }
   },
   "outputs": [
    {
     "data": {
      "text/plain": [
       "Patient84    2004\n",
       "Patient81    1616\n",
       "Patient83     228\n",
       "Name: Sample, dtype: int64"
      ]
     },
     "execution_count": 84,
     "metadata": {},
     "output_type": "execute_result"
    }
   ],
   "source": [
    "adata_N.obs['Sample'].value_counts(dropna=False)"
   ]
  },
  {
   "cell_type": "code",
   "execution_count": 85,
   "id": "f11990c5",
   "metadata": {
    "ExecuteTime": {
     "end_time": "2022-09-05T15:03:05.522798Z",
     "start_time": "2022-09-05T15:03:05.520745Z"
    }
   },
   "outputs": [],
   "source": [
    "ptz_dict = {'Patient81':\"Patient74\",\n",
    "            'Patient83':\"Patient75\",\n",
    "            'Patient84':\"Patient76\"}"
   ]
  },
  {
   "cell_type": "code",
   "execution_count": 86,
   "id": "3b01d930",
   "metadata": {
    "ExecuteTime": {
     "end_time": "2022-09-05T15:03:05.527041Z",
     "start_time": "2022-09-05T15:03:05.524040Z"
    }
   },
   "outputs": [],
   "source": [
    "# Add cell type column based on annotation\n",
    "adata_N.obs['Sample'] = [ptz_dict[clust] for clust in adata_N.obs['Sample']]"
   ]
  },
  {
   "cell_type": "code",
   "execution_count": 87,
   "id": "978e816c",
   "metadata": {
    "ExecuteTime": {
     "end_time": "2022-09-05T15:03:05.532026Z",
     "start_time": "2022-09-05T15:03:05.528306Z"
    }
   },
   "outputs": [],
   "source": [
    "del adata_N.obs['batch']"
   ]
  },
  {
   "cell_type": "markdown",
   "id": "6f2bafa9",
   "metadata": {},
   "source": [
    "# Update dataset O"
   ]
  },
  {
   "cell_type": "code",
   "execution_count": 88,
   "id": "983faa1d",
   "metadata": {
    "ExecuteTime": {
     "end_time": "2022-09-05T15:03:05.536796Z",
     "start_time": "2022-09-05T15:03:05.533259Z"
    }
   },
   "outputs": [
    {
     "data": {
      "text/plain": [
       "Index(['SampleID', 'GEO_RNA', 'Cohort', 'Type', 'Subtype', 'Diagnosis',\n",
       "       'Grade', 'Location', 'IDH1_Status', 'EGFR_Status', 'MGMT', 'CellCount',\n",
       "       'Sample', 'Sex', 'Age', 'Sorted', 'MET', 'batch', 'n_genes_by_counts',\n",
       "       'total_counts', 'total_counts_mt', 'pct_counts_mt', 'total_counts_ribo',\n",
       "       'pct_counts_ribo', 'total_counts_hb', 'pct_counts_hb', 'percent_mt2',\n",
       "       'n_counts', 'n_genes', 'S_score', 'G2M_score', 'phase',\n",
       "       'doublet_scores', 'predicted_doublets', 'doublet_info',\n",
       "       'predicted_labels', 'over_clustering', 'majority_voting', 'conf_score',\n",
       "       'leiden', 'cell_type'],\n",
       "      dtype='object')"
      ]
     },
     "execution_count": 88,
     "metadata": {},
     "output_type": "execute_result"
    }
   ],
   "source": [
    "adata_O.obs.columns"
   ]
  },
  {
   "cell_type": "code",
   "execution_count": 89,
   "id": "dac5d288",
   "metadata": {
    "ExecuteTime": {
     "end_time": "2022-09-05T15:03:05.540898Z",
     "start_time": "2022-09-05T15:03:05.538082Z"
    }
   },
   "outputs": [],
   "source": [
    "adata_O.obs['Sorted'] = \"WholeTissue\""
   ]
  },
  {
   "cell_type": "code",
   "execution_count": 90,
   "id": "4694b982",
   "metadata": {
    "ExecuteTime": {
     "end_time": "2022-09-05T15:03:05.547039Z",
     "start_time": "2022-09-05T15:03:05.542360Z"
    }
   },
   "outputs": [],
   "source": [
    "adata_O.obs.rename(columns={\"majority_voting\": \"Celltypist_Classification\"}, inplace=True)\n",
    "adata_O.obs.rename(columns={\"cell_type\": \"PanglaoDB_Classification\"}, inplace=True)"
   ]
  },
  {
   "cell_type": "code",
   "execution_count": 91,
   "id": "f53a51db",
   "metadata": {
    "ExecuteTime": {
     "end_time": "2022-09-05T15:03:05.554111Z",
     "start_time": "2022-09-05T15:03:05.548394Z"
    }
   },
   "outputs": [
    {
     "data": {
      "text/plain": [
       "Patient86    29606\n",
       "Patient85    28232\n",
       "Patient89    28180\n",
       "Patient87    24221\n",
       "Patient91    10382\n",
       "Patient90     9462\n",
       "Patient88     7749\n",
       "Name: Sample, dtype: int64"
      ]
     },
     "execution_count": 91,
     "metadata": {},
     "output_type": "execute_result"
    }
   ],
   "source": [
    "adata_O.obs['Sample'].value_counts(dropna=False)"
   ]
  },
  {
   "cell_type": "code",
   "execution_count": 92,
   "id": "55090b2b",
   "metadata": {
    "ExecuteTime": {
     "end_time": "2022-09-05T15:03:05.557973Z",
     "start_time": "2022-09-05T15:03:05.555518Z"
    }
   },
   "outputs": [],
   "source": [
    "ptz_dict = {'Patient85':\"Patient77\",\n",
    "            'Patient86':\"Patient78\",\n",
    "            'Patient87':\"Patient79\",\n",
    "            'Patient88':\"Patient80\",\n",
    "            'Patient89':\"Patient81\",\n",
    "            'Patient90':\"Patient82\",\n",
    "            'Patient91':\"Patient83\"}"
   ]
  },
  {
   "cell_type": "code",
   "execution_count": 93,
   "id": "eb84e235",
   "metadata": {
    "ExecuteTime": {
     "end_time": "2022-09-05T15:03:05.575827Z",
     "start_time": "2022-09-05T15:03:05.559302Z"
    }
   },
   "outputs": [],
   "source": [
    "# Add cell type column based on annotation\n",
    "adata_O.obs['Sample'] = [ptz_dict[clust] for clust in adata_O.obs['Sample']]"
   ]
  },
  {
   "cell_type": "code",
   "execution_count": 94,
   "id": "d8a24476",
   "metadata": {
    "ExecuteTime": {
     "end_time": "2022-09-05T15:03:05.579838Z",
     "start_time": "2022-09-05T15:03:05.577217Z"
    }
   },
   "outputs": [],
   "source": [
    "del adata_O.obs['batch']"
   ]
  },
  {
   "cell_type": "markdown",
   "id": "e2218ef3",
   "metadata": {},
   "source": [
    "# Update dataset P"
   ]
  },
  {
   "cell_type": "code",
   "execution_count": 95,
   "id": "7f93f184",
   "metadata": {
    "ExecuteTime": {
     "end_time": "2022-09-05T15:03:05.586551Z",
     "start_time": "2022-09-05T15:03:05.581117Z"
    }
   },
   "outputs": [
    {
     "data": {
      "text/plain": [
       "Index(['SampleID', 'GEO_RNA', 'Cohort', 'Type', 'Subtype', 'Diagnosis',\n",
       "       'Grade', 'Location', 'IDH1_Status', 'EGFR_Status', 'MGMT', 'CellCount',\n",
       "       'Sample', 'Sex', 'Age', 'Sorted', 'MET', 'batch', 'n_genes_by_counts',\n",
       "       'total_counts', 'total_counts_mt', 'pct_counts_mt', 'total_counts_ribo',\n",
       "       'pct_counts_ribo', 'total_counts_hb', 'pct_counts_hb', 'percent_mt2',\n",
       "       'n_counts', 'n_genes', 'S_score', 'G2M_score', 'phase',\n",
       "       'doublet_scores', 'predicted_doublets', 'doublet_info',\n",
       "       'predicted_labels', 'over_clustering', 'majority_voting', 'conf_score',\n",
       "       'leiden', 'cell_type'],\n",
       "      dtype='object')"
      ]
     },
     "execution_count": 95,
     "metadata": {},
     "output_type": "execute_result"
    }
   ],
   "source": [
    "adata_P.obs.columns"
   ]
  },
  {
   "cell_type": "code",
   "execution_count": 96,
   "id": "a838c672",
   "metadata": {
    "ExecuteTime": {
     "end_time": "2022-09-05T15:03:05.591952Z",
     "start_time": "2022-09-05T15:03:05.587743Z"
    }
   },
   "outputs": [],
   "source": [
    "adata_P.obs['Sorted'] = \"WholeTissue\""
   ]
  },
  {
   "cell_type": "code",
   "execution_count": 97,
   "id": "b2598f5a",
   "metadata": {
    "ExecuteTime": {
     "end_time": "2022-09-05T15:03:05.598003Z",
     "start_time": "2022-09-05T15:03:05.593111Z"
    }
   },
   "outputs": [],
   "source": [
    "adata_P.obs.rename(columns={\"majority_voting\": \"Celltypist_Classification\"}, inplace=True)\n",
    "adata_P.obs.rename(columns={\"cell_type\": \"PanglaoDB_Classification\"}, inplace=True)"
   ]
  },
  {
   "cell_type": "code",
   "execution_count": 98,
   "id": "6919c4ca",
   "metadata": {
    "ExecuteTime": {
     "end_time": "2022-09-05T15:03:05.604624Z",
     "start_time": "2022-09-05T15:03:05.599433Z"
    }
   },
   "outputs": [
    {
     "data": {
      "text/plain": [
       "Patient99     6950\n",
       "Patient104    4459\n",
       "Patient103    4334\n",
       "Patient106    3263\n",
       "Patient100    3138\n",
       "Patient108    2906\n",
       "Patient101    2827\n",
       "Patient105    2563\n",
       "Patient102    2323\n",
       "Name: Sample, dtype: int64"
      ]
     },
     "execution_count": 98,
     "metadata": {},
     "output_type": "execute_result"
    }
   ],
   "source": [
    "adata_P.obs['Sample'].value_counts(dropna=False)"
   ]
  },
  {
   "cell_type": "code",
   "execution_count": 99,
   "id": "4bde941f",
   "metadata": {
    "ExecuteTime": {
     "end_time": "2022-09-05T15:03:05.609041Z",
     "start_time": "2022-09-05T15:03:05.606010Z"
    }
   },
   "outputs": [],
   "source": [
    "ptz_dict = {'Patient99':\"Patient84\",\n",
    "            'Patient100':\"Patient85\",\n",
    "            'Patient101':\"Patient86\",\n",
    "            'Patient102':\"Patient87\",\n",
    "            'Patient103':\"Patient88\",\n",
    "            'Patient104':\"Patient89\",\n",
    "            'Patient105':\"Patient90\",\n",
    "            'Patient106':\"Patient91\",\n",
    "            'Patient108':\"Patient92\"}"
   ]
  },
  {
   "cell_type": "code",
   "execution_count": 100,
   "id": "80c47e82",
   "metadata": {
    "ExecuteTime": {
     "end_time": "2022-09-05T15:03:05.621411Z",
     "start_time": "2022-09-05T15:03:05.611903Z"
    }
   },
   "outputs": [],
   "source": [
    "# Add cell type column based on annotation\n",
    "adata_P.obs['Sample'] = [ptz_dict[clust] for clust in adata_P.obs['Sample']]"
   ]
  },
  {
   "cell_type": "code",
   "execution_count": 101,
   "id": "ff705b36",
   "metadata": {
    "ExecuteTime": {
     "end_time": "2022-09-05T15:03:05.625676Z",
     "start_time": "2022-09-05T15:03:05.623018Z"
    }
   },
   "outputs": [],
   "source": [
    "del adata_P.obs['batch']"
   ]
  },
  {
   "cell_type": "markdown",
   "id": "1f42f9ef",
   "metadata": {},
   "source": [
    "# Update dataset Q"
   ]
  },
  {
   "cell_type": "code",
   "execution_count": 102,
   "id": "5918178b",
   "metadata": {
    "ExecuteTime": {
     "end_time": "2022-09-05T15:03:05.630890Z",
     "start_time": "2022-09-05T15:03:05.627199Z"
    }
   },
   "outputs": [
    {
     "data": {
      "text/plain": [
       "Index(['SampleID', 'GEO_RNA', 'Cohort', 'Type', 'Subtype', 'Diagnosis',\n",
       "       'Grade', 'Location', 'IDH1_Status', 'EGFR_Status', 'MGMT', 'CellCount',\n",
       "       'Sample', 'Sex', 'Age', 'Sorted', 'MET', 'batch', 'n_genes_by_counts',\n",
       "       'total_counts', 'total_counts_mt', 'pct_counts_mt', 'total_counts_ribo',\n",
       "       'pct_counts_ribo', 'total_counts_hb', 'pct_counts_hb', 'percent_mt2',\n",
       "       'n_counts', 'n_genes', 'S_score', 'G2M_score', 'phase',\n",
       "       'doublet_scores', 'predicted_doublets', 'doublet_info',\n",
       "       'predicted_labels', 'over_clustering', 'majority_voting', 'conf_score',\n",
       "       'leiden', 'cell_type'],\n",
       "      dtype='object')"
      ]
     },
     "execution_count": 102,
     "metadata": {},
     "output_type": "execute_result"
    }
   ],
   "source": [
    "adata_Q.obs.columns"
   ]
  },
  {
   "cell_type": "code",
   "execution_count": 103,
   "id": "a02142b1",
   "metadata": {
    "ExecuteTime": {
     "end_time": "2022-09-05T15:03:05.634752Z",
     "start_time": "2022-09-05T15:03:05.632302Z"
    }
   },
   "outputs": [],
   "source": [
    "adata_Q.obs['Sorted'] = \"WholeTissue\""
   ]
  },
  {
   "cell_type": "code",
   "execution_count": 104,
   "id": "f406627e",
   "metadata": {
    "ExecuteTime": {
     "end_time": "2022-09-05T15:03:05.639850Z",
     "start_time": "2022-09-05T15:03:05.636240Z"
    }
   },
   "outputs": [],
   "source": [
    "adata_Q.obs.rename(columns={\"majority_voting\": \"Celltypist_Classification\"}, inplace=True)\n",
    "adata_Q.obs.rename(columns={\"cell_type\": \"PanglaoDB_Classification\"}, inplace=True)"
   ]
  },
  {
   "cell_type": "code",
   "execution_count": 105,
   "id": "4739e2f4",
   "metadata": {
    "ExecuteTime": {
     "end_time": "2022-09-05T15:03:05.646822Z",
     "start_time": "2022-09-05T15:03:05.641330Z"
    }
   },
   "outputs": [
    {
     "data": {
      "text/plain": [
       "Patient113    11686\n",
       "Patient110     3617\n",
       "Patient114     3577\n",
       "Patient109     2706\n",
       "Patient112     2599\n",
       "Patient111     1120\n",
       "Name: Sample, dtype: int64"
      ]
     },
     "execution_count": 105,
     "metadata": {},
     "output_type": "execute_result"
    }
   ],
   "source": [
    "adata_Q.obs['Sample'].value_counts(dropna=False)"
   ]
  },
  {
   "cell_type": "code",
   "execution_count": 106,
   "id": "91c3fcc9",
   "metadata": {
    "ExecuteTime": {
     "end_time": "2022-09-05T15:03:05.650960Z",
     "start_time": "2022-09-05T15:03:05.648292Z"
    }
   },
   "outputs": [],
   "source": [
    "ptz_dict = {'Patient109':\"Patient93\",\n",
    "            'Patient110':\"Patient94\",\n",
    "            'Patient111':\"Patient95\",\n",
    "            'Patient112':\"Patient96\",\n",
    "            'Patient113':\"Patient97\",\n",
    "            'Patient114':\"Patient98\"}"
   ]
  },
  {
   "cell_type": "code",
   "execution_count": 107,
   "id": "e033ec35",
   "metadata": {
    "ExecuteTime": {
     "end_time": "2022-09-05T15:03:05.658896Z",
     "start_time": "2022-09-05T15:03:05.652446Z"
    }
   },
   "outputs": [],
   "source": [
    "# Add cell type column based on annotation\n",
    "adata_Q.obs['Sample'] = [ptz_dict[clust] for clust in adata_Q.obs['Sample']]"
   ]
  },
  {
   "cell_type": "code",
   "execution_count": 108,
   "id": "81c88894",
   "metadata": {
    "ExecuteTime": {
     "end_time": "2022-09-05T15:03:05.663123Z",
     "start_time": "2022-09-05T15:03:05.660470Z"
    }
   },
   "outputs": [],
   "source": [
    "del adata_Q.obs['batch']"
   ]
  },
  {
   "cell_type": "markdown",
   "id": "8bd6f942",
   "metadata": {},
   "source": [
    "# Update dataset R"
   ]
  },
  {
   "cell_type": "code",
   "execution_count": 109,
   "id": "2f1a896d",
   "metadata": {
    "ExecuteTime": {
     "end_time": "2022-09-05T15:03:05.668534Z",
     "start_time": "2022-09-05T15:03:05.664667Z"
    }
   },
   "outputs": [
    {
     "data": {
      "text/plain": [
       "Index(['SampleID', 'GEO_RNA', 'Cohort', 'Type', 'Subtype', 'Diagnosis',\n",
       "       'Grade', 'Location', 'IDH1_Status', 'EGFR_Status', 'MGMT', 'CellCount',\n",
       "       'Sample', 'Sex', 'Age', 'Sorted', 'MET', 'batch', 'n_genes_by_counts',\n",
       "       'total_counts', 'total_counts_mt', 'pct_counts_mt', 'total_counts_ribo',\n",
       "       'pct_counts_ribo', 'total_counts_hb', 'pct_counts_hb', 'percent_mt2',\n",
       "       'n_counts', 'n_genes', 'S_score', 'G2M_score', 'phase',\n",
       "       'doublet_scores', 'predicted_doublets', 'doublet_info',\n",
       "       'predicted_labels', 'over_clustering', 'majority_voting', 'conf_score',\n",
       "       'leiden', 'cell_type'],\n",
       "      dtype='object')"
      ]
     },
     "execution_count": 109,
     "metadata": {},
     "output_type": "execute_result"
    }
   ],
   "source": [
    "adata_R.obs.columns"
   ]
  },
  {
   "cell_type": "code",
   "execution_count": 110,
   "id": "2a57c036",
   "metadata": {
    "ExecuteTime": {
     "end_time": "2022-09-05T15:03:05.672866Z",
     "start_time": "2022-09-05T15:03:05.670241Z"
    }
   },
   "outputs": [],
   "source": [
    "adata_R.obs['Sorted'] = \"WholeTissue\""
   ]
  },
  {
   "cell_type": "code",
   "execution_count": 111,
   "id": "ce5c2844",
   "metadata": {
    "ExecuteTime": {
     "end_time": "2022-09-05T15:03:05.677807Z",
     "start_time": "2022-09-05T15:03:05.674361Z"
    }
   },
   "outputs": [],
   "source": [
    "adata_R.obs.rename(columns={\"majority_voting\": \"Celltypist_Classification\"}, inplace=True)\n",
    "adata_R.obs.rename(columns={\"cell_type\": \"PanglaoDB_Classification\"}, inplace=True)"
   ]
  },
  {
   "cell_type": "code",
   "execution_count": 112,
   "id": "b3dca60a",
   "metadata": {
    "ExecuteTime": {
     "end_time": "2022-09-05T15:03:05.684179Z",
     "start_time": "2022-09-05T15:03:05.679162Z"
    }
   },
   "outputs": [
    {
     "data": {
      "text/plain": [
       "Patient119    11233\n",
       "Patient121     9529\n",
       "Patient118     8112\n",
       "Patient120     6021\n",
       "Patient117     3701\n",
       "Patient116     3314\n",
       "Patient115      909\n",
       "Name: Sample, dtype: int64"
      ]
     },
     "execution_count": 112,
     "metadata": {},
     "output_type": "execute_result"
    }
   ],
   "source": [
    "adata_R.obs['Sample'].value_counts(dropna=False)"
   ]
  },
  {
   "cell_type": "code",
   "execution_count": 113,
   "id": "f9fc8770",
   "metadata": {
    "ExecuteTime": {
     "end_time": "2022-09-05T15:03:05.694033Z",
     "start_time": "2022-09-05T15:03:05.685474Z"
    }
   },
   "outputs": [],
   "source": [
    "ptz_dict = {'Patient115':\"Patient99\",\n",
    "            'Patient116':\"Patient100\",\n",
    "            'Patient117':\"Patient101\",\n",
    "            'Patient118':\"Patient102\",\n",
    "            'Patient119':\"Patient103\",\n",
    "            'Patient120':\"Patient104\",\n",
    "            'Patient121':\"Patient105\"}"
   ]
  },
  {
   "cell_type": "code",
   "execution_count": 114,
   "id": "bed15973",
   "metadata": {
    "ExecuteTime": {
     "end_time": "2022-09-05T15:03:05.707624Z",
     "start_time": "2022-09-05T15:03:05.695596Z"
    }
   },
   "outputs": [],
   "source": [
    "# Add cell type column based on annotation\n",
    "adata_R.obs['Sample'] = [ptz_dict[clust] for clust in adata_R.obs['Sample']]"
   ]
  },
  {
   "cell_type": "markdown",
   "id": "0cfd9774",
   "metadata": {},
   "source": [
    "# Set raw as X matrix"
   ]
  },
  {
   "cell_type": "code",
   "execution_count": 115,
   "id": "5882fa98",
   "metadata": {
    "ExecuteTime": {
     "end_time": "2022-09-05T15:03:05.713699Z",
     "start_time": "2022-09-05T15:03:05.709197Z"
    }
   },
   "outputs": [
    {
     "data": {
      "text/plain": [
       "AnnData object with n_obs × n_vars = 42819 × 17301\n",
       "    obs: 'SampleID', 'GEO_RNA', 'Cohort', 'Type', 'Subtype', 'Diagnosis', 'Grade', 'Location', 'IDH1_Status', 'EGFR_Status', 'MGMT', 'CellCount', 'Sample', 'Sex', 'Age', 'Sorted', 'MET', 'batch', 'n_genes_by_counts', 'total_counts', 'total_counts_mt', 'pct_counts_mt', 'total_counts_ribo', 'pct_counts_ribo', 'total_counts_hb', 'pct_counts_hb', 'percent_mt2', 'n_counts', 'n_genes', 'S_score', 'G2M_score', 'phase', 'doublet_scores', 'predicted_doublets', 'doublet_info', 'predicted_labels', 'over_clustering', 'Celltypist_Classification', 'conf_score', 'leiden', 'PanglaoDB_Classification'\n",
       "    var: 'mt', 'ribo', 'hb', 'n_cells_by_counts', 'mean_counts', 'pct_dropout_by_counts', 'total_counts', 'n_cells'\n",
       "    uns: 'SampleID_colors', 'cell_type_colors', 'doublet_info_colors', 'hvg', 'leiden', 'leiden_colors', 'log1p', 'majority_voting_colors', 'neighbors', 'pca', 'umap'\n",
       "    obsm: 'X_pca', 'X_pca_harmony', 'X_umap', 'X_umap_harmony', 'ora_estimate', 'ora_pvals'\n",
       "    obsp: 'connectivities', 'distances'"
      ]
     },
     "execution_count": 115,
     "metadata": {},
     "output_type": "execute_result"
    }
   ],
   "source": [
    "adata_B\n",
    "adata_C\n",
    "adata_D\n",
    "adata_E\n",
    "adata_F\n",
    "adata_G\n",
    "adata_H\n",
    "adata_I\n",
    "adata_L\n",
    "adata_M\n",
    "adata_N\n",
    "adata_O\n",
    "adata_P\n",
    "adata_Q\n",
    "adata_R"
   ]
  },
  {
   "cell_type": "code",
   "execution_count": 116,
   "id": "53684d0b",
   "metadata": {
    "ExecuteTime": {
     "end_time": "2022-09-05T15:03:31.444505Z",
     "start_time": "2022-09-05T15:03:05.715271Z"
    }
   },
   "outputs": [],
   "source": [
    "adata_B= adata_B.raw.to_adata()\n",
    "adata_C= adata_C.raw.to_adata()\n",
    "adata_D= adata_D.raw.to_adata()\n",
    "adata_E= adata_E.raw.to_adata()\n",
    "adata_F= adata_F.raw.to_adata()\n",
    "adata_G= adata_G.raw.to_adata()\n",
    "adata_H= adata_H.raw.to_adata()\n",
    "adata_I= adata_I.raw.to_adata()\n",
    "adata_L= adata_L.raw.to_adata()\n",
    "adata_M= adata_M.raw.to_adata()\n",
    "adata_N= adata_N.raw.to_adata()\n",
    "adata_O= adata_O.raw.to_adata()\n",
    "adata_P= adata_P.raw.to_adata()\n",
    "adata_Q= adata_Q.raw.to_adata()\n",
    "#adata_R=  adata_R.raw.to_adata()"
   ]
  },
  {
   "cell_type": "code",
   "execution_count": 117,
   "id": "6c30e3c4",
   "metadata": {
    "ExecuteTime": {
     "end_time": "2022-09-05T15:03:31.450360Z",
     "start_time": "2022-09-05T15:03:31.446462Z"
    }
   },
   "outputs": [
    {
     "data": {
      "text/plain": [
       "(11786, 21459)"
      ]
     },
     "execution_count": 117,
     "metadata": {},
     "output_type": "execute_result"
    }
   ],
   "source": [
    "adata_B.shape"
   ]
  },
  {
   "cell_type": "code",
   "execution_count": 118,
   "id": "3ac6e415",
   "metadata": {
    "ExecuteTime": {
     "end_time": "2022-09-05T15:03:31.587947Z",
     "start_time": "2022-09-05T15:03:31.451549Z"
    }
   },
   "outputs": [
    {
     "data": {
      "text/plain": [
       "(8096, 18745)"
      ]
     },
     "execution_count": 118,
     "metadata": {},
     "output_type": "execute_result"
    }
   ],
   "source": [
    "adata_C.shape"
   ]
  },
  {
   "cell_type": "code",
   "execution_count": 119,
   "id": "340283bf",
   "metadata": {
    "ExecuteTime": {
     "end_time": "2022-09-05T15:03:31.702796Z",
     "start_time": "2022-09-05T15:03:31.589293Z"
    }
   },
   "outputs": [
    {
     "data": {
      "text/plain": [
       "(28565, 23915)"
      ]
     },
     "execution_count": 119,
     "metadata": {},
     "output_type": "execute_result"
    }
   ],
   "source": [
    "adata_D.shape"
   ]
  },
  {
   "cell_type": "code",
   "execution_count": 120,
   "id": "0f0afb0c",
   "metadata": {
    "ExecuteTime": {
     "end_time": "2022-09-05T15:03:31.709901Z",
     "start_time": "2022-09-05T15:03:31.704977Z"
    }
   },
   "outputs": [
    {
     "data": {
      "text/plain": [
       "(31706, 22310)"
      ]
     },
     "execution_count": 120,
     "metadata": {},
     "output_type": "execute_result"
    }
   ],
   "source": [
    "adata_E.shape"
   ]
  },
  {
   "cell_type": "code",
   "execution_count": 121,
   "id": "36cf3b42",
   "metadata": {
    "ExecuteTime": {
     "end_time": "2022-09-05T15:03:31.719350Z",
     "start_time": "2022-09-05T15:03:31.712147Z"
    }
   },
   "outputs": [
    {
     "data": {
      "text/plain": [
       "(61107, 27896)"
      ]
     },
     "execution_count": 121,
     "metadata": {},
     "output_type": "execute_result"
    }
   ],
   "source": [
    "adata_F.shape"
   ]
  },
  {
   "cell_type": "code",
   "execution_count": 122,
   "id": "22bed052",
   "metadata": {
    "ExecuteTime": {
     "end_time": "2022-09-05T15:03:31.759360Z",
     "start_time": "2022-09-05T15:03:31.730538Z"
    }
   },
   "outputs": [
    {
     "data": {
      "text/plain": [
       "(24706, 21180)"
      ]
     },
     "execution_count": 122,
     "metadata": {},
     "output_type": "execute_result"
    }
   ],
   "source": [
    "adata_G.shape"
   ]
  },
  {
   "cell_type": "code",
   "execution_count": 123,
   "id": "5b8bfaae",
   "metadata": {
    "ExecuteTime": {
     "end_time": "2022-09-05T15:03:31.814802Z",
     "start_time": "2022-09-05T15:03:31.760951Z"
    }
   },
   "outputs": [
    {
     "data": {
      "text/plain": [
       "(16644, 23220)"
      ]
     },
     "execution_count": 123,
     "metadata": {},
     "output_type": "execute_result"
    }
   ],
   "source": [
    "adata_H.shape"
   ]
  },
  {
   "cell_type": "code",
   "execution_count": 124,
   "id": "2d06b9ce",
   "metadata": {
    "ExecuteTime": {
     "end_time": "2022-09-05T15:03:31.822553Z",
     "start_time": "2022-09-05T15:03:31.817459Z"
    }
   },
   "outputs": [
    {
     "data": {
      "text/plain": [
       "(10220, 31134)"
      ]
     },
     "execution_count": 124,
     "metadata": {},
     "output_type": "execute_result"
    }
   ],
   "source": [
    "adata_I.shape"
   ]
  },
  {
   "cell_type": "code",
   "execution_count": 125,
   "id": "13024bce",
   "metadata": {
    "ExecuteTime": {
     "end_time": "2022-09-05T15:03:31.828080Z",
     "start_time": "2022-09-05T15:03:31.825222Z"
    }
   },
   "outputs": [
    {
     "data": {
      "text/plain": [
       "(45436, 26455)"
      ]
     },
     "execution_count": 125,
     "metadata": {},
     "output_type": "execute_result"
    }
   ],
   "source": [
    "adata_L.shape"
   ]
  },
  {
   "cell_type": "code",
   "execution_count": 126,
   "id": "4356cefe",
   "metadata": {
    "ExecuteTime": {
     "end_time": "2022-09-05T15:03:31.832714Z",
     "start_time": "2022-09-05T15:03:31.829466Z"
    }
   },
   "outputs": [
    {
     "data": {
      "text/plain": [
       "(12942, 20211)"
      ]
     },
     "execution_count": 126,
     "metadata": {},
     "output_type": "execute_result"
    }
   ],
   "source": [
    "adata_M.shape"
   ]
  },
  {
   "cell_type": "code",
   "execution_count": 127,
   "id": "a1205a36",
   "metadata": {
    "ExecuteTime": {
     "end_time": "2022-09-05T15:03:31.836975Z",
     "start_time": "2022-09-05T15:03:31.833914Z"
    }
   },
   "outputs": [
    {
     "data": {
      "text/plain": [
       "(3848, 17927)"
      ]
     },
     "execution_count": 127,
     "metadata": {},
     "output_type": "execute_result"
    }
   ],
   "source": [
    "adata_N.shape"
   ]
  },
  {
   "cell_type": "code",
   "execution_count": 128,
   "id": "f6ac75be",
   "metadata": {
    "ExecuteTime": {
     "end_time": "2022-09-05T15:03:31.841598Z",
     "start_time": "2022-09-05T15:03:31.838359Z"
    }
   },
   "outputs": [
    {
     "data": {
      "text/plain": [
       "(137832, 27171)"
      ]
     },
     "execution_count": 128,
     "metadata": {},
     "output_type": "execute_result"
    }
   ],
   "source": [
    "adata_O.shape"
   ]
  },
  {
   "cell_type": "code",
   "execution_count": 129,
   "id": "f4815b4d",
   "metadata": {
    "ExecuteTime": {
     "end_time": "2022-09-05T15:03:31.846108Z",
     "start_time": "2022-09-05T15:03:31.842940Z"
    }
   },
   "outputs": [
    {
     "data": {
      "text/plain": [
       "(32763, 24488)"
      ]
     },
     "execution_count": 129,
     "metadata": {},
     "output_type": "execute_result"
    }
   ],
   "source": [
    "adata_P.shape"
   ]
  },
  {
   "cell_type": "code",
   "execution_count": 130,
   "id": "1281347a",
   "metadata": {
    "ExecuteTime": {
     "end_time": "2022-09-05T15:03:31.850678Z",
     "start_time": "2022-09-05T15:03:31.847616Z"
    }
   },
   "outputs": [
    {
     "data": {
      "text/plain": [
       "(25305, 25115)"
      ]
     },
     "execution_count": 130,
     "metadata": {},
     "output_type": "execute_result"
    }
   ],
   "source": [
    "adata_Q.shape"
   ]
  },
  {
   "cell_type": "code",
   "execution_count": 131,
   "id": "148bf597",
   "metadata": {
    "ExecuteTime": {
     "end_time": "2022-09-05T15:03:32.199123Z",
     "start_time": "2022-09-05T15:03:31.851872Z"
    }
   },
   "outputs": [
    {
     "data": {
      "text/plain": [
       "(42819, 17301)"
      ]
     },
     "execution_count": 131,
     "metadata": {},
     "output_type": "execute_result"
    }
   ],
   "source": [
    "adata_R.shape"
   ]
  },
  {
   "cell_type": "markdown",
   "id": "da162600",
   "metadata": {
    "ExecuteTime": {
     "end_time": "2022-06-16T15:12:50.776651Z",
     "start_time": "2022-06-16T15:12:50.751071Z"
    }
   },
   "source": [
    "adata = adata_C.concatenate([adata_D,adata_E,adata_F,adata_G,adata_H,adata_I,adata_L,adata_M,adata_N,adata_O,\n",
    "                             adata_P,adata_Q,adata_R],axis=1)"
   ]
  },
  {
   "cell_type": "code",
   "execution_count": 132,
   "id": "cbdad5b8",
   "metadata": {
    "ExecuteTime": {
     "end_time": "2022-09-05T15:03:32.272656Z",
     "start_time": "2022-09-05T15:03:32.201931Z"
    }
   },
   "outputs": [],
   "source": [
    "import anndata as ad"
   ]
  },
  {
   "cell_type": "code",
   "execution_count": 133,
   "id": "643385c8",
   "metadata": {
    "ExecuteTime": {
     "end_time": "2022-09-05T15:04:11.605070Z",
     "start_time": "2022-09-05T15:03:32.275484Z"
    }
   },
   "outputs": [],
   "source": [
    "adata1 = ad.concat([adata_O,adata_P,adata_Q,adata_R],join=\"outer\",fill_value=0,\n",
    "                    index_unique=None)"
   ]
  },
  {
   "cell_type": "code",
   "execution_count": 134,
   "id": "7013e9ef",
   "metadata": {
    "ExecuteTime": {
     "end_time": "2022-09-05T15:04:44.549113Z",
     "start_time": "2022-09-05T15:04:11.606990Z"
    }
   },
   "outputs": [],
   "source": [
    "adata2 = ad.concat([adata_C,adata_D,adata_E,adata_F,adata_G,adata_H,adata_I,adata_L,adata_M,adata_N],join=\"outer\",fill_value=0,\n",
    "                    index_unique=None)"
   ]
  },
  {
   "cell_type": "code",
   "execution_count": 135,
   "id": "f36712a1",
   "metadata": {
    "ExecuteTime": {
     "end_time": "2022-09-05T15:05:03.132013Z",
     "start_time": "2022-09-05T15:04:44.550934Z"
    }
   },
   "outputs": [],
   "source": [
    "adata = ad.concat([adata1,adata2],join=\"outer\",fill_value=0,\n",
    "                    index_unique=None)"
   ]
  },
  {
   "cell_type": "code",
   "execution_count": 136,
   "id": "570acd7c",
   "metadata": {
    "ExecuteTime": {
     "end_time": "2022-09-05T15:05:05.330841Z",
     "start_time": "2022-09-05T15:05:03.133696Z"
    }
   },
   "outputs": [
    {
     "name": "stderr",
     "output_type": "stream",
     "text": [
      "... storing 'Sample' as categorical\n"
     ]
    }
   ],
   "source": [
    "adata_B.write(\"/home/lugli/spuccio/Projects/SP039/FileH5AD_concatenated/Part1_B_GSE131928_PMID31327527_part2.h5ad\")"
   ]
  },
  {
   "cell_type": "code",
   "execution_count": 137,
   "id": "30d1ff3c",
   "metadata": {
    "ExecuteTime": {
     "end_time": "2022-09-05T15:05:05.358791Z",
     "start_time": "2022-09-05T15:05:05.333900Z"
    }
   },
   "outputs": [],
   "source": [
    "adata.obs['Age'] =adata.obs['Age'].astype(\"str\")"
   ]
  },
  {
   "cell_type": "code",
   "execution_count": 138,
   "id": "7cb43873",
   "metadata": {
    "ExecuteTime": {
     "end_time": "2022-09-05T15:05:33.089027Z",
     "start_time": "2022-09-05T15:05:05.360747Z"
    }
   },
   "outputs": [
    {
     "name": "stderr",
     "output_type": "stream",
     "text": [
      "... storing 'SampleID' as categorical\n",
      "... storing 'GEO_RNA' as categorical\n",
      "... storing 'Cohort' as categorical\n",
      "... storing 'Type' as categorical\n",
      "... storing 'Diagnosis' as categorical\n",
      "... storing 'Grade' as categorical\n",
      "... storing 'Location' as categorical\n",
      "... storing 'IDH1_Status' as categorical\n",
      "... storing 'EGFR_Status' as categorical\n",
      "... storing 'MGMT' as categorical\n",
      "... storing 'Sample' as categorical\n",
      "... storing 'Sex' as categorical\n",
      "... storing 'Age' as categorical\n",
      "... storing 'Sorted' as categorical\n",
      "... storing 'doublet_info' as categorical\n",
      "... storing 'predicted_labels' as categorical\n",
      "... storing 'over_clustering' as categorical\n",
      "... storing 'Celltypist_Classification' as categorical\n",
      "... storing 'leiden' as categorical\n",
      "... storing 'PanglaoDB_Classification' as categorical\n"
     ]
    }
   ],
   "source": [
    "adata.write(\"/home/lugli/spuccio/Projects/SP039/FileH5AD_concatenated/Adata_fromC_toR.h5ad\")"
   ]
  },
  {
   "cell_type": "markdown",
   "id": "4a3ad59b",
   "metadata": {
    "ExecuteTime": {
     "end_time": "2022-06-16T15:14:04.039607Z",
     "start_time": "2022-06-16T15:13:57.832622Z"
    }
   },
   "source": [
    "# Create Metadata"
   ]
  },
  {
   "cell_type": "code",
   "execution_count": 139,
   "id": "8d2e7261",
   "metadata": {
    "ExecuteTime": {
     "end_time": "2022-09-05T15:06:25.801849Z",
     "start_time": "2022-09-05T15:05:33.092374Z"
    }
   },
   "outputs": [],
   "source": [
    "adatatmp = adata_B.concatenate([adata_C,adata_D,adata_E,adata_F,adata_G,adata_H,adata_I,adata_L,adata_M,adata_N,adata_O,adata_P,adata_Q,adata_R],index_unique=None)"
   ]
  },
  {
   "cell_type": "code",
   "execution_count": 140,
   "id": "039a2187",
   "metadata": {
    "ExecuteTime": {
     "end_time": "2022-09-05T15:06:25.807183Z",
     "start_time": "2022-09-05T15:06:25.804140Z"
    }
   },
   "outputs": [],
   "source": [
    "df = pd.DataFrame(adatatmp.obs)"
   ]
  },
  {
   "cell_type": "code",
   "execution_count": 141,
   "id": "3c217d8f",
   "metadata": {
    "ExecuteTime": {
     "end_time": "2022-09-05T15:06:25.878777Z",
     "start_time": "2022-09-05T15:06:25.808397Z"
    }
   },
   "outputs": [],
   "source": [
    "#pd.DataFrame(adatatmp.obs).fillna('none')"
   ]
  },
  {
   "cell_type": "code",
   "execution_count": 142,
   "id": "8c084441",
   "metadata": {
    "ExecuteTime": {
     "end_time": "2022-09-05T15:06:27.030212Z",
     "start_time": "2022-09-05T15:06:25.880290Z"
    }
   },
   "outputs": [],
   "source": [
    "df = df.replace(np.nan,\"NotAvailable\")"
   ]
  },
  {
   "cell_type": "code",
   "execution_count": 143,
   "id": "9880a441",
   "metadata": {
    "ExecuteTime": {
     "end_time": "2022-09-05T15:06:27.041641Z",
     "start_time": "2022-09-05T15:06:27.031618Z"
    }
   },
   "outputs": [
    {
     "data": {
      "text/plain": [
       "Patient1       1822\n",
       "Patient2       4424\n",
       "Patient3       1283\n",
       "Patient4       2415\n",
       "Patient5       1613\n",
       "              ...  \n",
       "Patient101     3701\n",
       "Patient102     8112\n",
       "Patient103    11233\n",
       "Patient104     6021\n",
       "Patient105     9529\n",
       "Name: Sample, Length: 104, dtype: int64"
      ]
     },
     "execution_count": 143,
     "metadata": {},
     "output_type": "execute_result"
    }
   ],
   "source": [
    "df['Sample'].value_counts(dropna=False,sort=False)"
   ]
  },
  {
   "cell_type": "code",
   "execution_count": 144,
   "id": "6c643437",
   "metadata": {
    "ExecuteTime": {
     "end_time": "2022-09-05T15:06:27.206547Z",
     "start_time": "2022-09-05T15:06:27.043102Z"
    }
   },
   "outputs": [],
   "source": [
    "metadata = df.drop_duplicates(subset=['Sample'])"
   ]
  },
  {
   "cell_type": "code",
   "execution_count": 145,
   "id": "6016a81a",
   "metadata": {
    "ExecuteTime": {
     "end_time": "2022-09-05T15:06:27.986770Z",
     "start_time": "2022-09-05T15:06:27.208170Z"
    }
   },
   "outputs": [],
   "source": [
    "metadata.to_excel(\"/home/lugli/spuccio/Projects/SP039/Metadata3.xlsx\")"
   ]
  },
  {
   "cell_type": "code",
   "execution_count": null,
   "id": "d82cb651",
   "metadata": {},
   "outputs": [],
   "source": []
  }
 ],
 "metadata": {
  "kernelspec": {
   "display_name": "Python 3 (ipykernel)",
   "language": "python",
   "name": "python3"
  },
  "language_info": {
   "codemirror_mode": {
    "name": "ipython",
    "version": 3
   },
   "file_extension": ".py",
   "mimetype": "text/x-python",
   "name": "python",
   "nbconvert_exporter": "python",
   "pygments_lexer": "ipython3",
   "version": "3.10.4"
  },
  "toc": {
   "base_numbering": 1,
   "nav_menu": {},
   "number_sections": true,
   "sideBar": true,
   "skip_h1_title": false,
   "title_cell": "Table of Contents",
   "title_sidebar": "Contents",
   "toc_cell": false,
   "toc_position": {
    "height": "calc(100% - 180px)",
    "left": "10px",
    "top": "150px",
    "width": "341.333px"
   },
   "toc_section_display": true,
   "toc_window_display": true
  },
  "varInspector": {
   "cols": {
    "lenName": 16,
    "lenType": 16,
    "lenVar": 40
   },
   "kernels_config": {
    "python": {
     "delete_cmd_postfix": "",
     "delete_cmd_prefix": "del ",
     "library": "var_list.py",
     "varRefreshCmd": "print(var_dic_list())"
    },
    "r": {
     "delete_cmd_postfix": ") ",
     "delete_cmd_prefix": "rm(",
     "library": "var_list.r",
     "varRefreshCmd": "cat(var_dic_list()) "
    }
   },
   "types_to_exclude": [
    "module",
    "function",
    "builtin_function_or_method",
    "instance",
    "_Feature"
   ],
   "window_display": false
  }
 },
 "nbformat": 4,
 "nbformat_minor": 5
}
