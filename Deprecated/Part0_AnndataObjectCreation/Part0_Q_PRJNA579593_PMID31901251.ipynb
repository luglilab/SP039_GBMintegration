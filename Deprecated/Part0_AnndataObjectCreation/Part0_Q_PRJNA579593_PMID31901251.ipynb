{
 "cells": [
  {
   "cell_type": "code",
   "execution_count": 1,
   "id": "494a25a2",
   "metadata": {
    "ExecuteTime": {
     "end_time": "2022-06-08T17:34:51.718947Z",
     "start_time": "2022-06-08T17:34:49.472501Z"
    }
   },
   "outputs": [],
   "source": [
    "import scanpy as sc\n",
    "import pandas as pd"
   ]
  },
  {
   "cell_type": "code",
   "execution_count": 2,
   "id": "27737d21",
   "metadata": {
    "ExecuteTime": {
     "end_time": "2022-06-08T17:34:51.724258Z",
     "start_time": "2022-06-08T17:34:51.721777Z"
    }
   },
   "outputs": [],
   "source": [
    "outpath=\"/home/lugli/spuccio/Projects/SP039/FileH5AD_input/\""
   ]
  },
  {
   "cell_type": "code",
   "execution_count": 3,
   "id": "dab279de",
   "metadata": {
    "ExecuteTime": {
     "end_time": "2022-06-08T17:36:46.324077Z",
     "start_time": "2022-06-08T17:34:51.725492Z"
    }
   },
   "outputs": [],
   "source": [
    "SF11215 = pd.read_csv(\"/home/lugli/spuccio/Projects/SP039/PRJNA579593_PMID31901251/RawObject/SF11215.txt\",sep=\"\\t\",header=0,index_col=0)\n",
    "SF11209 = pd.read_csv(\"/home/lugli/spuccio/Projects/SP039/PRJNA579593_PMID31901251/RawObject/SF11209.txt\",sep=\"\\t\",header=0,index_col=0)\n",
    "SF11232 = pd.read_csv(\"/home/lugli/spuccio/Projects/SP039/PRJNA579593_PMID31901251/RawObject/SF11232.txt\",sep=\"\\t\",header=0,index_col=0)\n",
    "SF11159 = pd.read_csv(\"/home/lugli/spuccio/Projects/SP039/PRJNA579593_PMID31901251/RawObject/SF11159.txt\",sep=\"\\t\",header=0,index_col=0)\n",
    "SF11285 = pd.read_csv(\"/home/lugli/spuccio/Projects/SP039/PRJNA579593_PMID31901251/RawObject/SF11285.txt\",sep=\"\\t\",header=0,index_col=0)\n",
    "SF11147 = pd.read_csv(\"/home/lugli/spuccio/Projects/SP039/PRJNA579593_PMID31901251/RawObject/SF11147.txt\",sep=\"\\t\",header=0,index_col=0)"
   ]
  },
  {
   "cell_type": "code",
   "execution_count": 4,
   "id": "44a18149",
   "metadata": {
    "ExecuteTime": {
     "end_time": "2022-06-08T17:36:48.900702Z",
     "start_time": "2022-06-08T17:36:46.326910Z"
    }
   },
   "outputs": [
    {
     "name": "stderr",
     "output_type": "stream",
     "text": [
      "/tmp/ipykernel_31329/3107467396.py:1: FutureWarning: X.dtype being converted to np.float32 from int64. In the next version of anndata (0.9) conversion will not be automatic. Pass dtype explicitly to avoid this warning. Pass `AnnData(X, dtype=X.dtype, ...)` to get the future behavour.\n",
      "  SF11215 = sc.AnnData(SF11215.T)\n",
      "/tmp/ipykernel_31329/3107467396.py:2: FutureWarning: X.dtype being converted to np.float32 from int64. In the next version of anndata (0.9) conversion will not be automatic. Pass dtype explicitly to avoid this warning. Pass `AnnData(X, dtype=X.dtype, ...)` to get the future behavour.\n",
      "  SF11209 = sc.AnnData(SF11209.T)\n",
      "/tmp/ipykernel_31329/3107467396.py:3: FutureWarning: X.dtype being converted to np.float32 from int64. In the next version of anndata (0.9) conversion will not be automatic. Pass dtype explicitly to avoid this warning. Pass `AnnData(X, dtype=X.dtype, ...)` to get the future behavour.\n",
      "  SF11232 = sc.AnnData(SF11232.T)\n",
      "/tmp/ipykernel_31329/3107467396.py:4: FutureWarning: X.dtype being converted to np.float32 from int64. In the next version of anndata (0.9) conversion will not be automatic. Pass dtype explicitly to avoid this warning. Pass `AnnData(X, dtype=X.dtype, ...)` to get the future behavour.\n",
      "  SF11159 = sc.AnnData(SF11159.T)\n",
      "/tmp/ipykernel_31329/3107467396.py:5: FutureWarning: X.dtype being converted to np.float32 from int64. In the next version of anndata (0.9) conversion will not be automatic. Pass dtype explicitly to avoid this warning. Pass `AnnData(X, dtype=X.dtype, ...)` to get the future behavour.\n",
      "  SF11285 = sc.AnnData(SF11285.T)\n",
      "/tmp/ipykernel_31329/3107467396.py:6: FutureWarning: X.dtype being converted to np.float32 from float64. In the next version of anndata (0.9) conversion will not be automatic. Pass dtype explicitly to avoid this warning. Pass `AnnData(X, dtype=X.dtype, ...)` to get the future behavour.\n",
      "  SF11147 = sc.AnnData(SF11147.T)\n"
     ]
    }
   ],
   "source": [
    "SF11215 = sc.AnnData(SF11215.T)\n",
    "SF11209 = sc.AnnData(SF11209.T)\n",
    "SF11232 = sc.AnnData(SF11232.T)\n",
    "SF11159 = sc.AnnData(SF11159.T)\n",
    "SF11285 = sc.AnnData(SF11285.T)\n",
    "SF11147 = sc.AnnData(SF11147.T)"
   ]
  },
  {
   "cell_type": "code",
   "execution_count": 5,
   "id": "6e69a5a0",
   "metadata": {
    "ExecuteTime": {
     "end_time": "2022-06-08T17:36:48.907366Z",
     "start_time": "2022-06-08T17:36:48.902177Z"
    }
   },
   "outputs": [
    {
     "data": {
      "text/plain": [
       "AnnData object with n_obs × n_vars = 2709 × 33694"
      ]
     },
     "execution_count": 5,
     "metadata": {},
     "output_type": "execute_result"
    }
   ],
   "source": [
    "SF11215"
   ]
  },
  {
   "cell_type": "code",
   "execution_count": 6,
   "id": "7da01905",
   "metadata": {
    "ExecuteTime": {
     "end_time": "2022-06-08T17:36:48.929871Z",
     "start_time": "2022-06-08T17:36:48.908647Z"
    }
   },
   "outputs": [],
   "source": [
    "SF11215.var['GeneTemp']= list(SF11215.var.index)\n",
    "SF11209.var['GeneTemp']= list(SF11209.var.index)\n",
    "SF11232.var['GeneTemp']= list(SF11232.var.index)\n",
    "SF11159.var['GeneTemp']= list(SF11159.var.index)\n",
    "SF11285.var['GeneTemp']= list(SF11285.var.index)\n",
    "SF11147.var['GeneTemp']= list(SF11147.var.index)"
   ]
  },
  {
   "cell_type": "code",
   "execution_count": 7,
   "id": "ae5333c5",
   "metadata": {
    "ExecuteTime": {
     "end_time": "2022-06-08T17:36:49.311436Z",
     "start_time": "2022-06-08T17:36:48.931330Z"
    }
   },
   "outputs": [],
   "source": [
    "SF11215.var['GeneTempClean']= list(SF11215.var['GeneTemp'].str.split(\".\",0, expand=True)[0])\n",
    "SF11209.var['GeneTempClean']= list(SF11209.var['GeneTemp'].str.split(\".\",0, expand=True)[0])\n",
    "SF11232.var['GeneTempClean']= list(SF11232.var['GeneTemp'].str.split(\".\",0, expand=True)[0])\n",
    "SF11159.var['GeneTempClean']= list(SF11159.var['GeneTemp'].str.split(\".\",0, expand=True)[0])\n",
    "SF11285.var['GeneTempClean']= list(SF11285.var['GeneTemp'].str.split(\".\",0, expand=True)[0])\n",
    "SF11147.var['GeneTempClean']= list(SF11147.var['GeneTemp'].str.split(\".\",0, expand=True)[0])"
   ]
  },
  {
   "cell_type": "code",
   "execution_count": 8,
   "id": "b6df4cb3",
   "metadata": {
    "ExecuteTime": {
     "end_time": "2022-06-08T17:36:49.316763Z",
     "start_time": "2022-06-08T17:36:49.312805Z"
    }
   },
   "outputs": [],
   "source": [
    "SF11215.var.index = SF11215.var['GeneTempClean'] \n",
    "SF11209.var.index = SF11209.var['GeneTempClean'] \n",
    "SF11232.var.index = SF11232.var['GeneTempClean']\n",
    "SF11159.var.index = SF11159.var['GeneTempClean'] \n",
    "SF11285.var.index = SF11285.var['GeneTempClean'] \n",
    "SF11147.var.index = SF11147.var['GeneTempClean'] "
   ]
  },
  {
   "cell_type": "code",
   "execution_count": 9,
   "id": "b2e4734e",
   "metadata": {
    "ExecuteTime": {
     "end_time": "2022-06-08T17:36:49.322376Z",
     "start_time": "2022-06-08T17:36:49.318010Z"
    }
   },
   "outputs": [],
   "source": [
    "del SF11215.var['GeneTemp']\n",
    "del SF11215.var['GeneTempClean']\n",
    "\n",
    "del SF11209.var['GeneTemp']\n",
    "del SF11209.var['GeneTempClean']\n",
    "\n",
    "del SF11232.var['GeneTemp']\n",
    "del SF11232.var['GeneTempClean']\n",
    "\n",
    "del SF11159.var['GeneTemp']\n",
    "del SF11159.var['GeneTempClean']\n",
    "\n",
    "del SF11285.var['GeneTemp']\n",
    "del SF11285.var['GeneTempClean']\n",
    "\n",
    "del SF11147.var['GeneTemp']\n",
    "del SF11147.var['GeneTempClean']"
   ]
  },
  {
   "cell_type": "code",
   "execution_count": 10,
   "id": "1f5f0fd4",
   "metadata": {
    "ExecuteTime": {
     "end_time": "2022-06-08T17:36:49.328500Z",
     "start_time": "2022-06-08T17:36:49.324368Z"
    }
   },
   "outputs": [],
   "source": [
    "SF11215.obs = SF11215.obs.reset_index(drop=True)\n",
    "SF11209.obs = SF11209.obs.reset_index(drop=True)\n",
    "SF11232.obs = SF11232.obs.reset_index(drop=True)\n",
    "SF11159.obs = SF11159.obs.reset_index(drop=True)\n",
    "SF11285.obs = SF11285.obs.reset_index(drop=True)\n",
    "SF11147.obs = SF11147.obs.reset_index(drop=True)"
   ]
  },
  {
   "cell_type": "code",
   "execution_count": 11,
   "id": "6754724e",
   "metadata": {
    "ExecuteTime": {
     "end_time": "2022-06-08T17:36:49.360242Z",
     "start_time": "2022-06-08T17:36:49.329781Z"
    }
   },
   "outputs": [],
   "source": [
    "SF11215.obs.set_index(\"SF11215-\" + SF11215.obs.index.astype(str),inplace=True)\n",
    "SF11209.obs.set_index(\"SF11209-\" + SF11209.obs.index.astype(str),inplace=True)\n",
    "SF11232.obs.set_index(\"SF11232-\" + SF11232.obs.index.astype(str),inplace=True)\n",
    "SF11159.obs.set_index(\"SF11159-\" + SF11159.obs.index.astype(str),inplace=True)\n",
    "SF11285.obs.set_index(\"SF11285-\" + SF11285.obs.index.astype(str),inplace=True)\n",
    "SF11147.obs.set_index(\"SF11147-\" + SF11147.obs.index.astype(str),inplace=True)"
   ]
  },
  {
   "cell_type": "code",
   "execution_count": 12,
   "id": "f733642c",
   "metadata": {
    "ExecuteTime": {
     "end_time": "2022-06-08T17:36:49.428419Z",
     "start_time": "2022-06-08T17:36:49.361505Z"
    }
   },
   "outputs": [],
   "source": [
    "SF11215.var_names_make_unique()\n",
    "SF11209.var_names_make_unique()\n",
    "SF11232.var_names_make_unique()\n",
    "SF11159.var_names_make_unique()\n",
    "SF11285.var_names_make_unique()\n",
    "SF11147.var_names_make_unique()"
   ]
  },
  {
   "cell_type": "code",
   "execution_count": 13,
   "id": "f01bdf87",
   "metadata": {
    "ExecuteTime": {
     "end_time": "2022-06-08T17:36:49.437014Z",
     "start_time": "2022-06-08T17:36:49.429925Z"
    }
   },
   "outputs": [],
   "source": [
    "SF11215.obs['SampleID'] = \"SF11215\"\n",
    "SF11215.obs['GEO_RNA'] = \"SAMN13117504\"\n",
    "SF11215.obs['Cohort'] = \"PRJNA579593\"\n",
    "SF11215.obs['Type'] = \"PrimaryTumor\"  \n",
    "SF11215.obs['Subtype'] = \"NotAvailable\"\n",
    "SF11215.obs['Diagnosis'] = \"Glioblastoma\"\n",
    "SF11215.obs['Grade'] = \"IV\"\n",
    "SF11215.obs['Location'] = \"Left_Temporal\"\n",
    "SF11215.obs['IDH1_Status'] = \"WT\"\n",
    "SF11215.obs['EGFR_Status'] = \"WT\"\n",
    "SF11215.obs['CellCount'] = \"2709\"\n",
    "SF11215.obs['Sample'] = \"Patient109\"\n",
    "SF11215.obs['Sex'] = \"M\"\n",
    "SF11215.obs['Age'] = \"46\"\n",
    "SF11215.obs['Sorted'] = \"CD45\""
   ]
  },
  {
   "cell_type": "code",
   "execution_count": 14,
   "id": "e4d637f2",
   "metadata": {
    "ExecuteTime": {
     "end_time": "2022-06-08T17:36:49.446629Z",
     "start_time": "2022-06-08T17:36:49.438378Z"
    }
   },
   "outputs": [],
   "source": [
    "SF11209.obs['SampleID'] = \"SF11209\"\n",
    "SF11209.obs['GEO_RNA'] = \"SAMN13117503\"\n",
    "SF11209.obs['Cohort'] = \"PRJNA579593\"\n",
    "SF11209.obs['Type'] = \"PrimaryTumor\"  \n",
    "SF11209.obs['Subtype'] = \"NotAvailable\"\n",
    "SF11209.obs['Diagnosis'] = \"Glioblastoma\"\n",
    "SF11209.obs['Grade'] = \"IV\"\n",
    "SF11209.obs['Location'] = \"Left_Temporal\"\n",
    "SF11209.obs['IDH1_Status'] = \"WT\"\n",
    "SF11209.obs['EGFR_Status'] = \"WT\"\n",
    "SF11209.obs['CellCount'] = \"3626\"\n",
    "SF11209.obs['Sample'] = \"Patient110\"\n",
    "SF11209.obs['Sex'] = \"F\"\n",
    "SF11209.obs['Age'] = \"63\"\n",
    "SF11209.obs['Sorted'] = \"CD45\""
   ]
  },
  {
   "cell_type": "code",
   "execution_count": 15,
   "id": "fe4a1717",
   "metadata": {
    "ExecuteTime": {
     "end_time": "2022-06-08T17:36:49.454708Z",
     "start_time": "2022-06-08T17:36:49.447902Z"
    }
   },
   "outputs": [],
   "source": [
    "SF11232.obs['SampleID'] = \"SF11232\"\n",
    "SF11232.obs['GEO_RNA'] = \"SAMN13117505\"\n",
    "SF11232.obs['Cohort'] = \"PRJNA579593\"\n",
    "SF11232.obs['Type'] = \"PrimaryTumor\"  \n",
    "SF11232.obs['Subtype'] = \"NotAvailable\"\n",
    "SF11232.obs['Diagnosis'] = \"Glioblastoma\"\n",
    "SF11232.obs['Grade'] = \"IV\"\n",
    "SF11232.obs['Location'] = \"Left_Temporal\"\n",
    "SF11232.obs['IDH1_Status'] = \"WT\"\n",
    "SF11232.obs['EGFR_Status'] = \"WT\"\n",
    "SF11232.obs['CellCount'] = \"1157\"\n",
    "SF11232.obs['Sample'] = \"Patient111\"\n",
    "SF11232.obs['Sex'] = \"M\"\n",
    "SF11232.obs['Age'] = \"61\"\n",
    "SF11232.obs['Sorted'] = \"CD45\""
   ]
  },
  {
   "cell_type": "code",
   "execution_count": 16,
   "id": "d711121d",
   "metadata": {
    "ExecuteTime": {
     "end_time": "2022-06-08T17:36:49.463211Z",
     "start_time": "2022-06-08T17:36:49.456058Z"
    }
   },
   "outputs": [],
   "source": [
    "SF11159.obs['SampleID'] = \"SF11159\"\n",
    "SF11159.obs['GEO_RNA'] = \"SAMN13117502\"\n",
    "SF11159.obs['Cohort'] = \"PRJNA579593\"\n",
    "SF11159.obs['Type'] = \"PrimaryTumor\"  \n",
    "SF11159.obs['Subtype'] = \"NotAvailable\"\n",
    "SF11159.obs['Diagnosis'] = \"Glioblastoma\"\n",
    "SF11159.obs['Grade'] = \"IV\"\n",
    "SF11159.obs['Location'] = \"Left_Temporal\"\n",
    "SF11159.obs['IDH1_Status'] = \"WT\"\n",
    "SF11159.obs['EGFR_Status'] = \"WT\"\n",
    "SF11159.obs['CellCount'] = \"2624\"\n",
    "SF11159.obs['Sample'] = \"Patient112\"\n",
    "SF11159.obs['Sex'] = \"M\"\n",
    "SF11159.obs['Age'] = \"60\"\n",
    "SF11159.obs['Sorted'] = \"CD45\""
   ]
  },
  {
   "cell_type": "code",
   "execution_count": 17,
   "id": "2acdfa1e",
   "metadata": {
    "ExecuteTime": {
     "end_time": "2022-06-08T17:36:49.472840Z",
     "start_time": "2022-06-08T17:36:49.464548Z"
    }
   },
   "outputs": [],
   "source": [
    "SF11285.obs['SampleID'] = \"SF11285\"\n",
    "SF11285.obs['GEO_RNA'] = \"SAMN13117507\"\n",
    "SF11285.obs['Cohort'] = \"PRJNA579593\"\n",
    "SF11285.obs['Type'] = \"PrimaryTumor\"  \n",
    "SF11285.obs['Subtype'] = \"NotAvailable\"\n",
    "SF11285.obs['Diagnosis'] = \"Glioblastoma\"\n",
    "SF11285.obs['Grade'] = \"III\"\n",
    "SF11285.obs['Location'] = \"Left_Temporal\"\n",
    "SF11285.obs['IDH1_Status'] = \"WT\"\n",
    "SF11285.obs['EGFR_Status'] = \"WT\"\n",
    "SF11285.obs['CellCount'] = \"11715\"\n",
    "SF11285.obs['Sample'] = \"Patient113\"\n",
    "SF11285.obs['Sex'] = \"M\"\n",
    "SF11285.obs['Age'] = \"54\"\n",
    "SF11285.obs['Sorted'] = \"CD45\""
   ]
  },
  {
   "cell_type": "code",
   "execution_count": 18,
   "id": "a170a228",
   "metadata": {
    "ExecuteTime": {
     "end_time": "2022-06-08T17:36:49.999628Z",
     "start_time": "2022-06-08T17:36:49.474153Z"
    }
   },
   "outputs": [],
   "source": [
    "SF11247 = SF11147.copy()"
   ]
  },
  {
   "cell_type": "code",
   "execution_count": 19,
   "id": "16457c86",
   "metadata": {
    "ExecuteTime": {
     "end_time": "2022-06-08T17:36:50.009116Z",
     "start_time": "2022-06-08T17:36:50.001107Z"
    }
   },
   "outputs": [],
   "source": [
    "SF11247.obs['SampleID'] = \"SF11247\"\n",
    "SF11247.obs['GEO_RNA'] = \"SAMN13117506\"\n",
    "SF11247.obs['Cohort'] = \"PRJNA579593\"\n",
    "SF11247.obs['Type'] = \"PrimaryTumor\"  \n",
    "SF11247.obs['Subtype'] = \"NotAvailable\"\n",
    "SF11247.obs['Diagnosis'] = \"Glioblastoma\"\n",
    "SF11247.obs['Grade'] = \"IV\"\n",
    "SF11247.obs['Location'] = \"Left_Temporal\"\n",
    "SF11247.obs['IDH1_Status'] = \"WT\"\n",
    "SF11247.obs['EGFR_Status'] = \"WT\"\n",
    "SF11247.obs['CellCount'] = \"11033\"\n",
    "SF11247.obs['Sample'] = \"Patient114\"\n",
    "SF11247.obs['Sex'] = \"M\"\n",
    "SF11247.obs['Age'] = \"45\"\n",
    "SF11247.obs['Sorted'] = \"CD45\""
   ]
  },
  {
   "cell_type": "code",
   "execution_count": 20,
   "id": "c45389ae",
   "metadata": {
    "ExecuteTime": {
     "end_time": "2022-06-08T17:36:56.732768Z",
     "start_time": "2022-06-08T17:36:50.010517Z"
    }
   },
   "outputs": [],
   "source": [
    "SF11215.write(outpath+\"SF11215.h5ad\")\n",
    "SF11209.write(outpath+\"SF11209.h5ad\")\n",
    "SF11232.write(outpath+\"SF11232.h5ad\")\n",
    "SF11159.write(outpath+\"SF11159.h5ad\")\n",
    "SF11285.write(outpath+\"SF11285.h5ad\")\n",
    "SF11247.write(outpath+\"SF11247.h5ad\")"
   ]
  }
 ],
 "metadata": {
  "kernelspec": {
   "display_name": "Python [conda env:scanpy19]",
   "language": "python",
   "name": "conda-env-scanpy19-py"
  },
  "language_info": {
   "codemirror_mode": {
    "name": "ipython",
    "version": 3
   },
   "file_extension": ".py",
   "mimetype": "text/x-python",
   "name": "python",
   "nbconvert_exporter": "python",
   "pygments_lexer": "ipython3",
   "version": "3.10.4"
  },
  "toc": {
   "base_numbering": 1,
   "nav_menu": {},
   "number_sections": true,
   "sideBar": true,
   "skip_h1_title": false,
   "title_cell": "Table of Contents",
   "title_sidebar": "Contents",
   "toc_cell": false,
   "toc_position": {},
   "toc_section_display": true,
   "toc_window_display": false
  },
  "varInspector": {
   "cols": {
    "lenName": 16,
    "lenType": 16,
    "lenVar": 40
   },
   "kernels_config": {
    "python": {
     "delete_cmd_postfix": "",
     "delete_cmd_prefix": "del ",
     "library": "var_list.py",
     "varRefreshCmd": "print(var_dic_list())"
    },
    "r": {
     "delete_cmd_postfix": ") ",
     "delete_cmd_prefix": "rm(",
     "library": "var_list.r",
     "varRefreshCmd": "cat(var_dic_list()) "
    }
   },
   "types_to_exclude": [
    "module",
    "function",
    "builtin_function_or_method",
    "instance",
    "_Feature"
   ],
   "window_display": false
  }
 },
 "nbformat": 4,
 "nbformat_minor": 5
}
