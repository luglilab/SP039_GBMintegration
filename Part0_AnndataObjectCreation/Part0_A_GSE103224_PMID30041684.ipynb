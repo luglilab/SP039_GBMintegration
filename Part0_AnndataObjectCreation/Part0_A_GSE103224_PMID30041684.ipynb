{
 "cells": [
  {
   "cell_type": "code",
   "execution_count": 1,
   "id": "9a7ecf53",
   "metadata": {
    "ExecuteTime": {
     "end_time": "2022-06-08T12:51:09.127341Z",
     "start_time": "2022-06-08T12:51:07.226901Z"
    }
   },
   "outputs": [],
   "source": [
    "import scanpy as sc \n",
    "import pandas as pd"
   ]
  },
  {
   "cell_type": "code",
   "execution_count": 2,
   "id": "bf19eae4",
   "metadata": {
    "ExecuteTime": {
     "end_time": "2022-06-08T12:51:09.131590Z",
     "start_time": "2022-06-08T12:51:09.129306Z"
    }
   },
   "outputs": [],
   "source": [
    "outpath=\"/home/lugli/spuccio/Projects/SP039/FileH5AD_input/\""
   ]
  },
  {
   "cell_type": "code",
   "execution_count": 3,
   "id": "2e2c038e",
   "metadata": {
    "ExecuteTime": {
     "end_time": "2022-06-08T12:51:19.383653Z",
     "start_time": "2022-06-08T12:51:09.133211Z"
    }
   },
   "outputs": [],
   "source": [
    "GSM2940098_PJ048 = pd.read_csv(\"/home/lugli/spuccio/Projects/SP039/GSE103224_PMID30041684/GSM2940098_PJ048.filtered.matrix.txt.gz\",sep=\"\\t\",header=None,index_col=0)\n"
   ]
  },
  {
   "cell_type": "code",
   "execution_count": 4,
   "id": "46683b26",
   "metadata": {
    "ExecuteTime": {
     "end_time": "2022-06-08T12:51:19.419104Z",
     "start_time": "2022-06-08T12:51:19.386457Z"
    }
   },
   "outputs": [],
   "source": [
    "?sc.read_csv"
   ]
  },
  {
   "cell_type": "code",
   "execution_count": 5,
   "id": "2eb58b8f",
   "metadata": {
    "ExecuteTime": {
     "end_time": "2022-06-08T12:52:02.640793Z",
     "start_time": "2022-06-08T12:51:19.420420Z"
    }
   },
   "outputs": [],
   "source": [
    "data = sc.read_csv(\"/home/lugli/spuccio/Projects/SP039/PMID30545854/rawmatrix.csv\",delimiter=\",\",first_column_names=0)"
   ]
  },
  {
   "cell_type": "code",
   "execution_count": 6,
   "id": "31aab9ad",
   "metadata": {
    "ExecuteTime": {
     "end_time": "2022-06-08T12:52:02.672953Z",
     "start_time": "2022-06-08T12:52:02.642951Z"
    }
   },
   "outputs": [
    {
     "data": {
      "text/html": [
       "<div>\n",
       "<style scoped>\n",
       "    .dataframe tbody tr th:only-of-type {\n",
       "        vertical-align: middle;\n",
       "    }\n",
       "\n",
       "    .dataframe tbody tr th {\n",
       "        vertical-align: top;\n",
       "    }\n",
       "\n",
       "    .dataframe thead th {\n",
       "        text-align: right;\n",
       "    }\n",
       "</style>\n",
       "<table border=\"1\" class=\"dataframe\">\n",
       "  <thead>\n",
       "    <tr style=\"text-align: right;\">\n",
       "      <th></th>\n",
       "      <th>kl_AAACCTGAGAAACCGC-1</th>\n",
       "      <th>kl_AAACCTGAGAATTGTG-1</th>\n",
       "      <th>kl_AAACCTGAGACTACAA-1</th>\n",
       "      <th>kl_AAACCTGAGATAGCAT-1</th>\n",
       "      <th>kl_AAACCTGAGCGTTGCC-1</th>\n",
       "      <th>kl_AAACCTGAGCTAGTTC-1</th>\n",
       "      <th>kl_AAACCTGAGGTGCTTT-1</th>\n",
       "      <th>kl_AAACCTGAGTCACGCC-1</th>\n",
       "      <th>kl_AAACCTGAGTCTCCTC-1</th>\n",
       "      <th>kl_AAACCTGCAAGCCGTC-1</th>\n",
       "      <th>...</th>\n",
       "      <th>qr_TTTGTCACACGTTGGC-1</th>\n",
       "      <th>qr_TTTGTCAGTAAGTGTA-1</th>\n",
       "      <th>qr_TTTGTCAGTATAATGG-1</th>\n",
       "      <th>qr_TTTGTCAGTCATATGC-1</th>\n",
       "      <th>qr_TTTGTCAGTGACAAAT-1</th>\n",
       "      <th>qr_TTTGTCAGTGCAGGTA-1</th>\n",
       "      <th>qr_TTTGTCAGTTCGTTGA-1</th>\n",
       "      <th>qr_TTTGTCATCAACGAAA-1</th>\n",
       "      <th>qr_TTTGTCATCACATGCA-1</th>\n",
       "      <th>qr_TTTGTCATCTAACTCT-1</th>\n",
       "    </tr>\n",
       "  </thead>\n",
       "  <tbody>\n",
       "    <tr>\n",
       "      <th>ENSG00000227232.5|WASH7P</th>\n",
       "      <td>0.000000</td>\n",
       "      <td>0.0</td>\n",
       "      <td>0.000000</td>\n",
       "      <td>0.000000</td>\n",
       "      <td>0.0</td>\n",
       "      <td>0.0</td>\n",
       "      <td>0.000000</td>\n",
       "      <td>0.0</td>\n",
       "      <td>0.0</td>\n",
       "      <td>0.000000</td>\n",
       "      <td>...</td>\n",
       "      <td>0.000000</td>\n",
       "      <td>0.0</td>\n",
       "      <td>0.000000</td>\n",
       "      <td>0.000000</td>\n",
       "      <td>0.000000</td>\n",
       "      <td>0.0</td>\n",
       "      <td>0.0</td>\n",
       "      <td>0.000000</td>\n",
       "      <td>0.000000</td>\n",
       "      <td>0.000000</td>\n",
       "    </tr>\n",
       "    <tr>\n",
       "      <th>ENSG00000238009.6|AL627309.1</th>\n",
       "      <td>0.000000</td>\n",
       "      <td>0.0</td>\n",
       "      <td>0.000000</td>\n",
       "      <td>0.000000</td>\n",
       "      <td>0.0</td>\n",
       "      <td>0.0</td>\n",
       "      <td>0.000000</td>\n",
       "      <td>0.0</td>\n",
       "      <td>0.0</td>\n",
       "      <td>0.000000</td>\n",
       "      <td>...</td>\n",
       "      <td>0.000000</td>\n",
       "      <td>0.0</td>\n",
       "      <td>0.000000</td>\n",
       "      <td>0.000000</td>\n",
       "      <td>0.000000</td>\n",
       "      <td>0.0</td>\n",
       "      <td>0.0</td>\n",
       "      <td>0.000000</td>\n",
       "      <td>0.000000</td>\n",
       "      <td>0.000000</td>\n",
       "    </tr>\n",
       "    <tr>\n",
       "      <th>ENSG00000268903.1|AL627309.7</th>\n",
       "      <td>0.000000</td>\n",
       "      <td>0.0</td>\n",
       "      <td>0.000000</td>\n",
       "      <td>0.000000</td>\n",
       "      <td>0.0</td>\n",
       "      <td>0.0</td>\n",
       "      <td>0.000000</td>\n",
       "      <td>0.0</td>\n",
       "      <td>0.0</td>\n",
       "      <td>0.000000</td>\n",
       "      <td>...</td>\n",
       "      <td>0.000000</td>\n",
       "      <td>0.0</td>\n",
       "      <td>0.000000</td>\n",
       "      <td>0.000000</td>\n",
       "      <td>0.000000</td>\n",
       "      <td>0.0</td>\n",
       "      <td>0.0</td>\n",
       "      <td>0.000000</td>\n",
       "      <td>0.000000</td>\n",
       "      <td>0.000000</td>\n",
       "    </tr>\n",
       "    <tr>\n",
       "      <th>ENSG00000279457.4|FO538757.1</th>\n",
       "      <td>0.000000</td>\n",
       "      <td>0.0</td>\n",
       "      <td>0.000000</td>\n",
       "      <td>0.000000</td>\n",
       "      <td>0.0</td>\n",
       "      <td>0.0</td>\n",
       "      <td>0.000000</td>\n",
       "      <td>0.0</td>\n",
       "      <td>0.0</td>\n",
       "      <td>0.000000</td>\n",
       "      <td>...</td>\n",
       "      <td>0.000000</td>\n",
       "      <td>0.0</td>\n",
       "      <td>0.000000</td>\n",
       "      <td>0.000000</td>\n",
       "      <td>0.000000</td>\n",
       "      <td>0.0</td>\n",
       "      <td>0.0</td>\n",
       "      <td>0.000000</td>\n",
       "      <td>0.000000</td>\n",
       "      <td>0.000000</td>\n",
       "    </tr>\n",
       "    <tr>\n",
       "      <th>ENSG00000228463.10|AP006222.1</th>\n",
       "      <td>0.000000</td>\n",
       "      <td>0.0</td>\n",
       "      <td>0.000000</td>\n",
       "      <td>0.000000</td>\n",
       "      <td>0.0</td>\n",
       "      <td>0.0</td>\n",
       "      <td>0.000000</td>\n",
       "      <td>0.0</td>\n",
       "      <td>0.0</td>\n",
       "      <td>0.000000</td>\n",
       "      <td>...</td>\n",
       "      <td>0.000000</td>\n",
       "      <td>0.0</td>\n",
       "      <td>0.000000</td>\n",
       "      <td>0.000000</td>\n",
       "      <td>0.000000</td>\n",
       "      <td>0.0</td>\n",
       "      <td>0.0</td>\n",
       "      <td>0.000000</td>\n",
       "      <td>0.000000</td>\n",
       "      <td>0.000000</td>\n",
       "    </tr>\n",
       "    <tr>\n",
       "      <th>...</th>\n",
       "      <td>...</td>\n",
       "      <td>...</td>\n",
       "      <td>...</td>\n",
       "      <td>...</td>\n",
       "      <td>...</td>\n",
       "      <td>...</td>\n",
       "      <td>...</td>\n",
       "      <td>...</td>\n",
       "      <td>...</td>\n",
       "      <td>...</td>\n",
       "      <td>...</td>\n",
       "      <td>...</td>\n",
       "      <td>...</td>\n",
       "      <td>...</td>\n",
       "      <td>...</td>\n",
       "      <td>...</td>\n",
       "      <td>...</td>\n",
       "      <td>...</td>\n",
       "      <td>...</td>\n",
       "      <td>...</td>\n",
       "      <td>...</td>\n",
       "    </tr>\n",
       "    <tr>\n",
       "      <th>ENSG00000212907.2|MT-ND4L</th>\n",
       "      <td>0.000000</td>\n",
       "      <td>0.0</td>\n",
       "      <td>0.000000</td>\n",
       "      <td>0.000000</td>\n",
       "      <td>0.0</td>\n",
       "      <td>0.0</td>\n",
       "      <td>0.000000</td>\n",
       "      <td>0.0</td>\n",
       "      <td>0.0</td>\n",
       "      <td>0.000000</td>\n",
       "      <td>...</td>\n",
       "      <td>0.000000</td>\n",
       "      <td>0.0</td>\n",
       "      <td>0.000000</td>\n",
       "      <td>0.000000</td>\n",
       "      <td>0.000000</td>\n",
       "      <td>0.0</td>\n",
       "      <td>0.0</td>\n",
       "      <td>1.333853</td>\n",
       "      <td>0.000000</td>\n",
       "      <td>0.000000</td>\n",
       "    </tr>\n",
       "    <tr>\n",
       "      <th>ENSG00000198886.2|MT-ND4</th>\n",
       "      <td>1.512750</td>\n",
       "      <td>0.0</td>\n",
       "      <td>0.951005</td>\n",
       "      <td>0.000000</td>\n",
       "      <td>0.0</td>\n",
       "      <td>0.0</td>\n",
       "      <td>0.762811</td>\n",
       "      <td>0.0</td>\n",
       "      <td>0.0</td>\n",
       "      <td>1.515238</td>\n",
       "      <td>...</td>\n",
       "      <td>1.893615</td>\n",
       "      <td>0.0</td>\n",
       "      <td>1.978312</td>\n",
       "      <td>1.831155</td>\n",
       "      <td>3.016761</td>\n",
       "      <td>0.0</td>\n",
       "      <td>0.0</td>\n",
       "      <td>1.885747</td>\n",
       "      <td>0.000000</td>\n",
       "      <td>1.135818</td>\n",
       "    </tr>\n",
       "    <tr>\n",
       "      <th>ENSG00000198786.2|MT-ND5</th>\n",
       "      <td>1.018702</td>\n",
       "      <td>0.0</td>\n",
       "      <td>0.000000</td>\n",
       "      <td>0.000000</td>\n",
       "      <td>0.0</td>\n",
       "      <td>0.0</td>\n",
       "      <td>0.762811</td>\n",
       "      <td>0.0</td>\n",
       "      <td>0.0</td>\n",
       "      <td>0.000000</td>\n",
       "      <td>...</td>\n",
       "      <td>0.000000</td>\n",
       "      <td>0.0</td>\n",
       "      <td>0.000000</td>\n",
       "      <td>1.831155</td>\n",
       "      <td>1.586170</td>\n",
       "      <td>0.0</td>\n",
       "      <td>0.0</td>\n",
       "      <td>0.000000</td>\n",
       "      <td>0.000000</td>\n",
       "      <td>0.000000</td>\n",
       "    </tr>\n",
       "    <tr>\n",
       "      <th>ENSG00000198695.2|MT-ND6</th>\n",
       "      <td>0.000000</td>\n",
       "      <td>0.0</td>\n",
       "      <td>0.951005</td>\n",
       "      <td>0.000000</td>\n",
       "      <td>0.0</td>\n",
       "      <td>0.0</td>\n",
       "      <td>0.000000</td>\n",
       "      <td>0.0</td>\n",
       "      <td>0.0</td>\n",
       "      <td>0.000000</td>\n",
       "      <td>...</td>\n",
       "      <td>0.000000</td>\n",
       "      <td>0.0</td>\n",
       "      <td>0.000000</td>\n",
       "      <td>0.000000</td>\n",
       "      <td>0.000000</td>\n",
       "      <td>0.0</td>\n",
       "      <td>0.0</td>\n",
       "      <td>0.000000</td>\n",
       "      <td>0.000000</td>\n",
       "      <td>0.000000</td>\n",
       "    </tr>\n",
       "    <tr>\n",
       "      <th>ENSG00000198727.2|MT-CYB</th>\n",
       "      <td>1.690833</td>\n",
       "      <td>0.0</td>\n",
       "      <td>1.995141</td>\n",
       "      <td>1.865399</td>\n",
       "      <td>0.0</td>\n",
       "      <td>0.0</td>\n",
       "      <td>0.762811</td>\n",
       "      <td>0.0</td>\n",
       "      <td>0.0</td>\n",
       "      <td>1.020742</td>\n",
       "      <td>...</td>\n",
       "      <td>0.000000</td>\n",
       "      <td>0.0</td>\n",
       "      <td>1.978312</td>\n",
       "      <td>2.440796</td>\n",
       "      <td>2.538053</td>\n",
       "      <td>0.0</td>\n",
       "      <td>0.0</td>\n",
       "      <td>1.333853</td>\n",
       "      <td>1.245666</td>\n",
       "      <td>0.000000</td>\n",
       "    </tr>\n",
       "  </tbody>\n",
       "</table>\n",
       "<p>23476 rows × 17093 columns</p>\n",
       "</div>"
      ],
      "text/plain": [
       "                               kl_AAACCTGAGAAACCGC-1  kl_AAACCTGAGAATTGTG-1  \\\n",
       "ENSG00000227232.5|WASH7P                    0.000000                    0.0   \n",
       "ENSG00000238009.6|AL627309.1                0.000000                    0.0   \n",
       "ENSG00000268903.1|AL627309.7                0.000000                    0.0   \n",
       "ENSG00000279457.4|FO538757.1                0.000000                    0.0   \n",
       "ENSG00000228463.10|AP006222.1               0.000000                    0.0   \n",
       "...                                              ...                    ...   \n",
       "ENSG00000212907.2|MT-ND4L                   0.000000                    0.0   \n",
       "ENSG00000198886.2|MT-ND4                    1.512750                    0.0   \n",
       "ENSG00000198786.2|MT-ND5                    1.018702                    0.0   \n",
       "ENSG00000198695.2|MT-ND6                    0.000000                    0.0   \n",
       "ENSG00000198727.2|MT-CYB                    1.690833                    0.0   \n",
       "\n",
       "                               kl_AAACCTGAGACTACAA-1  kl_AAACCTGAGATAGCAT-1  \\\n",
       "ENSG00000227232.5|WASH7P                    0.000000               0.000000   \n",
       "ENSG00000238009.6|AL627309.1                0.000000               0.000000   \n",
       "ENSG00000268903.1|AL627309.7                0.000000               0.000000   \n",
       "ENSG00000279457.4|FO538757.1                0.000000               0.000000   \n",
       "ENSG00000228463.10|AP006222.1               0.000000               0.000000   \n",
       "...                                              ...                    ...   \n",
       "ENSG00000212907.2|MT-ND4L                   0.000000               0.000000   \n",
       "ENSG00000198886.2|MT-ND4                    0.951005               0.000000   \n",
       "ENSG00000198786.2|MT-ND5                    0.000000               0.000000   \n",
       "ENSG00000198695.2|MT-ND6                    0.951005               0.000000   \n",
       "ENSG00000198727.2|MT-CYB                    1.995141               1.865399   \n",
       "\n",
       "                               kl_AAACCTGAGCGTTGCC-1  kl_AAACCTGAGCTAGTTC-1  \\\n",
       "ENSG00000227232.5|WASH7P                         0.0                    0.0   \n",
       "ENSG00000238009.6|AL627309.1                     0.0                    0.0   \n",
       "ENSG00000268903.1|AL627309.7                     0.0                    0.0   \n",
       "ENSG00000279457.4|FO538757.1                     0.0                    0.0   \n",
       "ENSG00000228463.10|AP006222.1                    0.0                    0.0   \n",
       "...                                              ...                    ...   \n",
       "ENSG00000212907.2|MT-ND4L                        0.0                    0.0   \n",
       "ENSG00000198886.2|MT-ND4                         0.0                    0.0   \n",
       "ENSG00000198786.2|MT-ND5                         0.0                    0.0   \n",
       "ENSG00000198695.2|MT-ND6                         0.0                    0.0   \n",
       "ENSG00000198727.2|MT-CYB                         0.0                    0.0   \n",
       "\n",
       "                               kl_AAACCTGAGGTGCTTT-1  kl_AAACCTGAGTCACGCC-1  \\\n",
       "ENSG00000227232.5|WASH7P                    0.000000                    0.0   \n",
       "ENSG00000238009.6|AL627309.1                0.000000                    0.0   \n",
       "ENSG00000268903.1|AL627309.7                0.000000                    0.0   \n",
       "ENSG00000279457.4|FO538757.1                0.000000                    0.0   \n",
       "ENSG00000228463.10|AP006222.1               0.000000                    0.0   \n",
       "...                                              ...                    ...   \n",
       "ENSG00000212907.2|MT-ND4L                   0.000000                    0.0   \n",
       "ENSG00000198886.2|MT-ND4                    0.762811                    0.0   \n",
       "ENSG00000198786.2|MT-ND5                    0.762811                    0.0   \n",
       "ENSG00000198695.2|MT-ND6                    0.000000                    0.0   \n",
       "ENSG00000198727.2|MT-CYB                    0.762811                    0.0   \n",
       "\n",
       "                               kl_AAACCTGAGTCTCCTC-1  kl_AAACCTGCAAGCCGTC-1  \\\n",
       "ENSG00000227232.5|WASH7P                         0.0               0.000000   \n",
       "ENSG00000238009.6|AL627309.1                     0.0               0.000000   \n",
       "ENSG00000268903.1|AL627309.7                     0.0               0.000000   \n",
       "ENSG00000279457.4|FO538757.1                     0.0               0.000000   \n",
       "ENSG00000228463.10|AP006222.1                    0.0               0.000000   \n",
       "...                                              ...                    ...   \n",
       "ENSG00000212907.2|MT-ND4L                        0.0               0.000000   \n",
       "ENSG00000198886.2|MT-ND4                         0.0               1.515238   \n",
       "ENSG00000198786.2|MT-ND5                         0.0               0.000000   \n",
       "ENSG00000198695.2|MT-ND6                         0.0               0.000000   \n",
       "ENSG00000198727.2|MT-CYB                         0.0               1.020742   \n",
       "\n",
       "                               ...  qr_TTTGTCACACGTTGGC-1  \\\n",
       "ENSG00000227232.5|WASH7P       ...               0.000000   \n",
       "ENSG00000238009.6|AL627309.1   ...               0.000000   \n",
       "ENSG00000268903.1|AL627309.7   ...               0.000000   \n",
       "ENSG00000279457.4|FO538757.1   ...               0.000000   \n",
       "ENSG00000228463.10|AP006222.1  ...               0.000000   \n",
       "...                            ...                    ...   \n",
       "ENSG00000212907.2|MT-ND4L      ...               0.000000   \n",
       "ENSG00000198886.2|MT-ND4       ...               1.893615   \n",
       "ENSG00000198786.2|MT-ND5       ...               0.000000   \n",
       "ENSG00000198695.2|MT-ND6       ...               0.000000   \n",
       "ENSG00000198727.2|MT-CYB       ...               0.000000   \n",
       "\n",
       "                               qr_TTTGTCAGTAAGTGTA-1  qr_TTTGTCAGTATAATGG-1  \\\n",
       "ENSG00000227232.5|WASH7P                         0.0               0.000000   \n",
       "ENSG00000238009.6|AL627309.1                     0.0               0.000000   \n",
       "ENSG00000268903.1|AL627309.7                     0.0               0.000000   \n",
       "ENSG00000279457.4|FO538757.1                     0.0               0.000000   \n",
       "ENSG00000228463.10|AP006222.1                    0.0               0.000000   \n",
       "...                                              ...                    ...   \n",
       "ENSG00000212907.2|MT-ND4L                        0.0               0.000000   \n",
       "ENSG00000198886.2|MT-ND4                         0.0               1.978312   \n",
       "ENSG00000198786.2|MT-ND5                         0.0               0.000000   \n",
       "ENSG00000198695.2|MT-ND6                         0.0               0.000000   \n",
       "ENSG00000198727.2|MT-CYB                         0.0               1.978312   \n",
       "\n",
       "                               qr_TTTGTCAGTCATATGC-1  qr_TTTGTCAGTGACAAAT-1  \\\n",
       "ENSG00000227232.5|WASH7P                    0.000000               0.000000   \n",
       "ENSG00000238009.6|AL627309.1                0.000000               0.000000   \n",
       "ENSG00000268903.1|AL627309.7                0.000000               0.000000   \n",
       "ENSG00000279457.4|FO538757.1                0.000000               0.000000   \n",
       "ENSG00000228463.10|AP006222.1               0.000000               0.000000   \n",
       "...                                              ...                    ...   \n",
       "ENSG00000212907.2|MT-ND4L                   0.000000               0.000000   \n",
       "ENSG00000198886.2|MT-ND4                    1.831155               3.016761   \n",
       "ENSG00000198786.2|MT-ND5                    1.831155               1.586170   \n",
       "ENSG00000198695.2|MT-ND6                    0.000000               0.000000   \n",
       "ENSG00000198727.2|MT-CYB                    2.440796               2.538053   \n",
       "\n",
       "                               qr_TTTGTCAGTGCAGGTA-1  qr_TTTGTCAGTTCGTTGA-1  \\\n",
       "ENSG00000227232.5|WASH7P                         0.0                    0.0   \n",
       "ENSG00000238009.6|AL627309.1                     0.0                    0.0   \n",
       "ENSG00000268903.1|AL627309.7                     0.0                    0.0   \n",
       "ENSG00000279457.4|FO538757.1                     0.0                    0.0   \n",
       "ENSG00000228463.10|AP006222.1                    0.0                    0.0   \n",
       "...                                              ...                    ...   \n",
       "ENSG00000212907.2|MT-ND4L                        0.0                    0.0   \n",
       "ENSG00000198886.2|MT-ND4                         0.0                    0.0   \n",
       "ENSG00000198786.2|MT-ND5                         0.0                    0.0   \n",
       "ENSG00000198695.2|MT-ND6                         0.0                    0.0   \n",
       "ENSG00000198727.2|MT-CYB                         0.0                    0.0   \n",
       "\n",
       "                               qr_TTTGTCATCAACGAAA-1  qr_TTTGTCATCACATGCA-1  \\\n",
       "ENSG00000227232.5|WASH7P                    0.000000               0.000000   \n",
       "ENSG00000238009.6|AL627309.1                0.000000               0.000000   \n",
       "ENSG00000268903.1|AL627309.7                0.000000               0.000000   \n",
       "ENSG00000279457.4|FO538757.1                0.000000               0.000000   \n",
       "ENSG00000228463.10|AP006222.1               0.000000               0.000000   \n",
       "...                                              ...                    ...   \n",
       "ENSG00000212907.2|MT-ND4L                   1.333853               0.000000   \n",
       "ENSG00000198886.2|MT-ND4                    1.885747               0.000000   \n",
       "ENSG00000198786.2|MT-ND5                    0.000000               0.000000   \n",
       "ENSG00000198695.2|MT-ND6                    0.000000               0.000000   \n",
       "ENSG00000198727.2|MT-CYB                    1.333853               1.245666   \n",
       "\n",
       "                               qr_TTTGTCATCTAACTCT-1  \n",
       "ENSG00000227232.5|WASH7P                    0.000000  \n",
       "ENSG00000238009.6|AL627309.1                0.000000  \n",
       "ENSG00000268903.1|AL627309.7                0.000000  \n",
       "ENSG00000279457.4|FO538757.1                0.000000  \n",
       "ENSG00000228463.10|AP006222.1               0.000000  \n",
       "...                                              ...  \n",
       "ENSG00000212907.2|MT-ND4L                   0.000000  \n",
       "ENSG00000198886.2|MT-ND4                    1.135818  \n",
       "ENSG00000198786.2|MT-ND5                    0.000000  \n",
       "ENSG00000198695.2|MT-ND6                    0.000000  \n",
       "ENSG00000198727.2|MT-CYB                    0.000000  \n",
       "\n",
       "[23476 rows x 17093 columns]"
      ]
     },
     "execution_count": 6,
     "metadata": {},
     "output_type": "execute_result"
    }
   ],
   "source": [
    "pd.DataFrame(data.X,index=data.obs.index,columns=data.var.index)"
   ]
  },
  {
   "cell_type": "code",
   "execution_count": 7,
   "id": "60036712",
   "metadata": {
    "ExecuteTime": {
     "end_time": "2022-06-08T12:53:09.815461Z",
     "start_time": "2022-06-08T12:52:02.674359Z"
    }
   },
   "outputs": [],
   "source": [
    "GSM2940098_PJ048 = pd.read_csv(\"/home/lugli/spuccio/Projects/SP039/GSE103224_PMID30041684/GSM2940098_PJ048.filtered.matrix.txt.gz\",sep=\"\\t\",header=None,index_col=0)\n",
    "GSM2758475_PJ030 = pd.read_csv(\"/home/lugli/spuccio/Projects/SP039/GSE103224_PMID30041684/GSM2758475_PJ030.filtered.matrix.txt.gz\",sep=\"\\t\",header=None,index_col=0)\n",
    "GSM2758474_PJ025 = pd.read_csv(\"/home/lugli/spuccio/Projects/SP039/GSE103224_PMID30041684/GSM2758474_PJ025.filtered.matrix.txt.gz\",sep=\"\\t\",header=None,index_col=0)\n",
    "GSM2758473_PJ018 = pd.read_csv(\"/home/lugli/spuccio/Projects/SP039/GSE103224_PMID30041684/GSM2758473_PJ018.filtered.matrix.txt.gz\",sep=\"\\t\",header=None,index_col=0)\n",
    "GSM2758472_PJ017 = pd.read_csv(\"/home/lugli/spuccio/Projects/SP039/GSE103224_PMID30041684/GSM2758472_PJ017.filtered.matrix.txt.gz\",sep=\"\\t\",header=None,index_col=0)\n",
    "GSM2758471_PJ016 = pd.read_csv(\"/home/lugli/spuccio/Projects/SP039/GSE103224_PMID30041684/GSM2758471_PJ016.filtered.matrix.txt.gz\",sep=\"\\t\",header=None,index_col=0)"
   ]
  },
  {
   "cell_type": "code",
   "execution_count": 8,
   "id": "e5269714",
   "metadata": {
    "ExecuteTime": {
     "end_time": "2022-06-08T12:53:10.347808Z",
     "start_time": "2022-06-08T12:53:09.817819Z"
    }
   },
   "outputs": [],
   "source": [
    "GSM2940098_PJ048.set_index(GSM2940098_PJ048[1].str.split(\".\",expand=True)[0],inplace=True)\n",
    "GSM2758475_PJ030.set_index(GSM2758475_PJ030[1].str.split(\".\",expand=True)[0],inplace=True)\n",
    "GSM2758474_PJ025.set_index(GSM2758474_PJ025[1].str.split(\".\",expand=True)[0],inplace=True)\n",
    "GSM2758473_PJ018.set_index(GSM2758473_PJ018[1].str.split(\".\",expand=True)[0],inplace=True)\n",
    "GSM2758472_PJ017.set_index(GSM2758472_PJ017[1].str.split(\".\",expand=True)[0],inplace=True)\n",
    "GSM2758471_PJ016.set_index(GSM2758471_PJ016[1].str.split(\".\",expand=True)[0],inplace=True)"
   ]
  },
  {
   "cell_type": "code",
   "execution_count": 9,
   "id": "75900254",
   "metadata": {
    "ExecuteTime": {
     "end_time": "2022-06-08T12:53:12.844851Z",
     "start_time": "2022-06-08T12:53:10.349754Z"
    }
   },
   "outputs": [],
   "source": [
    "GSM2940098_PJ048 = GSM2940098_PJ048[~GSM2940098_PJ048.index.duplicated(keep='first')]\n",
    "GSM2758475_PJ030 = GSM2758475_PJ030[~GSM2758475_PJ030.index.duplicated(keep='first')]\n",
    "GSM2758474_PJ025 = GSM2758474_PJ025[~GSM2758474_PJ025.index.duplicated(keep='first')]\n",
    "GSM2758473_PJ018 = GSM2758473_PJ018[~GSM2758473_PJ018.index.duplicated(keep='first')]\n",
    "GSM2758472_PJ017 = GSM2758472_PJ017[~GSM2758472_PJ017.index.duplicated(keep='first')]\n",
    "GSM2758471_PJ016 = GSM2758471_PJ016[~GSM2758471_PJ016.index.duplicated(keep='first')]"
   ]
  },
  {
   "cell_type": "code",
   "execution_count": 10,
   "id": "8db92aec",
   "metadata": {
    "ExecuteTime": {
     "end_time": "2022-06-08T12:53:12.855588Z",
     "start_time": "2022-06-08T12:53:12.847439Z"
    }
   },
   "outputs": [],
   "source": [
    "del GSM2940098_PJ048[1]\n",
    "del GSM2758475_PJ030[1]\n",
    "del GSM2758474_PJ025[1]\n",
    "del GSM2758473_PJ018[1]\n",
    "del GSM2758472_PJ017[1]\n",
    "del GSM2758471_PJ016[1]"
   ]
  },
  {
   "cell_type": "code",
   "execution_count": 11,
   "id": "357be48b",
   "metadata": {
    "ExecuteTime": {
     "end_time": "2022-06-08T12:53:12.861793Z",
     "start_time": "2022-06-08T12:53:12.857006Z"
    }
   },
   "outputs": [],
   "source": [
    "GSM2940098_PJ048=GSM2940098_PJ048.T\n",
    "GSM2758475_PJ030=GSM2758475_PJ030.T\n",
    "GSM2758474_PJ025=GSM2758474_PJ025.T\n",
    "GSM2758473_PJ018=GSM2758473_PJ018.T\n",
    "GSM2758472_PJ017=GSM2758472_PJ017.T\n",
    "GSM2758471_PJ016=GSM2758471_PJ016.T"
   ]
  },
  {
   "cell_type": "code",
   "execution_count": 12,
   "id": "99758340",
   "metadata": {
    "ExecuteTime": {
     "end_time": "2022-06-08T12:53:12.866309Z",
     "start_time": "2022-06-08T12:53:12.863282Z"
    }
   },
   "outputs": [],
   "source": [
    "GSM2940098_PJ048.reset_index(drop=True,inplace=True)\n",
    "GSM2758475_PJ030.reset_index(drop=True,inplace=True)\n",
    "GSM2758474_PJ025.reset_index(drop=True,inplace=True)\n",
    "GSM2758473_PJ018.reset_index(drop=True,inplace=True)\n",
    "GSM2758472_PJ017.reset_index(drop=True,inplace=True)\n",
    "GSM2758471_PJ016.reset_index(drop=True,inplace=True)"
   ]
  },
  {
   "cell_type": "code",
   "execution_count": 13,
   "id": "da4a9a3d",
   "metadata": {
    "ExecuteTime": {
     "end_time": "2022-06-08T12:53:12.886273Z",
     "start_time": "2022-06-08T12:53:12.867666Z"
    }
   },
   "outputs": [],
   "source": [
    "GSM2940098_PJ048.set_index( \"PJ048-\" + GSM2940098_PJ048.index.astype(str),inplace=True) \n",
    "GSM2758475_PJ030.set_index( \"PJ030-\" + GSM2758475_PJ030.index.astype(str),inplace=True) \n",
    "GSM2758474_PJ025.set_index( \"PJ025-\" + GSM2758474_PJ025.index.astype(str),inplace=True) \n",
    "GSM2758473_PJ018.set_index( \"PJ018-\" + GSM2758473_PJ018.index.astype(str),inplace=True) \n",
    "GSM2758472_PJ017.set_index( \"PJ017-\" + GSM2758472_PJ017.index.astype(str),inplace=True) \n",
    "GSM2758471_PJ016.set_index( \"PJ016-\" + GSM2758471_PJ016.index.astype(str),inplace=True) "
   ]
  },
  {
   "cell_type": "code",
   "execution_count": 14,
   "id": "2b0ccd54",
   "metadata": {
    "ExecuteTime": {
     "end_time": "2022-06-08T12:53:14.280775Z",
     "start_time": "2022-06-08T12:53:12.887810Z"
    }
   },
   "outputs": [
    {
     "name": "stderr",
     "output_type": "stream",
     "text": [
      "/tmp/ipykernel_14175/2343560313.py:1: FutureWarning: X.dtype being converted to np.float32 from int64. In the next version of anndata (0.9) conversion will not be automatic. Pass dtype explicitly to avoid this warning. Pass `AnnData(X, dtype=X.dtype, ...)` to get the future behavour.\n",
      "  adataPJ048 =  sc.AnnData(GSM2940098_PJ048)\n",
      "/tmp/ipykernel_14175/2343560313.py:2: FutureWarning: X.dtype being converted to np.float32 from int64. In the next version of anndata (0.9) conversion will not be automatic. Pass dtype explicitly to avoid this warning. Pass `AnnData(X, dtype=X.dtype, ...)` to get the future behavour.\n",
      "  adataPJ030 =  sc.AnnData(GSM2758475_PJ030)\n",
      "/tmp/ipykernel_14175/2343560313.py:3: FutureWarning: X.dtype being converted to np.float32 from int64. In the next version of anndata (0.9) conversion will not be automatic. Pass dtype explicitly to avoid this warning. Pass `AnnData(X, dtype=X.dtype, ...)` to get the future behavour.\n",
      "  adataPJ025 =  sc.AnnData(GSM2758474_PJ025)\n",
      "/tmp/ipykernel_14175/2343560313.py:4: FutureWarning: X.dtype being converted to np.float32 from int64. In the next version of anndata (0.9) conversion will not be automatic. Pass dtype explicitly to avoid this warning. Pass `AnnData(X, dtype=X.dtype, ...)` to get the future behavour.\n",
      "  adataPJ018 =  sc.AnnData(GSM2758473_PJ018)\n",
      "/tmp/ipykernel_14175/2343560313.py:5: FutureWarning: X.dtype being converted to np.float32 from int64. In the next version of anndata (0.9) conversion will not be automatic. Pass dtype explicitly to avoid this warning. Pass `AnnData(X, dtype=X.dtype, ...)` to get the future behavour.\n",
      "  adataPJ017 =  sc.AnnData(GSM2758472_PJ017)\n",
      "/tmp/ipykernel_14175/2343560313.py:6: FutureWarning: X.dtype being converted to np.float32 from int64. In the next version of anndata (0.9) conversion will not be automatic. Pass dtype explicitly to avoid this warning. Pass `AnnData(X, dtype=X.dtype, ...)` to get the future behavour.\n",
      "  adataPJ016 =  sc.AnnData(GSM2758471_PJ016)\n"
     ]
    }
   ],
   "source": [
    "adataPJ048 =  sc.AnnData(GSM2940098_PJ048)\n",
    "adataPJ030 =  sc.AnnData(GSM2758475_PJ030)\n",
    "adataPJ025 =  sc.AnnData(GSM2758474_PJ025)\n",
    "adataPJ018 =  sc.AnnData(GSM2758473_PJ018)\n",
    "adataPJ017 =  sc.AnnData(GSM2758472_PJ017)\n",
    "adataPJ016 =  sc.AnnData(GSM2758471_PJ016)"
   ]
  },
  {
   "cell_type": "code",
   "execution_count": 15,
   "id": "44c9e854",
   "metadata": {
    "ExecuteTime": {
     "end_time": "2022-06-08T12:53:14.289631Z",
     "start_time": "2022-06-08T12:53:14.282514Z"
    }
   },
   "outputs": [],
   "source": [
    "adataPJ048.obs['SampleID'] = \"PJ048\"\n",
    "adataPJ048.obs['GEO_RNA'] = \"GSM2940098\"\n",
    "adataPJ048.obs['Cohort'] = \"GSE103224\"\n",
    "adataPJ048.obs['Type'] = \"PrimaryTumor\"  \n",
    "adataPJ048.obs['Subtype'] = \"Proneural\"\n",
    "adataPJ048.obs['Diagnosis'] = \"Glioblastoma\"\n",
    "adataPJ048.obs['Grade'] = \"IV\"\n",
    "adataPJ048.obs['Location'] = \"Right_Parietal\"\n",
    "adataPJ048.obs['IDH1_Status'] = \"WT\"\n",
    "adataPJ048.obs['EGFR_Status'] = \"NotAmplified\"\n",
    "adataPJ048.obs['CellCount'] = \"3084\"\n",
    "adataPJ048.obs['Sample'] = \"Patient1\"\n",
    "adataPJ048.obs['Sex'] = \"M\"\n",
    "adataPJ048.obs['Age'] = \"59\"\n",
    "adataPJ048.obs['Sorted'] = \"CD45\""
   ]
  },
  {
   "cell_type": "code",
   "execution_count": 16,
   "id": "f9e1fbde",
   "metadata": {
    "ExecuteTime": {
     "end_time": "2022-06-08T12:53:14.297925Z",
     "start_time": "2022-06-08T12:53:14.290921Z"
    }
   },
   "outputs": [],
   "source": [
    "adataPJ030.obs['SampleID'] = \"PJ030\"\n",
    "adataPJ030.obs['GEO_RNA'] = \"GSM2758475\"\n",
    "adataPJ030.obs['Cohort'] = \"GSE103224\"\n",
    "adataPJ030.obs['Type'] = \"PrimaryTumor\"  \n",
    "adataPJ030.obs['Subtype'] = \"Classical\"\n",
    "adataPJ030.obs['Diagnosis'] = \"Anaplastic_Astrocytoma\"\n",
    "adataPJ030.obs['Grade'] = \"III\"\n",
    "adataPJ030.obs['Location'] = \"Left_Temporal\"\n",
    "adataPJ030.obs['IDH1_Status'] = \"WT\"\n",
    "adataPJ030.obs['EGFR_Status'] = \"NotAmplified\"\n",
    "adataPJ030.obs['CellCount'] = \"3097\"\n",
    "adataPJ030.obs['Sample'] = \"Patient2\"\n",
    "adataPJ030.obs['Sex'] = \"F\"\n",
    "adataPJ030.obs['Age'] = \"56\"\n",
    "adataPJ030.obs['Sorted'] = \"CD45\""
   ]
  },
  {
   "cell_type": "code",
   "execution_count": 17,
   "id": "1e884176",
   "metadata": {
    "ExecuteTime": {
     "end_time": "2022-06-08T12:53:14.306309Z",
     "start_time": "2022-06-08T12:53:14.299330Z"
    }
   },
   "outputs": [],
   "source": [
    "adataPJ025.obs['SampleID'] = \"PJ025\"\n",
    "adataPJ025.obs['GEO_RNA'] = \"GSM2758474\"\n",
    "adataPJ025.obs['Cohort'] = \"GSE103224\"\n",
    "adataPJ025.obs['Type'] = \"PrimaryTumor\"  \n",
    "adataPJ025.obs['Subtype'] = \"Classical\"\n",
    "adataPJ025.obs['Diagnosis'] = \"Glioblastoma\"\n",
    "adataPJ025.obs['Grade'] = \"IV\"\n",
    "adataPJ025.obs['Location'] = \"Right_Frontal\"\n",
    "adataPJ025.obs['IDH1_Status'] = \"WT\"\n",
    "adataPJ025.obs['EGFR_Status'] = \"Amplified\"\n",
    "adataPJ025.obs['CellCount'] = \"5924\"\n",
    "adataPJ025.obs['Sample'] = \"Patient3\"\n",
    "adataPJ025.obs['Sex'] = \"M\"\n",
    "adataPJ025.obs['Age'] = \"74\"\n",
    "adataPJ025.obs['Sorted'] = \"CD45\""
   ]
  },
  {
   "cell_type": "code",
   "execution_count": 18,
   "id": "c9e27cad",
   "metadata": {
    "ExecuteTime": {
     "end_time": "2022-06-08T12:53:14.314243Z",
     "start_time": "2022-06-08T12:53:14.307679Z"
    }
   },
   "outputs": [],
   "source": [
    "adataPJ018.obs['SampleID'] = \"PJ018\"\n",
    "adataPJ018.obs['GEO_RNA'] = \"GSM2758473\"\n",
    "adataPJ018.obs['Cohort'] = \"GSE103224\"\n",
    "adataPJ018.obs['Type'] = \"PrimaryTumor\"  \n",
    "adataPJ018.obs['Subtype'] = \"Proneural\"\n",
    "adataPJ018.obs['Diagnosis'] = \"Glioblastoma\"\n",
    "adataPJ018.obs['Grade'] = \"IV\"\n",
    "adataPJ018.obs['Location'] = \"Left_Temporal\"\n",
    "adataPJ018.obs['IDH1_Status'] = \"WT\"\n",
    "adataPJ018.obs['EGFR_Status'] = \"NotAmplified\"\n",
    "adataPJ018.obs['CellCount'] = \"2197\"\n",
    "adataPJ018.obs['Sample'] = \"Patient4\"\n",
    "adataPJ018.obs['Sex'] = \"M\"\n",
    "adataPJ018.obs['Age'] = \"65\"\n",
    "adataPJ018.obs['Sorted'] = \"CD45\""
   ]
  },
  {
   "cell_type": "code",
   "execution_count": 19,
   "id": "b54f1270",
   "metadata": {
    "ExecuteTime": {
     "end_time": "2022-06-08T12:53:14.323614Z",
     "start_time": "2022-06-08T12:53:14.315327Z"
    }
   },
   "outputs": [],
   "source": [
    "adataPJ017.obs['SampleID'] = \"PJ017\"\n",
    "adataPJ017.obs['GEO_RNA'] = \"GSM2758472\"\n",
    "adataPJ017.obs['Cohort'] = \"GSE103224\"\n",
    "adataPJ017.obs['Type'] = \"PrimaryTumor\"  \n",
    "adataPJ017.obs['Subtype'] = \"Mesenchymal\"\n",
    "adataPJ017.obs['Diagnosis'] = \"Glioblastoma\"\n",
    "adataPJ017.obs['Grade'] = \"IV\"\n",
    "adataPJ017.obs['Location'] = \"Left_Temporal\"\n",
    "adataPJ017.obs['IDH1_Status'] = \"WT\"\n",
    "adataPJ017.obs['EGFR_Status'] = \"Amplified\"\n",
    "adataPJ017.obs['CellCount'] = \"1261\"\n",
    "adataPJ017.obs['Sample'] = \"Patient5\"\n",
    "adataPJ017.obs['Sex'] = \"M\"\n",
    "adataPJ017.obs['Age'] = \"62\"\n",
    "adataPJ017.obs['Sorted'] = \"CD45\""
   ]
  },
  {
   "cell_type": "code",
   "execution_count": 20,
   "id": "9a9e854e",
   "metadata": {
    "ExecuteTime": {
     "end_time": "2022-06-08T12:53:14.332147Z",
     "start_time": "2022-06-08T12:53:14.324925Z"
    }
   },
   "outputs": [],
   "source": [
    "adataPJ016.obs['SampleID'] = \"PJ016\"\n",
    "adataPJ016.obs['GEO_RNA'] = \"GSM2758472\"\n",
    "adataPJ016.obs['Cohort'] = \"GSE103224\"\n",
    "adataPJ016.obs['Type'] = \"PrimaryTumor\"  \n",
    "adataPJ016.obs['Subtype'] = \"Proneural\"\n",
    "adataPJ016.obs['Diagnosis'] = \"Glioblastoma\"\n",
    "adataPJ016.obs['Grade'] = \"IV\"\n",
    "adataPJ016.obs['Location'] = \"Right_Frontal\"\n",
    "adataPJ016.obs['IDH1_Status'] = \"R132H\"\n",
    "adataPJ016.obs['EGFR_Status'] = \"NotAmplified\"\n",
    "adataPJ016.obs['CellCount'] = \"3085\"\n",
    "adataPJ016.obs['Sample'] = \"Patient6\"\n",
    "adataPJ016.obs['Sex'] = \"F\"\n",
    "adataPJ016.obs['Age'] = \"49\"\n",
    "adataPJ016.obs['Sorted'] = \"CD45\""
   ]
  },
  {
   "cell_type": "code",
   "execution_count": 21,
   "id": "b057e376",
   "metadata": {
    "ExecuteTime": {
     "end_time": "2022-06-08T12:53:14.336998Z",
     "start_time": "2022-06-08T12:53:14.333495Z"
    }
   },
   "outputs": [
    {
     "data": {
      "text/plain": [
       "AnnData object with n_obs × n_vars = 3084 × 49774\n",
       "    obs: 'SampleID', 'GEO_RNA', 'Cohort', 'Type', 'Subtype', 'Diagnosis', 'Grade', 'Location', 'IDH1_Status', 'EGFR_Status', 'CellCount', 'Sample', 'Sex', 'Age', 'Sorted'"
      ]
     },
     "execution_count": 21,
     "metadata": {},
     "output_type": "execute_result"
    }
   ],
   "source": [
    "adataPJ048"
   ]
  },
  {
   "cell_type": "code",
   "execution_count": 22,
   "id": "44b898a7",
   "metadata": {
    "ExecuteTime": {
     "end_time": "2022-06-08T12:53:14.341251Z",
     "start_time": "2022-06-08T12:53:14.338453Z"
    }
   },
   "outputs": [
    {
     "data": {
      "text/plain": [
       "AnnData object with n_obs × n_vars = 3097 × 49774\n",
       "    obs: 'SampleID', 'GEO_RNA', 'Cohort', 'Type', 'Subtype', 'Diagnosis', 'Grade', 'Location', 'IDH1_Status', 'EGFR_Status', 'CellCount', 'Sample', 'Sex', 'Age', 'Sorted'"
      ]
     },
     "execution_count": 22,
     "metadata": {},
     "output_type": "execute_result"
    }
   ],
   "source": [
    "adataPJ030"
   ]
  },
  {
   "cell_type": "code",
   "execution_count": 23,
   "id": "34bad2d4",
   "metadata": {
    "ExecuteTime": {
     "end_time": "2022-06-08T12:53:14.345524Z",
     "start_time": "2022-06-08T12:53:14.342359Z"
    }
   },
   "outputs": [
    {
     "data": {
      "text/plain": [
       "AnnData object with n_obs × n_vars = 5924 × 49774\n",
       "    obs: 'SampleID', 'GEO_RNA', 'Cohort', 'Type', 'Subtype', 'Diagnosis', 'Grade', 'Location', 'IDH1_Status', 'EGFR_Status', 'CellCount', 'Sample', 'Sex', 'Age', 'Sorted'"
      ]
     },
     "execution_count": 23,
     "metadata": {},
     "output_type": "execute_result"
    }
   ],
   "source": [
    "adataPJ025 "
   ]
  },
  {
   "cell_type": "code",
   "execution_count": 24,
   "id": "2edbfe0e",
   "metadata": {
    "ExecuteTime": {
     "end_time": "2022-06-08T12:53:14.349503Z",
     "start_time": "2022-06-08T12:53:14.346663Z"
    }
   },
   "outputs": [
    {
     "data": {
      "text/plain": [
       "AnnData object with n_obs × n_vars = 2197 × 49774\n",
       "    obs: 'SampleID', 'GEO_RNA', 'Cohort', 'Type', 'Subtype', 'Diagnosis', 'Grade', 'Location', 'IDH1_Status', 'EGFR_Status', 'CellCount', 'Sample', 'Sex', 'Age', 'Sorted'"
      ]
     },
     "execution_count": 24,
     "metadata": {},
     "output_type": "execute_result"
    }
   ],
   "source": [
    "adataPJ018 "
   ]
  },
  {
   "cell_type": "code",
   "execution_count": 25,
   "id": "344104ea",
   "metadata": {
    "ExecuteTime": {
     "end_time": "2022-06-08T12:53:14.353527Z",
     "start_time": "2022-06-08T12:53:14.350754Z"
    }
   },
   "outputs": [
    {
     "data": {
      "text/plain": [
       "AnnData object with n_obs × n_vars = 1261 × 49774\n",
       "    obs: 'SampleID', 'GEO_RNA', 'Cohort', 'Type', 'Subtype', 'Diagnosis', 'Grade', 'Location', 'IDH1_Status', 'EGFR_Status', 'CellCount', 'Sample', 'Sex', 'Age', 'Sorted'"
      ]
     },
     "execution_count": 25,
     "metadata": {},
     "output_type": "execute_result"
    }
   ],
   "source": [
    "adataPJ017"
   ]
  },
  {
   "cell_type": "code",
   "execution_count": 26,
   "id": "1169494d",
   "metadata": {
    "ExecuteTime": {
     "end_time": "2022-06-08T12:53:14.357503Z",
     "start_time": "2022-06-08T12:53:14.354658Z"
    }
   },
   "outputs": [
    {
     "data": {
      "text/plain": [
       "AnnData object with n_obs × n_vars = 3085 × 49774\n",
       "    obs: 'SampleID', 'GEO_RNA', 'Cohort', 'Type', 'Subtype', 'Diagnosis', 'Grade', 'Location', 'IDH1_Status', 'EGFR_Status', 'CellCount', 'Sample', 'Sex', 'Age', 'Sorted'"
      ]
     },
     "execution_count": 26,
     "metadata": {},
     "output_type": "execute_result"
    }
   ],
   "source": [
    "adataPJ016"
   ]
  },
  {
   "cell_type": "code",
   "execution_count": 27,
   "id": "b0e48931",
   "metadata": {
    "ExecuteTime": {
     "end_time": "2022-06-08T12:53:14.361451Z",
     "start_time": "2022-06-08T12:53:14.358788Z"
    }
   },
   "outputs": [],
   "source": [
    "adataPJ048.var.index.name =  'Gene'\n",
    "adataPJ030.var.index.name =  'Gene'\n",
    "adataPJ025.var.index.name =  'Gene'\n",
    "adataPJ018.var.index.name =  'Gene'\n",
    "adataPJ017.var.index.name =  'Gene'\n",
    "adataPJ016.var.index.name =  'Gene'"
   ]
  },
  {
   "cell_type": "code",
   "execution_count": 28,
   "id": "6d4be670",
   "metadata": {
    "ExecuteTime": {
     "end_time": "2022-06-08T12:53:20.234513Z",
     "start_time": "2022-06-08T12:53:14.364554Z"
    }
   },
   "outputs": [],
   "source": [
    "adataPJ048.write(outpath+\"PJ048.h5ad\")\n",
    "adataPJ030.write(outpath+\"PJ030.h5ad\")\n",
    "adataPJ025.write(outpath+\"PJ025.h5ad\")\n",
    "adataPJ018.write(outpath+\"PJ018.h5ad\")\n",
    "adataPJ017.write(outpath+\"PJ017.h5ad\")\n",
    "adataPJ016.write(outpath+\"PJ016.h5ad\")"
   ]
  },
  {
   "cell_type": "code",
   "execution_count": null,
   "id": "dc1fd78c",
   "metadata": {},
   "outputs": [],
   "source": []
  }
 ],
 "metadata": {
  "kernelspec": {
   "display_name": "Python [conda env:scanpy19]",
   "language": "python",
   "name": "conda-env-scanpy19-py"
  },
  "language_info": {
   "codemirror_mode": {
    "name": "ipython",
    "version": 3
   },
   "file_extension": ".py",
   "mimetype": "text/x-python",
   "name": "python",
   "nbconvert_exporter": "python",
   "pygments_lexer": "ipython3",
   "version": "3.10.4"
  },
  "toc": {
   "base_numbering": 1,
   "nav_menu": {},
   "number_sections": true,
   "sideBar": true,
   "skip_h1_title": false,
   "title_cell": "Table of Contents",
   "title_sidebar": "Contents",
   "toc_cell": false,
   "toc_position": {},
   "toc_section_display": true,
   "toc_window_display": false
  },
  "varInspector": {
   "cols": {
    "lenName": 16,
    "lenType": 16,
    "lenVar": 40
   },
   "kernels_config": {
    "python": {
     "delete_cmd_postfix": "",
     "delete_cmd_prefix": "del ",
     "library": "var_list.py",
     "varRefreshCmd": "print(var_dic_list())"
    },
    "r": {
     "delete_cmd_postfix": ") ",
     "delete_cmd_prefix": "rm(",
     "library": "var_list.r",
     "varRefreshCmd": "cat(var_dic_list()) "
    }
   },
   "types_to_exclude": [
    "module",
    "function",
    "builtin_function_or_method",
    "instance",
    "_Feature"
   ],
   "window_display": false
  }
 },
 "nbformat": 4,
 "nbformat_minor": 5
}
