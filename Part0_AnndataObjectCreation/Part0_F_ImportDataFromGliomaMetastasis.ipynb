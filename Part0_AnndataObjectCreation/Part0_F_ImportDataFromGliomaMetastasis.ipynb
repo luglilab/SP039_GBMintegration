{
 "cells": [
  {
   "cell_type": "code",
   "execution_count": 1,
   "id": "54b15436",
   "metadata": {
    "ExecuteTime": {
     "end_time": "2022-06-08T13:35:44.066472Z",
     "start_time": "2022-06-08T13:35:42.437018Z"
    }
   },
   "outputs": [],
   "source": [
    "import scanpy as sc\n",
    "import pandas as pd"
   ]
  },
  {
   "cell_type": "code",
   "execution_count": 2,
   "id": "035c3a66",
   "metadata": {
    "ExecuteTime": {
     "end_time": "2022-06-08T13:35:44.070654Z",
     "start_time": "2022-06-08T13:35:44.068173Z"
    }
   },
   "outputs": [],
   "source": [
    "from os import listdir\n",
    "from os.path import isfile, join"
   ]
  },
  {
   "cell_type": "code",
   "execution_count": 3,
   "id": "ebf8b80f",
   "metadata": {
    "ExecuteTime": {
     "end_time": "2022-06-08T13:35:44.074589Z",
     "start_time": "2022-06-08T13:35:44.071895Z"
    }
   },
   "outputs": [],
   "source": [
    "outpath = \"/home/lugli/spuccio/Projects/SP039/FileH5AD_input/\""
   ]
  },
  {
   "cell_type": "code",
   "execution_count": 4,
   "id": "c0927e7e",
   "metadata": {
    "ExecuteTime": {
     "end_time": "2022-06-08T13:35:44.080569Z",
     "start_time": "2022-06-08T13:35:44.076267Z"
    }
   },
   "outputs": [],
   "source": [
    "def h5ad_create(folderID,outputPath):\n",
    "    folderPath = \"/home/lugli/spuccio/Projects/SP035_TregIntegration/BrainMetastasis/\"\n",
    "    tmp1 = \"adata\"+folderID\n",
    "    tmp1 = sc.read(folderPath+folderID+\"/matrix.mtx.gz\")\n",
    "    tmp1 = tmp1.transpose()\n",
    "    genes = pd.read_csv(folderPath+ folderID + \"/features.tsv.gz\",header=None,sep=\"\\t\")\n",
    "    barcodes = pd.read_csv(folderPath+ folderID +\"/barcodes.tsv.gz\",header=None,sep=\"\\t\")\n",
    "    genes = genes[[0,1]]\n",
    "    genes =genes.rename({0: 'ENSGeneID', 1: 'GeneSymbol'}, axis=1)\n",
    "    tmp1.var = genes\n",
    "    tmp1.var.index = genes['GeneSymbol']\n",
    "    del tmp1.var['GeneSymbol']\n",
    "    barcodes =barcodes.rename({0: 'barcode'}, axis=1)\n",
    "    tmp1.obs = barcodes\n",
    "    tmp1.obs.index = barcodes['barcode']\n",
    "    del tmp1.obs['barcode']\n",
    "    tmp1.var_names_make_unique()\n",
    "    print(tmp1)\n",
    "    tmp1.write_h5ad(outputPath+folderID+'.h5ad')"
   ]
  },
  {
   "cell_type": "code",
   "execution_count": 5,
   "id": "2a3f1bf0",
   "metadata": {
    "ExecuteTime": {
     "end_time": "2022-06-08T13:35:44.100939Z",
     "start_time": "2022-06-08T13:35:44.081897Z"
    }
   },
   "outputs": [],
   "source": [
    "onlydir = [f for f in listdir(\"/home/lugli/spuccio/Projects/SP035_TregIntegration/BrainMetastasis/\") if not isfile(join(\"/home/lugli/spuccio/Projects/SP035_TregIntegration/BrainMetastasis/\", f))]"
   ]
  },
  {
   "cell_type": "code",
   "execution_count": 6,
   "id": "ba480247",
   "metadata": {
    "ExecuteTime": {
     "end_time": "2022-06-08T13:42:01.981487Z",
     "start_time": "2022-06-08T13:35:44.102830Z"
    }
   },
   "outputs": [
    {
     "name": "stdout",
     "output_type": "stream",
     "text": [
      "Ovarian_2\n",
      "AnnData object with n_obs × n_vars = 7711 × 33694\n",
      "    var: 'ENSGeneID'\n",
      "Breast_3\n",
      "AnnData object with n_obs × n_vars = 11947 × 33694\n",
      "    var: 'ENSGeneID'\n",
      "Rhabdomyosarcoma\n",
      "AnnData object with n_obs × n_vars = 6417 × 33694\n",
      "    var: 'ENSGeneID'\n",
      "Melan_3\n",
      "AnnData object with n_obs × n_vars = 3886 × 33694\n",
      "    var: 'ENSGeneID'\n",
      "Lung_3\n",
      "AnnData object with n_obs × n_vars = 7337 × 33694\n",
      "    var: 'ENSGeneID'\n",
      "Lung_1\n",
      "AnnData object with n_obs × n_vars = 9985 × 33694\n",
      "    var: 'ENSGeneID'\n",
      "Renal_Cell\n",
      "AnnData object with n_obs × n_vars = 1539 × 33694\n",
      "    var: 'ENSGeneID'\n",
      "Ovarian_1\n",
      "AnnData object with n_obs × n_vars = 5675 × 33694\n",
      "    var: 'ENSGeneID'\n",
      "Breast_2\n",
      "AnnData object with n_obs × n_vars = 12003 × 33694\n",
      "    var: 'ENSGeneID'\n",
      "Breast_1_Biological_Replicate\n",
      "AnnData object with n_obs × n_vars = 6828 × 33694\n",
      "    var: 'ENSGeneID'\n",
      "Lung_2\n",
      "AnnData object with n_obs × n_vars = 3891 × 33694\n",
      "    var: 'ENSGeneID'\n",
      "Colorectal\n",
      "AnnData object with n_obs × n_vars = 2549 × 33694\n",
      "    var: 'ENSGeneID'\n",
      "Breast_1\n",
      "AnnData object with n_obs × n_vars = 6798 × 33694\n",
      "    var: 'ENSGeneID'\n",
      "Melan_2\n",
      "AnnData object with n_obs × n_vars = 9800 × 33694\n",
      "    var: 'ENSGeneID'\n",
      "Melan_1\n",
      "AnnData object with n_obs × n_vars = 2228 × 33694\n",
      "    var: 'ENSGeneID'\n"
     ]
    }
   ],
   "source": [
    "for _ in range(len(onlydir)):\n",
    "    print(onlydir[_])\n",
    "    h5ad_create(onlydir[_],outpath)"
   ]
  },
  {
   "cell_type": "code",
   "execution_count": 7,
   "id": "3a3681fa",
   "metadata": {
    "ExecuteTime": {
     "end_time": "2022-06-08T13:42:01.992115Z",
     "start_time": "2022-06-08T13:42:01.984593Z"
    }
   },
   "outputs": [
    {
     "name": "stdout",
     "output_type": "stream",
     "text": [
      "NamespaceMagics\t get_ipython\t getsizeof\t h5ad_create\t isfile\t join\t json\t listdir\t np\t \n",
      "onlydir\t outpath\t pd\t sc\t var_dic_list\t \n"
     ]
    }
   ],
   "source": [
    "%who"
   ]
  },
  {
   "cell_type": "code",
   "execution_count": 8,
   "id": "bea18e13",
   "metadata": {
    "ExecuteTime": {
     "end_time": "2022-06-08T13:42:03.459216Z",
     "start_time": "2022-06-08T13:42:01.993605Z"
    }
   },
   "outputs": [],
   "source": [
    "Ovarian_2 = sc.read(\"/home/lugli/spuccio/Projects/SP039/FileH5AD_input/\"+\"Ovarian_2\"+\".h5ad\")\n",
    "Melan_3 = sc.read(\"/home/lugli/spuccio/Projects/SP039/FileH5AD_input/\"+\"Melan_3\"+\".h5ad\")\n",
    "Lung_3 = sc.read(\"/home/lugli/spuccio/Projects/SP039/FileH5AD_input/\"+\"Lung_3\"+\".h5ad\")\n",
    "Lung_1 = sc.read(\"/home/lugli/spuccio/Projects/SP039/FileH5AD_input/\"+\"Lung_1\"+\".h5ad\")\n",
    "Renal_Cell = sc.read(\"/home/lugli/spuccio/Projects/SP039/FileH5AD_input/\"+\"Renal_Cell\"+\".h5ad\")\n",
    "Ovarian_1 = sc.read(\"/home/lugli/spuccio/Projects/SP039/FileH5AD_input/\"+\"Ovarian_1\"+\".h5ad\")\n",
    "Breast_2 = sc.read(\"/home/lugli/spuccio/Projects/SP039/FileH5AD_input/\"+\"Breast_2\"+\".h5ad\")\n",
    "Lung_2 = sc.read(\"/home/lugli/spuccio/Projects/SP039/FileH5AD_input/\"+\"Lung_2\"+\".h5ad\")\n",
    "Colorectal = sc.read(\"/home/lugli/spuccio/Projects/SP039/FileH5AD_input/\"+\"Colorectal\"+\".h5ad\")\n",
    "Melan_2 = sc.read(\"/home/lugli/spuccio/Projects/SP039/FileH5AD_input/\"+\"Melan_2\"+\".h5ad\")\n",
    "Melan_1 = sc.read(\"/home/lugli/spuccio/Projects/SP039/FileH5AD_input/\"+\"Melan_1\"+\".h5ad\")"
   ]
  },
  {
   "cell_type": "code",
   "execution_count": 9,
   "id": "9f3b05ae",
   "metadata": {
    "ExecuteTime": {
     "end_time": "2022-06-08T13:42:03.497102Z",
     "start_time": "2022-06-08T13:42:03.460636Z"
    }
   },
   "outputs": [],
   "source": [
    "Ovarian_2.var['GeneTemp']= list(Ovarian_2.var.index)\n",
    "Melan_3.var['GeneTemp']= list(Melan_3.var.index)\n",
    "Lung_3.var['GeneTemp']= list(Lung_3.var.index)\n",
    "Lung_1.var['GeneTemp']= list(Lung_1.var.index)\n",
    "Renal_Cell.var['GeneTemp']= list(Renal_Cell.var.index)\n",
    "Ovarian_1.var['GeneTemp']= list(Ovarian_1.var.index)\n",
    "Breast_2.var['GeneTemp']= list(Breast_2.var.index)\n",
    "Lung_2.var['GeneTemp']= list(Lung_2.var.index)\n",
    "Colorectal.var['GeneTemp']= list(Colorectal.var.index)\n",
    "Melan_2.var['GeneTemp']= list(Melan_2.var.index)\n",
    "Melan_1.var['GeneTemp']= list(Melan_1.var.index)"
   ]
  },
  {
   "cell_type": "code",
   "execution_count": 10,
   "id": "841dc8ce",
   "metadata": {
    "ExecuteTime": {
     "end_time": "2022-06-08T13:42:04.033220Z",
     "start_time": "2022-06-08T13:42:03.499195Z"
    }
   },
   "outputs": [],
   "source": [
    "Ovarian_2.var['GeneTempClean']= list(Ovarian_2.var['GeneTemp'].str.split(\".\",0, expand=True)[0])\n",
    "Melan_3.var['GeneTempClean']= list(Melan_3.var['GeneTemp'].str.split(\".\",0, expand=True)[0])\n",
    "Lung_3.var['GeneTempClean']= list(Lung_3.var['GeneTemp'].str.split(\".\",0, expand=True)[0])\n",
    "Lung_1.var['GeneTempClean']= list(Lung_1.var['GeneTemp'].str.split(\".\",0, expand=True)[0])\n",
    "Renal_Cell.var['GeneTempClean']= list(Renal_Cell.var['GeneTemp'].str.split(\".\",0, expand=True)[0])\n",
    "Ovarian_1.var['GeneTempClean']= list(Ovarian_1.var['GeneTemp'].str.split(\".\",0, expand=True)[0])\n",
    "Breast_2.var['GeneTempClean']= list(Breast_2.var['GeneTemp'].str.split(\".\",0, expand=True)[0])\n",
    "Lung_2.var['GeneTempClean']= list(Lung_2.var['GeneTemp'].str.split(\".\",0, expand=True)[0])\n",
    "Colorectal.var['GeneTempClean']= list(Colorectal.var['GeneTemp'].str.split(\".\",0, expand=True)[0])\n",
    "Melan_2.var['GeneTempClean']= list(Melan_2.var['GeneTemp'].str.split(\".\",0, expand=True)[0])\n",
    "Melan_1.var['GeneTempClean']= list(Melan_1.var['GeneTemp'].str.split(\".\",0, expand=True)[0])"
   ]
  },
  {
   "cell_type": "code",
   "execution_count": 11,
   "id": "df7c123d",
   "metadata": {
    "ExecuteTime": {
     "end_time": "2022-06-08T13:42:04.040071Z",
     "start_time": "2022-06-08T13:42:04.034791Z"
    }
   },
   "outputs": [],
   "source": [
    "Ovarian_2.var.index = Ovarian_2.var['GeneTempClean']\n",
    "Melan_3.var.index = Melan_3.var['GeneTempClean']\n",
    "Lung_3.var.index = Lung_3.var['GeneTempClean']\n",
    "Lung_1.var.index = Lung_1.var['GeneTempClean']\n",
    "Renal_Cell.var.index = Renal_Cell.var['GeneTempClean']\n",
    "Ovarian_1.var.index = Ovarian_1.var['GeneTempClean']\n",
    "Breast_2.var.index = Breast_2.var['GeneTempClean']\n",
    "Lung_2.var.index = Lung_2.var['GeneTempClean']\n",
    "Colorectal.var.index = Colorectal.var['GeneTempClean']\n",
    "Melan_2.var.index = Melan_2.var['GeneTempClean']\n",
    "Melan_1.var.index = Melan_1.var['GeneTempClean']"
   ]
  },
  {
   "cell_type": "code",
   "execution_count": 12,
   "id": "acc4d783",
   "metadata": {
    "ExecuteTime": {
     "end_time": "2022-06-08T13:42:04.149963Z",
     "start_time": "2022-06-08T13:42:04.041381Z"
    }
   },
   "outputs": [],
   "source": [
    "Ovarian_2.var_names_make_unique()\n",
    "Melan_3.var_names_make_unique()\n",
    "Lung_3.var_names_make_unique()\n",
    "Lung_1.var_names_make_unique()\n",
    "Renal_Cell.var_names_make_unique()\n",
    "Ovarian_1.var_names_make_unique()\n",
    "Breast_2.var_names_make_unique()\n",
    "Lung_2.var_names_make_unique()\n",
    "Colorectal.var_names_make_unique()\n",
    "Melan_2.var_names_make_unique()\n",
    "Melan_1.var_names_make_unique()"
   ]
  },
  {
   "cell_type": "code",
   "execution_count": 13,
   "id": "ab665b21",
   "metadata": {
    "ExecuteTime": {
     "end_time": "2022-06-08T13:42:04.160320Z",
     "start_time": "2022-06-08T13:42:04.151353Z"
    }
   },
   "outputs": [],
   "source": [
    "del Ovarian_2.var['GeneTemp']\n",
    "del Ovarian_2.var['GeneTempClean']\n",
    "\n",
    "del Melan_3.var['GeneTemp']\n",
    "del Melan_3.var['GeneTempClean']\n",
    "\n",
    "del Lung_3.var['GeneTemp']\n",
    "del Lung_3.var['GeneTempClean']\n",
    "\n",
    "del Lung_1.var['GeneTemp']\n",
    "del Lung_1.var['GeneTempClean']\n",
    "\n",
    "del Renal_Cell.var['GeneTemp']\n",
    "del Renal_Cell.var['GeneTempClean']\n",
    "\n",
    "del Ovarian_1.var['GeneTemp']\n",
    "del Ovarian_1.var['GeneTempClean']\n",
    "\n",
    "del Breast_2.var['GeneTemp']\n",
    "del Breast_2.var['GeneTempClean']\n",
    "\n",
    "del Colorectal.var['GeneTemp']\n",
    "del Colorectal.var['GeneTempClean']\n",
    "\n",
    "del Melan_2.var['GeneTemp']\n",
    "del Melan_2.var['GeneTempClean']\n",
    "\n",
    "del Melan_1.var['GeneTemp']\n",
    "del Melan_1.var['GeneTempClean']"
   ]
  },
  {
   "cell_type": "code",
   "execution_count": 14,
   "id": "aead7dee",
   "metadata": {
    "ExecuteTime": {
     "end_time": "2022-06-08T13:42:04.170831Z",
     "start_time": "2022-06-08T13:42:04.161713Z"
    }
   },
   "outputs": [],
   "source": [
    "Ovarian_2.obs['SampleID'] = \"Ovarian_2\"\n",
    "Ovarian_2.obs['GEO_RNA'] = \"GSM5645898\"\n",
    "Ovarian_2.obs['Cohort'] = \"GSE186344\"\n",
    "Ovarian_2.obs['Type'] = \"Metastasis\"  \n",
    "Ovarian_2.obs['Subtype'] = \"NotAvailable\"\n",
    "Ovarian_2.obs['Diagnosis'] = \"Glioblastoma\"\n",
    "Ovarian_2.obs['Grade'] = \"NotAvailable\"\n",
    "Ovarian_2.obs['Location'] = \"NotAvailable\"\n",
    "Ovarian_2.obs['IDH1_Status'] = \"NotAvailable\"\n",
    "Ovarian_2.obs['EGFR_Status'] = \"NotAvailable\"\n",
    "Ovarian_2.obs['MGMT'] = \"NotAvailable\"\n",
    "Ovarian_2.obs['CellCount'] = \"7711\"\n",
    "Ovarian_2.obs['Sample'] = \"Patient36\"\n",
    "Ovarian_2.obs['Sex'] = \"F\"\n",
    "Ovarian_2.obs['Age'] = \"42\"\n",
    "Ovarian_2.obs['Sorted'] = \"CD45\""
   ]
  },
  {
   "cell_type": "code",
   "execution_count": 15,
   "id": "434d396e",
   "metadata": {
    "ExecuteTime": {
     "end_time": "2022-06-08T13:42:04.179907Z",
     "start_time": "2022-06-08T13:42:04.172156Z"
    }
   },
   "outputs": [],
   "source": [
    "Breast_2.obs['SampleID'] = \"Breast_2\"\n",
    "Breast_2.obs['GEO_RNA'] = \"GSM5645892\"\n",
    "Breast_2.obs['Cohort'] = \"GSE186344\"\n",
    "Breast_2.obs['Type'] = \"Metastasis\"  \n",
    "Breast_2.obs['Subtype'] = \"NotAvailable\"\n",
    "Breast_2.obs['Diagnosis'] = \"Glioblastoma\"\n",
    "Breast_2.obs['Grade'] = \"NotAvailable\"\n",
    "Breast_2.obs['Location'] = \"NotAvailable\"\n",
    "Breast_2.obs['IDH1_Status'] = \"NotAvailable\"\n",
    "Breast_2.obs['EGFR_Status'] = \"NotAvailable\"\n",
    "Breast_2.obs['MGMT'] = \"NotAvailable\"\n",
    "Breast_2.obs['CellCount'] = \"12003\"\n",
    "Breast_2.obs['Sample'] = \"Patient37\"\n",
    "Breast_2.obs['Sex'] = \"F\"\n",
    "Breast_2.obs['Age'] = \"38\"\n",
    "Breast_2.obs['Sorted'] = \"CD45\""
   ]
  },
  {
   "cell_type": "code",
   "execution_count": 16,
   "id": "dd5cfd93",
   "metadata": {
    "ExecuteTime": {
     "end_time": "2022-06-08T13:42:04.188155Z",
     "start_time": "2022-06-08T13:42:04.181108Z"
    }
   },
   "outputs": [],
   "source": [
    "Melan_3.obs['SampleID'] = \"Melan_3\"\n",
    "Melan_3.obs['GEO_RNA'] = \"GSM5645890\"\n",
    "Melan_3.obs['Cohort'] = \"GSE186344\"\n",
    "Melan_3.obs['Type'] = \"Metastasis\"  \n",
    "Melan_3.obs['Subtype'] = \"NotAvailable\"\n",
    "Melan_3.obs['Diagnosis'] = \"Glioblastoma\"\n",
    "Melan_3.obs['Grade'] = \"NotAvailable\"\n",
    "Melan_3.obs['Location'] = \"NotAvailable\"\n",
    "Melan_3.obs['IDH1_Status'] = \"NotAvailable\"\n",
    "Melan_3.obs['EGFR_Status'] = \"NotAvailable\"\n",
    "Melan_3.obs['MGMT'] = \"NotAvailable\"\n",
    "Melan_3.obs['CellCount'] = \"3886\"\n",
    "Melan_3.obs['Sample'] = \"Patient38\"\n",
    "Melan_3.obs['Sex'] = \"F\"\n",
    "Melan_3.obs['Age'] = \"68\"\n",
    "Melan_3.obs['Sorted'] = \"CD45\""
   ]
  },
  {
   "cell_type": "code",
   "execution_count": 17,
   "id": "546dfb55",
   "metadata": {
    "ExecuteTime": {
     "end_time": "2022-06-08T13:42:04.196341Z",
     "start_time": "2022-06-08T13:42:04.189218Z"
    }
   },
   "outputs": [],
   "source": [
    "Lung_1.obs['SampleID'] = \"Lung_1\"\n",
    "Lung_1.obs['GEO_RNA'] = \"GSM5645894\"\n",
    "Lung_1.obs['Cohort'] = \"GSE186344\"\n",
    "Lung_1.obs['Type'] = \"Metastasis\"  \n",
    "Lung_1.obs['Subtype'] = \"NotAvailable\"\n",
    "Lung_1.obs['Diagnosis'] = \"Glioblastoma\"\n",
    "Lung_1.obs['Grade'] = \"NotAvailable\"\n",
    "Lung_1.obs['Location'] = \"NotAvailable\"\n",
    "Lung_1.obs['IDH1_Status'] = \"NotAvailable\"\n",
    "Lung_1.obs['EGFR_Status'] = \"NotAvailable\"\n",
    "Lung_1.obs['MGMT'] = \"NotAvailable\"\n",
    "Lung_1.obs['CellCount'] = \"9985\"\n",
    "Lung_1.obs['Sample'] = \"Patient39\"\n",
    "Lung_1.obs['Sex'] = \"F\"\n",
    "Lung_1.obs['Age'] = \"76\"\n",
    "Lung_1.obs['Sorted'] = \"CD45\""
   ]
  },
  {
   "cell_type": "code",
   "execution_count": 18,
   "id": "097c501d",
   "metadata": {
    "ExecuteTime": {
     "end_time": "2022-06-08T13:42:04.204476Z",
     "start_time": "2022-06-08T13:42:04.197479Z"
    }
   },
   "outputs": [],
   "source": [
    "Lung_2.obs['SampleID'] = \"Lung_2\"\n",
    "Lung_2.obs['GEO_RNA'] = \"GSM5645895\"\n",
    "Lung_2.obs['Cohort'] = \"GSE186344\"\n",
    "Lung_2.obs['Type'] = \"Metastasis\"  \n",
    "Lung_2.obs['Subtype'] = \"NotAvailable\"\n",
    "Lung_2.obs['Diagnosis'] = \"Glioblastoma\"\n",
    "Lung_2.obs['Grade'] = \"NotAvailable\"\n",
    "Lung_2.obs['Location'] = \"NotAvailable\"\n",
    "Lung_2.obs['IDH1_Status'] = \"NotAvailable\"\n",
    "Lung_2.obs['EGFR_Status'] = \"NotAvailable\"\n",
    "Lung_2.obs['MGMT'] = \"NotAvailable\"\n",
    "Lung_2.obs['CellCount'] = \"3891\"\n",
    "Lung_2.obs['Sample'] = \"Patient40\"\n",
    "Lung_2.obs['Sex'] = \"F\"\n",
    "Lung_2.obs['Age'] = \"57\"\n",
    "Lung_2.obs['Sorted'] = \"CD45\""
   ]
  },
  {
   "cell_type": "code",
   "execution_count": 19,
   "id": "b9587e79",
   "metadata": {
    "ExecuteTime": {
     "end_time": "2022-06-08T13:42:04.212973Z",
     "start_time": "2022-06-08T13:42:04.205566Z"
    }
   },
   "outputs": [],
   "source": [
    "Lung_3.obs['SampleID'] = \"Lung_3\"\n",
    "Lung_3.obs['GEO_RNA'] = \"GSM5645896\"\n",
    "Lung_3.obs['Cohort'] = \"GSE186344\"\n",
    "Lung_3.obs['Type'] = \"Metastasis\"  \n",
    "Lung_3.obs['Subtype'] = \"NotAvailable\"\n",
    "Lung_3.obs['Diagnosis'] = \"Glioblastoma\"\n",
    "Lung_3.obs['Grade'] = \"NotAvailable\"\n",
    "Lung_3.obs['Location'] = \"NotAvailable\"\n",
    "Lung_3.obs['IDH1_Status'] = \"NotAvailable\"\n",
    "Lung_3.obs['EGFR_Status'] = \"NotAvailable\"\n",
    "Lung_3.obs['MGMT'] = \"NotAvailable\"\n",
    "Lung_3.obs['CellCount'] = \"7337\"\n",
    "Lung_3.obs['Sample'] = \"Patient41\"\n",
    "Lung_3.obs['Sex'] = \"F\"\n",
    "Lung_3.obs['Age'] = \"62\"\n",
    "Lung_3.obs['Sorted'] = \"CD45\""
   ]
  },
  {
   "cell_type": "code",
   "execution_count": 20,
   "id": "90f924b9",
   "metadata": {
    "ExecuteTime": {
     "end_time": "2022-06-08T13:42:04.221348Z",
     "start_time": "2022-06-08T13:42:04.214254Z"
    }
   },
   "outputs": [],
   "source": [
    "Renal_Cell.obs['SampleID'] = \"Renal_Cell\"\n",
    "Renal_Cell.obs['GEO_RNA'] = \"GSM5645902\"\n",
    "Renal_Cell.obs['Cohort'] = \"GSE186344\"\n",
    "Renal_Cell.obs['Type'] = \"Metastasis\"  \n",
    "Renal_Cell.obs['Subtype'] = \"NotAvailable\"\n",
    "Renal_Cell.obs['Diagnosis'] = \"Glioblastoma\"\n",
    "Renal_Cell.obs['Grade'] = \"NotAvailable\"\n",
    "Renal_Cell.obs['Location'] = \"NotAvailable\"\n",
    "Renal_Cell.obs['IDH1_Status'] = \"NotAvailable\"\n",
    "Renal_Cell.obs['EGFR_Status'] = \"NotAvailable\"\n",
    "Renal_Cell.obs['MGMT'] = \"NotAvailable\"\n",
    "Renal_Cell.obs['CellCount'] = \"1539\"\n",
    "Renal_Cell.obs['Sample'] = \"Patient42\"\n",
    "Renal_Cell.obs['Sex'] = \"M\"\n",
    "Renal_Cell.obs['Age'] = \"69\"\n",
    "Renal_Cell.obs['Sorted'] = \"CD45\""
   ]
  },
  {
   "cell_type": "code",
   "execution_count": 21,
   "id": "2a01ecab",
   "metadata": {
    "ExecuteTime": {
     "end_time": "2022-06-08T13:42:04.229878Z",
     "start_time": "2022-06-08T13:42:04.222554Z"
    }
   },
   "outputs": [],
   "source": [
    "Ovarian_1.obs['SampleID'] = \"Ovarian_1\"\n",
    "Ovarian_1.obs['GEO_RNA'] = \"GSM5645897\"\n",
    "Ovarian_1.obs['Cohort'] = \"GSE186344\"\n",
    "Ovarian_1.obs['Type'] = \"Metastasis\"  \n",
    "Ovarian_1.obs['Subtype'] = \"NotAvailable\"\n",
    "Ovarian_1.obs['Diagnosis'] = \"Glioblastoma\"\n",
    "Ovarian_1.obs['Grade'] = \"NotAvailable\"\n",
    "Ovarian_1.obs['Location'] = \"NotAvailable\"\n",
    "Ovarian_1.obs['IDH1_Status'] = \"NotAvailable\"\n",
    "Ovarian_1.obs['EGFR_Status'] = \"NotAvailable\"\n",
    "Ovarian_1.obs['MGMT'] = \"NotAvailable\"\n",
    "Ovarian_1.obs['CellCount'] = \"1539\"\n",
    "Ovarian_1.obs['Sample'] = \"Patient43\"\n",
    "Ovarian_1.obs['Sex'] = \"M\"\n",
    "Ovarian_1.obs['Age'] = \"63\"\n",
    "Ovarian_1.obs['Sorted'] = \"CD45\""
   ]
  },
  {
   "cell_type": "code",
   "execution_count": 22,
   "id": "abf38dd5",
   "metadata": {
    "ExecuteTime": {
     "end_time": "2022-06-08T13:42:04.238135Z",
     "start_time": "2022-06-08T13:42:04.231243Z"
    }
   },
   "outputs": [],
   "source": [
    "Colorectal.obs['SampleID'] = \"Colorectal\"\n",
    "Colorectal.obs['GEO_RNA'] = \"GSM5645900\"\n",
    "Colorectal.obs['Cohort'] = \"GSE186344\"\n",
    "Colorectal.obs['Type'] = \"Metastasis\"  \n",
    "Colorectal.obs['Subtype'] = \"NotAvailable\"\n",
    "Colorectal.obs['Diagnosis'] = \"Glioblastoma\"\n",
    "Colorectal.obs['Grade'] = \"NotAvailable\"\n",
    "Colorectal.obs['Location'] = \"NotAvailable\"\n",
    "Colorectal.obs['IDH1_Status'] = \"NotAvailable\"\n",
    "Colorectal.obs['EGFR_Status'] = \"NotAvailable\"\n",
    "Colorectal.obs['MGMT'] = \"NotAvailable\"\n",
    "Colorectal.obs['CellCount'] = \"1539\"\n",
    "Colorectal.obs['Sample'] = \"Patient44\"\n",
    "Colorectal.obs['Sex'] = \"F\"\n",
    "Colorectal.obs['Age'] = \"46\"\n",
    "Colorectal.obs['Sorted'] = \"CD45\""
   ]
  },
  {
   "cell_type": "code",
   "execution_count": 23,
   "id": "c2b6bc5a",
   "metadata": {
    "ExecuteTime": {
     "end_time": "2022-06-08T13:42:04.246388Z",
     "start_time": "2022-06-08T13:42:04.239197Z"
    }
   },
   "outputs": [],
   "source": [
    "Melan_2.obs['SampleID'] = \"Melan_2\"\n",
    "Melan_2.obs['GEO_RNA'] = \"GSM5645889\"\n",
    "Melan_2.obs['Cohort'] = \"GSE186344\"\n",
    "Melan_2.obs['Type'] = \"Metastasis\"  \n",
    "Melan_2.obs['Subtype'] = \"NotAvailable\"\n",
    "Melan_2.obs['Diagnosis'] = \"Glioblastoma\"\n",
    "Melan_2.obs['Grade'] = \"NotAvailable\"\n",
    "Melan_2.obs['Location'] = \"NotAvailable\"\n",
    "Melan_2.obs['IDH1_Status'] = \"NotAvailable\"\n",
    "Melan_2.obs['EGFR_Status'] = \"NotAvailable\"\n",
    "Melan_2.obs['MGMT'] = \"NotAvailable\"\n",
    "Melan_2.obs['CellCount'] = \"9800\"\n",
    "Melan_2.obs['Sample'] = \"Patient45\"\n",
    "Melan_2.obs['Sex'] = \"M\"\n",
    "Melan_2.obs['Age'] = \"65\"\n",
    "Melan_2.obs['Sorted'] = \"CD45\""
   ]
  },
  {
   "cell_type": "code",
   "execution_count": 24,
   "id": "e63503f6",
   "metadata": {
    "ExecuteTime": {
     "end_time": "2022-06-08T13:42:04.254285Z",
     "start_time": "2022-06-08T13:42:04.247722Z"
    }
   },
   "outputs": [],
   "source": [
    "Melan_1.obs['SampleID'] = \"Melan_1\"\n",
    "Melan_1.obs['GEO_RNA'] = \"GSM5645888\"\n",
    "Melan_1.obs['Cohort'] = \"GSE186344\"\n",
    "Melan_1.obs['Type'] = \"Metastasis\"  \n",
    "Melan_1.obs['Subtype'] = \"NotAvailable\"\n",
    "Melan_1.obs['Diagnosis'] = \"Glioblastoma\"\n",
    "Melan_1.obs['Grade'] = \"NotAvailable\"\n",
    "Melan_1.obs['Location'] = \"NotAvailable\"\n",
    "Melan_1.obs['IDH1_Status'] = \"NotAvailable\"\n",
    "Melan_1.obs['EGFR_Status'] = \"NotAvailable\"\n",
    "Melan_1.obs['MGMT'] = \"NotAvailable\"\n",
    "Melan_1.obs['CellCount'] = \"2228\"\n",
    "Melan_1.obs['Sample'] = \"Patient46\"\n",
    "Melan_1.obs['Sex'] = \"F\"\n",
    "Melan_1.obs['Age'] = \"42\"\n",
    "Melan_1.obs['Sorted'] = \"CD45\""
   ]
  },
  {
   "cell_type": "code",
   "execution_count": 25,
   "id": "d75638d8",
   "metadata": {
    "ExecuteTime": {
     "end_time": "2022-06-08T13:42:04.262102Z",
     "start_time": "2022-06-08T13:42:04.255587Z"
    }
   },
   "outputs": [
    {
     "name": "stdout",
     "output_type": "stream",
     "text": [
      "Breast_2\t Colorectal\t Lung_1\t Lung_2\t Lung_3\t Melan_1\t Melan_2\t Melan_3\t NamespaceMagics\t \n",
      "Ovarian_1\t Ovarian_2\t Renal_Cell\t get_ipython\t getsizeof\t h5ad_create\t isfile\t join\t json\t \n",
      "listdir\t np\t onlydir\t outpath\t pd\t sc\t var_dic_list\t \n"
     ]
    }
   ],
   "source": [
    "%who"
   ]
  },
  {
   "cell_type": "code",
   "execution_count": 26,
   "id": "2f04c3c9",
   "metadata": {
    "ExecuteTime": {
     "end_time": "2022-06-08T13:42:04.284711Z",
     "start_time": "2022-06-08T13:42:04.263396Z"
    }
   },
   "outputs": [],
   "source": [
    "Breast_2.obs = Breast_2.obs.reset_index(drop=True)\n",
    "Colorectal.obs = Colorectal.obs.reset_index(drop=True)\n",
    "Lung_1.obs = Lung_1.obs.reset_index(drop=True)\n",
    "Lung_2.obs = Lung_2.obs.reset_index(drop=True)\n",
    "Lung_3.obs = Lung_3.obs.reset_index(drop=True)\n",
    "Melan_1.obs = Melan_1.obs.reset_index(drop=True)\n",
    "Melan_2.obs = Melan_2.obs.reset_index(drop=True)\n",
    "Melan_3.obs = Melan_3.obs.reset_index(drop=True)\n",
    "Ovarian_1.obs = Ovarian_1.obs.reset_index(drop=True)\n",
    "Ovarian_2.obs = Ovarian_2.obs.reset_index(drop=True)\n",
    "Renal_Cell.obs = Renal_Cell.obs.reset_index(drop=True)"
   ]
  },
  {
   "cell_type": "code",
   "execution_count": 27,
   "id": "16fa2918",
   "metadata": {
    "ExecuteTime": {
     "end_time": "2022-06-08T13:42:04.335445Z",
     "start_time": "2022-06-08T13:42:04.286013Z"
    }
   },
   "outputs": [],
   "source": [
    "Breast_2.obs.set_index(\"Breast_2-\" + Breast_2.obs.index.astype(str),inplace=True)\n",
    "Colorectal.obs.set_index(\"Colorectal-\" + Colorectal.obs.index.astype(str),inplace=True)\n",
    "Lung_1.obs.set_index(\"Lung_1-\" + Lung_1.obs.index.astype(str),inplace=True)\n",
    "Lung_2.obs.set_index(\"Lung_2-\" + Lung_2.obs.index.astype(str),inplace=True)\n",
    "Lung_3.obs.set_index(\"Lung_3-\" + Lung_3.obs.index.astype(str),inplace=True)\n",
    "Melan_1.obs.set_index(\"Melan_1-\" + Melan_1.obs.index.astype(str),inplace=True)\n",
    "Melan_2.obs.set_index(\"Melan_2-\" + Melan_2.obs.index.astype(str),inplace=True)\n",
    "Melan_3.obs.set_index(\"Melan_3-\" + Melan_3.obs.index.astype(str),inplace=True)\n",
    "Ovarian_1.obs.set_index(\"Ovarian_1-\" + Ovarian_1.obs.index.astype(str),inplace=True)\n",
    "Ovarian_2.obs.set_index(\"Ovarian_2-\" + Ovarian_2.obs.index.astype(str),inplace=True)\n",
    "Renal_Cell.obs.set_index(\"Renal_Cell-\" + Renal_Cell.obs.index.astype(str),inplace=True)"
   ]
  },
  {
   "cell_type": "code",
   "execution_count": 28,
   "id": "75788cec",
   "metadata": {
    "ExecuteTime": {
     "end_time": "2022-06-08T13:42:08.657856Z",
     "start_time": "2022-06-08T13:42:04.338352Z"
    }
   },
   "outputs": [],
   "source": [
    "Ovarian_2.write(outpath+\"Ovarian_2.h5ad\")\n",
    "Melan_3.write(outpath+\"Melan_3.h5ad\")\n",
    "Lung_3.write(outpath+\"Lung_3.h5ad\")\n",
    "Lung_1.write(outpath+\"Lung_1.h5ad\")\n",
    "Renal_Cell.write(outpath+\"Renal_Cell.h5ad\")\n",
    "Ovarian_1.write(outpath+\"Ovarian_1.h5ad\")\n",
    "Breast_2.write(outpath+\"Breast_2.h5ad\")\n",
    "Lung_2.write(outpath+\"Lung_2.h5ad\")\n",
    "Colorectal.write(outpath+\"Colorectal.h5ad\")\n",
    "Melan_2.write(outpath+\"Melan_2.h5ad\")\n",
    "Melan_1.write(outpath+\"Melan_1.h5ad\")"
   ]
  },
  {
   "cell_type": "code",
   "execution_count": null,
   "id": "0bc1455d",
   "metadata": {},
   "outputs": [],
   "source": []
  }
 ],
 "metadata": {
  "kernelspec": {
   "display_name": "Python [conda env:scanpy19]",
   "language": "python",
   "name": "conda-env-scanpy19-py"
  },
  "language_info": {
   "codemirror_mode": {
    "name": "ipython",
    "version": 3
   },
   "file_extension": ".py",
   "mimetype": "text/x-python",
   "name": "python",
   "nbconvert_exporter": "python",
   "pygments_lexer": "ipython3",
   "version": "3.10.4"
  },
  "toc": {
   "base_numbering": 1,
   "nav_menu": {},
   "number_sections": true,
   "sideBar": true,
   "skip_h1_title": false,
   "title_cell": "Table of Contents",
   "title_sidebar": "Contents",
   "toc_cell": false,
   "toc_position": {},
   "toc_section_display": true,
   "toc_window_display": false
  },
  "varInspector": {
   "cols": {
    "lenName": 16,
    "lenType": 16,
    "lenVar": 40
   },
   "kernels_config": {
    "python": {
     "delete_cmd_postfix": "",
     "delete_cmd_prefix": "del ",
     "library": "var_list.py",
     "varRefreshCmd": "print(var_dic_list())"
    },
    "r": {
     "delete_cmd_postfix": ") ",
     "delete_cmd_prefix": "rm(",
     "library": "var_list.r",
     "varRefreshCmd": "cat(var_dic_list()) "
    }
   },
   "types_to_exclude": [
    "module",
    "function",
    "builtin_function_or_method",
    "instance",
    "_Feature"
   ],
   "window_display": false
  }
 },
 "nbformat": 4,
 "nbformat_minor": 5
}
