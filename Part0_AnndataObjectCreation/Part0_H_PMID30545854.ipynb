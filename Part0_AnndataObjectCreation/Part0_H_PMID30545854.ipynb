{
 "cells": [
  {
   "cell_type": "code",
   "execution_count": 1,
   "id": "fdef5767",
   "metadata": {
    "ExecuteTime": {
     "end_time": "2022-06-08T15:48:29.765287Z",
     "start_time": "2022-06-08T15:48:28.254693Z"
    }
   },
   "outputs": [],
   "source": [
    "import pandas as pd\n",
    "import scanpy as sc"
   ]
  },
  {
   "cell_type": "code",
   "execution_count": 2,
   "id": "5680716f",
   "metadata": {
    "ExecuteTime": {
     "end_time": "2022-06-08T15:48:29.769861Z",
     "start_time": "2022-06-08T15:48:29.767251Z"
    }
   },
   "outputs": [],
   "source": [
    "outpath = \"/home/lugli/spuccio/Projects/SP039/FileH5AD_input/\""
   ]
  },
  {
   "cell_type": "code",
   "execution_count": 3,
   "id": "e1f657eb",
   "metadata": {
    "ExecuteTime": {
     "end_time": "2022-06-08T15:50:26.731924Z",
     "start_time": "2022-06-08T15:48:29.771216Z"
    }
   },
   "outputs": [],
   "source": [
    "df = pd.read_csv(\"/home/lugli/spuccio/Projects/SP039/PMID30545854/rawmatrix.csv\",header=0)"
   ]
  },
  {
   "cell_type": "code",
   "execution_count": 4,
   "id": "46f95f43",
   "metadata": {
    "ExecuteTime": {
     "end_time": "2022-06-08T15:50:26.831621Z",
     "start_time": "2022-06-08T15:50:26.734290Z"
    }
   },
   "outputs": [],
   "source": [
    "df['GeneTempClean']= df['Unnamed: 0'].str.split(\"|\",0, expand=True)[1]"
   ]
  },
  {
   "cell_type": "code",
   "execution_count": 5,
   "id": "bfbe5061",
   "metadata": {
    "ExecuteTime": {
     "end_time": "2022-06-08T15:50:26.853530Z",
     "start_time": "2022-06-08T15:50:26.833520Z"
    }
   },
   "outputs": [],
   "source": [
    "df['GeneTempClean'] = df['GeneTempClean'].str.split(\".\",0, expand=True)[0]"
   ]
  },
  {
   "cell_type": "code",
   "execution_count": 6,
   "id": "934b346d",
   "metadata": {
    "ExecuteTime": {
     "end_time": "2022-06-08T15:50:26.857924Z",
     "start_time": "2022-06-08T15:50:26.854745Z"
    }
   },
   "outputs": [],
   "source": [
    "df.set_index(\"GeneTempClean\",inplace=True)"
   ]
  },
  {
   "cell_type": "code",
   "execution_count": 7,
   "id": "2c252b80",
   "metadata": {
    "ExecuteTime": {
     "end_time": "2022-06-08T15:50:26.862634Z",
     "start_time": "2022-06-08T15:50:26.859104Z"
    }
   },
   "outputs": [],
   "source": [
    "del df['Unnamed: 0']"
   ]
  },
  {
   "cell_type": "code",
   "execution_count": 8,
   "id": "64de0355",
   "metadata": {
    "ExecuteTime": {
     "end_time": "2022-06-08T15:50:26.867905Z",
     "start_time": "2022-06-08T15:50:26.863720Z"
    }
   },
   "outputs": [],
   "source": [
    "df = df.T"
   ]
  },
  {
   "cell_type": "code",
   "execution_count": 9,
   "id": "cdb3c795",
   "metadata": {
    "ExecuteTime": {
     "end_time": "2022-06-08T15:50:26.888196Z",
     "start_time": "2022-06-08T15:50:26.869298Z"
    }
   },
   "outputs": [],
   "source": [
    "meta = pd.read_csv(\"/home/lugli/spuccio/Projects/SP039/PMID30545854/metadata.csv\",index_col=0)"
   ]
  },
  {
   "cell_type": "code",
   "execution_count": 10,
   "id": "2bbee1af",
   "metadata": {
    "ExecuteTime": {
     "end_time": "2022-06-08T15:50:26.901842Z",
     "start_time": "2022-06-08T15:50:26.889585Z"
    }
   },
   "outputs": [
    {
     "data": {
      "text/html": [
       "<div>\n",
       "<style scoped>\n",
       "    .dataframe tbody tr th:only-of-type {\n",
       "        vertical-align: middle;\n",
       "    }\n",
       "\n",
       "    .dataframe tbody tr th {\n",
       "        vertical-align: top;\n",
       "    }\n",
       "\n",
       "    .dataframe thead th {\n",
       "        text-align: right;\n",
       "    }\n",
       "</style>\n",
       "<table border=\"1\" class=\"dataframe\">\n",
       "  <thead>\n",
       "    <tr style=\"text-align: right;\">\n",
       "      <th></th>\n",
       "      <th>nGene</th>\n",
       "      <th>nUMI</th>\n",
       "      <th>orig.ident</th>\n",
       "      <th>percent.mito</th>\n",
       "      <th>ctype</th>\n",
       "      <th>subtype</th>\n",
       "    </tr>\n",
       "  </thead>\n",
       "  <tbody>\n",
       "    <tr>\n",
       "      <th>kl_AAACCTGAGAAACCGC-1</th>\n",
       "      <td>4817</td>\n",
       "      <td>11318</td>\n",
       "      <td>HSB106DFC</td>\n",
       "      <td>0.003451</td>\n",
       "      <td>ExN</td>\n",
       "      <td>ExN3e</td>\n",
       "    </tr>\n",
       "    <tr>\n",
       "      <th>kl_AAACCTGAGAATTGTG-1</th>\n",
       "      <td>3243</td>\n",
       "      <td>6453</td>\n",
       "      <td>HSB106DFC</td>\n",
       "      <td>0.000311</td>\n",
       "      <td>ExN</td>\n",
       "      <td>ExN2a</td>\n",
       "    </tr>\n",
       "    <tr>\n",
       "      <th>kl_AAACCTGAGACTACAA-1</th>\n",
       "      <td>3514</td>\n",
       "      <td>6313</td>\n",
       "      <td>HSB106DFC</td>\n",
       "      <td>0.006036</td>\n",
       "      <td>InN</td>\n",
       "      <td>InN1b</td>\n",
       "    </tr>\n",
       "    <tr>\n",
       "      <th>kl_AAACCTGAGATAGCAT-1</th>\n",
       "      <td>1275</td>\n",
       "      <td>1838</td>\n",
       "      <td>HSB106DFC</td>\n",
       "      <td>0.001092</td>\n",
       "      <td>Oligo</td>\n",
       "      <td>Oligo</td>\n",
       "    </tr>\n",
       "    <tr>\n",
       "      <th>kl_AAACCTGAGCGTTGCC-1</th>\n",
       "      <td>3290</td>\n",
       "      <td>6365</td>\n",
       "      <td>HSB106DFC</td>\n",
       "      <td>0.002047</td>\n",
       "      <td>ExN</td>\n",
       "      <td>ExN1</td>\n",
       "    </tr>\n",
       "    <tr>\n",
       "      <th>...</th>\n",
       "      <td>...</td>\n",
       "      <td>...</td>\n",
       "      <td>...</td>\n",
       "      <td>...</td>\n",
       "      <td>...</td>\n",
       "      <td>...</td>\n",
       "    </tr>\n",
       "    <tr>\n",
       "      <th>qr_TTTGTCAGTGCAGGTA-1</th>\n",
       "      <td>1156</td>\n",
       "      <td>1530</td>\n",
       "      <td>HSB340DFC</td>\n",
       "      <td>0.003929</td>\n",
       "      <td>Oligo</td>\n",
       "      <td>Oligo</td>\n",
       "    </tr>\n",
       "    <tr>\n",
       "      <th>qr_TTTGTCAGTTCGTTGA-1</th>\n",
       "      <td>1363</td>\n",
       "      <td>1892</td>\n",
       "      <td>HSB340DFC</td>\n",
       "      <td>0.000530</td>\n",
       "      <td>Astro</td>\n",
       "      <td>Astro1</td>\n",
       "    </tr>\n",
       "    <tr>\n",
       "      <th>qr_TTTGTCATCAACGAAA-1</th>\n",
       "      <td>2444</td>\n",
       "      <td>3586</td>\n",
       "      <td>HSB340DFC</td>\n",
       "      <td>0.011183</td>\n",
       "      <td>Astro</td>\n",
       "      <td>Astro2</td>\n",
       "    </tr>\n",
       "    <tr>\n",
       "      <th>qr_TTTGTCATCACATGCA-1</th>\n",
       "      <td>2411</td>\n",
       "      <td>4046</td>\n",
       "      <td>HSB340DFC</td>\n",
       "      <td>0.001980</td>\n",
       "      <td>OPC</td>\n",
       "      <td>OPC1</td>\n",
       "    </tr>\n",
       "    <tr>\n",
       "      <th>qr_TTTGTCATCTAACTCT-1</th>\n",
       "      <td>2822</td>\n",
       "      <td>4741</td>\n",
       "      <td>HSB340DFC</td>\n",
       "      <td>0.005918</td>\n",
       "      <td>InN</td>\n",
       "      <td>InN7</td>\n",
       "    </tr>\n",
       "  </tbody>\n",
       "</table>\n",
       "<p>17093 rows × 6 columns</p>\n",
       "</div>"
      ],
      "text/plain": [
       "                       nGene   nUMI orig.ident  percent.mito  ctype subtype\n",
       "kl_AAACCTGAGAAACCGC-1   4817  11318  HSB106DFC      0.003451    ExN   ExN3e\n",
       "kl_AAACCTGAGAATTGTG-1   3243   6453  HSB106DFC      0.000311    ExN   ExN2a\n",
       "kl_AAACCTGAGACTACAA-1   3514   6313  HSB106DFC      0.006036    InN   InN1b\n",
       "kl_AAACCTGAGATAGCAT-1   1275   1838  HSB106DFC      0.001092  Oligo   Oligo\n",
       "kl_AAACCTGAGCGTTGCC-1   3290   6365  HSB106DFC      0.002047    ExN    ExN1\n",
       "...                      ...    ...        ...           ...    ...     ...\n",
       "qr_TTTGTCAGTGCAGGTA-1   1156   1530  HSB340DFC      0.003929  Oligo   Oligo\n",
       "qr_TTTGTCAGTTCGTTGA-1   1363   1892  HSB340DFC      0.000530  Astro  Astro1\n",
       "qr_TTTGTCATCAACGAAA-1   2444   3586  HSB340DFC      0.011183  Astro  Astro2\n",
       "qr_TTTGTCATCACATGCA-1   2411   4046  HSB340DFC      0.001980    OPC    OPC1\n",
       "qr_TTTGTCATCTAACTCT-1   2822   4741  HSB340DFC      0.005918    InN    InN7\n",
       "\n",
       "[17093 rows x 6 columns]"
      ]
     },
     "execution_count": 10,
     "metadata": {},
     "output_type": "execute_result"
    }
   ],
   "source": [
    "meta"
   ]
  },
  {
   "cell_type": "code",
   "execution_count": 11,
   "id": "1bfe64fa",
   "metadata": {
    "ExecuteTime": {
     "end_time": "2022-06-08T15:50:27.796123Z",
     "start_time": "2022-06-08T15:50:26.902927Z"
    }
   },
   "outputs": [],
   "source": [
    "df1 = df[df.index.str.contains(\"kl_\")]\n",
    "df2 = df[df.index.str.contains(\"op_\")]\n",
    "df3 = df[df.index.str.contains(\"qr_\")]"
   ]
  },
  {
   "cell_type": "code",
   "execution_count": 12,
   "id": "93f8d223",
   "metadata": {
    "ExecuteTime": {
     "end_time": "2022-06-08T15:50:27.801067Z",
     "start_time": "2022-06-08T15:50:27.797745Z"
    }
   },
   "outputs": [
    {
     "data": {
      "text/plain": [
       "(6946, 23476)"
      ]
     },
     "execution_count": 12,
     "metadata": {},
     "output_type": "execute_result"
    }
   ],
   "source": [
    "df1.shape"
   ]
  },
  {
   "cell_type": "code",
   "execution_count": 13,
   "id": "f7405d8a",
   "metadata": {
    "ExecuteTime": {
     "end_time": "2022-06-08T15:50:27.805745Z",
     "start_time": "2022-06-08T15:50:27.802465Z"
    }
   },
   "outputs": [
    {
     "data": {
      "text/plain": [
       "(4527, 23476)"
      ]
     },
     "execution_count": 13,
     "metadata": {},
     "output_type": "execute_result"
    }
   ],
   "source": [
    "df2.shape"
   ]
  },
  {
   "cell_type": "code",
   "execution_count": 14,
   "id": "9bbffb3c",
   "metadata": {
    "ExecuteTime": {
     "end_time": "2022-06-08T15:50:27.811390Z",
     "start_time": "2022-06-08T15:50:27.808356Z"
    }
   },
   "outputs": [
    {
     "data": {
      "text/plain": [
       "(5620, 23476)"
      ]
     },
     "execution_count": 14,
     "metadata": {},
     "output_type": "execute_result"
    }
   ],
   "source": [
    "df3.shape"
   ]
  },
  {
   "cell_type": "code",
   "execution_count": 15,
   "id": "ae564dc2",
   "metadata": {
    "ExecuteTime": {
     "end_time": "2022-06-08T15:50:27.815264Z",
     "start_time": "2022-06-08T15:50:27.812359Z"
    }
   },
   "outputs": [
    {
     "data": {
      "text/plain": [
       "(17093, 23476)"
      ]
     },
     "execution_count": 15,
     "metadata": {},
     "output_type": "execute_result"
    }
   ],
   "source": [
    "df.shape"
   ]
  },
  {
   "cell_type": "code",
   "execution_count": 16,
   "id": "c9660b00",
   "metadata": {
    "ExecuteTime": {
     "end_time": "2022-06-08T15:50:28.357708Z",
     "start_time": "2022-06-08T15:50:27.816349Z"
    }
   },
   "outputs": [
    {
     "name": "stderr",
     "output_type": "stream",
     "text": [
      "/tmp/ipykernel_38702/1031986238.py:1: FutureWarning: X.dtype being converted to np.float32 from float64. In the next version of anndata (0.9) conversion will not be automatic. Pass dtype explicitly to avoid this warning. Pass `AnnData(X, dtype=X.dtype, ...)` to get the future behavour.\n",
      "  adata1 = sc.AnnData(df1)\n",
      "/home/lugli/spuccio/anaconda3/envs/scanpy19/lib/python3.10/site-packages/anndata/_core/anndata.py:1830: UserWarning: Variable names are not unique. To make them unique, call `.var_names_make_unique`.\n",
      "  utils.warn_names_duplicates(\"var\")\n",
      "/tmp/ipykernel_38702/1031986238.py:2: FutureWarning: X.dtype being converted to np.float32 from float64. In the next version of anndata (0.9) conversion will not be automatic. Pass dtype explicitly to avoid this warning. Pass `AnnData(X, dtype=X.dtype, ...)` to get the future behavour.\n",
      "  adata2 = sc.AnnData(df2)\n",
      "/tmp/ipykernel_38702/1031986238.py:3: FutureWarning: X.dtype being converted to np.float32 from float64. In the next version of anndata (0.9) conversion will not be automatic. Pass dtype explicitly to avoid this warning. Pass `AnnData(X, dtype=X.dtype, ...)` to get the future behavour.\n",
      "  adata3 = sc.AnnData(df3)\n"
     ]
    }
   ],
   "source": [
    "adata1 = sc.AnnData(df1)\n",
    "adata2 = sc.AnnData(df2)\n",
    "adata3 = sc.AnnData(df3)"
   ]
  },
  {
   "cell_type": "code",
   "execution_count": 17,
   "id": "f8549e0a",
   "metadata": {
    "ExecuteTime": {
     "end_time": "2022-06-08T15:50:28.377765Z",
     "start_time": "2022-06-08T15:50:28.359550Z"
    }
   },
   "outputs": [],
   "source": [
    "adata1.var_names_make_unique()\n",
    "adata2.var_names_make_unique()\n",
    "adata3.var_names_make_unique()"
   ]
  },
  {
   "cell_type": "code",
   "execution_count": 20,
   "id": "f812e1b7",
   "metadata": {
    "ExecuteTime": {
     "end_time": "2022-06-08T15:51:37.346747Z",
     "start_time": "2022-06-08T15:51:37.340391Z"
    }
   },
   "outputs": [],
   "source": [
    "adata1.obs = adata1.obs.reset_index(drop=True)\n",
    "adata2.obs = adata2.obs.reset_index(drop=True)\n",
    "adata3.obs = adata3.obs.reset_index(drop=True)"
   ]
  },
  {
   "cell_type": "code",
   "execution_count": 22,
   "id": "b68b5ec6",
   "metadata": {
    "ExecuteTime": {
     "end_time": "2022-06-08T15:52:33.764691Z",
     "start_time": "2022-06-08T15:52:33.734441Z"
    }
   },
   "outputs": [],
   "source": [
    "adata1.obs.set_index(\"HSB106-\" + adata1.obs.index.astype(str),inplace=True)\n",
    "adata2.obs.set_index(\"HSB189-\" + adata2.obs.index.astype(str),inplace=True)\n",
    "adata3.obs.set_index(\"HSB340-\" + adata3.obs.index.astype(str),inplace=True)"
   ]
  },
  {
   "cell_type": "code",
   "execution_count": 24,
   "id": "7038f60a",
   "metadata": {
    "ExecuteTime": {
     "end_time": "2022-06-08T15:52:43.763378Z",
     "start_time": "2022-06-08T15:52:43.746929Z"
    }
   },
   "outputs": [],
   "source": [
    "adata1.obs['SampleID'] = \"HSB106\"\n",
    "adata1.obs['GEO_RNA'] = \"NotAvailable\"\n",
    "adata1.obs['Cohort'] = \"PMID30545854\"\n",
    "adata1.obs['Type'] = \"Normal\"  \n",
    "adata1.obs['Subtype'] = \"NotAvailable\"\n",
    "adata1.obs['Diagnosis'] = \"NotAvailable\"\n",
    "adata1.obs['Grade'] = \"NotAvailable\"\n",
    "adata1.obs['Location'] = \"NotAvailable\"\n",
    "adata1.obs['IDH1_Status'] = \"NotAvailable\"\n",
    "adata1.obs['EGFR_Status'] = \"NotAvailable\"\n",
    "adata1.obs['MGMT'] = \"NotAvailable\"\n",
    "adata1.obs['CellCount'] = \"6946\"\n",
    "adata1.obs['Sample'] = \"Patient56\"\n",
    "adata1.obs['Sex'] = \"M\"\n",
    "adata1.obs['Age'] = \"18\"\n",
    "adata1.obs['Sorted'] = \"CD45\""
   ]
  },
  {
   "cell_type": "code",
   "execution_count": 25,
   "id": "aa8eecb0",
   "metadata": {
    "ExecuteTime": {
     "end_time": "2022-06-08T15:52:45.010605Z",
     "start_time": "2022-06-08T15:52:45.003528Z"
    }
   },
   "outputs": [],
   "source": [
    "adata2.obs['SampleID'] = \"HSB189\"\n",
    "adata2.obs['GEO_RNA'] = \"NotAvailable\"\n",
    "adata2.obs['Cohort'] = \"PMID30545854\"\n",
    "adata2.obs['Type'] = \"Normal\"  \n",
    "adata2.obs['Subtype'] = \"NotAvailable\"\n",
    "adata2.obs['Diagnosis'] = \"NotAvailable\"\n",
    "adata2.obs['Grade'] = \"NotAvailable\"\n",
    "adata2.obs['Location'] = \"NotAvailable\"\n",
    "adata2.obs['IDH1_Status'] = \"NotAvailable\"\n",
    "adata2.obs['EGFR_Status'] = \"NotAvailable\"\n",
    "adata2.obs['MGMT'] = \"NotAvailable\"\n",
    "adata2.obs['CellCount'] = \"4527\"\n",
    "adata2.obs['Sample'] = \"Patient57\"\n",
    "adata2.obs['Sex'] = \"M\"\n",
    "adata2.obs['Age'] = \"36\"\n",
    "adata2.obs['Sorted'] = \"CD45\""
   ]
  },
  {
   "cell_type": "code",
   "execution_count": 26,
   "id": "7c03a8f5",
   "metadata": {
    "ExecuteTime": {
     "end_time": "2022-06-08T15:52:46.198645Z",
     "start_time": "2022-06-08T15:52:46.191336Z"
    }
   },
   "outputs": [],
   "source": [
    "adata3.obs['SampleID'] = \"HSB340\"\n",
    "adata3.obs['GEO_RNA'] = \"NotAvailable\"\n",
    "adata3.obs['Cohort'] = \"PMID30545854\"\n",
    "adata3.obs['Type'] = \"Normal\"  \n",
    "adata3.obs['Subtype'] = \"NotAvailable\"\n",
    "adata3.obs['Diagnosis'] = \"NotAvailable\"\n",
    "adata3.obs['Grade'] = \"NotAvailable\"\n",
    "adata3.obs['Location'] = \"NotAvailable\"\n",
    "adata3.obs['IDH1_Status'] = \"NotAvailable\"\n",
    "adata3.obs['EGFR_Status'] = \"NotAvailable\"\n",
    "adata3.obs['MGMT'] = \"NotAvailable\"\n",
    "adata3.obs['CellCount'] = \"5620\"\n",
    "adata3.obs['Sample'] = \"Patient58\"\n",
    "adata3.obs['Sex'] = \"M\"\n",
    "adata3.obs['Age'] = \"64\"\n",
    "adata3.obs['Sorted'] = \"CD45\""
   ]
  },
  {
   "cell_type": "code",
   "execution_count": 27,
   "id": "6af2acbc",
   "metadata": {
    "ExecuteTime": {
     "end_time": "2022-06-08T15:52:49.922316Z",
     "start_time": "2022-06-08T15:52:47.377715Z"
    }
   },
   "outputs": [],
   "source": [
    "adata1.write(outpath+\"HSB106.h5ad\")\n",
    "adata2.write(outpath+\"HSB189.h5ad\")\n",
    "adata3.write(outpath+\"HSB340.h5ad\")"
   ]
  },
  {
   "cell_type": "code",
   "execution_count": null,
   "id": "0b71ad42",
   "metadata": {},
   "outputs": [],
   "source": []
  }
 ],
 "metadata": {
  "kernelspec": {
   "display_name": "Python [conda env:scanpy19]",
   "language": "python",
   "name": "conda-env-scanpy19-py"
  },
  "language_info": {
   "codemirror_mode": {
    "name": "ipython",
    "version": 3
   },
   "file_extension": ".py",
   "mimetype": "text/x-python",
   "name": "python",
   "nbconvert_exporter": "python",
   "pygments_lexer": "ipython3",
   "version": "3.10.4"
  },
  "toc": {
   "base_numbering": 1,
   "nav_menu": {},
   "number_sections": true,
   "sideBar": true,
   "skip_h1_title": false,
   "title_cell": "Table of Contents",
   "title_sidebar": "Contents",
   "toc_cell": false,
   "toc_position": {},
   "toc_section_display": true,
   "toc_window_display": false
  },
  "varInspector": {
   "cols": {
    "lenName": 16,
    "lenType": 16,
    "lenVar": 40
   },
   "kernels_config": {
    "python": {
     "delete_cmd_postfix": "",
     "delete_cmd_prefix": "del ",
     "library": "var_list.py",
     "varRefreshCmd": "print(var_dic_list())"
    },
    "r": {
     "delete_cmd_postfix": ") ",
     "delete_cmd_prefix": "rm(",
     "library": "var_list.r",
     "varRefreshCmd": "cat(var_dic_list()) "
    }
   },
   "types_to_exclude": [
    "module",
    "function",
    "builtin_function_or_method",
    "instance",
    "_Feature"
   ],
   "window_display": false
  }
 },
 "nbformat": 4,
 "nbformat_minor": 5
}
