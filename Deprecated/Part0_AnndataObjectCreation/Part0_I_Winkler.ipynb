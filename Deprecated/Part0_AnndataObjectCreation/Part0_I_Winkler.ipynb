{
 "cells": [
  {
   "cell_type": "code",
   "execution_count": 1,
   "id": "82509adf",
   "metadata": {
    "ExecuteTime": {
     "end_time": "2022-06-08T14:50:26.995558Z",
     "start_time": "2022-06-08T14:50:25.357614Z"
    }
   },
   "outputs": [],
   "source": [
    "import pandas as pd\n",
    "import scanpy as sc"
   ]
  },
  {
   "cell_type": "code",
   "execution_count": 2,
   "id": "28bdf281",
   "metadata": {
    "ExecuteTime": {
     "end_time": "2022-06-08T14:50:27.002335Z",
     "start_time": "2022-06-08T14:50:26.998952Z"
    }
   },
   "outputs": [],
   "source": [
    "outpath=\"/home/lugli/spuccio/Projects/SP039/FileH5AD_input/\""
   ]
  },
  {
   "cell_type": "code",
   "execution_count": 3,
   "id": "aa50eec2",
   "metadata": {
    "ExecuteTime": {
     "end_time": "2022-06-08T14:51:20.966601Z",
     "start_time": "2022-06-08T14:50:27.004726Z"
    }
   },
   "outputs": [],
   "source": [
    "ctrl085_L = sc.read_csv(\"/home/lugli/spuccio/Projects/SP039/PMID35084939/countsctrl085_L.csv\")\n",
    "\n",
    "ctrl086_1 = sc.read_csv(\"/home/lugli/spuccio/Projects/SP039/PMID35084939/countsctrl086_1.csv\")\n",
    "\n",
    "ctrl086_2 = sc.read_csv(\"/home/lugli/spuccio/Projects/SP039/PMID35084939/countsctrl086_2.csv\")\n",
    "\n",
    "ctrl099_21 = sc.read_csv(\"/home/lugli/spuccio/Projects/SP039/PMID35084939/countsctrl099_21.csv\")\n",
    "\n",
    "ctrl099_22 = sc.read_csv(\"/home/lugli/spuccio/Projects/SP039/PMID35084939/countsctrl099_22.csv\")\n",
    "\n",
    "ctrl12 = sc.read_csv(\"/home/lugli/spuccio/Projects/SP039/PMID35084939/countsctrl12.csv\")"
   ]
  },
  {
   "cell_type": "code",
   "execution_count": 4,
   "id": "7a535d4d",
   "metadata": {
    "ExecuteTime": {
     "end_time": "2022-06-08T14:51:20.972816Z",
     "start_time": "2022-06-08T14:51:20.968574Z"
    }
   },
   "outputs": [],
   "source": [
    "ctrl085_L = ctrl085_L.T\n",
    "ctrl086_1 = ctrl086_1.T\n",
    "ctrl086_2 = ctrl086_2.T\n",
    "ctrl099_21 = ctrl099_21.T\n",
    "ctrl099_22 = ctrl099_22.T\n",
    "ctrl12 =  ctrl12.T"
   ]
  },
  {
   "cell_type": "code",
   "execution_count": 5,
   "id": "46c377b7",
   "metadata": {
    "ExecuteTime": {
     "end_time": "2022-06-08T14:51:21.000103Z",
     "start_time": "2022-06-08T14:51:20.974592Z"
    }
   },
   "outputs": [],
   "source": [
    "ctrl085_L.var['GeneTemp']= list(ctrl085_L.var.index)\n",
    "ctrl086_1.var['GeneTemp']= list(ctrl086_1.var.index)\n",
    "ctrl086_2.var['GeneTemp']= list(ctrl086_2.var.index)\n",
    "ctrl099_21.var['GeneTemp']= list(ctrl099_21.var.index)\n",
    "ctrl099_22.var['GeneTemp']= list(ctrl099_22.var.index)\n",
    "ctrl12.var['GeneTemp']= list(ctrl12.var.index)"
   ]
  },
  {
   "cell_type": "code",
   "execution_count": 6,
   "id": "045e76e8",
   "metadata": {
    "ExecuteTime": {
     "end_time": "2022-06-08T14:51:21.348571Z",
     "start_time": "2022-06-08T14:51:21.001476Z"
    }
   },
   "outputs": [],
   "source": [
    "ctrl085_L.var['GeneTempClean']= list(ctrl085_L.var['GeneTemp'].str.split(\".\",0, expand=True)[0])\n",
    "ctrl086_1.var['GeneTempClean']= list(ctrl086_1.var['GeneTemp'].str.split(\".\",0, expand=True)[0])\n",
    "ctrl086_2.var['GeneTempClean']= list(ctrl086_2.var['GeneTemp'].str.split(\".\",0, expand=True)[0])\n",
    "ctrl099_21.var['GeneTempClean']= list(ctrl099_21.var['GeneTemp'].str.split(\".\",0, expand=True)[0])\n",
    "ctrl099_22.var['GeneTempClean']= list(ctrl099_22.var['GeneTemp'].str.split(\".\",0, expand=True)[0])\n",
    "ctrl12.var['GeneTempClean']= list(ctrl12.var['GeneTemp'].str.split(\".\",0, expand=True)[0])"
   ]
  },
  {
   "cell_type": "code",
   "execution_count": 7,
   "id": "ecde680e",
   "metadata": {
    "ExecuteTime": {
     "end_time": "2022-06-08T14:51:21.353889Z",
     "start_time": "2022-06-08T14:51:21.349965Z"
    }
   },
   "outputs": [],
   "source": [
    "ctrl085_L.var.index = ctrl085_L.var['GeneTempClean']\n",
    "ctrl086_1.var.index = ctrl086_1.var['GeneTempClean']\n",
    "ctrl086_2.var.index = ctrl086_2.var['GeneTempClean']\n",
    "ctrl099_21.var.index = ctrl099_21.var['GeneTempClean']\n",
    "ctrl099_22.var.index = ctrl099_22.var['GeneTempClean']\n",
    "ctrl12.var.index = ctrl12.var['GeneTempClean']"
   ]
  },
  {
   "cell_type": "code",
   "execution_count": 8,
   "id": "9cb10acf",
   "metadata": {
    "ExecuteTime": {
     "end_time": "2022-06-08T14:51:21.359344Z",
     "start_time": "2022-06-08T14:51:21.355045Z"
    }
   },
   "outputs": [],
   "source": [
    "del ctrl085_L.var['GeneTemp']\n",
    "del ctrl085_L.var['GeneTempClean']\n",
    "\n",
    "del ctrl086_1.var['GeneTemp']\n",
    "del ctrl086_1.var['GeneTempClean']\n",
    "\n",
    "del ctrl086_2.var['GeneTemp']\n",
    "del ctrl086_2.var['GeneTempClean']\n",
    "\n",
    "del ctrl099_21.var['GeneTemp']\n",
    "del ctrl099_21.var['GeneTempClean']\n",
    "\n",
    "del ctrl099_22.var['GeneTemp']\n",
    "del ctrl099_22.var['GeneTempClean']\n",
    "\n",
    "del ctrl12.var['GeneTemp']\n",
    "del ctrl12.var['GeneTempClean']"
   ]
  },
  {
   "cell_type": "code",
   "execution_count": 9,
   "id": "6b02b4ae",
   "metadata": {
    "ExecuteTime": {
     "end_time": "2022-06-08T14:51:21.365820Z",
     "start_time": "2022-06-08T14:51:21.360584Z"
    }
   },
   "outputs": [],
   "source": [
    "ctrl085_L.obs = ctrl085_L.obs.reset_index(drop=True)\n",
    "ctrl086_1.obs = ctrl086_1.obs.reset_index(drop=True)\n",
    "ctrl086_2.obs = ctrl086_2.obs.reset_index(drop=True)\n",
    "ctrl099_21.obs = ctrl099_21.obs.reset_index(drop=True)\n",
    "ctrl099_22.obs = ctrl099_22.obs.reset_index(drop=True)\n",
    "ctrl12.obs = ctrl12.obs.reset_index(drop=True)"
   ]
  },
  {
   "cell_type": "code",
   "execution_count": 10,
   "id": "1010674c",
   "metadata": {
    "ExecuteTime": {
     "end_time": "2022-06-08T14:51:21.384965Z",
     "start_time": "2022-06-08T14:51:21.366899Z"
    }
   },
   "outputs": [],
   "source": [
    "ctrl085_L.obs.set_index(\"ctrl085_L-\" + ctrl085_L.obs.index.astype(str),inplace=True)\n",
    "ctrl086_1.obs.set_index(\"ctrl086_1-\" + ctrl086_1.obs.index.astype(str),inplace=True)\n",
    "ctrl086_2.obs.set_index(\"ctrl086_2-\" + ctrl086_2.obs.index.astype(str),inplace=True)\n",
    "ctrl099_21.obs.set_index(\"ctrl099_21-\" + ctrl099_21.obs.index.astype(str),inplace=True)\n",
    "ctrl099_22.obs.set_index(\"ctrl099_22-\" + ctrl099_22.obs.index.astype(str),inplace=True)\n",
    "ctrl12.obs.set_index(\"ctrl12-\" + ctrl12.obs.index.astype(str),inplace=True)"
   ]
  },
  {
   "cell_type": "code",
   "execution_count": 11,
   "id": "08312590",
   "metadata": {
    "ExecuteTime": {
     "end_time": "2022-06-08T14:51:21.392568Z",
     "start_time": "2022-06-08T14:51:21.386050Z"
    }
   },
   "outputs": [],
   "source": [
    "ctrl085_L.obs['SampleID'] = \"ctrl085_L\"\n",
    "ctrl085_L.obs['GEO_RNA'] = \"NotAvailable\"\n",
    "ctrl085_L.obs['Cohort'] = \"NotAvailable\"\n",
    "ctrl085_L.obs['Type'] = \"Normal\"  \n",
    "ctrl085_L.obs['Subtype'] = \"NotAvailable\"\n",
    "ctrl085_L.obs['Diagnosis'] = \"Normal\"\n",
    "ctrl085_L.obs['Grade'] = \"Normal\"\n",
    "ctrl085_L.obs['Location'] = \"NotAvailable\"\n",
    "ctrl085_L.obs['IDH1_Status'] = \"Normal\"\n",
    "ctrl085_L.obs['EGFR_Status'] = \"Normal\"\n",
    "ctrl085_L.obs['CellCount'] = \"936\"\n",
    "ctrl085_L.obs['Sample'] = \"Patient59\"\n",
    "ctrl085_L.obs['Sex'] = \"NotAvailable\"\n",
    "ctrl085_L.obs['Age'] = \"NotAvailable\"\n",
    "ctrl085_L.obs['Sorted'] = \"CD45\""
   ]
  },
  {
   "cell_type": "code",
   "execution_count": 12,
   "id": "9570ad9f",
   "metadata": {
    "ExecuteTime": {
     "end_time": "2022-06-08T14:51:21.401855Z",
     "start_time": "2022-06-08T14:51:21.393662Z"
    }
   },
   "outputs": [],
   "source": [
    "ctrl086_1.obs['SampleID'] = \"ctrl086_1\"\n",
    "ctrl086_1.obs['GEO_RNA'] = \"NotAvailable\"\n",
    "ctrl086_1.obs['Cohort'] = \"NotAvailable\"\n",
    "ctrl086_1.obs['Type'] = \"Normal\"  \n",
    "ctrl086_1.obs['Subtype'] = \"NotAvailable\"\n",
    "ctrl086_1.obs['Diagnosis'] = \"Normal\"\n",
    "ctrl086_1.obs['Grade'] = \"Normal\"\n",
    "ctrl086_1.obs['Location'] = \"NotAvailable\"\n",
    "ctrl086_1.obs['IDH1_Status'] = \"Normal\"\n",
    "ctrl086_1.obs['EGFR_Status'] = \"Normal\"\n",
    "ctrl086_1.obs['CellCount'] = \"1747\"\n",
    "ctrl086_1.obs['Sample'] = \"Patient60\"\n",
    "ctrl086_1.obs['Sex'] = \"NotAvailable\"\n",
    "ctrl086_1.obs['Age'] = \"NotAvailable\"\n",
    "ctrl086_1.obs['Sorted'] = \"CD45\""
   ]
  },
  {
   "cell_type": "code",
   "execution_count": 13,
   "id": "9b809616",
   "metadata": {
    "ExecuteTime": {
     "end_time": "2022-06-08T14:51:21.410330Z",
     "start_time": "2022-06-08T14:51:21.403022Z"
    }
   },
   "outputs": [],
   "source": [
    "ctrl086_2.obs['SampleID'] = \"ctrl086_2\"\n",
    "ctrl086_2.obs['GEO_RNA'] = \"NotAvailable\"\n",
    "ctrl086_2.obs['Cohort'] = \"NotAvailable\"\n",
    "ctrl086_2.obs['Type'] = \"Normal\"  \n",
    "ctrl086_2.obs['Subtype'] = \"NotAvailable\"\n",
    "ctrl086_2.obs['Diagnosis'] = \"Normal\"\n",
    "ctrl086_2.obs['Grade'] = \"Normal\"\n",
    "ctrl086_2.obs['Location'] = \"NotAvailable\"\n",
    "ctrl086_2.obs['IDH1_Status'] = \"Normal\"\n",
    "ctrl086_2.obs['EGFR_Status'] = \"Normal\"\n",
    "ctrl086_2.obs['CellCount'] = \"1751\"\n",
    "ctrl086_2.obs['Sample'] = \"Patient60\"\n",
    "ctrl086_2.obs['Sex'] = \"NotAvailable\"\n",
    "ctrl086_2.obs['Age'] = \"NotAvailable\"\n",
    "ctrl086_2.obs['Sorted'] = \"CD45\""
   ]
  },
  {
   "cell_type": "code",
   "execution_count": 14,
   "id": "c408a555",
   "metadata": {
    "ExecuteTime": {
     "end_time": "2022-06-08T14:51:21.420192Z",
     "start_time": "2022-06-08T14:51:21.412828Z"
    }
   },
   "outputs": [],
   "source": [
    "ctrl099_21.obs['SampleID'] = \"ctrl099_21\"\n",
    "ctrl099_21.obs['GEO_RNA'] = \"NotAvailable\"\n",
    "ctrl099_21.obs['Cohort'] = \"NotAvailable\"\n",
    "ctrl099_21.obs['Type'] = \"Normal\"  \n",
    "ctrl099_21.obs['Subtype'] = \"NotAvailable\"\n",
    "ctrl099_21.obs['Diagnosis'] = \"Normal\"\n",
    "ctrl099_21.obs['Grade'] = \"Normal\"\n",
    "ctrl099_21.obs['Location'] = \"NotAvailable\"\n",
    "ctrl099_21.obs['IDH1_Status'] = \"Normal\"\n",
    "ctrl099_21.obs['EGFR_Status'] = \"Normal\"\n",
    "ctrl099_21.obs['CellCount'] = \"3086\"\n",
    "ctrl099_21.obs['Sample'] = \"Patient61\"\n",
    "ctrl099_21.obs['Sex'] = \"NotAvailable\"\n",
    "ctrl099_21.obs['Age'] = \"NotAvailable\"\n",
    "ctrl099_21.obs['Sorted'] = \"CD45\""
   ]
  },
  {
   "cell_type": "code",
   "execution_count": 15,
   "id": "f2dd450c",
   "metadata": {
    "ExecuteTime": {
     "end_time": "2022-06-08T14:51:21.428269Z",
     "start_time": "2022-06-08T14:51:21.421323Z"
    }
   },
   "outputs": [],
   "source": [
    "ctrl099_22.obs['SampleID'] = \"ctr099_22\"\n",
    "ctrl099_22.obs['GEO_RNA'] = \"NotAvailable\"\n",
    "ctrl099_22.obs['Cohort'] = \"NotAvailable\"\n",
    "ctrl099_22.obs['Type'] = \"Normal\"  \n",
    "ctrl099_22.obs['Subtype'] = \"NotAvailable\"\n",
    "ctrl099_22.obs['Diagnosis'] = \"Normal\"\n",
    "ctrl099_22.obs['Grade'] = \"Normal\"\n",
    "ctrl099_22.obs['Location'] = \"NotAvailable\"\n",
    "ctrl099_22.obs['IDH1_Status'] = \"Normal\"\n",
    "ctrl099_22.obs['EGFR_Status'] = \"Normal\"\n",
    "ctrl099_22.obs['CellCount'] = \"6191\"\n",
    "ctrl099_22.obs['Sample'] = \"Patient122\"\n",
    "ctrl099_22.obs['Sex'] = \"NotAvailable\"\n",
    "ctrl099_22.obs['Age'] = \"NotAvailable\"\n",
    "ctrl099_22.obs['Sorted'] = \"CD45\""
   ]
  },
  {
   "cell_type": "code",
   "execution_count": 16,
   "id": "9625dcd8",
   "metadata": {
    "ExecuteTime": {
     "end_time": "2022-06-08T14:51:21.436154Z",
     "start_time": "2022-06-08T14:51:21.429408Z"
    }
   },
   "outputs": [],
   "source": [
    "ctrl12.obs['SampleID'] = \"ctrl12\"\n",
    "ctrl12.obs['GEO_RNA'] = \"NotAvailable\"\n",
    "ctrl12.obs['Cohort'] = \"NotAvailable\"\n",
    "ctrl12.obs['Type'] = \"Normal\"  \n",
    "ctrl12.obs['Subtype'] = \"NotAvailable\"\n",
    "ctrl12.obs['Diagnosis'] = \"Normal\"\n",
    "ctrl12.obs['Grade'] = \"Normal\"\n",
    "ctrl12.obs['Location'] = \"NotAvailable\"\n",
    "ctrl12.obs['IDH1_Status'] = \"Normal\"\n",
    "ctrl12.obs['EGFR_Status'] = \"Normal\"\n",
    "ctrl12.obs['CellCount'] = \"300\"\n",
    "ctrl12.obs['Sample'] = \"Patient62\"\n",
    "ctrl12.obs['Sex'] = \"NotAvailable\"\n",
    "ctrl12.obs['Age'] = \"NotAvailable\"\n",
    "ctrl12.obs['Sorted'] = \"CD45\""
   ]
  },
  {
   "cell_type": "code",
   "execution_count": 17,
   "id": "92deeb71",
   "metadata": {
    "ExecuteTime": {
     "end_time": "2022-06-08T14:51:21.444623Z",
     "start_time": "2022-06-08T14:51:21.437354Z"
    }
   },
   "outputs": [],
   "source": [
    "ctrl085_L.obs = ctrl085_L.obs.reset_index(drop=True)\n",
    "ctrl086_1.obs = ctrl086_1.obs.reset_index(drop=True)\n",
    "ctrl086_2.obs = ctrl086_2.obs.reset_index(drop=True)\n",
    "ctrl099_21.obs = ctrl099_21.obs.reset_index(drop=True)\n",
    "ctrl099_22.obs = ctrl099_22.obs.reset_index(drop=True)\n",
    "ctrl12.obs = ctrl12.obs.reset_index(drop=True)"
   ]
  },
  {
   "cell_type": "code",
   "execution_count": 18,
   "id": "bee32812",
   "metadata": {
    "ExecuteTime": {
     "end_time": "2022-06-08T14:51:21.459505Z",
     "start_time": "2022-06-08T14:51:21.445872Z"
    }
   },
   "outputs": [],
   "source": [
    "ctrl085_L.obs.set_index(\"ctrl085_L-\" + ctrl085_L.obs.index.astype(str),inplace=True)\n",
    "ctrl086_1.obs.set_index(\"ctrl086_1-\" + ctrl086_1.obs.index.astype(str),inplace=True)\n",
    "ctrl086_2.obs.set_index(\"ctrl086_2-\" + ctrl086_2.obs.index.astype(str),inplace=True)\n",
    "ctrl099_21.obs.set_index(\"ctrl099_21-\" + ctrl099_21.obs.index.astype(str),inplace=True)\n",
    "ctrl099_22.obs.set_index(\"ctrl099_22-\" + ctrl099_22.obs.index.astype(str),inplace=True)\n",
    "ctrl12.obs.set_index(\"ctrl12-\" + ctrl12.obs.index.astype(str),inplace=True)"
   ]
  },
  {
   "cell_type": "code",
   "execution_count": 19,
   "id": "19b76959",
   "metadata": {
    "ExecuteTime": {
     "end_time": "2022-06-08T14:51:21.511052Z",
     "start_time": "2022-06-08T14:51:21.460738Z"
    }
   },
   "outputs": [],
   "source": [
    "ctrl085_L.var_names_make_unique()\n",
    "ctrl086_1.var_names_make_unique()\n",
    "ctrl086_2.var_names_make_unique()\n",
    "ctrl099_21.var_names_make_unique()\n",
    "ctrl099_22.var_names_make_unique()\n",
    "ctrl12.var_names_make_unique()"
   ]
  },
  {
   "cell_type": "code",
   "execution_count": 20,
   "id": "09f82f55",
   "metadata": {
    "ExecuteTime": {
     "end_time": "2022-06-08T14:51:27.501035Z",
     "start_time": "2022-06-08T14:51:21.512249Z"
    }
   },
   "outputs": [],
   "source": [
    "ctrl085_L.write(outpath+\"ctrl085_L.h5ad\")\n",
    "ctrl086_1.write(outpath+\"ctrl086_1.h5ad\")\n",
    "ctrl086_2.write(outpath+\"ctrl086_2.h5ad\")\n",
    "ctrl099_21.write(outpath+\"ctrl099_21.h5ad\")\n",
    "ctrl099_22.write(outpath+\"ctrl099_22.h5ad\")\n",
    "ctrl12.write(outpath+\"ctrl12.h5ad\")"
   ]
  },
  {
   "cell_type": "code",
   "execution_count": null,
   "id": "973f4aae",
   "metadata": {},
   "outputs": [],
   "source": []
  }
 ],
 "metadata": {
  "kernelspec": {
   "display_name": "Python [conda env:scanpy19]",
   "language": "python",
   "name": "conda-env-scanpy19-py"
  },
  "language_info": {
   "codemirror_mode": {
    "name": "ipython",
    "version": 3
   },
   "file_extension": ".py",
   "mimetype": "text/x-python",
   "name": "python",
   "nbconvert_exporter": "python",
   "pygments_lexer": "ipython3",
   "version": "3.10.4"
  },
  "toc": {
   "base_numbering": 1,
   "nav_menu": {},
   "number_sections": true,
   "sideBar": true,
   "skip_h1_title": false,
   "title_cell": "Table of Contents",
   "title_sidebar": "Contents",
   "toc_cell": false,
   "toc_position": {},
   "toc_section_display": true,
   "toc_window_display": false
  },
  "varInspector": {
   "cols": {
    "lenName": 16,
    "lenType": 16,
    "lenVar": 40
   },
   "kernels_config": {
    "python": {
     "delete_cmd_postfix": "",
     "delete_cmd_prefix": "del ",
     "library": "var_list.py",
     "varRefreshCmd": "print(var_dic_list())"
    },
    "r": {
     "delete_cmd_postfix": ") ",
     "delete_cmd_prefix": "rm(",
     "library": "var_list.r",
     "varRefreshCmd": "cat(var_dic_list()) "
    }
   },
   "types_to_exclude": [
    "module",
    "function",
    "builtin_function_or_method",
    "instance",
    "_Feature"
   ],
   "window_display": false
  }
 },
 "nbformat": 4,
 "nbformat_minor": 5
}
