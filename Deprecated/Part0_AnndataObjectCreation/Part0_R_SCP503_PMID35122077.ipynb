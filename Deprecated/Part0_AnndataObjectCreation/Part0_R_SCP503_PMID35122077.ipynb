{
 "cells": [
  {
   "cell_type": "code",
   "execution_count": 1,
   "id": "dac44062",
   "metadata": {
    "ExecuteTime": {
     "end_time": "2022-06-08T17:35:13.370905Z",
     "start_time": "2022-06-08T17:35:12.137543Z"
    }
   },
   "outputs": [],
   "source": [
    "import pandas as pd\n",
    "import scanpy as sc"
   ]
  },
  {
   "cell_type": "code",
   "execution_count": 2,
   "id": "22db19b1",
   "metadata": {
    "ExecuteTime": {
     "end_time": "2022-06-08T17:35:13.375283Z",
     "start_time": "2022-06-08T17:35:13.372802Z"
    }
   },
   "outputs": [],
   "source": [
    "outpath=\"/home/lugli/spuccio/Projects/SP039/FileH5AD_input/\""
   ]
  },
  {
   "cell_type": "code",
   "execution_count": 3,
   "id": "c886ff96",
   "metadata": {
    "ExecuteTime": {
     "end_time": "2022-06-08T17:40:26.857834Z",
     "start_time": "2022-06-08T17:35:13.376546Z"
    }
   },
   "outputs": [],
   "source": [
    "df = pd.read_csv(\"/home/lugli/spuccio/Projects/SP039/SCP503_PMID35122077/Richards_NatureCancer_GBM_scRNAseq_counts.csv\",sep=\",\",header=0,index_col=0)"
   ]
  },
  {
   "cell_type": "code",
   "execution_count": 4,
   "id": "40be3439",
   "metadata": {
    "ExecuteTime": {
     "end_time": "2022-06-08T17:40:26.865696Z",
     "start_time": "2022-06-08T17:40:26.859580Z"
    }
   },
   "outputs": [],
   "source": [
    "newindex= []\n",
    "for _ in  df.index:\n",
    "    newindex.append(_.split(\".\")[0])"
   ]
  },
  {
   "cell_type": "code",
   "execution_count": 5,
   "id": "8029c8a1",
   "metadata": {
    "ExecuteTime": {
     "end_time": "2022-06-08T17:40:26.876903Z",
     "start_time": "2022-06-08T17:40:26.867343Z"
    }
   },
   "outputs": [],
   "source": [
    "df['GeneTempClean']= newindex"
   ]
  },
  {
   "cell_type": "code",
   "execution_count": 6,
   "id": "4f749993",
   "metadata": {
    "ExecuteTime": {
     "end_time": "2022-06-08T17:40:29.670621Z",
     "start_time": "2022-06-08T17:40:26.878270Z"
    }
   },
   "outputs": [],
   "source": [
    "df.drop_duplicates(['GeneTempClean'],inplace=True)"
   ]
  },
  {
   "cell_type": "code",
   "execution_count": 7,
   "id": "d8bb0335",
   "metadata": {
    "ExecuteTime": {
     "end_time": "2022-06-08T17:40:29.676344Z",
     "start_time": "2022-06-08T17:40:29.671831Z"
    }
   },
   "outputs": [],
   "source": [
    "df.set_index(['GeneTempClean'],inplace=True)"
   ]
  },
  {
   "cell_type": "code",
   "execution_count": 8,
   "id": "a585eeeb",
   "metadata": {
    "ExecuteTime": {
     "end_time": "2022-06-08T17:40:29.683021Z",
     "start_time": "2022-06-08T17:40:29.677504Z"
    }
   },
   "outputs": [],
   "source": [
    "df = df.T"
   ]
  },
  {
   "cell_type": "code",
   "execution_count": 9,
   "id": "a259a994",
   "metadata": {
    "ExecuteTime": {
     "end_time": "2022-06-08T17:40:29.717166Z",
     "start_time": "2022-06-08T17:40:29.683989Z"
    }
   },
   "outputs": [
    {
     "data": {
      "text/html": [
       "<div>\n",
       "<style scoped>\n",
       "    .dataframe tbody tr th:only-of-type {\n",
       "        vertical-align: middle;\n",
       "    }\n",
       "\n",
       "    .dataframe tbody tr th {\n",
       "        vertical-align: top;\n",
       "    }\n",
       "\n",
       "    .dataframe thead th {\n",
       "        text-align: right;\n",
       "    }\n",
       "</style>\n",
       "<table border=\"1\" class=\"dataframe\">\n",
       "  <thead>\n",
       "    <tr style=\"text-align: right;\">\n",
       "      <th>GeneTempClean</th>\n",
       "      <th>FO538757</th>\n",
       "      <th>AP006222</th>\n",
       "      <th>RP4-669L17</th>\n",
       "      <th>RP11-206L10</th>\n",
       "      <th>LINC00115</th>\n",
       "      <th>FAM41C</th>\n",
       "      <th>NOC2L</th>\n",
       "      <th>KLHL17</th>\n",
       "      <th>HES4</th>\n",
       "      <th>ISG15</th>\n",
       "      <th>...</th>\n",
       "      <th>RP11-526I2</th>\n",
       "      <th>CDH5</th>\n",
       "      <th>RP11-173M1</th>\n",
       "      <th>HOXB5</th>\n",
       "      <th>HOXB8</th>\n",
       "      <th>HOXB13</th>\n",
       "      <th>RP11-13K12</th>\n",
       "      <th>CNTD2</th>\n",
       "      <th>CTB-171A8</th>\n",
       "      <th>RP5-1172A22</th>\n",
       "    </tr>\n",
       "  </thead>\n",
       "  <tbody>\n",
       "    <tr>\n",
       "      <th>G1003.A_T_AAACCTGAGTATCGAA</th>\n",
       "      <td>0</td>\n",
       "      <td>2</td>\n",
       "      <td>0</td>\n",
       "      <td>0</td>\n",
       "      <td>0</td>\n",
       "      <td>0</td>\n",
       "      <td>0</td>\n",
       "      <td>0</td>\n",
       "      <td>0</td>\n",
       "      <td>1</td>\n",
       "      <td>...</td>\n",
       "      <td>0</td>\n",
       "      <td>0</td>\n",
       "      <td>0</td>\n",
       "      <td>0</td>\n",
       "      <td>0</td>\n",
       "      <td>0</td>\n",
       "      <td>0</td>\n",
       "      <td>0</td>\n",
       "      <td>0</td>\n",
       "      <td>0</td>\n",
       "    </tr>\n",
       "    <tr>\n",
       "      <th>G1003.A_T_AAACCTGCAGTCCTTC</th>\n",
       "      <td>0</td>\n",
       "      <td>2</td>\n",
       "      <td>0</td>\n",
       "      <td>0</td>\n",
       "      <td>0</td>\n",
       "      <td>0</td>\n",
       "      <td>2</td>\n",
       "      <td>0</td>\n",
       "      <td>0</td>\n",
       "      <td>0</td>\n",
       "      <td>...</td>\n",
       "      <td>0</td>\n",
       "      <td>0</td>\n",
       "      <td>0</td>\n",
       "      <td>0</td>\n",
       "      <td>0</td>\n",
       "      <td>0</td>\n",
       "      <td>0</td>\n",
       "      <td>0</td>\n",
       "      <td>0</td>\n",
       "      <td>0</td>\n",
       "    </tr>\n",
       "    <tr>\n",
       "      <th>G1003.A_T_AAACCTGTCAGTTTGG</th>\n",
       "      <td>0</td>\n",
       "      <td>0</td>\n",
       "      <td>0</td>\n",
       "      <td>0</td>\n",
       "      <td>1</td>\n",
       "      <td>0</td>\n",
       "      <td>3</td>\n",
       "      <td>0</td>\n",
       "      <td>0</td>\n",
       "      <td>0</td>\n",
       "      <td>...</td>\n",
       "      <td>0</td>\n",
       "      <td>0</td>\n",
       "      <td>0</td>\n",
       "      <td>0</td>\n",
       "      <td>0</td>\n",
       "      <td>0</td>\n",
       "      <td>0</td>\n",
       "      <td>0</td>\n",
       "      <td>0</td>\n",
       "      <td>0</td>\n",
       "    </tr>\n",
       "    <tr>\n",
       "      <th>G1003.A_T_AAACCTGTCGGAATCT</th>\n",
       "      <td>0</td>\n",
       "      <td>0</td>\n",
       "      <td>0</td>\n",
       "      <td>0</td>\n",
       "      <td>1</td>\n",
       "      <td>0</td>\n",
       "      <td>0</td>\n",
       "      <td>0</td>\n",
       "      <td>1</td>\n",
       "      <td>0</td>\n",
       "      <td>...</td>\n",
       "      <td>0</td>\n",
       "      <td>0</td>\n",
       "      <td>0</td>\n",
       "      <td>0</td>\n",
       "      <td>0</td>\n",
       "      <td>0</td>\n",
       "      <td>0</td>\n",
       "      <td>0</td>\n",
       "      <td>0</td>\n",
       "      <td>0</td>\n",
       "    </tr>\n",
       "    <tr>\n",
       "      <th>G1003.A_T_AAACCTGTCGTTTAGG</th>\n",
       "      <td>0</td>\n",
       "      <td>0</td>\n",
       "      <td>0</td>\n",
       "      <td>0</td>\n",
       "      <td>0</td>\n",
       "      <td>0</td>\n",
       "      <td>1</td>\n",
       "      <td>0</td>\n",
       "      <td>0</td>\n",
       "      <td>0</td>\n",
       "      <td>...</td>\n",
       "      <td>0</td>\n",
       "      <td>0</td>\n",
       "      <td>0</td>\n",
       "      <td>0</td>\n",
       "      <td>0</td>\n",
       "      <td>0</td>\n",
       "      <td>0</td>\n",
       "      <td>0</td>\n",
       "      <td>0</td>\n",
       "      <td>0</td>\n",
       "    </tr>\n",
       "    <tr>\n",
       "      <th>...</th>\n",
       "      <td>...</td>\n",
       "      <td>...</td>\n",
       "      <td>...</td>\n",
       "      <td>...</td>\n",
       "      <td>...</td>\n",
       "      <td>...</td>\n",
       "      <td>...</td>\n",
       "      <td>...</td>\n",
       "      <td>...</td>\n",
       "      <td>...</td>\n",
       "      <td>...</td>\n",
       "      <td>...</td>\n",
       "      <td>...</td>\n",
       "      <td>...</td>\n",
       "      <td>...</td>\n",
       "      <td>...</td>\n",
       "      <td>...</td>\n",
       "      <td>...</td>\n",
       "      <td>...</td>\n",
       "      <td>...</td>\n",
       "      <td>...</td>\n",
       "    </tr>\n",
       "    <tr>\n",
       "      <th>G983.C_T_TTTGGTTTCATAAAGG</th>\n",
       "      <td>3</td>\n",
       "      <td>0</td>\n",
       "      <td>0</td>\n",
       "      <td>0</td>\n",
       "      <td>0</td>\n",
       "      <td>0</td>\n",
       "      <td>1</td>\n",
       "      <td>0</td>\n",
       "      <td>0</td>\n",
       "      <td>0</td>\n",
       "      <td>...</td>\n",
       "      <td>0</td>\n",
       "      <td>0</td>\n",
       "      <td>0</td>\n",
       "      <td>0</td>\n",
       "      <td>0</td>\n",
       "      <td>1</td>\n",
       "      <td>0</td>\n",
       "      <td>0</td>\n",
       "      <td>0</td>\n",
       "      <td>0</td>\n",
       "    </tr>\n",
       "    <tr>\n",
       "      <th>G983.C_T_TTTGTCACACGTCTCT</th>\n",
       "      <td>0</td>\n",
       "      <td>0</td>\n",
       "      <td>0</td>\n",
       "      <td>0</td>\n",
       "      <td>0</td>\n",
       "      <td>0</td>\n",
       "      <td>0</td>\n",
       "      <td>0</td>\n",
       "      <td>0</td>\n",
       "      <td>0</td>\n",
       "      <td>...</td>\n",
       "      <td>0</td>\n",
       "      <td>0</td>\n",
       "      <td>0</td>\n",
       "      <td>0</td>\n",
       "      <td>0</td>\n",
       "      <td>0</td>\n",
       "      <td>0</td>\n",
       "      <td>0</td>\n",
       "      <td>0</td>\n",
       "      <td>0</td>\n",
       "    </tr>\n",
       "    <tr>\n",
       "      <th>G983.C_T_TTTGTCACATTCTTAC</th>\n",
       "      <td>0</td>\n",
       "      <td>0</td>\n",
       "      <td>0</td>\n",
       "      <td>0</td>\n",
       "      <td>0</td>\n",
       "      <td>0</td>\n",
       "      <td>0</td>\n",
       "      <td>0</td>\n",
       "      <td>2</td>\n",
       "      <td>4</td>\n",
       "      <td>...</td>\n",
       "      <td>0</td>\n",
       "      <td>0</td>\n",
       "      <td>0</td>\n",
       "      <td>0</td>\n",
       "      <td>0</td>\n",
       "      <td>0</td>\n",
       "      <td>0</td>\n",
       "      <td>0</td>\n",
       "      <td>0</td>\n",
       "      <td>0</td>\n",
       "    </tr>\n",
       "    <tr>\n",
       "      <th>G983.C_T_TTTGTCAGTCGAGTTT</th>\n",
       "      <td>2</td>\n",
       "      <td>0</td>\n",
       "      <td>0</td>\n",
       "      <td>0</td>\n",
       "      <td>0</td>\n",
       "      <td>0</td>\n",
       "      <td>0</td>\n",
       "      <td>0</td>\n",
       "      <td>0</td>\n",
       "      <td>0</td>\n",
       "      <td>...</td>\n",
       "      <td>0</td>\n",
       "      <td>0</td>\n",
       "      <td>0</td>\n",
       "      <td>0</td>\n",
       "      <td>0</td>\n",
       "      <td>0</td>\n",
       "      <td>0</td>\n",
       "      <td>0</td>\n",
       "      <td>0</td>\n",
       "      <td>0</td>\n",
       "    </tr>\n",
       "    <tr>\n",
       "      <th>G983.C_T_TTTGTCATCGGAAATA</th>\n",
       "      <td>0</td>\n",
       "      <td>0</td>\n",
       "      <td>0</td>\n",
       "      <td>0</td>\n",
       "      <td>0</td>\n",
       "      <td>0</td>\n",
       "      <td>0</td>\n",
       "      <td>0</td>\n",
       "      <td>0</td>\n",
       "      <td>0</td>\n",
       "      <td>...</td>\n",
       "      <td>0</td>\n",
       "      <td>0</td>\n",
       "      <td>0</td>\n",
       "      <td>0</td>\n",
       "      <td>0</td>\n",
       "      <td>0</td>\n",
       "      <td>0</td>\n",
       "      <td>0</td>\n",
       "      <td>0</td>\n",
       "      <td>0</td>\n",
       "    </tr>\n",
       "  </tbody>\n",
       "</table>\n",
       "<p>44712 rows × 17419 columns</p>\n",
       "</div>"
      ],
      "text/plain": [
       "GeneTempClean               FO538757  AP006222  RP4-669L17  RP11-206L10  \\\n",
       "G1003.A_T_AAACCTGAGTATCGAA         0         2           0            0   \n",
       "G1003.A_T_AAACCTGCAGTCCTTC         0         2           0            0   \n",
       "G1003.A_T_AAACCTGTCAGTTTGG         0         0           0            0   \n",
       "G1003.A_T_AAACCTGTCGGAATCT         0         0           0            0   \n",
       "G1003.A_T_AAACCTGTCGTTTAGG         0         0           0            0   \n",
       "...                              ...       ...         ...          ...   \n",
       "G983.C_T_TTTGGTTTCATAAAGG          3         0           0            0   \n",
       "G983.C_T_TTTGTCACACGTCTCT          0         0           0            0   \n",
       "G983.C_T_TTTGTCACATTCTTAC          0         0           0            0   \n",
       "G983.C_T_TTTGTCAGTCGAGTTT          2         0           0            0   \n",
       "G983.C_T_TTTGTCATCGGAAATA          0         0           0            0   \n",
       "\n",
       "GeneTempClean               LINC00115  FAM41C  NOC2L  KLHL17  HES4  ISG15  \\\n",
       "G1003.A_T_AAACCTGAGTATCGAA          0       0      0       0     0      1   \n",
       "G1003.A_T_AAACCTGCAGTCCTTC          0       0      2       0     0      0   \n",
       "G1003.A_T_AAACCTGTCAGTTTGG          1       0      3       0     0      0   \n",
       "G1003.A_T_AAACCTGTCGGAATCT          1       0      0       0     1      0   \n",
       "G1003.A_T_AAACCTGTCGTTTAGG          0       0      1       0     0      0   \n",
       "...                               ...     ...    ...     ...   ...    ...   \n",
       "G983.C_T_TTTGGTTTCATAAAGG           0       0      1       0     0      0   \n",
       "G983.C_T_TTTGTCACACGTCTCT           0       0      0       0     0      0   \n",
       "G983.C_T_TTTGTCACATTCTTAC           0       0      0       0     2      4   \n",
       "G983.C_T_TTTGTCAGTCGAGTTT           0       0      0       0     0      0   \n",
       "G983.C_T_TTTGTCATCGGAAATA           0       0      0       0     0      0   \n",
       "\n",
       "GeneTempClean               ...  RP11-526I2  CDH5  RP11-173M1  HOXB5  HOXB8  \\\n",
       "G1003.A_T_AAACCTGAGTATCGAA  ...           0     0           0      0      0   \n",
       "G1003.A_T_AAACCTGCAGTCCTTC  ...           0     0           0      0      0   \n",
       "G1003.A_T_AAACCTGTCAGTTTGG  ...           0     0           0      0      0   \n",
       "G1003.A_T_AAACCTGTCGGAATCT  ...           0     0           0      0      0   \n",
       "G1003.A_T_AAACCTGTCGTTTAGG  ...           0     0           0      0      0   \n",
       "...                         ...         ...   ...         ...    ...    ...   \n",
       "G983.C_T_TTTGGTTTCATAAAGG   ...           0     0           0      0      0   \n",
       "G983.C_T_TTTGTCACACGTCTCT   ...           0     0           0      0      0   \n",
       "G983.C_T_TTTGTCACATTCTTAC   ...           0     0           0      0      0   \n",
       "G983.C_T_TTTGTCAGTCGAGTTT   ...           0     0           0      0      0   \n",
       "G983.C_T_TTTGTCATCGGAAATA   ...           0     0           0      0      0   \n",
       "\n",
       "GeneTempClean               HOXB13  RP11-13K12  CNTD2  CTB-171A8  RP5-1172A22  \n",
       "G1003.A_T_AAACCTGAGTATCGAA       0           0      0          0            0  \n",
       "G1003.A_T_AAACCTGCAGTCCTTC       0           0      0          0            0  \n",
       "G1003.A_T_AAACCTGTCAGTTTGG       0           0      0          0            0  \n",
       "G1003.A_T_AAACCTGTCGGAATCT       0           0      0          0            0  \n",
       "G1003.A_T_AAACCTGTCGTTTAGG       0           0      0          0            0  \n",
       "...                            ...         ...    ...        ...          ...  \n",
       "G983.C_T_TTTGGTTTCATAAAGG        1           0      0          0            0  \n",
       "G983.C_T_TTTGTCACACGTCTCT        0           0      0          0            0  \n",
       "G983.C_T_TTTGTCACATTCTTAC        0           0      0          0            0  \n",
       "G983.C_T_TTTGTCAGTCGAGTTT        0           0      0          0            0  \n",
       "G983.C_T_TTTGTCATCGGAAATA        0           0      0          0            0  \n",
       "\n",
       "[44712 rows x 17419 columns]"
      ]
     },
     "execution_count": 9,
     "metadata": {},
     "output_type": "execute_result"
    }
   ],
   "source": [
    "df"
   ]
  },
  {
   "cell_type": "code",
   "execution_count": 10,
   "id": "e07376d1",
   "metadata": {
    "ExecuteTime": {
     "end_time": "2022-06-08T17:40:29.857005Z",
     "start_time": "2022-06-08T17:40:29.718457Z"
    }
   },
   "outputs": [],
   "source": [
    "meta = pd.read_csv(\"/home/lugli/spuccio/Projects/SP039/SCP503_PMID35122077/Richards_NatureCancer_GBM_scRNAseq_meta.csv\",sep=\",\",header=0,low_memory=False,index_col=0)"
   ]
  },
  {
   "cell_type": "code",
   "execution_count": 11,
   "id": "6b8f2ec5",
   "metadata": {
    "ExecuteTime": {
     "end_time": "2022-06-08T17:40:31.123761Z",
     "start_time": "2022-06-08T17:40:29.858579Z"
    }
   },
   "outputs": [
    {
     "name": "stderr",
     "output_type": "stream",
     "text": [
      "/tmp/ipykernel_33904/2967156618.py:1: FutureWarning: X.dtype being converted to np.float32 from int64. In the next version of anndata (0.9) conversion will not be automatic. Pass dtype explicitly to avoid this warning. Pass `AnnData(X, dtype=X.dtype, ...)` to get the future behavour.\n",
      "  adata = sc.AnnData(df)\n"
     ]
    }
   ],
   "source": [
    "adata = sc.AnnData(df)"
   ]
  },
  {
   "cell_type": "code",
   "execution_count": 12,
   "id": "b42d0d11",
   "metadata": {
    "ExecuteTime": {
     "end_time": "2022-06-08T17:40:31.130538Z",
     "start_time": "2022-06-08T17:40:31.125430Z"
    }
   },
   "outputs": [],
   "source": [
    "adata.obs = meta"
   ]
  },
  {
   "cell_type": "code",
   "execution_count": 13,
   "id": "c46b47e7",
   "metadata": {
    "ExecuteTime": {
     "end_time": "2022-06-08T17:40:31.152278Z",
     "start_time": "2022-06-08T17:40:31.131954Z"
    }
   },
   "outputs": [],
   "source": [
    "G620_T = adata[adata.obs['SampleID'].isin(['G620_T']),:]\n",
    "G945_T = adata[adata.obs['SampleID'].isin(['G945-I_T','G945-J_T','G945-K_T']),:]\n",
    "G946_T = adata[adata.obs['SampleID'].isin(['G946-I_T','G946-J_T','G946-K_T']),:]\n",
    "G910_T = adata[adata.obs['SampleID'].isin(['G910-A_T','G910-B_T','G910-C_T','G910-D_T','G910-E_T']),:]\n",
    "G967_T = adata[adata.obs['SampleID'].isin(['G967-A_T','G967-B_T','G967-C_T','G967-D_T']),:]\n",
    "G983_T = adata[adata.obs['SampleID'].isin(['G983-A_T','G983-B_T','G983-C_T']),:]\n",
    "G1003_T = adata[adata.obs['SampleID'].isin(['G1003-A_T','G1003-B_T','G1003-C_T','G1003-D_T']),:]"
   ]
  },
  {
   "cell_type": "code",
   "execution_count": 14,
   "id": "501d4c84",
   "metadata": {
    "ExecuteTime": {
     "end_time": "2022-06-08T17:40:31.159230Z",
     "start_time": "2022-06-08T17:40:31.154914Z"
    }
   },
   "outputs": [
    {
     "data": {
      "text/plain": [
       "array(['G1003-A_T', 'G1003-B_T', 'G1003-C_T', 'G1003-D_T', 'G620_T',\n",
       "       'G910-A_T', 'G910-B_T', 'G910-C_T', 'G910-D_T', 'G910-E_T',\n",
       "       'G945-I_T', 'G945-J_T', 'G945-K_T', 'G946-I_T', 'G946-J_T',\n",
       "       'G946-K_T', 'G967-A_T', 'G967-B_T', 'G967-C_T', 'G967-D_T',\n",
       "       'G983-A_T', 'G983-B_T', 'G983-C_T'], dtype=object)"
      ]
     },
     "execution_count": 14,
     "metadata": {},
     "output_type": "execute_result"
    }
   ],
   "source": [
    "meta['SampleID'].unique()"
   ]
  },
  {
   "cell_type": "code",
   "execution_count": 15,
   "id": "c3e0547b",
   "metadata": {
    "ExecuteTime": {
     "end_time": "2022-06-08T17:40:33.024338Z",
     "start_time": "2022-06-08T17:40:31.160458Z"
    }
   },
   "outputs": [],
   "source": [
    "G620_T.obs = G620_T.obs.reset_index(drop=True)\n",
    "G945_T.obs = G945_T.obs.reset_index(drop=True)\n",
    "G946_T.obs = G946_T.obs.reset_index(drop=True)\n",
    "G910_T.obs = G910_T.obs.reset_index(drop=True)\n",
    "G967_T.obs = G967_T.obs.reset_index(drop=True)\n",
    "G983_T.obs = G983_T.obs.reset_index(drop=True)\n",
    "G1003_T.obs = G1003_T.obs.reset_index(drop=True)"
   ]
  },
  {
   "cell_type": "code",
   "execution_count": 16,
   "id": "7ed7497e",
   "metadata": {
    "ExecuteTime": {
     "end_time": "2022-06-08T17:40:33.058880Z",
     "start_time": "2022-06-08T17:40:33.025939Z"
    }
   },
   "outputs": [],
   "source": [
    "G620_T.obs.set_index(\"G620_T-\" + G620_T.obs.index.astype(str),inplace=True)\n",
    "G945_T.obs.set_index(\"G945_T-\" + G945_T.obs.index.astype(str),inplace=True)\n",
    "G946_T.obs.set_index(\"G946_T-\" + G946_T.obs.index.astype(str),inplace=True)\n",
    "G910_T.obs.set_index(\"G910_T-\" + G910_T.obs.index.astype(str),inplace=True)\n",
    "G967_T.obs.set_index(\"G967_T-\" + G967_T.obs.index.astype(str),inplace=True)\n",
    "G983_T.obs.set_index(\"G983_T-\" + G983_T.obs.index.astype(str),inplace=True)\n",
    "G1003_T.obs.set_index(\"G1003_T-\" + G1003_T.obs.index.astype(str),inplace=True)"
   ]
  },
  {
   "cell_type": "code",
   "execution_count": 17,
   "id": "1c0e1480",
   "metadata": {
    "ExecuteTime": {
     "end_time": "2022-06-08T17:40:33.067338Z",
     "start_time": "2022-06-08T17:40:33.060432Z"
    }
   },
   "outputs": [],
   "source": [
    "del G620_T.obs\n",
    "del G945_T.obs\n",
    "del G946_T.obs\n",
    "del G910_T.obs\n",
    "del G967_T.obs\n",
    "del G983_T.obs\n",
    "del G1003_T.obs"
   ]
  },
  {
   "cell_type": "code",
   "execution_count": 18,
   "id": "d6e0de61",
   "metadata": {
    "ExecuteTime": {
     "end_time": "2022-06-08T17:40:33.075683Z",
     "start_time": "2022-06-08T17:40:33.068762Z"
    }
   },
   "outputs": [],
   "source": [
    "G620_T.obs['SampleID'] = \"G620_T\"\n",
    "G620_T.obs['GEO_RNA'] = \"NotAvailable\"\n",
    "G620_T.obs['Cohort'] = \"SCP053\"\n",
    "G620_T.obs['Type'] = \"PrimaryTumor\"  \n",
    "G620_T.obs['Subtype'] = \"NotAvailable\"\n",
    "G620_T.obs['Diagnosis'] = \"Glioblastoma\"\n",
    "G620_T.obs['Grade'] = \"IV\"\n",
    "G620_T.obs['Location'] = \"NotAvailable\"\n",
    "G620_T.obs['IDH1_Status'] = \"Mut\"\n",
    "G620_T.obs['EGFR_Status'] = \"NotAvailable\"\n",
    "G620_T.obs['CellCount'] = \"911\"\n",
    "G620_T.obs['Sample'] = \"Patient115\"\n",
    "G620_T.obs['Sex'] = \"M\"\n",
    "G620_T.obs['Age'] = \"55\"\n",
    "G620_T.obs['Sorted'] = \"CD45\""
   ]
  },
  {
   "cell_type": "code",
   "execution_count": 19,
   "id": "2e33a793",
   "metadata": {
    "ExecuteTime": {
     "end_time": "2022-06-08T17:40:33.083782Z",
     "start_time": "2022-06-08T17:40:33.076958Z"
    }
   },
   "outputs": [],
   "source": [
    "G945_T.obs['SampleID'] = \"G945_T\"\n",
    "G945_T.obs['GEO_RNA'] = \"NotAvailable\"\n",
    "G945_T.obs['Cohort'] = \"SCP053\"\n",
    "G945_T.obs['Type'] = \"PrimaryTumor\"  \n",
    "G945_T.obs['Subtype'] = \"NotAvailable\"\n",
    "G945_T.obs['Diagnosis'] = \"Glioblastoma\"\n",
    "G945_T.obs['Grade'] = \"IV\"\n",
    "G945_T.obs['Location'] = \"NotAvailable\"\n",
    "G945_T.obs['IDH1_Status'] = \"NotAvailable\"\n",
    "G945_T.obs['EGFR_Status'] = \"NotAvailable\"\n",
    "G945_T.obs['CellCount'] = \"4912\"\n",
    "G945_T.obs['Sample'] = \"Patient116\"\n",
    "G945_T.obs['Sex'] = \"NotAvailable\"\n",
    "G945_T.obs['Age'] = \"NotAvailable\"\n",
    "G945_T.obs['Sorted'] = \"CD45\""
   ]
  },
  {
   "cell_type": "code",
   "execution_count": 20,
   "id": "f58a8274",
   "metadata": {
    "ExecuteTime": {
     "end_time": "2022-06-08T17:40:33.092244Z",
     "start_time": "2022-06-08T17:40:33.085143Z"
    }
   },
   "outputs": [],
   "source": [
    "G946_T.obs['SampleID'] = \"G946_T\"\n",
    "G946_T.obs['GEO_RNA'] = \"NotAvailable\"\n",
    "G946_T.obs['Cohort'] = \"SCP053\"\n",
    "G946_T.obs['Type'] = \"PrimaryTumor\"  \n",
    "G946_T.obs['Subtype'] = \"NotAvailable\"\n",
    "G946_T.obs['Diagnosis'] = \"Glioblastoma\"\n",
    "G946_T.obs['Grade'] = \"IV\"\n",
    "G946_T.obs['Location'] = \"NotAvailable\"\n",
    "G946_T.obs['IDH1_Status'] = \"NotAvailable\"\n",
    "G946_T.obs['EGFR_Status'] = \"NotAvailable\"\n",
    "G946_T.obs['CellCount'] = \"3722\"\n",
    "G946_T.obs['Sample'] = \"Patient117\"\n",
    "G946_T.obs['Sex'] = \"NotAvailable\"\n",
    "G946_T.obs['Age'] = \"NotAvailable\"\n",
    "G946_T.obs['Sorted'] = \"CD45\""
   ]
  },
  {
   "cell_type": "code",
   "execution_count": 21,
   "id": "0813c268",
   "metadata": {
    "ExecuteTime": {
     "end_time": "2022-06-08T17:40:33.100291Z",
     "start_time": "2022-06-08T17:40:33.093406Z"
    }
   },
   "outputs": [],
   "source": [
    "G910_T.obs['SampleID'] = \"G910_T\"\n",
    "G910_T.obs['GEO_RNA'] = \"NotAvailable\"\n",
    "G910_T.obs['Cohort'] = \"SCP053\"\n",
    "G910_T.obs['Type'] = \"PrimaryTumor\"  \n",
    "G910_T.obs['Subtype'] = \"NotAvailable\"\n",
    "G910_T.obs['Diagnosis'] = \"Glioblastoma\"\n",
    "G910_T.obs['Grade'] = \"IV\"\n",
    "G910_T.obs['Location'] = \"NotAvailable\"\n",
    "G910_T.obs['IDH1_Status'] = \"NotAvailable\"\n",
    "G910_T.obs['EGFR_Status'] = \"NotAvailable\"\n",
    "G910_T.obs['CellCount'] = \"8231\"\n",
    "G910_T.obs['Sample'] = \"Patient118\"\n",
    "G910_T.obs['Sex'] = \"NotAvailable\"\n",
    "G910_T.obs['Age'] = \"NotAvailable\"\n",
    "G910_T.obs['Sorted'] = \"CD45\""
   ]
  },
  {
   "cell_type": "code",
   "execution_count": 22,
   "id": "ca594e61",
   "metadata": {
    "ExecuteTime": {
     "end_time": "2022-06-08T17:40:33.108889Z",
     "start_time": "2022-06-08T17:40:33.101489Z"
    }
   },
   "outputs": [],
   "source": [
    "G967_T.obs['SampleID'] = \"G967_T\"\n",
    "G967_T.obs['GEO_RNA'] = \"NotAvailable\"\n",
    "G967_T.obs['Cohort'] = \"SCP053\"\n",
    "G967_T.obs['Type'] = \"PrimaryTumor\"  \n",
    "G967_T.obs['Subtype'] = \"NotAvailable\"\n",
    "G967_T.obs['Diagnosis'] = \"Glioblastoma\"\n",
    "G967_T.obs['Grade'] = \"IV\"\n",
    "G967_T.obs['Location'] = \"NotAvailable\"\n",
    "G967_T.obs['IDH1_Status'] = \"NotAvailable\"\n",
    "G967_T.obs['EGFR_Status'] = \"NotAvailable\"\n",
    "G967_T.obs['CellCount'] = \"11264\"\n",
    "G967_T.obs['Sample'] = \"Patient119\"\n",
    "G967_T.obs['Sex'] = \"NotAvailable\"\n",
    "G967_T.obs['Age'] = \"NotAvailable\"\n",
    "G967_T.obs['Sorted'] = \"CD45\""
   ]
  },
  {
   "cell_type": "code",
   "execution_count": 23,
   "id": "3d769542",
   "metadata": {
    "ExecuteTime": {
     "end_time": "2022-06-08T17:40:33.118221Z",
     "start_time": "2022-06-08T17:40:33.110341Z"
    }
   },
   "outputs": [],
   "source": [
    "G983_T.obs['SampleID'] = \"G983_T\"\n",
    "G983_T.obs['GEO_RNA'] = \"NotAvailable\"\n",
    "G983_T.obs['Cohort'] = \"SCP053\"\n",
    "G983_T.obs['Type'] = \"PrimaryTumor\"  \n",
    "G983_T.obs['Subtype'] = \"NotAvailable\"\n",
    "G983_T.obs['Diagnosis'] = \"Glioblastoma\"\n",
    "G983_T.obs['Grade'] = \"IV\"\n",
    "G983_T.obs['Location'] = \"NotAvailable\"\n",
    "G983_T.obs['IDH1_Status'] = \"NotAvailable\"\n",
    "G983_T.obs['EGFR_Status'] = \"NotAvailable\"\n",
    "G983_T.obs['CellCount'] = \"6101\"\n",
    "G983_T.obs['Sample'] = \"Patient120\"\n",
    "G983_T.obs['Sex'] = \"NotAvailable\"\n",
    "G983_T.obs['Age'] = \"NotAvailable\"\n",
    "G983_T.obs['Sorted'] = \"CD45\""
   ]
  },
  {
   "cell_type": "code",
   "execution_count": 24,
   "id": "6ae195da",
   "metadata": {
    "ExecuteTime": {
     "end_time": "2022-06-08T17:40:33.126342Z",
     "start_time": "2022-06-08T17:40:33.119362Z"
    }
   },
   "outputs": [],
   "source": [
    "G1003_T.obs['SampleID'] = \"G1003_T\"\n",
    "G1003_T.obs['GEO_RNA'] = \"NotAvailable\"\n",
    "G1003_T.obs['Cohort'] = \"SCP053\"\n",
    "G1003_T.obs['Type'] = \"PrimaryTumor\"  \n",
    "G1003_T.obs['Subtype'] = \"NotAvailable\"\n",
    "G1003_T.obs['Diagnosis'] = \"Glioblastoma\"\n",
    "G1003_T.obs['Grade'] = \"IV\"\n",
    "G1003_T.obs['Location'] = \"NotAvailable\"\n",
    "G1003_T.obs['IDH1_Status'] = \"NotAvailable\"\n",
    "G1003_T.obs['EGFR_Status'] = \"NotAvailable\"\n",
    "G1003_T.obs['CellCount'] = \"6101\"\n",
    "G1003_T.obs['Sample'] = \"Patient121\"\n",
    "G1003_T.obs['Sex'] = \"NotAvailable\"\n",
    "G1003_T.obs['Age'] = \"NotAvailable\"\n",
    "G1003_T.obs['Sorted'] = \"CD45\""
   ]
  },
  {
   "cell_type": "code",
   "execution_count": 25,
   "id": "3a3440b6",
   "metadata": {
    "ExecuteTime": {
     "end_time": "2022-06-08T17:40:38.485769Z",
     "start_time": "2022-06-08T17:40:33.127705Z"
    }
   },
   "outputs": [],
   "source": [
    "G620_T.write(outpath+\"G620_T.h5ad\")\n",
    "G945_T.write(outpath+\"G945_T.h5ad\")\n",
    "G946_T.write(outpath+\"G946_T.h5ad\")\n",
    "G910_T.write(outpath+\"G910_T.h5ad\")\n",
    "G967_T.write(outpath+\"G967_T.h5ad\")\n",
    "G983_T.write(outpath+\"G983_T.h5ad\")\n",
    "G1003_T.write(outpath+\"G1003_T.h5ad\")"
   ]
  },
  {
   "cell_type": "code",
   "execution_count": null,
   "id": "b399c8d3",
   "metadata": {},
   "outputs": [],
   "source": []
  }
 ],
 "metadata": {
  "kernelspec": {
   "display_name": "Python [conda env:scanpy19]",
   "language": "python",
   "name": "conda-env-scanpy19-py"
  },
  "language_info": {
   "codemirror_mode": {
    "name": "ipython",
    "version": 3
   },
   "file_extension": ".py",
   "mimetype": "text/x-python",
   "name": "python",
   "nbconvert_exporter": "python",
   "pygments_lexer": "ipython3",
   "version": "3.10.4"
  },
  "toc": {
   "base_numbering": 1,
   "nav_menu": {},
   "number_sections": true,
   "sideBar": true,
   "skip_h1_title": false,
   "title_cell": "Table of Contents",
   "title_sidebar": "Contents",
   "toc_cell": false,
   "toc_position": {},
   "toc_section_display": true,
   "toc_window_display": false
  },
  "varInspector": {
   "cols": {
    "lenName": 16,
    "lenType": 16,
    "lenVar": 40
   },
   "kernels_config": {
    "python": {
     "delete_cmd_postfix": "",
     "delete_cmd_prefix": "del ",
     "library": "var_list.py",
     "varRefreshCmd": "print(var_dic_list())"
    },
    "r": {
     "delete_cmd_postfix": ") ",
     "delete_cmd_prefix": "rm(",
     "library": "var_list.r",
     "varRefreshCmd": "cat(var_dic_list()) "
    }
   },
   "types_to_exclude": [
    "module",
    "function",
    "builtin_function_or_method",
    "instance",
    "_Feature"
   ],
   "window_display": false
  }
 },
 "nbformat": 4,
 "nbformat_minor": 5
}
